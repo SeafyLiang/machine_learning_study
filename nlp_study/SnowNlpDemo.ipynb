{
 "cells": [
  {
   "cell_type": "markdown",
   "metadata": {},
   "source": [
    "# SnowNLP\n",
    "一个可以方便的处理中文文本内容的python写的类库，受到了TextBlob的启发而写的"
   ]
  },
  {
   "cell_type": "markdown",
   "metadata": {},
   "source": [
    "#### 安装：pip install snownlp"
   ]
  },
  {
   "cell_type": "code",
   "execution_count": 3,
   "metadata": {},
   "outputs": [],
   "source": [
    "from snownlp import SnowNLP"
   ]
  },
  {
   "cell_type": "code",
   "execution_count": 7,
   "metadata": {},
   "outputs": [],
   "source": [
    "sentence = '我爱自然语言处理技术！'\n",
    "s = SnowNLP(sentence) "
   ]
  },
  {
   "cell_type": "markdown",
   "metadata": {},
   "source": [
    "#### 1.分词"
   ]
  },
  {
   "cell_type": "code",
   "execution_count": 15,
   "metadata": {},
   "outputs": [
    {
     "name": "stdout",
     "output_type": "stream",
     "text": [
      "['我', '爱', '自然', '语言', '处理', '技术', '！']\n"
     ]
    }
   ],
   "source": [
    "s_token = s.words\n",
    "print(s_token)"
   ]
  },
  {
   "cell_type": "markdown",
   "metadata": {},
   "source": [
    "#### 2.词性标注"
   ]
  },
  {
   "cell_type": "code",
   "execution_count": 16,
   "metadata": {},
   "outputs": [
    {
     "name": "stdout",
     "output_type": "stream",
     "text": [
      "('我', 'r')\n",
      "('爱', 'v')\n",
      "('自然', 'n')\n",
      "('语言', 'n')\n",
      "('处理', 'vn')\n",
      "('技术', 'n')\n",
      "('！', 'w')\n"
     ]
    }
   ],
   "source": [
    "s_tags = s.tags\n",
    "for token_tag in s_tags:\n",
    "    print(token_tag)"
   ]
  },
  {
   "cell_type": "markdown",
   "metadata": {},
   "source": [
    "#### 3.情感分析(positive的概率)"
   ]
  },
  {
   "cell_type": "code",
   "execution_count": 17,
   "metadata": {},
   "outputs": [
    {
     "name": "stdout",
     "output_type": "stream",
     "text": [
      "0.902242143497134\n"
     ]
    }
   ],
   "source": [
    "s_senti = s.sentiments\n",
    "print(s_senti)"
   ]
  },
  {
   "cell_type": "markdown",
   "metadata": {},
   "source": [
    "#### 4.中文拼音"
   ]
  },
  {
   "cell_type": "code",
   "execution_count": 21,
   "metadata": {},
   "outputs": [
    {
     "name": "stdout",
     "output_type": "stream",
     "text": [
      "我 wo\n",
      "爱 ai\n",
      "自 Zi\n",
      "然 ran\n",
      "语 yu\n",
      "言 yan\n",
      "处 chu\n",
      "理 li\n",
      "技 ji\n",
      "术 shu\n",
      "！ ！\n"
     ]
    }
   ],
   "source": [
    "s_pinyin = s.pinyin\n",
    "for i in range(len(sentence)):\n",
    "    print(sentence[i], s_pinyin[i])"
   ]
  },
  {
   "cell_type": "markdown",
   "metadata": {},
   "source": [
    "#### 5.繁体字转简体"
   ]
  },
  {
   "cell_type": "code",
   "execution_count": 23,
   "metadata": {},
   "outputs": [
    {
     "name": "stdout",
     "output_type": "stream",
     "text": [
      "我爱自然语言处理技术！\n"
     ]
    }
   ],
   "source": [
    "sentence_fan = \"我愛自然語言處理技術！\"\n",
    "s_jianti = SnowNLP(sentence_fan)\n",
    "print(s_jianti.han)"
   ]
  },
  {
   "cell_type": "markdown",
   "metadata": {},
   "source": [
    "#### 6.分割成句子（Tokenization）"
   ]
  },
  {
   "cell_type": "code",
   "execution_count": 24,
   "metadata": {},
   "outputs": [],
   "source": [
    "text = u'''\n",
    "自然语言处理是计算机科学领域与人工智能领域中的一个重要方向。\n",
    "它研究能实现人与计算机之间用自然语言进行有效通信的各种理论和方法。\n",
    "自然语言处理是一门融语言学、计算机科学、数学于一体的科学。\n",
    "因此，这一领域的研究将涉及自然语言，即人们日常使用的语言，\n",
    "所以它与语言学的研究有着密切的联系，但又有重要的区别。\n",
    "自然语言处理并不是一般地研究自然语言，\n",
    "而在于研制能有效地实现自然语言通信的计算机系统，\n",
    "特别是其中的软件系统。因而它是计算机科学的一部分。\n",
    "'''"
   ]
  },
  {
   "cell_type": "code",
   "execution_count": 29,
   "metadata": {},
   "outputs": [
    {
     "name": "stdout",
     "output_type": "stream",
     "text": [
      "自然语言处理是计算机科学领域与人工智能领域中的一个重要方向。\n",
      "它研究能实现人与计算机之间用自然语言进行有效通信的各种理论和方法。\n",
      "自然语言处理是一门融语言学、计算机科学、数学于一体的科学。\n",
      "因此。\n",
      "这一领域的研究将涉及自然语言。\n",
      "即人们日常使用的语言。\n",
      "所以它与语言学的研究有着密切的联系。\n",
      "但又有重要的区别。\n",
      "自然语言处理并不是一般地研究自然语言。\n",
      "而在于研制能有效地实现自然语言通信的计算机系统。\n",
      "特别是其中的软件系统。\n",
      "因而它是计算机科学的一部分。\n"
     ]
    }
   ],
   "source": [
    "t = SnowNLP(text)\n",
    "for sen in t.sentences:\n",
    "    print(sen + \"。\")"
   ]
  },
  {
   "cell_type": "markdown",
   "metadata": {},
   "source": [
    "#### 7.关键词抽取"
   ]
  },
  {
   "cell_type": "code",
   "execution_count": 32,
   "metadata": {
    "scrolled": true
   },
   "outputs": [
    {
     "name": "stdout",
     "output_type": "stream",
     "text": [
      "['语言', '自然', '计算机']\n"
     ]
    }
   ],
   "source": [
    "key_num = 3\n",
    "t_key = t.keywords(key_num)\n",
    "print(t_key)"
   ]
  },
  {
   "cell_type": "markdown",
   "metadata": {},
   "source": [
    "#### 8.摘要抽取（关键句抽取）"
   ]
  },
  {
   "cell_type": "code",
   "execution_count": 34,
   "metadata": {},
   "outputs": [
    {
     "name": "stdout",
     "output_type": "stream",
     "text": [
      "['因而它是计算机科学的一部分', '自然语言处理是计算机科学领域与人工智能领域中的一个重要方向', '自然语言处理是一门融语言学、计算机科学、数学于一体的科学']\n"
     ]
    }
   ],
   "source": [
    "key_sen = 3\n",
    "t_keysen = t.summary(key_sen)\n",
    "print(t_keysen)"
   ]
  },
  {
   "cell_type": "markdown",
   "metadata": {},
   "source": [
    "#### 9.计算tf和idf"
   ]
  },
  {
   "cell_type": "code",
   "execution_count": 41,
   "metadata": {},
   "outputs": [
    {
     "name": "stdout",
     "output_type": "stream",
     "text": [
      "[{'文章': 1, '这篇': 1}, {'论文': 1, '那篇': 1}, {'这个': 1}]\n",
      "{'文章': 0.5108256237659907, '论文': 0.5108256237659907, '这篇': 0.5108256237659907, '这个': 0.5108256237659907, '那篇': 0.5108256237659907}\n"
     ]
    }
   ],
   "source": [
    "s = SnowNLP([[u'这篇', u'文章'],\n",
    "             [u'那篇', u'论文'],\n",
    "             [u'这个']])\n",
    "print(s.tf)\n",
    "print(s.idf)"
   ]
  },
  {
   "cell_type": "markdown",
   "metadata": {},
   "source": [
    "#### 10.计算相似度(BM25)"
   ]
  },
  {
   "cell_type": "code",
   "execution_count": 42,
   "metadata": {},
   "outputs": [
    {
     "name": "stdout",
     "output_type": "stream",
     "text": [
      "[0.4686473612532025, 0, 0]\n"
     ]
    }
   ],
   "source": [
    "artilc1 = ['文章']\n",
    "print(s.sim(artilc1))"
   ]
  },
  {
   "cell_type": "markdown",
   "metadata": {},
   "source": [
    "# 支持训练\n",
    "- 提供训练的包括分词，词性标注，情感分析。语料在snownlp/seg目录下\n",
    "- 训练好的文件就存储为seg.marshal了，然后修改snownlp/seg/__init__.py里的data_path指向刚训练好的文件即可"
   ]
  },
  {
   "cell_type": "code",
   "execution_count": 45,
   "metadata": {},
   "outputs": [],
   "source": [
    "from snownlp import seg\n",
    "#seg.train('data.txt')\n",
    "#seg.save('seg.marshal')\n",
    "# from snownlp import tag\n",
    "# tag.train('199801.txt')\n",
    "# tag.save('tag.marshal')\n",
    "# from snownlp import sentiment\n",
    "# sentiment.train('neg.txt', 'pos.txt')\n",
    "# sentiment.save('sentiment.marshal')"
   ]
  }
 ],
 "metadata": {
  "kernelspec": {
   "display_name": "Python 3",
   "language": "python",
   "name": "python3"
  },
  "language_info": {
   "codemirror_mode": {
    "name": "ipython",
    "version": 3
   },
   "file_extension": ".py",
   "mimetype": "text/x-python",
   "name": "python",
   "nbconvert_exporter": "python",
   "pygments_lexer": "ipython3",
   "version": "3.5.6"
  }
 },
 "nbformat": 4,
 "nbformat_minor": 2
}
