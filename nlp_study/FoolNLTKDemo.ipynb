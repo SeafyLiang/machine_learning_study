{
 "cells": [
  {
   "cell_type": "markdown",
   "metadata": {},
   "source": [
    "# FoolNLTK\n",
    "- 基于神经网络(BiLSTM)训练\n",
    "- 可能不是最快但是最精确的中文分词工具\n",
    "- 高精度的分词，词性标注，实体识别\n",
    "- Java版本：https://github.com/rockyzhengwu/JFoolNLTK"
   ]
  },
  {
   "cell_type": "markdown",
   "metadata": {},
   "source": [
    "我的安装环境：\n",
    "- window10\n",
    "- python 3.56\n",
    "- pip install foolnltk -i https://pypi.tuna.tsinghua.edu.cn/simple"
   ]
  },
  {
   "cell_type": "code",
   "execution_count": 7,
   "metadata": {},
   "outputs": [],
   "source": [
    "import fool"
   ]
  },
  {
   "cell_type": "markdown",
   "metadata": {},
   "source": [
    "#### 1.分词"
   ]
  },
  {
   "cell_type": "code",
   "execution_count": 10,
   "metadata": {},
   "outputs": [
    {
     "name": "stdout",
     "output_type": "stream",
     "text": [
      "[['我', '爱', '自然', '语言', '处理', '！']]\n"
     ]
    }
   ],
   "source": [
    "sentence = \"我爱自然语言处理！\"\n",
    "sen_cut = (fool.cut(sentence))\n",
    "print(sen_cut)"
   ]
  },
  {
   "cell_type": "markdown",
   "metadata": {},
   "source": [
    "#### 2.词性标注"
   ]
  },
  {
   "cell_type": "code",
   "execution_count": 11,
   "metadata": {},
   "outputs": [
    {
     "name": "stdout",
     "output_type": "stream",
     "text": [
      "[[('我', 'r'), ('爱', 'v'), ('自然', 'n'), ('语言', 'n'), ('处理', 'v'), ('！', 'wt')]]\n"
     ]
    }
   ],
   "source": [
    "sen_cut = (fool.cut(sentence))\n",
    "print(fool.pos_cut(sentence))"
   ]
  },
  {
   "cell_type": "markdown",
   "metadata": {},
   "source": [
    "#### 3.命名实体识别"
   ]
  },
  {
   "cell_type": "code",
   "execution_count": 12,
   "metadata": {},
   "outputs": [
    {
     "name": "stdout",
     "output_type": "stream",
     "text": [
      "[[(3, 6, 'location', '北京')]]\n"
     ]
    }
   ],
   "source": [
    "sentence = \"我想去北京学习自然语言处理！\"\n",
    "words, ners = fool.analysis(sentence)\n",
    "print(ners)"
   ]
  }
 ],
 "metadata": {
  "kernelspec": {
   "display_name": "Python 3",
   "language": "python",
   "name": "python3"
  },
  "language_info": {
   "codemirror_mode": {
    "name": "ipython",
    "version": 3
   },
   "file_extension": ".py",
   "mimetype": "text/x-python",
   "name": "python",
   "nbconvert_exporter": "python",
   "pygments_lexer": "ipython3",
   "version": "3.5.6"
  }
 },
 "nbformat": 4,
 "nbformat_minor": 2
}
