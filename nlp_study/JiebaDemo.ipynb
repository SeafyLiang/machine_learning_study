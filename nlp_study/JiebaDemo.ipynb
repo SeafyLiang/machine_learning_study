{
 "cells": [
  {
   "cell_type": "markdown",
   "metadata": {},
   "source": [
    "# Jieba工具Demo\n",
    "#### 安装：pip install jieba"
   ]
  },
  {
   "cell_type": "markdown",
   "metadata": {},
   "source": [
    "#### 1.分词\n",
    "#### 支持三种分词模式（默认是精确模式）：\n",
    "- 精确模式，试图将句子最精确地切开，适合文本分析；\n",
    "- 全模式，把句子中所有的可以成词的词语都扫描出来, 速度非常快，但是不能解决歧义；\n",
    "- 搜索引擎模式，在精确模式的基础上，对长词再次切分，提高召回率，适合用于搜索引擎分词。"
   ]
  },
  {
   "cell_type": "code",
   "execution_count": 2,
   "metadata": {},
   "outputs": [
    {
     "name": "stderr",
     "output_type": "stream",
     "text": [
      "Building prefix dict from the default dictionary ...\n",
      "Loading model from cache C:\\Users\\yuquanle\\AppData\\Local\\Temp\\jieba.cache\n",
      "Loading model cost 0.830 seconds.\n",
      "Prefix dict has been built succesfully.\n"
     ]
    },
    {
     "name": "stdout",
     "output_type": "stream",
     "text": [
      "Full Mode: 我 爱 自然 自然语言 语言 处理 技术  \n",
      "Default Mode: 我  爱  自然语言  处理  技术  !\n",
      "Search Mode:我 爱 自然 语言 自然语言 处理 技术 !\n"
     ]
    }
   ],
   "source": [
    "import jieba\n",
    "segfull_list = jieba.cut(\"我爱自然语言处理技术！\", cut_all=True)\n",
    "print(\"Full Mode: \" + \" \".join(segfull_list))  # 全模式\n",
    "\n",
    "segdef_list = jieba.cut(\"我爱自然语言处理技术!\", cut_all=False)\n",
    "print(\"Default Mode: \" + \"  \".join(segdef_list))  # 精确模式\n",
    "\n",
    "seg_search_list = jieba.cut_for_search(\"我爱自然语言处理技术!\")  # 搜索引擎模式\n",
    "print(\"Search Mode:\" + \" \".join(seg_search_list))"
   ]
  },
  {
   "cell_type": "markdown",
   "metadata": {},
   "source": [
    "#### 2.基于TF-IDF算法关键词抽取\n",
    "#### 参数：\n",
    "- sentence：待分析文本；\n",
    "- topK：返回几个 TF/IDF 权重最大的关键词，默认值为 20\n",
    "- withWeight：是否一并返回关键词权重值，默认值为 False\n",
    "- allowPOS：仅包括指定词性的词，默认值为空，即不筛选"
   ]
  },
  {
   "cell_type": "code",
   "execution_count": 8,
   "metadata": {},
   "outputs": [
    {
     "name": "stdout",
     "output_type": "stream",
     "text": [
      "[('自然语言', 3.4783139164), ('处理', 1.8036185524533332)]\n"
     ]
    }
   ],
   "source": [
    "import jieba.analyse\n",
    "sentence = \"我爱自然语言处理技术!\"\n",
    "tags = jieba.analyse.extract_tags(sentence, withWeight=True, topK=2, allowPOS=())\n",
    "print(tags)"
   ]
  },
  {
   "cell_type": "markdown",
   "metadata": {},
   "source": [
    "#### 3.基于 TextRank 算法的关键词抽取\n",
    "#### 参数：\n",
    "- allowPOS：默认过滤词性"
   ]
  },
  {
   "cell_type": "code",
   "execution_count": 10,
   "metadata": {},
   "outputs": [
    {
     "data": {
      "text/plain": [
       "['技术']"
      ]
     },
     "execution_count": 10,
     "metadata": {},
     "output_type": "execute_result"
    }
   ],
   "source": [
    "jieba.analyse.textrank(sentence, topK=1, withWeight=False, allowPOS=('ns', 'n', 'vn', 'v')) "
   ]
  },
  {
   "cell_type": "markdown",
   "metadata": {},
   "source": [
    "#### 4.词性标注"
   ]
  },
  {
   "cell_type": "code",
   "execution_count": 19,
   "metadata": {},
   "outputs": [
    {
     "name": "stdout",
     "output_type": "stream",
     "text": [
      "我 r\n",
      "爱 v\n",
      "自然语言 l\n",
      "处理 v\n",
      "！ x\n"
     ]
    }
   ],
   "source": [
    "import jieba.posseg as pseg\n",
    "sentence = \"我爱自然语言处理！\"\n",
    "words = pseg.cut(sentence)\n",
    "for word, flag in words:    \n",
    "    print('%s %s' % (word, flag))"
   ]
  },
  {
   "cell_type": "markdown",
   "metadata": {},
   "source": [
    "#### 5.分词（tokenize）"
   ]
  },
  {
   "cell_type": "code",
   "execution_count": 23,
   "metadata": {},
   "outputs": [
    {
     "name": "stdout",
     "output_type": "stream",
     "text": [
      "word 我\t\t start: 0 \t\t end:1\n",
      "word 爱\t\t start: 1 \t\t end:2\n",
      "word 自然语言\t\t start: 2 \t\t end:6\n",
      "word 处理\t\t start: 6 \t\t end:8\n"
     ]
    }
   ],
   "source": [
    "result = jieba.tokenize(u'我爱自然语言处理')\n",
    "for tk in result:\n",
    "    print(\"word %s\\t\\t start: %d \\t\\t end:%d\" % (tk[0],tk[1],tk[2]))"
   ]
  }
 ],
 "metadata": {
  "kernelspec": {
   "display_name": "Python 3 (ipykernel)",
   "language": "python",
   "name": "python3"
  },
  "language_info": {
   "codemirror_mode": {
    "name": "ipython",
    "version": 3
   },
   "file_extension": ".py",
   "mimetype": "text/x-python",
   "name": "python",
   "nbconvert_exporter": "python",
   "pygments_lexer": "ipython3",
   "version": "3.7.11"
  }
 },
 "nbformat": 4,
 "nbformat_minor": 2
}
