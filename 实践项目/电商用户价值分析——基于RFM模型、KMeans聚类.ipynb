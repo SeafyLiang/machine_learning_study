{
 "cells": [
  {
   "cell_type": "markdown",
   "id": "51a49cba",
   "metadata": {
    "id": "645AF4CD75724E5A9B0CF8CE731B9183"
   },
   "source": [
    "**分析框架**"
   ]
  },
  {
   "cell_type": "markdown",
   "id": "19f35047",
   "metadata": {
    "id": "7CEDD50BC75E4731A4713D25328374BC"
   },
   "source": [
    "**一、导入数据**"
   ]
  },
  {
   "cell_type": "code",
   "execution_count": 1,
   "id": "84d7b499",
   "metadata": {
    "id": "0091503DC7224E76882AF4286CA4929A"
   },
   "outputs": [],
   "source": [
    "#导入工具包\n",
    "import pandas as pd\n",
    "import numpy as np\n",
    "import matplotlib.pyplot as plt\n",
    "import matplotlib as mpl\n",
    "from IPython.display import Image\n",
    "import time\n",
    "import warnings\n",
    "warnings.filterwarnings('ignore')\n",
    "%matplotlib inline\n",
    "mpl.rcParams['font.sans-serif']=['SimHei']  #设置字体样式以正常显示中文标签\n",
    "mpl.rcParams['axes.unicode_minus']=False   #设置正常显示字符"
   ]
  },
  {
   "cell_type": "code",
   "execution_count": 2,
   "id": "b6cb2e26",
   "metadata": {
    "id": "AB346F2E977545B9A2BE408FFA4D5078"
   },
   "outputs": [],
   "source": [
    "#导入数据集\n",
    "df = pd.read_excel(r'data\\order2021.xlsx')"
   ]
  },
  {
   "cell_type": "markdown",
   "id": "e816cd83",
   "metadata": {
    "id": "14B2ED1EAA0E4EBE9BBBCA2BBE35F7EA"
   },
   "source": [
    "**二、探索数据**    "
   ]
  },
  {
   "cell_type": "code",
   "execution_count": 3,
   "id": "c3390d0e",
   "metadata": {
    "id": "EFA1713829724B4194BE61D271DCDE36"
   },
   "outputs": [
    {
     "data": {
      "text/html": [
       "<div>\n",
       "<style scoped>\n",
       "    .dataframe tbody tr th:only-of-type {\n",
       "        vertical-align: middle;\n",
       "    }\n",
       "\n",
       "    .dataframe tbody tr th {\n",
       "        vertical-align: top;\n",
       "    }\n",
       "\n",
       "    .dataframe thead th {\n",
       "        text-align: right;\n",
       "    }\n",
       "</style>\n",
       "<table border=\"1\" class=\"dataframe\">\n",
       "  <thead>\n",
       "    <tr style=\"text-align: right;\">\n",
       "      <th></th>\n",
       "      <th>订单顺序编号</th>\n",
       "      <th>订单号</th>\n",
       "      <th>用户名</th>\n",
       "      <th>商品编号</th>\n",
       "      <th>订单金额</th>\n",
       "      <th>付款金额</th>\n",
       "      <th>渠道编号</th>\n",
       "      <th>平台类型</th>\n",
       "      <th>下单时间</th>\n",
       "      <th>付款时间</th>\n",
       "      <th>是否退款</th>\n",
       "    </tr>\n",
       "  </thead>\n",
       "  <tbody>\n",
       "    <tr>\n",
       "      <th>0</th>\n",
       "      <td>8</td>\n",
       "      <td>sys-2021-306447069</td>\n",
       "      <td>user-104863</td>\n",
       "      <td>PR000499</td>\n",
       "      <td>499.41</td>\n",
       "      <td>480.42000</td>\n",
       "      <td>渠道1</td>\n",
       "      <td>微信公众号</td>\n",
       "      <td>2021-01-01 01:05:50</td>\n",
       "      <td>2021-01-01 01:06:17</td>\n",
       "      <td>否</td>\n",
       "    </tr>\n",
       "    <tr>\n",
       "      <th>1</th>\n",
       "      <td>11</td>\n",
       "      <td>sys-2021-417411381</td>\n",
       "      <td>user-181957</td>\n",
       "      <td>PR000483</td>\n",
       "      <td>279.53</td>\n",
       "      <td>279.53000</td>\n",
       "      <td>渠道1</td>\n",
       "      <td>APP</td>\n",
       "      <td>2021-01-01 01:36:17</td>\n",
       "      <td>2021-01-01 01:36:56</td>\n",
       "      <td>否</td>\n",
       "    </tr>\n",
       "    <tr>\n",
       "      <th>2</th>\n",
       "      <td>61</td>\n",
       "      <td>sys-2021-313655292</td>\n",
       "      <td>user-282453</td>\n",
       "      <td>PR000154</td>\n",
       "      <td>1658.95</td>\n",
       "      <td>1653.91000</td>\n",
       "      <td>渠道1</td>\n",
       "      <td>微信公众号</td>\n",
       "      <td>2021-01-01 12:01:04</td>\n",
       "      <td>2021-01-01 12:03:20</td>\n",
       "      <td>否</td>\n",
       "    </tr>\n",
       "    <tr>\n",
       "      <th>3</th>\n",
       "      <td>78</td>\n",
       "      <td>sys-2021-311884106</td>\n",
       "      <td>user-167776</td>\n",
       "      <td>PR000215</td>\n",
       "      <td>343.25</td>\n",
       "      <td>337.12000</td>\n",
       "      <td>渠道1</td>\n",
       "      <td>APP</td>\n",
       "      <td>2021-01-01 12:47:02</td>\n",
       "      <td>2021-01-01 12:47:21</td>\n",
       "      <td>否</td>\n",
       "    </tr>\n",
       "    <tr>\n",
       "      <th>4</th>\n",
       "      <td>81</td>\n",
       "      <td>sys-2021-375273222</td>\n",
       "      <td>user-138024</td>\n",
       "      <td>PR000515</td>\n",
       "      <td>329.04</td>\n",
       "      <td>329.04000</td>\n",
       "      <td>渠道1</td>\n",
       "      <td>APP</td>\n",
       "      <td>2021-01-01 12:50:23</td>\n",
       "      <td>2021-01-01 12:50:50</td>\n",
       "      <td>否</td>\n",
       "    </tr>\n",
       "    <tr>\n",
       "      <th>5</th>\n",
       "      <td>116</td>\n",
       "      <td>sys-2021-327004821</td>\n",
       "      <td>user-182341</td>\n",
       "      <td>PR000028</td>\n",
       "      <td>446.61</td>\n",
       "      <td>384.06000</td>\n",
       "      <td>渠道1</td>\n",
       "      <td>微信公众号</td>\n",
       "      <td>2021-01-01 13:46:42</td>\n",
       "      <td>2021-01-01 13:47:01</td>\n",
       "      <td>否</td>\n",
       "    </tr>\n",
       "    <tr>\n",
       "      <th>6</th>\n",
       "      <td>125</td>\n",
       "      <td>sys-2021-231859284</td>\n",
       "      <td>user-230748</td>\n",
       "      <td>PR000184</td>\n",
       "      <td>746.27</td>\n",
       "      <td>627.12000</td>\n",
       "      <td>渠道1</td>\n",
       "      <td>微信公众号</td>\n",
       "      <td>2021-01-01 13:57:55</td>\n",
       "      <td>2021-01-01 13:58:16</td>\n",
       "      <td>否</td>\n",
       "    </tr>\n",
       "    <tr>\n",
       "      <th>7</th>\n",
       "      <td>148</td>\n",
       "      <td>sys-2021-355060894</td>\n",
       "      <td>user-214122</td>\n",
       "      <td>PR000826</td>\n",
       "      <td>205.78</td>\n",
       "      <td>2044.27572</td>\n",
       "      <td>渠道1</td>\n",
       "      <td>APP</td>\n",
       "      <td>2021-01-01 14:44:49</td>\n",
       "      <td>2021-01-01 14:45:21</td>\n",
       "      <td>是</td>\n",
       "    </tr>\n",
       "    <tr>\n",
       "      <th>8</th>\n",
       "      <td>161</td>\n",
       "      <td>sys-2021-319358365</td>\n",
       "      <td>user-162284</td>\n",
       "      <td>PR000828</td>\n",
       "      <td>574.45</td>\n",
       "      <td>498.08000</td>\n",
       "      <td>渠道1</td>\n",
       "      <td>微信公众号</td>\n",
       "      <td>2021-01-01 15:29:20</td>\n",
       "      <td>2021-01-01 15:31:18</td>\n",
       "      <td>否</td>\n",
       "    </tr>\n",
       "    <tr>\n",
       "      <th>9</th>\n",
       "      <td>175</td>\n",
       "      <td>sys-2021-386137983</td>\n",
       "      <td>user-123538</td>\n",
       "      <td>PR000469</td>\n",
       "      <td>324.96</td>\n",
       "      <td>249.44000</td>\n",
       "      <td>渠道1</td>\n",
       "      <td>APP</td>\n",
       "      <td>2021-01-01 16:12:34</td>\n",
       "      <td>2021-01-01 16:12:53</td>\n",
       "      <td>否</td>\n",
       "    </tr>\n",
       "  </tbody>\n",
       "</table>\n",
       "</div>"
      ],
      "text/plain": [
       "   订单顺序编号                 订单号          用户名      商品编号     订单金额        付款金额  \\\n",
       "0       8  sys-2021-306447069  user-104863  PR000499   499.41   480.42000   \n",
       "1      11  sys-2021-417411381  user-181957  PR000483   279.53   279.53000   \n",
       "2      61  sys-2021-313655292  user-282453  PR000154  1658.95  1653.91000   \n",
       "3      78  sys-2021-311884106  user-167776  PR000215   343.25   337.12000   \n",
       "4      81  sys-2021-375273222  user-138024  PR000515   329.04   329.04000   \n",
       "5     116  sys-2021-327004821  user-182341  PR000028   446.61   384.06000   \n",
       "6     125  sys-2021-231859284  user-230748  PR000184   746.27   627.12000   \n",
       "7     148  sys-2021-355060894  user-214122  PR000826   205.78  2044.27572   \n",
       "8     161  sys-2021-319358365  user-162284  PR000828   574.45   498.08000   \n",
       "9     175  sys-2021-386137983  user-123538  PR000469   324.96   249.44000   \n",
       "\n",
       "  渠道编号   平台类型                下单时间                付款时间 是否退款  \n",
       "0  渠道1  微信公众号 2021-01-01 01:05:50 2021-01-01 01:06:17    否  \n",
       "1  渠道1    APP 2021-01-01 01:36:17 2021-01-01 01:36:56    否  \n",
       "2  渠道1  微信公众号 2021-01-01 12:01:04 2021-01-01 12:03:20    否  \n",
       "3  渠道1    APP 2021-01-01 12:47:02 2021-01-01 12:47:21    否  \n",
       "4  渠道1    APP 2021-01-01 12:50:23 2021-01-01 12:50:50    否  \n",
       "5  渠道1  微信公众号 2021-01-01 13:46:42 2021-01-01 13:47:01    否  \n",
       "6  渠道1  微信公众号 2021-01-01 13:57:55 2021-01-01 13:58:16    否  \n",
       "7  渠道1    APP 2021-01-01 14:44:49 2021-01-01 14:45:21    是  \n",
       "8  渠道1  微信公众号 2021-01-01 15:29:20 2021-01-01 15:31:18    否  \n",
       "9  渠道1    APP 2021-01-01 16:12:34 2021-01-01 16:12:53    否  "
      ]
     },
     "execution_count": 3,
     "metadata": {},
     "output_type": "execute_result"
    }
   ],
   "source": [
    "#查看导入数据的前10行\n",
    "df.head(10)"
   ]
  },
  {
   "cell_type": "code",
   "execution_count": 4,
   "id": "c882a6a2",
   "metadata": {
    "id": "71CB586D188D4F62AFBFFCAF912C6DCB"
   },
   "outputs": [
    {
     "data": {
      "text/plain": [
       "(104557, 11)"
      ]
     },
     "execution_count": 4,
     "metadata": {},
     "output_type": "execute_result"
    }
   ],
   "source": [
    "#查看数据规模\n",
    "df.shape"
   ]
  },
  {
   "cell_type": "code",
   "execution_count": 5,
   "id": "d9e6dd21",
   "metadata": {
    "id": "96340E669EF04595B510CE4544B38682"
   },
   "outputs": [
    {
     "name": "stdout",
     "output_type": "stream",
     "text": [
      "<class 'pandas.core.frame.DataFrame'>\n",
      "RangeIndex: 104557 entries, 0 to 104556\n",
      "Data columns (total 11 columns):\n",
      " #   Column  Non-Null Count   Dtype         \n",
      "---  ------  --------------   -----         \n",
      " 0   订单顺序编号  104557 non-null  int64         \n",
      " 1   订单号     104557 non-null  object        \n",
      " 2   用户名     104557 non-null  object        \n",
      " 3   商品编号    104557 non-null  object        \n",
      " 4   订单金额    104557 non-null  float64       \n",
      " 5   付款金额    104557 non-null  float64       \n",
      " 6   渠道编号    104549 non-null  object        \n",
      " 7   平台类型    104557 non-null  object        \n",
      " 8   下单时间    104557 non-null  datetime64[ns]\n",
      " 9   付款时间    104557 non-null  datetime64[ns]\n",
      " 10  是否退款    104557 non-null  object        \n",
      "dtypes: datetime64[ns](2), float64(2), int64(1), object(6)\n",
      "memory usage: 8.8+ MB\n"
     ]
    }
   ],
   "source": [
    "#查看数据整体信息\n",
    "df.info()\n",
    "#结果显示数据类型正常，渠道编号有缺失值"
   ]
  },
  {
   "cell_type": "code",
   "execution_count": 6,
   "id": "19e88656",
   "metadata": {
    "id": "F242A4F7773441B6B2D46AAFBBBDBC66",
    "scrolled": false
   },
   "outputs": [
    {
     "data": {
      "text/html": [
       "<div>\n",
       "<style scoped>\n",
       "    .dataframe tbody tr th:only-of-type {\n",
       "        vertical-align: middle;\n",
       "    }\n",
       "\n",
       "    .dataframe tbody tr th {\n",
       "        vertical-align: top;\n",
       "    }\n",
       "\n",
       "    .dataframe thead th {\n",
       "        text-align: right;\n",
       "    }\n",
       "</style>\n",
       "<table border=\"1\" class=\"dataframe\">\n",
       "  <thead>\n",
       "    <tr style=\"text-align: right;\">\n",
       "      <th></th>\n",
       "      <th>订单顺序编号</th>\n",
       "      <th>订单金额</th>\n",
       "      <th>付款金额</th>\n",
       "    </tr>\n",
       "  </thead>\n",
       "  <tbody>\n",
       "    <tr>\n",
       "      <th>count</th>\n",
       "      <td>104557.000000</td>\n",
       "      <td>104557.000000</td>\n",
       "      <td>104557.000000</td>\n",
       "    </tr>\n",
       "    <tr>\n",
       "      <th>mean</th>\n",
       "      <td>52279.000000</td>\n",
       "      <td>1049.681521</td>\n",
       "      <td>1167.494225</td>\n",
       "    </tr>\n",
       "    <tr>\n",
       "      <th>std</th>\n",
       "      <td>30183.150385</td>\n",
       "      <td>1054.409968</td>\n",
       "      <td>2174.024855</td>\n",
       "    </tr>\n",
       "    <tr>\n",
       "      <th>min</th>\n",
       "      <td>1.000000</td>\n",
       "      <td>6.100000</td>\n",
       "      <td>-12.470000</td>\n",
       "    </tr>\n",
       "    <tr>\n",
       "      <th>25%</th>\n",
       "      <td>26140.000000</td>\n",
       "      <td>432.040000</td>\n",
       "      <td>383.660000</td>\n",
       "    </tr>\n",
       "    <tr>\n",
       "      <th>50%</th>\n",
       "      <td>52279.000000</td>\n",
       "      <td>679.320000</td>\n",
       "      <td>641.230000</td>\n",
       "    </tr>\n",
       "    <tr>\n",
       "      <th>75%</th>\n",
       "      <td>78418.000000</td>\n",
       "      <td>1248.280000</td>\n",
       "      <td>1252.630000</td>\n",
       "    </tr>\n",
       "    <tr>\n",
       "      <th>max</th>\n",
       "      <td>104557.000000</td>\n",
       "      <td>28465.250000</td>\n",
       "      <td>83270.053829</td>\n",
       "    </tr>\n",
       "  </tbody>\n",
       "</table>\n",
       "</div>"
      ],
      "text/plain": [
       "              订单顺序编号           订单金额           付款金额\n",
       "count  104557.000000  104557.000000  104557.000000\n",
       "mean    52279.000000    1049.681521    1167.494225\n",
       "std     30183.150385    1054.409968    2174.024855\n",
       "min         1.000000       6.100000     -12.470000\n",
       "25%     26140.000000     432.040000     383.660000\n",
       "50%     52279.000000     679.320000     641.230000\n",
       "75%     78418.000000    1248.280000    1252.630000\n",
       "max    104557.000000   28465.250000   83270.053829"
      ]
     },
     "execution_count": 6,
     "metadata": {},
     "output_type": "execute_result"
    }
   ],
   "source": [
    "#查看数据的描述性统计信息\n",
    "#付款金额有异常值\n",
    "df.describe()"
   ]
  },
  {
   "cell_type": "markdown",
   "id": "aa42abc5",
   "metadata": {
    "id": "4E4ECBF3017B49E487D4926F5721AB69"
   },
   "source": [
    "**三、数据清洗**"
   ]
  },
  {
   "cell_type": "code",
   "execution_count": 7,
   "id": "7bb60746",
   "metadata": {
    "id": "0A692CAA49F0441C9ACA67A4491F1158"
   },
   "outputs": [
    {
     "data": {
      "text/plain": [
       "Index(['订单顺序编号', '订单号', '用户名', '商品编号', '订单金额', '付款金额', '渠道编号', '平台类型', '下单时间',\n",
       "       '付款时间', '是否退款'],\n",
       "      dtype='object')"
      ]
     },
     "execution_count": 7,
     "metadata": {},
     "output_type": "execute_result"
    }
   ],
   "source": [
    "#对数据进行去文本空格处理\n",
    "df.columns = df.columns.str.strip()\n",
    "df.columns"
   ]
  },
  {
   "cell_type": "code",
   "execution_count": 8,
   "id": "3a2fb8b5",
   "metadata": {
    "id": "6105DD44132B4449944D98FFECE0BB48"
   },
   "outputs": [
    {
     "data": {
      "text/plain": [
       "0"
      ]
     },
     "execution_count": 8,
     "metadata": {},
     "output_type": "execute_result"
    }
   ],
   "source": [
    "#查看数据集是否存在重复值\n",
    "#两条记录中所有的数据都相等时duplicate才会判为重复值\n",
    "df.duplicated().sum()"
   ]
  },
  {
   "cell_type": "code",
   "execution_count": 9,
   "id": "e1b075a9",
   "metadata": {
    "id": "9797C969EA844F6DA8365F7B8065C440"
   },
   "outputs": [
    {
     "data": {
      "text/plain": [
       "订单顺序编号    0\n",
       "订单号       0\n",
       "用户名       0\n",
       "商品编号      0\n",
       "订单金额      0\n",
       "付款金额      0\n",
       "渠道编号      8\n",
       "平台类型      0\n",
       "下单时间      0\n",
       "付款时间      0\n",
       "是否退款      0\n",
       "dtype: int64"
      ]
     },
     "execution_count": 9,
     "metadata": {},
     "output_type": "execute_result"
    }
   ],
   "source": [
    "#查看数据缺失值\n",
    "df.isnull().sum()\n",
    "#结果显示，渠道编号有8个缺失值\n",
    "#原数据集比较庞大，且缺失值不是分析目标的关键特征，所以选择删掉"
   ]
  },
  {
   "cell_type": "code",
   "execution_count": 10,
   "id": "4e6489d2",
   "metadata": {
    "id": "6B7897914EDE4BDA8C20BB097E42F967"
   },
   "outputs": [
    {
     "data": {
      "text/plain": [
       "订单顺序编号    0\n",
       "订单号       0\n",
       "用户名       0\n",
       "商品编号      0\n",
       "订单金额      0\n",
       "付款金额      0\n",
       "渠道编号      0\n",
       "平台类型      0\n",
       "下单时间      0\n",
       "付款时间      0\n",
       "是否退款      0\n",
       "dtype: int64"
      ]
     },
     "execution_count": 10,
     "metadata": {},
     "output_type": "execute_result"
    }
   ],
   "source": [
    "#删除渠道编号缺失的数据\n",
    "#检查是否删除成功\n",
    "df.dropna(inplace=True)\n",
    "df.isnull().sum()"
   ]
  },
  {
   "cell_type": "code",
   "execution_count": 11,
   "id": "f405c328",
   "metadata": {
    "id": "38E384C5811947278C3CBB2F946CF220"
   },
   "outputs": [
    {
     "data": {
      "text/html": [
       "<div>\n",
       "<style scoped>\n",
       "    .dataframe tbody tr th:only-of-type {\n",
       "        vertical-align: middle;\n",
       "    }\n",
       "\n",
       "    .dataframe tbody tr th {\n",
       "        vertical-align: top;\n",
       "    }\n",
       "\n",
       "    .dataframe thead th {\n",
       "        text-align: right;\n",
       "    }\n",
       "</style>\n",
       "<table border=\"1\" class=\"dataframe\">\n",
       "  <thead>\n",
       "    <tr style=\"text-align: right;\">\n",
       "      <th></th>\n",
       "      <th>订单顺序编号</th>\n",
       "      <th>订单号</th>\n",
       "      <th>用户名</th>\n",
       "      <th>商品编号</th>\n",
       "      <th>订单金额</th>\n",
       "      <th>付款金额</th>\n",
       "      <th>渠道编号</th>\n",
       "      <th>平台类型</th>\n",
       "      <th>下单时间</th>\n",
       "      <th>付款时间</th>\n",
       "      <th>是否退款</th>\n",
       "    </tr>\n",
       "  </thead>\n",
       "  <tbody>\n",
       "    <tr>\n",
       "      <th>23860</th>\n",
       "      <td>66573</td>\n",
       "      <td>sys-2021-288096069</td>\n",
       "      <td>user-186966</td>\n",
       "      <td>PR000511</td>\n",
       "      <td>136.99</td>\n",
       "      <td>-12.34</td>\n",
       "      <td>渠道5</td>\n",
       "      <td>APP</td>\n",
       "      <td>2021-09-08 21:32:54</td>\n",
       "      <td>2021-09-08 21:33:10</td>\n",
       "      <td>否</td>\n",
       "    </tr>\n",
       "    <tr>\n",
       "      <th>24753</th>\n",
       "      <td>96939</td>\n",
       "      <td>sys-2021-323229098</td>\n",
       "      <td>user-198083</td>\n",
       "      <td>PR000548</td>\n",
       "      <td>126.92</td>\n",
       "      <td>-11.13</td>\n",
       "      <td>渠道5</td>\n",
       "      <td>APP</td>\n",
       "      <td>2021-12-10 14:24:13</td>\n",
       "      <td>2021-12-10 14:24:26</td>\n",
       "      <td>是</td>\n",
       "    </tr>\n",
       "    <tr>\n",
       "      <th>29600</th>\n",
       "      <td>31393</td>\n",
       "      <td>sys-2021-296608442</td>\n",
       "      <td>user-212991</td>\n",
       "      <td>PR000385</td>\n",
       "      <td>112.91</td>\n",
       "      <td>-10.17</td>\n",
       "      <td>渠道7</td>\n",
       "      <td>APP</td>\n",
       "      <td>2021-05-24 08:52:04</td>\n",
       "      <td>2021-05-24 08:52:23</td>\n",
       "      <td>否</td>\n",
       "    </tr>\n",
       "    <tr>\n",
       "      <th>35486</th>\n",
       "      <td>999</td>\n",
       "      <td>sys-2021-324068352</td>\n",
       "      <td>user-112962</td>\n",
       "      <td>PR000602</td>\n",
       "      <td>364.08</td>\n",
       "      <td>-12.47</td>\n",
       "      <td>渠道8</td>\n",
       "      <td>微信公众号</td>\n",
       "      <td>2021-01-04 10:47:05</td>\n",
       "      <td>2021-01-04 10:47:05</td>\n",
       "      <td>否</td>\n",
       "    </tr>\n",
       "    <tr>\n",
       "      <th>62781</th>\n",
       "      <td>72266</td>\n",
       "      <td>sys-2021-316685479</td>\n",
       "      <td>user-189901</td>\n",
       "      <td>PR000554</td>\n",
       "      <td>2287.74</td>\n",
       "      <td>-10.98</td>\n",
       "      <td>渠道11</td>\n",
       "      <td>微信公众号</td>\n",
       "      <td>2021-09-28 11:57:46</td>\n",
       "      <td>2021-09-28 11:57:46</td>\n",
       "      <td>否</td>\n",
       "    </tr>\n",
       "    <tr>\n",
       "      <th>71784</th>\n",
       "      <td>18684</td>\n",
       "      <td>sys-2021-311194385</td>\n",
       "      <td>user-110299</td>\n",
       "      <td>PR000797</td>\n",
       "      <td>118.06</td>\n",
       "      <td>-10.08</td>\n",
       "      <td>渠道13</td>\n",
       "      <td>web网站</td>\n",
       "      <td>2021-04-06 11:20:43</td>\n",
       "      <td>2021-04-06 11:21:31</td>\n",
       "      <td>否</td>\n",
       "    </tr>\n",
       "  </tbody>\n",
       "</table>\n",
       "</div>"
      ],
      "text/plain": [
       "       订单顺序编号                 订单号          用户名      商品编号     订单金额   付款金额  \\\n",
       "23860   66573  sys-2021-288096069  user-186966  PR000511   136.99 -12.34   \n",
       "24753   96939  sys-2021-323229098  user-198083  PR000548   126.92 -11.13   \n",
       "29600   31393  sys-2021-296608442  user-212991  PR000385   112.91 -10.17   \n",
       "35486     999  sys-2021-324068352  user-112962  PR000602   364.08 -12.47   \n",
       "62781   72266  sys-2021-316685479  user-189901  PR000554  2287.74 -10.98   \n",
       "71784   18684  sys-2021-311194385  user-110299  PR000797   118.06 -10.08   \n",
       "\n",
       "       渠道编号   平台类型                下单时间                付款时间 是否退款  \n",
       "23860   渠道5    APP 2021-09-08 21:32:54 2021-09-08 21:33:10    否  \n",
       "24753   渠道5    APP 2021-12-10 14:24:13 2021-12-10 14:24:26    是  \n",
       "29600   渠道7    APP 2021-05-24 08:52:04 2021-05-24 08:52:23    否  \n",
       "35486   渠道8  微信公众号 2021-01-04 10:47:05 2021-01-04 10:47:05    否  \n",
       "62781  渠道11  微信公众号 2021-09-28 11:57:46 2021-09-28 11:57:46    否  \n",
       "71784  渠道13  web网站 2021-04-06 11:20:43 2021-04-06 11:21:31    否  "
      ]
     },
     "execution_count": 11,
     "metadata": {},
     "output_type": "execute_result"
    }
   ],
   "source": [
    "#异常值处理\n",
    "#查找付款金额小于0的数据\n",
    "abnormal=df[np.where(df['付款金额'] < 0,True,False)]\n",
    "abnormal"
   ]
  },
  {
   "cell_type": "code",
   "execution_count": 12,
   "id": "b547f6e7",
   "metadata": {
    "id": "BEA4BDEA865B4532AAF8DF8CE17E30E1",
    "scrolled": true
   },
   "outputs": [
    {
     "data": {
      "text/plain": [
       "Int64Index([23860, 24753, 29600, 35486, 62781, 71784], dtype='int64')"
      ]
     },
     "execution_count": 12,
     "metadata": {},
     "output_type": "execute_result"
    }
   ],
   "source": [
    "#提取异常值的索引\n",
    "abindex = abnormal.index\n",
    "abindex"
   ]
  },
  {
   "cell_type": "code",
   "execution_count": 13,
   "id": "2fb001c2",
   "metadata": {
    "id": "64909E4C4D374B719E46A556FA74B3C7"
   },
   "outputs": [],
   "source": [
    "#删除付款金额小于0的数据\n",
    "df.drop(abindex,inplace=True)"
   ]
  },
  {
   "cell_type": "code",
   "execution_count": 14,
   "id": "1832cb63",
   "metadata": {
    "id": "8169305E8BED4433AAF7F00CA54F88C1"
   },
   "outputs": [
    {
     "data": {
      "text/plain": [
       "(104543, 11)"
      ]
     },
     "execution_count": 14,
     "metadata": {},
     "output_type": "execute_result"
    }
   ],
   "source": [
    "#查看是否删除成功\n",
    "df.shape"
   ]
  },
  {
   "cell_type": "code",
   "execution_count": 15,
   "id": "00090371",
   "metadata": {
    "id": "DC6F5BBA86F042C1BDF02F1C04FA180C"
   },
   "outputs": [],
   "source": [
    "#通过可视化来看数据的分布情况判断是否异常"
   ]
  },
  {
   "cell_type": "code",
   "execution_count": 16,
   "id": "75edc206",
   "metadata": {
    "id": "39002FFF73B749318907D6FDC34118CE"
   },
   "outputs": [
    {
     "name": "stdout",
     "output_type": "stream",
     "text": [
      "偏度 3.1440133730424478\n",
      "峰度 21.80010550560282\n"
     ]
    },
    {
     "data": {
      "image/png": "[encoded data removed]",
      "text/plain": [
       "<Figure size 864x432 with 1 Axes>"
      ]
     },
     "metadata": {
      "needs_background": "light"
     },
     "output_type": "display_data"
    }
   ],
   "source": [
    "#用直方图和核密度看下‘订单金额’的数据分布\n",
    "plt.figure(figsize=(12,6))\n",
    "plt.hist(df['订单金额'],bins=60,\n",
    "         color='g',label='订单金额',\n",
    "         histtype='bar',density=True,\n",
    "         edgecolor = 'white',alpha=0.4)\n",
    "plt.title('订单金额分布',fontdict={'fontsize':16,'color':'r'})\n",
    "plt.xlabel('订单金额')\n",
    "plt.ylabel('密度')\n",
    "plt.legend(loc = 'best')\n",
    "\n",
    "data1=df['订单金额']\n",
    "data1.plot(kind='kde',color='b')\n",
    "\n",
    "print('偏度',data1.skew())\n",
    "print('峰度',data1.kurtosis())"
   ]
  },
  {
   "cell_type": "code",
   "execution_count": 17,
   "id": "a3b9316c",
   "metadata": {
    "id": "195C406C3B9C48BA9CBC9184145AB82F"
   },
   "outputs": [
    {
     "name": "stdout",
     "output_type": "stream",
     "text": [
      "偏度 12.431755865938815\n",
      "峰度 248.73275784431132\n"
     ]
    },
    {
     "data": {
      "image/png": "[encoded data removed]",
      "text/plain": [
       "<Figure size 864x432 with 1 Axes>"
      ]
     },
     "metadata": {
      "needs_background": "light"
     },
     "output_type": "display_data"
    }
   ],
   "source": [
    "#用直方图和核密度看下‘付款金额’的数据分布\n",
    "plt.figure(figsize=(12,6))\n",
    "plt.hist(df['付款金额'],bins=60,\n",
    "         color='b',label='付款金额',\n",
    "         histtype='bar',density=True,\n",
    "         edgecolor = 'white',alpha=0.4)\n",
    "plt.title('付款金额分布',fontdict={'fontsize':16,'color':'r'})\n",
    "plt.xlabel('付款金额')\n",
    "plt.ylabel('密度')\n",
    "plt.legend(loc = 'best')\n",
    "\n",
    "data2=df['付款金额']\n",
    "data2.plot(kind='kde',color='g')\n",
    "\n",
    "print('偏度',data2.skew())\n",
    "print('峰度',data2.kurtosis())"
   ]
  },
  {
   "cell_type": "code",
   "execution_count": 18,
   "id": "eceab439",
   "metadata": {
    "id": "AED650F1959B4A38A1E0F7D5DCCE2FDF"
   },
   "outputs": [],
   "source": [
    "#运行结果得出：\n",
    "#从建模角度看，订单金额’和‘付款金额’都是呈右偏分布，小数据多，存在较小的离群值，数据差距较大，属于异常值\n",
    "#但从业务角度看，这样的数据分布符合业务逻辑，所以不判定为异常值，因此不做处理"
   ]
  },
  {
   "cell_type": "markdown",
   "id": "a3415c9a",
   "metadata": {
    "id": "7A9D285223DB4B1494D77B95937ED85A"
   },
   "source": [
    "**四、用户消费行为分析**"
   ]
  },
  {
   "cell_type": "code",
   "execution_count": 19,
   "id": "b2d9b193",
   "metadata": {
    "id": "4CBAA168E97C4FE8B4A85B13806088F8"
   },
   "outputs": [
    {
     "data": {
      "text/html": [
       "<div>\n",
       "<style scoped>\n",
       "    .dataframe tbody tr th:only-of-type {\n",
       "        vertical-align: middle;\n",
       "    }\n",
       "\n",
       "    .dataframe tbody tr th {\n",
       "        vertical-align: top;\n",
       "    }\n",
       "\n",
       "    .dataframe thead tr th {\n",
       "        text-align: left;\n",
       "    }\n",
       "\n",
       "    .dataframe thead tr:last-of-type th {\n",
       "        text-align: right;\n",
       "    }\n",
       "</style>\n",
       "<table border=\"1\" class=\"dataframe\">\n",
       "  <thead>\n",
       "    <tr>\n",
       "      <th></th>\n",
       "      <th>用户名</th>\n",
       "    </tr>\n",
       "    <tr>\n",
       "      <th></th>\n",
       "      <th>count</th>\n",
       "    </tr>\n",
       "    <tr>\n",
       "      <th>是否退款</th>\n",
       "      <th></th>\n",
       "    </tr>\n",
       "  </thead>\n",
       "  <tbody>\n",
       "    <tr>\n",
       "      <th>否</th>\n",
       "      <td>90763</td>\n",
       "    </tr>\n",
       "    <tr>\n",
       "      <th>是</th>\n",
       "      <td>13780</td>\n",
       "    </tr>\n",
       "  </tbody>\n",
       "</table>\n",
       "</div>"
      ],
      "text/plain": [
       "        用户名\n",
       "      count\n",
       "是否退款       \n",
       "否     90763\n",
       "是     13780"
      ]
     },
     "execution_count": 19,
     "metadata": {},
     "output_type": "execute_result"
    }
   ],
   "source": [
    "#退款情况\n",
    "df.groupby(['是否退款']).agg({'用户名':['count']})"
   ]
  },
  {
   "cell_type": "code",
   "execution_count": 20,
   "id": "44e4d1d4",
   "metadata": {
    "id": "41A6C8DBB22A49249E31C7235C4D2BC9"
   },
   "outputs": [
    {
     "data": {
      "image/png": "[encoded data removed]",
      "text/plain": [
       "<Figure size 864x864 with 1 Axes>"
      ]
     },
     "metadata": {},
     "output_type": "display_data"
    }
   ],
   "source": [
    "#客户渠道分布情况\n",
    "#可以看出用户来源主要集中在渠道13、渠道15、渠道9，运营推广可重点关注这三个渠道\n",
    "df_p = df.groupby('渠道编号')['用户名'].count()\n",
    "df_p.plot.pie(figsize=(12,12),labels=df_p.index,autopct='%0.2f%%')\n",
    "plt.title('各渠道用户占比',size=20)\n",
    "plt.show()            "
   ]
  },
  {
   "cell_type": "code",
   "execution_count": 21,
   "id": "039f9338",
   "metadata": {
    "id": "18F1542C98024C1FA09E3262F88CB68C"
   },
   "outputs": [
    {
     "data": {
      "image/png": "[encoded data removed]",
      "text/plain": [
       "<Figure size 864x864 with 1 Axes>"
      ]
     },
     "metadata": {},
     "output_type": "display_data"
    }
   ],
   "source": [
    "#平台订单支付情况\n",
    "#订单支付主要是来自于APP和微信公众号,应该重点在这两个平台推广\n",
    "df_p = df.groupby('平台类型')['用户名'].count()\n",
    "df_p.plot.pie(figsize=(12,12),labels=df_p.index,autopct='%0.2f%%')\n",
    "plt.title('各平台订单支付用户占比',size=20)\n",
    "plt.show()"
   ]
  },
  {
   "cell_type": "markdown",
   "id": "a7e481d6",
   "metadata": {
    "id": "88DA9F5EB95140A78F0F95C1915F04D5"
   },
   "source": [
    "**五、RFM模型构建**"
   ]
  },
  {
   "cell_type": "code",
   "execution_count": 22,
   "id": "8436c441",
   "metadata": {
    "id": "9BFA6BBE95C248C388094FC9991D56E0"
   },
   "outputs": [
    {
     "data": {
      "text/html": [
       "<div>\n",
       "<style scoped>\n",
       "    .dataframe tbody tr th:only-of-type {\n",
       "        vertical-align: middle;\n",
       "    }\n",
       "\n",
       "    .dataframe tbody tr th {\n",
       "        vertical-align: top;\n",
       "    }\n",
       "\n",
       "    .dataframe thead th {\n",
       "        text-align: right;\n",
       "    }\n",
       "</style>\n",
       "<table border=\"1\" class=\"dataframe\">\n",
       "  <thead>\n",
       "    <tr style=\"text-align: right;\">\n",
       "      <th></th>\n",
       "      <th>订单顺序编号</th>\n",
       "      <th>订单号</th>\n",
       "      <th>用户名</th>\n",
       "      <th>商品编号</th>\n",
       "      <th>订单金额</th>\n",
       "      <th>付款金额</th>\n",
       "      <th>渠道编号</th>\n",
       "      <th>平台类型</th>\n",
       "      <th>下单时间</th>\n",
       "      <th>付款时间</th>\n",
       "      <th>是否退款</th>\n",
       "    </tr>\n",
       "  </thead>\n",
       "  <tbody>\n",
       "    <tr>\n",
       "      <th>0</th>\n",
       "      <td>8</td>\n",
       "      <td>sys-2021-306447069</td>\n",
       "      <td>user-104863</td>\n",
       "      <td>PR000499</td>\n",
       "      <td>499.41</td>\n",
       "      <td>480.42</td>\n",
       "      <td>渠道1</td>\n",
       "      <td>微信公众号</td>\n",
       "      <td>2021-01-01 01:05:50</td>\n",
       "      <td>2021-01-01 01:06:17</td>\n",
       "      <td>否</td>\n",
       "    </tr>\n",
       "    <tr>\n",
       "      <th>1</th>\n",
       "      <td>11</td>\n",
       "      <td>sys-2021-417411381</td>\n",
       "      <td>user-181957</td>\n",
       "      <td>PR000483</td>\n",
       "      <td>279.53</td>\n",
       "      <td>279.53</td>\n",
       "      <td>渠道1</td>\n",
       "      <td>APP</td>\n",
       "      <td>2021-01-01 01:36:17</td>\n",
       "      <td>2021-01-01 01:36:56</td>\n",
       "      <td>否</td>\n",
       "    </tr>\n",
       "    <tr>\n",
       "      <th>2</th>\n",
       "      <td>61</td>\n",
       "      <td>sys-2021-313655292</td>\n",
       "      <td>user-282453</td>\n",
       "      <td>PR000154</td>\n",
       "      <td>1658.95</td>\n",
       "      <td>1653.91</td>\n",
       "      <td>渠道1</td>\n",
       "      <td>微信公众号</td>\n",
       "      <td>2021-01-01 12:01:04</td>\n",
       "      <td>2021-01-01 12:03:20</td>\n",
       "      <td>否</td>\n",
       "    </tr>\n",
       "    <tr>\n",
       "      <th>3</th>\n",
       "      <td>78</td>\n",
       "      <td>sys-2021-311884106</td>\n",
       "      <td>user-167776</td>\n",
       "      <td>PR000215</td>\n",
       "      <td>343.25</td>\n",
       "      <td>337.12</td>\n",
       "      <td>渠道1</td>\n",
       "      <td>APP</td>\n",
       "      <td>2021-01-01 12:47:02</td>\n",
       "      <td>2021-01-01 12:47:21</td>\n",
       "      <td>否</td>\n",
       "    </tr>\n",
       "    <tr>\n",
       "      <th>4</th>\n",
       "      <td>81</td>\n",
       "      <td>sys-2021-375273222</td>\n",
       "      <td>user-138024</td>\n",
       "      <td>PR000515</td>\n",
       "      <td>329.04</td>\n",
       "      <td>329.04</td>\n",
       "      <td>渠道1</td>\n",
       "      <td>APP</td>\n",
       "      <td>2021-01-01 12:50:23</td>\n",
       "      <td>2021-01-01 12:50:50</td>\n",
       "      <td>否</td>\n",
       "    </tr>\n",
       "    <tr>\n",
       "      <th>...</th>\n",
       "      <td>...</td>\n",
       "      <td>...</td>\n",
       "      <td>...</td>\n",
       "      <td>...</td>\n",
       "      <td>...</td>\n",
       "      <td>...</td>\n",
       "      <td>...</td>\n",
       "      <td>...</td>\n",
       "      <td>...</td>\n",
       "      <td>...</td>\n",
       "      <td>...</td>\n",
       "    </tr>\n",
       "    <tr>\n",
       "      <th>104544</th>\n",
       "      <td>104515</td>\n",
       "      <td>sys-2020-247689274</td>\n",
       "      <td>user-254850</td>\n",
       "      <td>PR000239</td>\n",
       "      <td>251.83</td>\n",
       "      <td>179.56</td>\n",
       "      <td>渠道15</td>\n",
       "      <td>淘宝</td>\n",
       "      <td>2020-01-01 21:21:09</td>\n",
       "      <td>2021-01-01 21:21:55</td>\n",
       "      <td>否</td>\n",
       "    </tr>\n",
       "    <tr>\n",
       "      <th>104545</th>\n",
       "      <td>104527</td>\n",
       "      <td>sys-2020-250518601</td>\n",
       "      <td>user-291340</td>\n",
       "      <td>PR000950</td>\n",
       "      <td>1485.02</td>\n",
       "      <td>1407.60</td>\n",
       "      <td>渠道15</td>\n",
       "      <td>微信公众号</td>\n",
       "      <td>2020-01-01 21:57:45</td>\n",
       "      <td>2021-01-01 21:57:58</td>\n",
       "      <td>否</td>\n",
       "    </tr>\n",
       "    <tr>\n",
       "      <th>104546</th>\n",
       "      <td>104529</td>\n",
       "      <td>sys-2020-260463573</td>\n",
       "      <td>user-280181</td>\n",
       "      <td>PR000564</td>\n",
       "      <td>882.63</td>\n",
       "      <td>732.37</td>\n",
       "      <td>渠道15</td>\n",
       "      <td>APP</td>\n",
       "      <td>2020-01-01 22:05:34</td>\n",
       "      <td>2021-01-01 22:05:40</td>\n",
       "      <td>否</td>\n",
       "    </tr>\n",
       "    <tr>\n",
       "      <th>104547</th>\n",
       "      <td>104549</td>\n",
       "      <td>sys-2020-310196315</td>\n",
       "      <td>user-235227</td>\n",
       "      <td>PR000885</td>\n",
       "      <td>280.39</td>\n",
       "      <td>256.74</td>\n",
       "      <td>渠道15</td>\n",
       "      <td>微信公众号</td>\n",
       "      <td>2020-01-01 23:23:49</td>\n",
       "      <td>2021-01-01 23:24:03</td>\n",
       "      <td>否</td>\n",
       "    </tr>\n",
       "    <tr>\n",
       "      <th>104548</th>\n",
       "      <td>104552</td>\n",
       "      <td>sys-2020-257204000</td>\n",
       "      <td>user-157645</td>\n",
       "      <td>PR000889</td>\n",
       "      <td>206.92</td>\n",
       "      <td>161.28</td>\n",
       "      <td>渠道15</td>\n",
       "      <td>APP</td>\n",
       "      <td>2020-01-01 23:29:44</td>\n",
       "      <td>2021-01-01 23:30:05</td>\n",
       "      <td>否</td>\n",
       "    </tr>\n",
       "  </tbody>\n",
       "</table>\n",
       "<p>90763 rows × 11 columns</p>\n",
       "</div>"
      ],
      "text/plain": [
       "        订单顺序编号                 订单号          用户名      商品编号     订单金额     付款金额  \\\n",
       "0            8  sys-2021-306447069  user-104863  PR000499   499.41   480.42   \n",
       "1           11  sys-2021-417411381  user-181957  PR000483   279.53   279.53   \n",
       "2           61  sys-2021-313655292  user-282453  PR000154  1658.95  1653.91   \n",
       "3           78  sys-2021-311884106  user-167776  PR000215   343.25   337.12   \n",
       "4           81  sys-2021-375273222  user-138024  PR000515   329.04   329.04   \n",
       "...        ...                 ...          ...       ...      ...      ...   \n",
       "104544  104515  sys-2020-247689274  user-254850  PR000239   251.83   179.56   \n",
       "104545  104527  sys-2020-250518601  user-291340  PR000950  1485.02  1407.60   \n",
       "104546  104529  sys-2020-260463573  user-280181  PR000564   882.63   732.37   \n",
       "104547  104549  sys-2020-310196315  user-235227  PR000885   280.39   256.74   \n",
       "104548  104552  sys-2020-257204000  user-157645  PR000889   206.92   161.28   \n",
       "\n",
       "        渠道编号   平台类型                下单时间                付款时间 是否退款  \n",
       "0        渠道1  微信公众号 2021-01-01 01:05:50 2021-01-01 01:06:17    否  \n",
       "1        渠道1    APP 2021-01-01 01:36:17 2021-01-01 01:36:56    否  \n",
       "2        渠道1  微信公众号 2021-01-01 12:01:04 2021-01-01 12:03:20    否  \n",
       "3        渠道1    APP 2021-01-01 12:47:02 2021-01-01 12:47:21    否  \n",
       "4        渠道1    APP 2021-01-01 12:50:23 2021-01-01 12:50:50    否  \n",
       "...      ...    ...                 ...                 ...  ...  \n",
       "104544  渠道15     淘宝 2020-01-01 21:21:09 2021-01-01 21:21:55    否  \n",
       "104545  渠道15  微信公众号 2020-01-01 21:57:45 2021-01-01 21:57:58    否  \n",
       "104546  渠道15    APP 2020-01-01 22:05:34 2021-01-01 22:05:40    否  \n",
       "104547  渠道15  微信公众号 2020-01-01 23:23:49 2021-01-01 23:24:03    否  \n",
       "104548  渠道15    APP 2020-01-01 23:29:44 2021-01-01 23:30:05    否  \n",
       "\n",
       "[90763 rows x 11 columns]"
      ]
     },
     "execution_count": 22,
     "metadata": {},
     "output_type": "execute_result"
    }
   ],
   "source": [
    "#筛选没有退款的订单\n",
    "df1 = df[np.where(df['是否退款']=='否',True,False)]\n",
    "df1"
   ]
  },
  {
   "cell_type": "code",
   "execution_count": 23,
   "id": "cf88fa30",
   "metadata": {
    "id": "495A16A557D84471A29FBA1C8C1AB8AD"
   },
   "outputs": [
    {
     "data": {
      "text/html": [
       "<div>\n",
       "<style scoped>\n",
       "    .dataframe tbody tr th:only-of-type {\n",
       "        vertical-align: middle;\n",
       "    }\n",
       "\n",
       "    .dataframe tbody tr th {\n",
       "        vertical-align: top;\n",
       "    }\n",
       "\n",
       "    .dataframe thead th {\n",
       "        text-align: right;\n",
       "    }\n",
       "</style>\n",
       "<table border=\"1\" class=\"dataframe\">\n",
       "  <thead>\n",
       "    <tr style=\"text-align: right;\">\n",
       "      <th></th>\n",
       "      <th>订单号</th>\n",
       "      <th>用户名</th>\n",
       "      <th>付款金额</th>\n",
       "      <th>付款时间</th>\n",
       "    </tr>\n",
       "  </thead>\n",
       "  <tbody>\n",
       "    <tr>\n",
       "      <th>0</th>\n",
       "      <td>sys-2021-306447069</td>\n",
       "      <td>user-104863</td>\n",
       "      <td>480.42</td>\n",
       "      <td>2021-01-01 01:06:17</td>\n",
       "    </tr>\n",
       "    <tr>\n",
       "      <th>1</th>\n",
       "      <td>sys-2021-417411381</td>\n",
       "      <td>user-181957</td>\n",
       "      <td>279.53</td>\n",
       "      <td>2021-01-01 01:36:56</td>\n",
       "    </tr>\n",
       "    <tr>\n",
       "      <th>2</th>\n",
       "      <td>sys-2021-313655292</td>\n",
       "      <td>user-282453</td>\n",
       "      <td>1653.91</td>\n",
       "      <td>2021-01-01 12:03:20</td>\n",
       "    </tr>\n",
       "    <tr>\n",
       "      <th>3</th>\n",
       "      <td>sys-2021-311884106</td>\n",
       "      <td>user-167776</td>\n",
       "      <td>337.12</td>\n",
       "      <td>2021-01-01 12:47:21</td>\n",
       "    </tr>\n",
       "    <tr>\n",
       "      <th>4</th>\n",
       "      <td>sys-2021-375273222</td>\n",
       "      <td>user-138024</td>\n",
       "      <td>329.04</td>\n",
       "      <td>2021-01-01 12:50:50</td>\n",
       "    </tr>\n",
       "  </tbody>\n",
       "</table>\n",
       "</div>"
      ],
      "text/plain": [
       "                  订单号          用户名     付款金额                付款时间\n",
       "0  sys-2021-306447069  user-104863   480.42 2021-01-01 01:06:17\n",
       "1  sys-2021-417411381  user-181957   279.53 2021-01-01 01:36:56\n",
       "2  sys-2021-313655292  user-282453  1653.91 2021-01-01 12:03:20\n",
       "3  sys-2021-311884106  user-167776   337.12 2021-01-01 12:47:21\n",
       "4  sys-2021-375273222  user-138024   329.04 2021-01-01 12:50:50"
      ]
     },
     "execution_count": 23,
     "metadata": {},
     "output_type": "execute_result"
    }
   ],
   "source": [
    "#构建子表\n",
    "df2=df1.loc[:,['订单号','用户名','付款金额','付款时间']]\n",
    "df2.head()"
   ]
  },
  {
   "cell_type": "code",
   "execution_count": 24,
   "id": "e40eeb7d",
   "metadata": {
    "id": "07120A360023491783889B74E6407BF4"
   },
   "outputs": [],
   "source": [
    "#将交易日期处理为日期数据类型\n",
    "df2['付款时间'] = pd.to_datetime(df2['付款时间'],format='%Y%m%d')\n",
    "#假设2022-01-01是计算当天,求交易日期到计算当天的距离天数\n",
    "df2['至今天数'] = pd.to_datetime('2022-01-01') - df2['付款时间']\n",
    "#从时间距离中获取天数\n",
    "df2['至今天数'] = df2['至今天数'].dt.days"
   ]
  },
  {
   "cell_type": "code",
   "execution_count": 25,
   "id": "2682471e",
   "metadata": {
    "id": "B67AC6A111DD425EA12066E28E324A31"
   },
   "outputs": [
    {
     "data": {
      "text/html": [
       "<div>\n",
       "<style scoped>\n",
       "    .dataframe tbody tr th:only-of-type {\n",
       "        vertical-align: middle;\n",
       "    }\n",
       "\n",
       "    .dataframe tbody tr th {\n",
       "        vertical-align: top;\n",
       "    }\n",
       "\n",
       "    .dataframe thead th {\n",
       "        text-align: right;\n",
       "    }\n",
       "</style>\n",
       "<table border=\"1\" class=\"dataframe\">\n",
       "  <thead>\n",
       "    <tr style=\"text-align: right;\">\n",
       "      <th></th>\n",
       "      <th>订单号</th>\n",
       "      <th>用户名</th>\n",
       "      <th>付款金额</th>\n",
       "      <th>付款时间</th>\n",
       "      <th>至今天数</th>\n",
       "    </tr>\n",
       "  </thead>\n",
       "  <tbody>\n",
       "    <tr>\n",
       "      <th>0</th>\n",
       "      <td>sys-2021-306447069</td>\n",
       "      <td>user-104863</td>\n",
       "      <td>480.42</td>\n",
       "      <td>2021-01-01 01:06:17</td>\n",
       "      <td>364</td>\n",
       "    </tr>\n",
       "    <tr>\n",
       "      <th>1</th>\n",
       "      <td>sys-2021-417411381</td>\n",
       "      <td>user-181957</td>\n",
       "      <td>279.53</td>\n",
       "      <td>2021-01-01 01:36:56</td>\n",
       "      <td>364</td>\n",
       "    </tr>\n",
       "    <tr>\n",
       "      <th>2</th>\n",
       "      <td>sys-2021-313655292</td>\n",
       "      <td>user-282453</td>\n",
       "      <td>1653.91</td>\n",
       "      <td>2021-01-01 12:03:20</td>\n",
       "      <td>364</td>\n",
       "    </tr>\n",
       "    <tr>\n",
       "      <th>3</th>\n",
       "      <td>sys-2021-311884106</td>\n",
       "      <td>user-167776</td>\n",
       "      <td>337.12</td>\n",
       "      <td>2021-01-01 12:47:21</td>\n",
       "      <td>364</td>\n",
       "    </tr>\n",
       "    <tr>\n",
       "      <th>4</th>\n",
       "      <td>sys-2021-375273222</td>\n",
       "      <td>user-138024</td>\n",
       "      <td>329.04</td>\n",
       "      <td>2021-01-01 12:50:50</td>\n",
       "      <td>364</td>\n",
       "    </tr>\n",
       "    <tr>\n",
       "      <th>...</th>\n",
       "      <td>...</td>\n",
       "      <td>...</td>\n",
       "      <td>...</td>\n",
       "      <td>...</td>\n",
       "      <td>...</td>\n",
       "    </tr>\n",
       "    <tr>\n",
       "      <th>104544</th>\n",
       "      <td>sys-2020-247689274</td>\n",
       "      <td>user-254850</td>\n",
       "      <td>179.56</td>\n",
       "      <td>2021-01-01 21:21:55</td>\n",
       "      <td>364</td>\n",
       "    </tr>\n",
       "    <tr>\n",
       "      <th>104545</th>\n",
       "      <td>sys-2020-250518601</td>\n",
       "      <td>user-291340</td>\n",
       "      <td>1407.60</td>\n",
       "      <td>2021-01-01 21:57:58</td>\n",
       "      <td>364</td>\n",
       "    </tr>\n",
       "    <tr>\n",
       "      <th>104546</th>\n",
       "      <td>sys-2020-260463573</td>\n",
       "      <td>user-280181</td>\n",
       "      <td>732.37</td>\n",
       "      <td>2021-01-01 22:05:40</td>\n",
       "      <td>364</td>\n",
       "    </tr>\n",
       "    <tr>\n",
       "      <th>104547</th>\n",
       "      <td>sys-2020-310196315</td>\n",
       "      <td>user-235227</td>\n",
       "      <td>256.74</td>\n",
       "      <td>2021-01-01 23:24:03</td>\n",
       "      <td>364</td>\n",
       "    </tr>\n",
       "    <tr>\n",
       "      <th>104548</th>\n",
       "      <td>sys-2020-257204000</td>\n",
       "      <td>user-157645</td>\n",
       "      <td>161.28</td>\n",
       "      <td>2021-01-01 23:30:05</td>\n",
       "      <td>364</td>\n",
       "    </tr>\n",
       "  </tbody>\n",
       "</table>\n",
       "<p>90763 rows × 5 columns</p>\n",
       "</div>"
      ],
      "text/plain": [
       "                       订单号          用户名     付款金额                付款时间  至今天数\n",
       "0       sys-2021-306447069  user-104863   480.42 2021-01-01 01:06:17   364\n",
       "1       sys-2021-417411381  user-181957   279.53 2021-01-01 01:36:56   364\n",
       "2       sys-2021-313655292  user-282453  1653.91 2021-01-01 12:03:20   364\n",
       "3       sys-2021-311884106  user-167776   337.12 2021-01-01 12:47:21   364\n",
       "4       sys-2021-375273222  user-138024   329.04 2021-01-01 12:50:50   364\n",
       "...                    ...          ...      ...                 ...   ...\n",
       "104544  sys-2020-247689274  user-254850   179.56 2021-01-01 21:21:55   364\n",
       "104545  sys-2020-250518601  user-291340  1407.60 2021-01-01 21:57:58   364\n",
       "104546  sys-2020-260463573  user-280181   732.37 2021-01-01 22:05:40   364\n",
       "104547  sys-2020-310196315  user-235227   256.74 2021-01-01 23:24:03   364\n",
       "104548  sys-2020-257204000  user-157645   161.28 2021-01-01 23:30:05   364\n",
       "\n",
       "[90763 rows x 5 columns]"
      ]
     },
     "execution_count": 25,
     "metadata": {},
     "output_type": "execute_result"
    }
   ],
   "source": [
    "df2"
   ]
  },
  {
   "cell_type": "code",
   "execution_count": 26,
   "id": "db9c71d7",
   "metadata": {
    "id": "62216ABEAEDF4D2C8ED364640026302E"
   },
   "outputs": [
    {
     "data": {
      "text/html": [
       "<div>\n",
       "<style scoped>\n",
       "    .dataframe tbody tr th:only-of-type {\n",
       "        vertical-align: middle;\n",
       "    }\n",
       "\n",
       "    .dataframe tbody tr th {\n",
       "        vertical-align: top;\n",
       "    }\n",
       "\n",
       "    .dataframe thead th {\n",
       "        text-align: right;\n",
       "    }\n",
       "</style>\n",
       "<table border=\"1\" class=\"dataframe\">\n",
       "  <thead>\n",
       "    <tr style=\"text-align: right;\">\n",
       "      <th></th>\n",
       "      <th>用户名</th>\n",
       "      <th>至今天数</th>\n",
       "    </tr>\n",
       "  </thead>\n",
       "  <tbody>\n",
       "    <tr>\n",
       "      <th>0</th>\n",
       "      <td>user-100000</td>\n",
       "      <td>79</td>\n",
       "    </tr>\n",
       "    <tr>\n",
       "      <th>1</th>\n",
       "      <td>user-100003</td>\n",
       "      <td>221</td>\n",
       "    </tr>\n",
       "    <tr>\n",
       "      <th>2</th>\n",
       "      <td>user-100006</td>\n",
       "      <td>47</td>\n",
       "    </tr>\n",
       "    <tr>\n",
       "      <th>3</th>\n",
       "      <td>user-100007</td>\n",
       "      <td>351</td>\n",
       "    </tr>\n",
       "    <tr>\n",
       "      <th>4</th>\n",
       "      <td>user-100008</td>\n",
       "      <td>45</td>\n",
       "    </tr>\n",
       "    <tr>\n",
       "      <th>...</th>\n",
       "      <td>...</td>\n",
       "      <td>...</td>\n",
       "    </tr>\n",
       "    <tr>\n",
       "      <th>71248</th>\n",
       "      <td>user-299980</td>\n",
       "      <td>74</td>\n",
       "    </tr>\n",
       "    <tr>\n",
       "      <th>71249</th>\n",
       "      <td>user-299983</td>\n",
       "      <td>4</td>\n",
       "    </tr>\n",
       "    <tr>\n",
       "      <th>71250</th>\n",
       "      <td>user-299989</td>\n",
       "      <td>50</td>\n",
       "    </tr>\n",
       "    <tr>\n",
       "      <th>71251</th>\n",
       "      <td>user-299992</td>\n",
       "      <td>364</td>\n",
       "    </tr>\n",
       "    <tr>\n",
       "      <th>71252</th>\n",
       "      <td>user-299995</td>\n",
       "      <td>276</td>\n",
       "    </tr>\n",
       "  </tbody>\n",
       "</table>\n",
       "<p>71253 rows × 2 columns</p>\n",
       "</div>"
      ],
      "text/plain": [
       "               用户名  至今天数\n",
       "0      user-100000    79\n",
       "1      user-100003   221\n",
       "2      user-100006    47\n",
       "3      user-100007   351\n",
       "4      user-100008    45\n",
       "...            ...   ...\n",
       "71248  user-299980    74\n",
       "71249  user-299983     4\n",
       "71250  user-299989    50\n",
       "71251  user-299992   364\n",
       "71252  user-299995   276\n",
       "\n",
       "[71253 rows x 2 columns]"
      ]
     },
     "execution_count": 26,
     "metadata": {},
     "output_type": "execute_result"
    }
   ],
   "source": [
    "#构建R：统计每个客户距离制定日期多久没有消费了，找出最小的最近消费距离\n",
    "R = df2.groupby(by=['用户名'],as_index=False)['至今天数'].agg('min')\n",
    "R"
   ]
  },
  {
   "cell_type": "code",
   "execution_count": 27,
   "id": "d56b9510",
   "metadata": {
    "id": "28AE6344AAF94D59A92A2FBB707779E9"
   },
   "outputs": [
    {
     "data": {
      "text/html": [
       "<div>\n",
       "<style scoped>\n",
       "    .dataframe tbody tr th:only-of-type {\n",
       "        vertical-align: middle;\n",
       "    }\n",
       "\n",
       "    .dataframe tbody tr th {\n",
       "        vertical-align: top;\n",
       "    }\n",
       "\n",
       "    .dataframe thead th {\n",
       "        text-align: right;\n",
       "    }\n",
       "</style>\n",
       "<table border=\"1\" class=\"dataframe\">\n",
       "  <thead>\n",
       "    <tr style=\"text-align: right;\">\n",
       "      <th></th>\n",
       "      <th>用户名</th>\n",
       "      <th>订单号</th>\n",
       "    </tr>\n",
       "  </thead>\n",
       "  <tbody>\n",
       "    <tr>\n",
       "      <th>0</th>\n",
       "      <td>user-100000</td>\n",
       "      <td>1</td>\n",
       "    </tr>\n",
       "    <tr>\n",
       "      <th>1</th>\n",
       "      <td>user-100003</td>\n",
       "      <td>1</td>\n",
       "    </tr>\n",
       "    <tr>\n",
       "      <th>2</th>\n",
       "      <td>user-100006</td>\n",
       "      <td>1</td>\n",
       "    </tr>\n",
       "    <tr>\n",
       "      <th>3</th>\n",
       "      <td>user-100007</td>\n",
       "      <td>1</td>\n",
       "    </tr>\n",
       "    <tr>\n",
       "      <th>4</th>\n",
       "      <td>user-100008</td>\n",
       "      <td>1</td>\n",
       "    </tr>\n",
       "    <tr>\n",
       "      <th>...</th>\n",
       "      <td>...</td>\n",
       "      <td>...</td>\n",
       "    </tr>\n",
       "    <tr>\n",
       "      <th>71248</th>\n",
       "      <td>user-299980</td>\n",
       "      <td>2</td>\n",
       "    </tr>\n",
       "    <tr>\n",
       "      <th>71249</th>\n",
       "      <td>user-299983</td>\n",
       "      <td>1</td>\n",
       "    </tr>\n",
       "    <tr>\n",
       "      <th>71250</th>\n",
       "      <td>user-299989</td>\n",
       "      <td>2</td>\n",
       "    </tr>\n",
       "    <tr>\n",
       "      <th>71251</th>\n",
       "      <td>user-299992</td>\n",
       "      <td>1</td>\n",
       "    </tr>\n",
       "    <tr>\n",
       "      <th>71252</th>\n",
       "      <td>user-299995</td>\n",
       "      <td>1</td>\n",
       "    </tr>\n",
       "  </tbody>\n",
       "</table>\n",
       "<p>71253 rows × 2 columns</p>\n",
       "</div>"
      ],
      "text/plain": [
       "               用户名  订单号\n",
       "0      user-100000    1\n",
       "1      user-100003    1\n",
       "2      user-100006    1\n",
       "3      user-100007    1\n",
       "4      user-100008    1\n",
       "...            ...  ...\n",
       "71248  user-299980    2\n",
       "71249  user-299983    1\n",
       "71250  user-299989    2\n",
       "71251  user-299992    1\n",
       "71252  user-299995    1\n",
       "\n",
       "[71253 rows x 2 columns]"
      ]
     },
     "execution_count": 27,
     "metadata": {},
     "output_type": "execute_result"
    }
   ],
   "source": [
    "#构建F：统计每个客户交易的总次数，即对订单号计数\n",
    "F = df2.groupby(by=['用户名'],as_index=False)['订单号'].agg('count')\n",
    "F"
   ]
  },
  {
   "cell_type": "code",
   "execution_count": 28,
   "id": "65077c69",
   "metadata": {
    "id": "46C9B09C190E439DBF19C0C1BC837067"
   },
   "outputs": [
    {
     "data": {
      "text/html": [
       "<div>\n",
       "<style scoped>\n",
       "    .dataframe tbody tr th:only-of-type {\n",
       "        vertical-align: middle;\n",
       "    }\n",
       "\n",
       "    .dataframe tbody tr th {\n",
       "        vertical-align: top;\n",
       "    }\n",
       "\n",
       "    .dataframe thead th {\n",
       "        text-align: right;\n",
       "    }\n",
       "</style>\n",
       "<table border=\"1\" class=\"dataframe\">\n",
       "  <thead>\n",
       "    <tr style=\"text-align: right;\">\n",
       "      <th></th>\n",
       "      <th>用户名</th>\n",
       "      <th>付款金额</th>\n",
       "    </tr>\n",
       "  </thead>\n",
       "  <tbody>\n",
       "    <tr>\n",
       "      <th>0</th>\n",
       "      <td>user-100000</td>\n",
       "      <td>1770.81</td>\n",
       "    </tr>\n",
       "    <tr>\n",
       "      <th>1</th>\n",
       "      <td>user-100003</td>\n",
       "      <td>511.59</td>\n",
       "    </tr>\n",
       "    <tr>\n",
       "      <th>2</th>\n",
       "      <td>user-100006</td>\n",
       "      <td>443.55</td>\n",
       "    </tr>\n",
       "    <tr>\n",
       "      <th>3</th>\n",
       "      <td>user-100007</td>\n",
       "      <td>2162.14</td>\n",
       "    </tr>\n",
       "    <tr>\n",
       "      <th>4</th>\n",
       "      <td>user-100008</td>\n",
       "      <td>4879.94</td>\n",
       "    </tr>\n",
       "    <tr>\n",
       "      <th>...</th>\n",
       "      <td>...</td>\n",
       "      <td>...</td>\n",
       "    </tr>\n",
       "    <tr>\n",
       "      <th>71248</th>\n",
       "      <td>user-299980</td>\n",
       "      <td>719.77</td>\n",
       "    </tr>\n",
       "    <tr>\n",
       "      <th>71249</th>\n",
       "      <td>user-299983</td>\n",
       "      <td>706.80</td>\n",
       "    </tr>\n",
       "    <tr>\n",
       "      <th>71250</th>\n",
       "      <td>user-299989</td>\n",
       "      <td>1637.47</td>\n",
       "    </tr>\n",
       "    <tr>\n",
       "      <th>71251</th>\n",
       "      <td>user-299992</td>\n",
       "      <td>440.17</td>\n",
       "    </tr>\n",
       "    <tr>\n",
       "      <th>71252</th>\n",
       "      <td>user-299995</td>\n",
       "      <td>350.87</td>\n",
       "    </tr>\n",
       "  </tbody>\n",
       "</table>\n",
       "<p>71253 rows × 2 columns</p>\n",
       "</div>"
      ],
      "text/plain": [
       "               用户名     付款金额\n",
       "0      user-100000  1770.81\n",
       "1      user-100003   511.59\n",
       "2      user-100006   443.55\n",
       "3      user-100007  2162.14\n",
       "4      user-100008  4879.94\n",
       "...            ...      ...\n",
       "71248  user-299980   719.77\n",
       "71249  user-299983   706.80\n",
       "71250  user-299989  1637.47\n",
       "71251  user-299992   440.17\n",
       "71252  user-299995   350.87\n",
       "\n",
       "[71253 rows x 2 columns]"
      ]
     },
     "execution_count": 28,
     "metadata": {},
     "output_type": "execute_result"
    }
   ],
   "source": [
    "#构建M：统计每个客户交易的总额，即对付款金额求和\n",
    "M = df2.groupby(by=['用户名'],as_index=False)['付款金额'].agg('sum')\n",
    "M"
   ]
  },
  {
   "cell_type": "code",
   "execution_count": 29,
   "id": "01a4cc77",
   "metadata": {
    "id": "56A343F4CA7B468989BC7DDDD89B2636"
   },
   "outputs": [
    {
     "data": {
      "text/html": [
       "<div>\n",
       "<style scoped>\n",
       "    .dataframe tbody tr th:only-of-type {\n",
       "        vertical-align: middle;\n",
       "    }\n",
       "\n",
       "    .dataframe tbody tr th {\n",
       "        vertical-align: top;\n",
       "    }\n",
       "\n",
       "    .dataframe thead th {\n",
       "        text-align: right;\n",
       "    }\n",
       "</style>\n",
       "<table border=\"1\" class=\"dataframe\">\n",
       "  <thead>\n",
       "    <tr style=\"text-align: right;\">\n",
       "      <th></th>\n",
       "      <th>用户名</th>\n",
       "      <th>R</th>\n",
       "      <th>F</th>\n",
       "      <th>M</th>\n",
       "    </tr>\n",
       "  </thead>\n",
       "  <tbody>\n",
       "    <tr>\n",
       "      <th>0</th>\n",
       "      <td>user-100000</td>\n",
       "      <td>79</td>\n",
       "      <td>1</td>\n",
       "      <td>1770.81</td>\n",
       "    </tr>\n",
       "    <tr>\n",
       "      <th>1</th>\n",
       "      <td>user-100003</td>\n",
       "      <td>221</td>\n",
       "      <td>1</td>\n",
       "      <td>511.59</td>\n",
       "    </tr>\n",
       "    <tr>\n",
       "      <th>2</th>\n",
       "      <td>user-100006</td>\n",
       "      <td>47</td>\n",
       "      <td>1</td>\n",
       "      <td>443.55</td>\n",
       "    </tr>\n",
       "    <tr>\n",
       "      <th>3</th>\n",
       "      <td>user-100007</td>\n",
       "      <td>351</td>\n",
       "      <td>1</td>\n",
       "      <td>2162.14</td>\n",
       "    </tr>\n",
       "    <tr>\n",
       "      <th>4</th>\n",
       "      <td>user-100008</td>\n",
       "      <td>45</td>\n",
       "      <td>1</td>\n",
       "      <td>4879.94</td>\n",
       "    </tr>\n",
       "    <tr>\n",
       "      <th>...</th>\n",
       "      <td>...</td>\n",
       "      <td>...</td>\n",
       "      <td>...</td>\n",
       "      <td>...</td>\n",
       "    </tr>\n",
       "    <tr>\n",
       "      <th>71248</th>\n",
       "      <td>user-299980</td>\n",
       "      <td>74</td>\n",
       "      <td>2</td>\n",
       "      <td>719.77</td>\n",
       "    </tr>\n",
       "    <tr>\n",
       "      <th>71249</th>\n",
       "      <td>user-299983</td>\n",
       "      <td>4</td>\n",
       "      <td>1</td>\n",
       "      <td>706.80</td>\n",
       "    </tr>\n",
       "    <tr>\n",
       "      <th>71250</th>\n",
       "      <td>user-299989</td>\n",
       "      <td>50</td>\n",
       "      <td>2</td>\n",
       "      <td>1637.47</td>\n",
       "    </tr>\n",
       "    <tr>\n",
       "      <th>71251</th>\n",
       "      <td>user-299992</td>\n",
       "      <td>364</td>\n",
       "      <td>1</td>\n",
       "      <td>440.17</td>\n",
       "    </tr>\n",
       "    <tr>\n",
       "      <th>71252</th>\n",
       "      <td>user-299995</td>\n",
       "      <td>276</td>\n",
       "      <td>1</td>\n",
       "      <td>350.87</td>\n",
       "    </tr>\n",
       "  </tbody>\n",
       "</table>\n",
       "<p>71253 rows × 4 columns</p>\n",
       "</div>"
      ],
      "text/plain": [
       "               用户名    R  F        M\n",
       "0      user-100000   79  1  1770.81\n",
       "1      user-100003  221  1   511.59\n",
       "2      user-100006   47  1   443.55\n",
       "3      user-100007  351  1  2162.14\n",
       "4      user-100008   45  1  4879.94\n",
       "...            ...  ... ..      ...\n",
       "71248  user-299980   74  2   719.77\n",
       "71249  user-299983    4  1   706.80\n",
       "71250  user-299989   50  2  1637.47\n",
       "71251  user-299992  364  1   440.17\n",
       "71252  user-299995  276  1   350.87\n",
       "\n",
       "[71253 rows x 4 columns]"
      ]
     },
     "execution_count": 29,
     "metadata": {},
     "output_type": "execute_result"
    }
   ],
   "source": [
    "#将R、F、M三个数据框关联，merge默认内连接，可省略，两表on条件的关联列名均为‘用户名’，同样可省略\n",
    "RFMData = R.merge(F).merge(M)\n",
    "#修改列名\n",
    "RFMData.columns = ['用户名','R','F','M']\n",
    "RFMData"
   ]
  },
  {
   "cell_type": "code",
   "execution_count": 30,
   "id": "1f6fcbdd",
   "metadata": {
    "id": "9F2F539B40AB438D98C2E03F7C6ECBFD"
   },
   "outputs": [],
   "source": [
    "#对R、F、M分组打分\n",
    "#本例将R、F、M三列分别按照各自的平均值划分为2个组，并赋值1分、2分。\n",
    "\n",
    "#R分值（R_S）：定义为距离指定日期越近，R_S越大，R>=平均值，R_S为1，R<平均值，R_S为2。\n",
    "\n",
    "#F分值（F_S）：定义为交易频率越高，F_S越大，F<=平均值，F_S为1，F>平均值，F_S为2。\n",
    "\n",
    "#M分值（M_S）：定义为交易金额越高，M_S越大，M<=平均值，M_S为1，M>平均值，M_S为2。\n"
   ]
  },
  {
   "cell_type": "code",
   "execution_count": 31,
   "id": "3941fcf5",
   "metadata": {
    "id": "E1DBCD2108044E0F82E7639AB98700B8"
   },
   "outputs": [
    {
     "data": {
      "text/html": [
       "<div>\n",
       "<style scoped>\n",
       "    .dataframe tbody tr th:only-of-type {\n",
       "        vertical-align: middle;\n",
       "    }\n",
       "\n",
       "    .dataframe tbody tr th {\n",
       "        vertical-align: top;\n",
       "    }\n",
       "\n",
       "    .dataframe thead th {\n",
       "        text-align: right;\n",
       "    }\n",
       "</style>\n",
       "<table border=\"1\" class=\"dataframe\">\n",
       "  <thead>\n",
       "    <tr style=\"text-align: right;\">\n",
       "      <th></th>\n",
       "      <th>用户名</th>\n",
       "      <th>R</th>\n",
       "      <th>F</th>\n",
       "      <th>M</th>\n",
       "      <th>R_S</th>\n",
       "      <th>F_S</th>\n",
       "      <th>M_S</th>\n",
       "    </tr>\n",
       "  </thead>\n",
       "  <tbody>\n",
       "    <tr>\n",
       "      <th>0</th>\n",
       "      <td>user-100000</td>\n",
       "      <td>79</td>\n",
       "      <td>1</td>\n",
       "      <td>1770.81</td>\n",
       "      <td>2</td>\n",
       "      <td>1</td>\n",
       "      <td>2</td>\n",
       "    </tr>\n",
       "    <tr>\n",
       "      <th>1</th>\n",
       "      <td>user-100003</td>\n",
       "      <td>221</td>\n",
       "      <td>1</td>\n",
       "      <td>511.59</td>\n",
       "      <td>1</td>\n",
       "      <td>1</td>\n",
       "      <td>1</td>\n",
       "    </tr>\n",
       "    <tr>\n",
       "      <th>2</th>\n",
       "      <td>user-100006</td>\n",
       "      <td>47</td>\n",
       "      <td>1</td>\n",
       "      <td>443.55</td>\n",
       "      <td>2</td>\n",
       "      <td>1</td>\n",
       "      <td>1</td>\n",
       "    </tr>\n",
       "    <tr>\n",
       "      <th>3</th>\n",
       "      <td>user-100007</td>\n",
       "      <td>351</td>\n",
       "      <td>1</td>\n",
       "      <td>2162.14</td>\n",
       "      <td>1</td>\n",
       "      <td>1</td>\n",
       "      <td>2</td>\n",
       "    </tr>\n",
       "    <tr>\n",
       "      <th>4</th>\n",
       "      <td>user-100008</td>\n",
       "      <td>45</td>\n",
       "      <td>1</td>\n",
       "      <td>4879.94</td>\n",
       "      <td>2</td>\n",
       "      <td>1</td>\n",
       "      <td>2</td>\n",
       "    </tr>\n",
       "    <tr>\n",
       "      <th>...</th>\n",
       "      <td>...</td>\n",
       "      <td>...</td>\n",
       "      <td>...</td>\n",
       "      <td>...</td>\n",
       "      <td>...</td>\n",
       "      <td>...</td>\n",
       "      <td>...</td>\n",
       "    </tr>\n",
       "    <tr>\n",
       "      <th>71248</th>\n",
       "      <td>user-299980</td>\n",
       "      <td>74</td>\n",
       "      <td>2</td>\n",
       "      <td>719.77</td>\n",
       "      <td>2</td>\n",
       "      <td>2</td>\n",
       "      <td>1</td>\n",
       "    </tr>\n",
       "    <tr>\n",
       "      <th>71249</th>\n",
       "      <td>user-299983</td>\n",
       "      <td>4</td>\n",
       "      <td>1</td>\n",
       "      <td>706.80</td>\n",
       "      <td>2</td>\n",
       "      <td>1</td>\n",
       "      <td>1</td>\n",
       "    </tr>\n",
       "    <tr>\n",
       "      <th>71250</th>\n",
       "      <td>user-299989</td>\n",
       "      <td>50</td>\n",
       "      <td>2</td>\n",
       "      <td>1637.47</td>\n",
       "      <td>2</td>\n",
       "      <td>2</td>\n",
       "      <td>2</td>\n",
       "    </tr>\n",
       "    <tr>\n",
       "      <th>71251</th>\n",
       "      <td>user-299992</td>\n",
       "      <td>364</td>\n",
       "      <td>1</td>\n",
       "      <td>440.17</td>\n",
       "      <td>1</td>\n",
       "      <td>1</td>\n",
       "      <td>1</td>\n",
       "    </tr>\n",
       "    <tr>\n",
       "      <th>71252</th>\n",
       "      <td>user-299995</td>\n",
       "      <td>276</td>\n",
       "      <td>1</td>\n",
       "      <td>350.87</td>\n",
       "      <td>1</td>\n",
       "      <td>1</td>\n",
       "      <td>1</td>\n",
       "    </tr>\n",
       "  </tbody>\n",
       "</table>\n",
       "<p>71253 rows × 7 columns</p>\n",
       "</div>"
      ],
      "text/plain": [
       "               用户名    R  F        M  R_S  F_S  M_S\n",
       "0      user-100000   79  1  1770.81    2    1    2\n",
       "1      user-100003  221  1   511.59    1    1    1\n",
       "2      user-100006   47  1   443.55    2    1    1\n",
       "3      user-100007  351  1  2162.14    1    1    2\n",
       "4      user-100008   45  1  4879.94    2    1    2\n",
       "...            ...  ... ..      ...  ...  ...  ...\n",
       "71248  user-299980   74  2   719.77    2    2    1\n",
       "71249  user-299983    4  1   706.80    2    1    1\n",
       "71250  user-299989   50  2  1637.47    2    2    2\n",
       "71251  user-299992  364  1   440.17    1    1    1\n",
       "71252  user-299995  276  1   350.87    1    1    1\n",
       "\n",
       "[71253 rows x 7 columns]"
      ]
     },
     "execution_count": 31,
     "metadata": {},
     "output_type": "execute_result"
    }
   ],
   "source": [
    "#判断R列是否大于等于R列的平均值，将符合条件R_S列的值赋值为1,小于平均值赋值为2\n",
    "RFMData['R_S']=np.where(RFMData['R']>=RFMData['R'].mean(),1,2)\n",
    "#同R_S赋值方法，对F_S、M_S进行赋值，但与R相反，F、M均为越大越好\n",
    "RFMData['F_S']=np.where(RFMData['F']>=RFMData['F'].mean(),2,1)\n",
    "RFMData['M_S']=np.where(RFMData['M']>=RFMData['M'].mean(),2,1)\n",
    "RFMData"
   ]
  },
  {
   "cell_type": "code",
   "execution_count": 32,
   "id": "2f87e8aa",
   "metadata": {
    "id": "010F9765997E4C509DA33F3CAFEC38CD"
   },
   "outputs": [
    {
     "data": {
      "text/html": [
       "<div>\n",
       "<style scoped>\n",
       "    .dataframe tbody tr th:only-of-type {\n",
       "        vertical-align: middle;\n",
       "    }\n",
       "\n",
       "    .dataframe tbody tr th {\n",
       "        vertical-align: top;\n",
       "    }\n",
       "\n",
       "    .dataframe thead th {\n",
       "        text-align: right;\n",
       "    }\n",
       "</style>\n",
       "<table border=\"1\" class=\"dataframe\">\n",
       "  <thead>\n",
       "    <tr style=\"text-align: right;\">\n",
       "      <th></th>\n",
       "      <th>用户名</th>\n",
       "      <th>R_S</th>\n",
       "      <th>F_S</th>\n",
       "      <th>M_S</th>\n",
       "    </tr>\n",
       "  </thead>\n",
       "  <tbody>\n",
       "    <tr>\n",
       "      <th>0</th>\n",
       "      <td>user-100000</td>\n",
       "      <td>2</td>\n",
       "      <td>1</td>\n",
       "      <td>2</td>\n",
       "    </tr>\n",
       "    <tr>\n",
       "      <th>1</th>\n",
       "      <td>user-100003</td>\n",
       "      <td>1</td>\n",
       "      <td>1</td>\n",
       "      <td>1</td>\n",
       "    </tr>\n",
       "    <tr>\n",
       "      <th>2</th>\n",
       "      <td>user-100006</td>\n",
       "      <td>2</td>\n",
       "      <td>1</td>\n",
       "      <td>1</td>\n",
       "    </tr>\n",
       "    <tr>\n",
       "      <th>3</th>\n",
       "      <td>user-100007</td>\n",
       "      <td>1</td>\n",
       "      <td>1</td>\n",
       "      <td>2</td>\n",
       "    </tr>\n",
       "    <tr>\n",
       "      <th>4</th>\n",
       "      <td>user-100008</td>\n",
       "      <td>2</td>\n",
       "      <td>1</td>\n",
       "      <td>2</td>\n",
       "    </tr>\n",
       "    <tr>\n",
       "      <th>...</th>\n",
       "      <td>...</td>\n",
       "      <td>...</td>\n",
       "      <td>...</td>\n",
       "      <td>...</td>\n",
       "    </tr>\n",
       "    <tr>\n",
       "      <th>71248</th>\n",
       "      <td>user-299980</td>\n",
       "      <td>2</td>\n",
       "      <td>2</td>\n",
       "      <td>1</td>\n",
       "    </tr>\n",
       "    <tr>\n",
       "      <th>71249</th>\n",
       "      <td>user-299983</td>\n",
       "      <td>2</td>\n",
       "      <td>1</td>\n",
       "      <td>1</td>\n",
       "    </tr>\n",
       "    <tr>\n",
       "      <th>71250</th>\n",
       "      <td>user-299989</td>\n",
       "      <td>2</td>\n",
       "      <td>2</td>\n",
       "      <td>2</td>\n",
       "    </tr>\n",
       "    <tr>\n",
       "      <th>71251</th>\n",
       "      <td>user-299992</td>\n",
       "      <td>1</td>\n",
       "      <td>1</td>\n",
       "      <td>1</td>\n",
       "    </tr>\n",
       "    <tr>\n",
       "      <th>71252</th>\n",
       "      <td>user-299995</td>\n",
       "      <td>1</td>\n",
       "      <td>1</td>\n",
       "      <td>1</td>\n",
       "    </tr>\n",
       "  </tbody>\n",
       "</table>\n",
       "<p>71253 rows × 4 columns</p>\n",
       "</div>"
      ],
      "text/plain": [
       "               用户名  R_S  F_S  M_S\n",
       "0      user-100000    2    1    2\n",
       "1      user-100003    1    1    1\n",
       "2      user-100006    2    1    1\n",
       "3      user-100007    1    1    2\n",
       "4      user-100008    2    1    2\n",
       "...            ...  ...  ...  ...\n",
       "71248  user-299980    2    2    1\n",
       "71249  user-299983    2    1    1\n",
       "71250  user-299989    2    2    2\n",
       "71251  user-299992    1    1    1\n",
       "71252  user-299995    1    1    1\n",
       "\n",
       "[71253 rows x 4 columns]"
      ]
     },
     "execution_count": 32,
     "metadata": {},
     "output_type": "execute_result"
    }
   ],
   "source": [
    "rfmData = RFMData.iloc[:,[0,-3,-2,-1]]\n",
    "rfmData"
   ]
  },
  {
   "cell_type": "code",
   "execution_count": 33,
   "id": "3a342a00",
   "metadata": {
    "id": "39575D9F789C4DFE973E90DB699474B7"
   },
   "outputs": [
    {
     "data": {
      "text/html": [
       "<div>\n",
       "<style scoped>\n",
       "    .dataframe tbody tr th:only-of-type {\n",
       "        vertical-align: middle;\n",
       "    }\n",
       "\n",
       "    .dataframe tbody tr th {\n",
       "        vertical-align: top;\n",
       "    }\n",
       "\n",
       "    .dataframe thead th {\n",
       "        text-align: right;\n",
       "    }\n",
       "</style>\n",
       "<table border=\"1\" class=\"dataframe\">\n",
       "  <thead>\n",
       "    <tr style=\"text-align: right;\">\n",
       "      <th></th>\n",
       "      <th>用户名</th>\n",
       "      <th>R_S</th>\n",
       "      <th>F_S</th>\n",
       "      <th>M_S</th>\n",
       "      <th>RFM</th>\n",
       "    </tr>\n",
       "  </thead>\n",
       "  <tbody>\n",
       "    <tr>\n",
       "      <th>0</th>\n",
       "      <td>user-100000</td>\n",
       "      <td>2</td>\n",
       "      <td>1</td>\n",
       "      <td>2</td>\n",
       "      <td>212</td>\n",
       "    </tr>\n",
       "    <tr>\n",
       "      <th>1</th>\n",
       "      <td>user-100003</td>\n",
       "      <td>1</td>\n",
       "      <td>1</td>\n",
       "      <td>1</td>\n",
       "      <td>111</td>\n",
       "    </tr>\n",
       "    <tr>\n",
       "      <th>2</th>\n",
       "      <td>user-100006</td>\n",
       "      <td>2</td>\n",
       "      <td>1</td>\n",
       "      <td>1</td>\n",
       "      <td>211</td>\n",
       "    </tr>\n",
       "    <tr>\n",
       "      <th>3</th>\n",
       "      <td>user-100007</td>\n",
       "      <td>1</td>\n",
       "      <td>1</td>\n",
       "      <td>2</td>\n",
       "      <td>112</td>\n",
       "    </tr>\n",
       "    <tr>\n",
       "      <th>4</th>\n",
       "      <td>user-100008</td>\n",
       "      <td>2</td>\n",
       "      <td>1</td>\n",
       "      <td>2</td>\n",
       "      <td>212</td>\n",
       "    </tr>\n",
       "  </tbody>\n",
       "</table>\n",
       "</div>"
      ],
      "text/plain": [
       "           用户名  R_S  F_S  M_S  RFM\n",
       "0  user-100000    2    1    2  212\n",
       "1  user-100003    1    1    1  111\n",
       "2  user-100006    2    1    1  211\n",
       "3  user-100007    1    1    2  112\n",
       "4  user-100008    2    1    2  212"
      ]
     },
     "execution_count": 33,
     "metadata": {},
     "output_type": "execute_result"
    }
   ],
   "source": [
    "#计算RFM综合分值\n",
    "rfmData['RFM']=rfmData['R_S'].map(str)+rfmData['F_S'].map(str)+rfmData['M_S'].map(str)\n",
    "rfmData.head()"
   ]
  },
  {
   "cell_type": "code",
   "execution_count": 34,
   "id": "32262778",
   "metadata": {
    "id": "BECA18CCD5354ED1954AC0EE52A587C6"
   },
   "outputs": [
    {
     "data": {
      "text/html": [
       "<div>\n",
       "<style scoped>\n",
       "    .dataframe tbody tr th:only-of-type {\n",
       "        vertical-align: middle;\n",
       "    }\n",
       "\n",
       "    .dataframe tbody tr th {\n",
       "        vertical-align: top;\n",
       "    }\n",
       "\n",
       "    .dataframe thead th {\n",
       "        text-align: right;\n",
       "    }\n",
       "</style>\n",
       "<table border=\"1\" class=\"dataframe\">\n",
       "  <thead>\n",
       "    <tr style=\"text-align: right;\">\n",
       "      <th></th>\n",
       "      <th>RFM</th>\n",
       "      <th>Type</th>\n",
       "    </tr>\n",
       "  </thead>\n",
       "  <tbody>\n",
       "    <tr>\n",
       "      <th>0</th>\n",
       "      <td>111</td>\n",
       "      <td>一般挽留客户</td>\n",
       "    </tr>\n",
       "    <tr>\n",
       "      <th>1</th>\n",
       "      <td>112</td>\n",
       "      <td>重要挽留客户</td>\n",
       "    </tr>\n",
       "    <tr>\n",
       "      <th>2</th>\n",
       "      <td>121</td>\n",
       "      <td>一般保持客户</td>\n",
       "    </tr>\n",
       "    <tr>\n",
       "      <th>3</th>\n",
       "      <td>122</td>\n",
       "      <td>重要保持客户</td>\n",
       "    </tr>\n",
       "    <tr>\n",
       "      <th>4</th>\n",
       "      <td>211</td>\n",
       "      <td>一般发展客户</td>\n",
       "    </tr>\n",
       "    <tr>\n",
       "      <th>5</th>\n",
       "      <td>212</td>\n",
       "      <td>重要发展客户</td>\n",
       "    </tr>\n",
       "    <tr>\n",
       "      <th>6</th>\n",
       "      <td>221</td>\n",
       "      <td>一般价值客户</td>\n",
       "    </tr>\n",
       "    <tr>\n",
       "      <th>7</th>\n",
       "      <td>222</td>\n",
       "      <td>重要价值客户</td>\n",
       "    </tr>\n",
       "  </tbody>\n",
       "</table>\n",
       "</div>"
      ],
      "text/plain": [
       "   RFM    Type\n",
       "0  111  一般挽留客户\n",
       "1  112  重要挽留客户\n",
       "2  121  一般保持客户\n",
       "3  122  重要保持客户\n",
       "4  211  一般发展客户\n",
       "5  212  重要发展客户\n",
       "6  221  一般价值客户\n",
       "7  222  重要价值客户"
      ]
     },
     "execution_count": 34,
     "metadata": {},
     "output_type": "execute_result"
    }
   ],
   "source": [
    "#定义RFM综合分值与客户类型的对应关系表\n",
    "CustomerType=pd.DataFrame(data={'RFM':['111','112','121','122','211','212','221','222'],'Type':['一般挽留客户','重要挽留客户','一般保持客户','重要保持客户','一般发展客户','重要发展客户','一般价值客户','重要价值客户']},index=None)\n",
    "CustomerType"
   ]
  },
  {
   "cell_type": "code",
   "execution_count": 35,
   "id": "da1cd4e3",
   "metadata": {
    "id": "88AD4BFEB675434D8B43E03391F7A50D"
   },
   "outputs": [
    {
     "data": {
      "text/html": [
       "<div>\n",
       "<style scoped>\n",
       "    .dataframe tbody tr th:only-of-type {\n",
       "        vertical-align: middle;\n",
       "    }\n",
       "\n",
       "    .dataframe tbody tr th {\n",
       "        vertical-align: top;\n",
       "    }\n",
       "\n",
       "    .dataframe thead th {\n",
       "        text-align: right;\n",
       "    }\n",
       "</style>\n",
       "<table border=\"1\" class=\"dataframe\">\n",
       "  <thead>\n",
       "    <tr style=\"text-align: right;\">\n",
       "      <th></th>\n",
       "      <th>用户名</th>\n",
       "      <th>R_S</th>\n",
       "      <th>F_S</th>\n",
       "      <th>M_S</th>\n",
       "      <th>RFM</th>\n",
       "      <th>Type</th>\n",
       "    </tr>\n",
       "  </thead>\n",
       "  <tbody>\n",
       "    <tr>\n",
       "      <th>0</th>\n",
       "      <td>user-100000</td>\n",
       "      <td>2</td>\n",
       "      <td>1</td>\n",
       "      <td>2</td>\n",
       "      <td>212</td>\n",
       "      <td>重要发展客户</td>\n",
       "    </tr>\n",
       "    <tr>\n",
       "      <th>1</th>\n",
       "      <td>user-100008</td>\n",
       "      <td>2</td>\n",
       "      <td>1</td>\n",
       "      <td>2</td>\n",
       "      <td>212</td>\n",
       "      <td>重要发展客户</td>\n",
       "    </tr>\n",
       "    <tr>\n",
       "      <th>2</th>\n",
       "      <td>user-100030</td>\n",
       "      <td>2</td>\n",
       "      <td>1</td>\n",
       "      <td>2</td>\n",
       "      <td>212</td>\n",
       "      <td>重要发展客户</td>\n",
       "    </tr>\n",
       "    <tr>\n",
       "      <th>3</th>\n",
       "      <td>user-100034</td>\n",
       "      <td>2</td>\n",
       "      <td>1</td>\n",
       "      <td>2</td>\n",
       "      <td>212</td>\n",
       "      <td>重要发展客户</td>\n",
       "    </tr>\n",
       "    <tr>\n",
       "      <th>4</th>\n",
       "      <td>user-100068</td>\n",
       "      <td>2</td>\n",
       "      <td>1</td>\n",
       "      <td>2</td>\n",
       "      <td>212</td>\n",
       "      <td>重要发展客户</td>\n",
       "    </tr>\n",
       "    <tr>\n",
       "      <th>...</th>\n",
       "      <td>...</td>\n",
       "      <td>...</td>\n",
       "      <td>...</td>\n",
       "      <td>...</td>\n",
       "      <td>...</td>\n",
       "      <td>...</td>\n",
       "    </tr>\n",
       "    <tr>\n",
       "      <th>71248</th>\n",
       "      <td>user-298882</td>\n",
       "      <td>1</td>\n",
       "      <td>2</td>\n",
       "      <td>2</td>\n",
       "      <td>122</td>\n",
       "      <td>重要保持客户</td>\n",
       "    </tr>\n",
       "    <tr>\n",
       "      <th>71249</th>\n",
       "      <td>user-298930</td>\n",
       "      <td>1</td>\n",
       "      <td>2</td>\n",
       "      <td>2</td>\n",
       "      <td>122</td>\n",
       "      <td>重要保持客户</td>\n",
       "    </tr>\n",
       "    <tr>\n",
       "      <th>71250</th>\n",
       "      <td>user-299483</td>\n",
       "      <td>1</td>\n",
       "      <td>2</td>\n",
       "      <td>2</td>\n",
       "      <td>122</td>\n",
       "      <td>重要保持客户</td>\n",
       "    </tr>\n",
       "    <tr>\n",
       "      <th>71251</th>\n",
       "      <td>user-299569</td>\n",
       "      <td>1</td>\n",
       "      <td>2</td>\n",
       "      <td>2</td>\n",
       "      <td>122</td>\n",
       "      <td>重要保持客户</td>\n",
       "    </tr>\n",
       "    <tr>\n",
       "      <th>71252</th>\n",
       "      <td>user-299590</td>\n",
       "      <td>1</td>\n",
       "      <td>2</td>\n",
       "      <td>2</td>\n",
       "      <td>122</td>\n",
       "      <td>重要保持客户</td>\n",
       "    </tr>\n",
       "  </tbody>\n",
       "</table>\n",
       "<p>71253 rows × 6 columns</p>\n",
       "</div>"
      ],
      "text/plain": [
       "               用户名  R_S  F_S  M_S  RFM    Type\n",
       "0      user-100000    2    1    2  212  重要发展客户\n",
       "1      user-100008    2    1    2  212  重要发展客户\n",
       "2      user-100030    2    1    2  212  重要发展客户\n",
       "3      user-100034    2    1    2  212  重要发展客户\n",
       "4      user-100068    2    1    2  212  重要发展客户\n",
       "...            ...  ...  ...  ...  ...     ...\n",
       "71248  user-298882    1    2    2  122  重要保持客户\n",
       "71249  user-298930    1    2    2  122  重要保持客户\n",
       "71250  user-299483    1    2    2  122  重要保持客户\n",
       "71251  user-299569    1    2    2  122  重要保持客户\n",
       "71252  user-299590    1    2    2  122  重要保持客户\n",
       "\n",
       "[71253 rows x 6 columns]"
      ]
     },
     "execution_count": 35,
     "metadata": {},
     "output_type": "execute_result"
    }
   ],
   "source": [
    "#将RFMData与RFM综合分值客户类型的对应关系表合并为一个数据框\n",
    "#CustomerType['RFM'] = rfmData['RFM'].apply(int)\n",
    "RFMData2=pd.merge(rfmData, CustomerType, on='RFM')\n",
    "RFMData2"
   ]
  },
  {
   "cell_type": "code",
   "execution_count": 36,
   "id": "a2db0cae",
   "metadata": {
    "id": "021F926C80DA4D8495EE7CF12E123856"
   },
   "outputs": [
    {
     "data": {
      "image/png": "[encoded data removed]",
      "text/plain": [
       "<Figure size 432x288 with 1 Axes>"
      ]
     },
     "metadata": {
      "needs_background": "light"
     },
     "output_type": "display_data"
    }
   ],
   "source": [
    "#RMF模型可视化\n",
    "import seaborn as sns\n",
    "v = RFMData2['Type'].value_counts()\n",
    "plt.xticks(rotation=45)\n",
    "ax = sns.countplot(x=RFMData2['Type'],order=v.index)\n",
    "#在图像上绘制数值\n",
    "for x,y in enumerate(v):\n",
    "    text = ax.text(x,y,y)\n",
    "    #文本数据居中对齐\n",
    "    text.set_ha('center')"
   ]
  },
  {
   "cell_type": "markdown",
   "id": "34fa7f1b",
   "metadata": {
    "id": "B3511A8E43DC4A6E8C916C1C1EC1D037"
   },
   "source": [
    "**小结：**  \n",
    "\n",
    "RFM模型只提供了R、F、M三个维度，对于每个维度上的划分标准没有绝对的标准  \n",
    "\n",
    "划分标准主要有以下四类：  \n",
    "\n",
    "1.均值  \n",
    "\n",
    "2.中位数  \n",
    "\n",
    "3.对R、F、M赋予权重：可以凭借业务经验，也可以用层次分析法赋予权重  \n",
    "\n",
    "RFM模型的划分标准具有一定主观性，为了相对客观的对用户分层，可以采用聚类算法来实现"
   ]
  },
  {
   "cell_type": "markdown",
   "id": "7bea02a4",
   "metadata": {
    "id": "D63F847FE222409396B58753566CFE1C"
   },
   "source": [
    "**六、K-Means聚类算法**"
   ]
  },
  {
   "cell_type": "code",
   "execution_count": 37,
   "id": "3913a6c1",
   "metadata": {
    "id": "9C54D403160746AFB992AEB3AB5965D9"
   },
   "outputs": [
    {
     "data": {
      "text/html": [
       "<div>\n",
       "<style scoped>\n",
       "    .dataframe tbody tr th:only-of-type {\n",
       "        vertical-align: middle;\n",
       "    }\n",
       "\n",
       "    .dataframe tbody tr th {\n",
       "        vertical-align: top;\n",
       "    }\n",
       "\n",
       "    .dataframe thead th {\n",
       "        text-align: right;\n",
       "    }\n",
       "</style>\n",
       "<table border=\"1\" class=\"dataframe\">\n",
       "  <thead>\n",
       "    <tr style=\"text-align: right;\">\n",
       "      <th></th>\n",
       "      <th>R</th>\n",
       "      <th>F</th>\n",
       "      <th>M</th>\n",
       "    </tr>\n",
       "    <tr>\n",
       "      <th>用户名</th>\n",
       "      <th></th>\n",
       "      <th></th>\n",
       "      <th></th>\n",
       "    </tr>\n",
       "  </thead>\n",
       "  <tbody>\n",
       "    <tr>\n",
       "      <th>user-100000</th>\n",
       "      <td>79</td>\n",
       "      <td>1</td>\n",
       "      <td>1770.81</td>\n",
       "    </tr>\n",
       "    <tr>\n",
       "      <th>user-100003</th>\n",
       "      <td>221</td>\n",
       "      <td>1</td>\n",
       "      <td>511.59</td>\n",
       "    </tr>\n",
       "    <tr>\n",
       "      <th>user-100006</th>\n",
       "      <td>47</td>\n",
       "      <td>1</td>\n",
       "      <td>443.55</td>\n",
       "    </tr>\n",
       "    <tr>\n",
       "      <th>user-100007</th>\n",
       "      <td>351</td>\n",
       "      <td>1</td>\n",
       "      <td>2162.14</td>\n",
       "    </tr>\n",
       "    <tr>\n",
       "      <th>user-100008</th>\n",
       "      <td>45</td>\n",
       "      <td>1</td>\n",
       "      <td>4879.94</td>\n",
       "    </tr>\n",
       "  </tbody>\n",
       "</table>\n",
       "</div>"
      ],
      "text/plain": [
       "               R  F        M\n",
       "用户名                         \n",
       "user-100000   79  1  1770.81\n",
       "user-100003  221  1   511.59\n",
       "user-100006   47  1   443.55\n",
       "user-100007  351  1  2162.14\n",
       "user-100008   45  1  4879.94"
      ]
     },
     "execution_count": 37,
     "metadata": {},
     "output_type": "execute_result"
    }
   ],
   "source": [
    "#获取R,F,M数据\n",
    "dataA = RFMData.iloc[:,:-3]\n",
    "dataB = dataA.set_index('用户名')\n",
    "dataB.head()"
   ]
  },
  {
   "cell_type": "code",
   "execution_count": 38,
   "id": "56b55f50",
   "metadata": {
    "id": "6AEE2BF139C548878D16876C2B5EB7DD"
   },
   "outputs": [
    {
     "data": {
      "text/html": [
       "<div>\n",
       "<style scoped>\n",
       "    .dataframe tbody tr th:only-of-type {\n",
       "        vertical-align: middle;\n",
       "    }\n",
       "\n",
       "    .dataframe tbody tr th {\n",
       "        vertical-align: top;\n",
       "    }\n",
       "\n",
       "    .dataframe thead th {\n",
       "        text-align: right;\n",
       "    }\n",
       "</style>\n",
       "<table border=\"1\" class=\"dataframe\">\n",
       "  <thead>\n",
       "    <tr style=\"text-align: right;\">\n",
       "      <th></th>\n",
       "      <th>R</th>\n",
       "      <th>F</th>\n",
       "      <th>M</th>\n",
       "    </tr>\n",
       "    <tr>\n",
       "      <th>用户名</th>\n",
       "      <th></th>\n",
       "      <th></th>\n",
       "      <th></th>\n",
       "    </tr>\n",
       "  </thead>\n",
       "  <tbody>\n",
       "    <tr>\n",
       "      <th>user-100000</th>\n",
       "      <td>-0.701066</td>\n",
       "      <td>-0.4958</td>\n",
       "      <td>0.110680</td>\n",
       "    </tr>\n",
       "    <tr>\n",
       "      <th>user-100003</th>\n",
       "      <td>0.717193</td>\n",
       "      <td>-0.4958</td>\n",
       "      <td>-0.380447</td>\n",
       "    </tr>\n",
       "    <tr>\n",
       "      <th>user-100006</th>\n",
       "      <td>-1.020674</td>\n",
       "      <td>-0.4958</td>\n",
       "      <td>-0.406984</td>\n",
       "    </tr>\n",
       "    <tr>\n",
       "      <th>user-100007</th>\n",
       "      <td>2.015600</td>\n",
       "      <td>-0.4958</td>\n",
       "      <td>0.263309</td>\n",
       "    </tr>\n",
       "    <tr>\n",
       "      <th>user-100008</th>\n",
       "      <td>-1.040650</td>\n",
       "      <td>-0.4958</td>\n",
       "      <td>1.323319</td>\n",
       "    </tr>\n",
       "  </tbody>\n",
       "</table>\n",
       "</div>"
      ],
      "text/plain": [
       "                    R       F         M\n",
       "用户名                                    \n",
       "user-100000 -0.701066 -0.4958  0.110680\n",
       "user-100003  0.717193 -0.4958 -0.380447\n",
       "user-100006 -1.020674 -0.4958 -0.406984\n",
       "user-100007  2.015600 -0.4958  0.263309\n",
       "user-100008 -1.040650 -0.4958  1.323319"
      ]
     },
     "execution_count": 38,
     "metadata": {},
     "output_type": "execute_result"
    }
   ],
   "source": [
    "#由于RFM量纲不同，可能导致聚类结果不好，所以我们先进行数据标准化\n",
    "from sklearn.preprocessing import StandardScaler\n",
    "#采用StandardScaler方法对数据规范化：均值为0，方差为1的正态分布\n",
    "g = StandardScaler()\n",
    "stand_data = g.fit_transform(dataB)\n",
    "stand_data = pd.DataFrame(stand_data,columns=dataB.columns,index=dataB.index)\n",
    "stand_data.head()"
   ]
  },
  {
   "cell_type": "code",
   "execution_count": 39,
   "id": "168fe7f5",
   "metadata": {
    "id": "D4FE56C911DD41739F19EB7EB3C9002D"
   },
   "outputs": [
    {
     "data": {
      "image/png": "[encoded data removed]",
      "text/plain": [
       "<Figure size 432x288 with 1 Axes>"
      ]
     },
     "metadata": {
      "needs_background": "light"
     },
     "output_type": "display_data"
    }
   ],
   "source": [
    "#根据最小的SSE原则确定簇数量，选择最佳的K值，即客户的类别数量\n",
    "from sklearn.cluster import KMeans\n",
    "#定义SSE列表，用来存放不同K值下的SSE\n",
    "SSE = []\n",
    "#定义候选K值\n",
    "for i in range(1,10):\n",
    "    kmeans = KMeans(n_clusters = i,random_state = 12)\n",
    "    kmeans.fit(stand_data)\n",
    "    SSE.append(kmeans.inertia_)\n",
    "#使用手肘法看K值\n",
    "plt.plot(range(1,10),SSE,marker = 'o')\n",
    "plt.show()"
   ]
  },
  {
   "cell_type": "code",
   "execution_count": 40,
   "id": "9ea37c98",
   "metadata": {
    "id": "D8A0312A64C84412B922EE1E2BC58B05"
   },
   "outputs": [],
   "source": [
    "#根据上图显示，当k为4或5时，效果较好"
   ]
  },
  {
   "cell_type": "code",
   "execution_count": 41,
   "id": "981dce1f",
   "metadata": {
    "id": "8077A057806B4084B51B4EAEA26E7DE6"
   },
   "outputs": [
    {
     "data": {
      "text/plain": [
       "0.4791988563405966"
      ]
     },
     "execution_count": 41,
     "metadata": {},
     "output_type": "execute_result"
    }
   ],
   "source": [
    "#使用轮廓系数看K值:轮廓系数是描述簇内外差异的关键指标,越接近1，聚类效果越好\n",
    "from sklearn.metrics import silhouette_score\n",
    "kc = KMeans(n_clusters=4,random_state=12)\n",
    "kc.fit(stand_data)\n",
    "silhouette_score(stand_data,kc.labels_)"
   ]
  },
  {
   "cell_type": "code",
   "execution_count": 42,
   "id": "ce73dfe5",
   "metadata": {
    "id": "9713A6C55C3D4DCE8F6308D1727C26B3"
   },
   "outputs": [
    {
     "data": {
      "text/plain": [
       "0.4949164869307785"
      ]
     },
     "execution_count": 42,
     "metadata": {},
     "output_type": "execute_result"
    }
   ],
   "source": [
    "kc = KMeans(n_clusters=5,random_state=12)\n",
    "kc.fit(stand_data)\n",
    "silhouette_score(stand_data,kc.labels_)"
   ]
  },
  {
   "cell_type": "code",
   "execution_count": 43,
   "id": "453de642",
   "metadata": {
    "id": "6AE5993CE1FE491498BACA9EF7E0D774"
   },
   "outputs": [],
   "source": [
    "#由手肘法和轮廓系数得出K值分成5类，聚类效果最好"
   ]
  },
  {
   "cell_type": "code",
   "execution_count": 44,
   "id": "e2ccd055",
   "metadata": {
    "id": "5E3017817CCA49ACA1DCF26CC2B460F1"
   },
   "outputs": [
    {
     "name": "stdout",
     "output_type": "stream",
     "text": [
      "标签: [1 0 1 ... 3 0 0]\n",
      "SSE: 55988.218541348695\n",
      "迭代次数: 7\n",
      "分值: -55988.2185413487\n"
     ]
    }
   ],
   "source": [
    "#执行聚类\n",
    "kmeans = KMeans(n_clusters=5,random_state=12)\n",
    "result = kmeans.fit(stand_data)\n",
    "#获取每个样本所属的簇，标签的数值对应所属簇的索引\n",
    "print('标签:',kmeans.labels_)\n",
    "#获取SSE（簇惯性）\n",
    "print('SSE:',kmeans.inertia_)\n",
    "#获取迭代次数\n",
    "print('迭代次数:',kmeans.n_iter_)\n",
    "#聚类的分值，分值越大，效果越好,直接取SSE的相反数\n",
    "print('分值:',kmeans.score(stand_data))"
   ]
  },
  {
   "cell_type": "code",
   "execution_count": 45,
   "id": "23a913f9",
   "metadata": {
    "id": "AF480C21036C439E915BD874C32907AA"
   },
   "outputs": [
    {
     "data": {
      "image/png": "[encoded data removed]",
      "text/plain": [
       "<Figure size 432x288 with 1 Axes>"
      ]
     },
     "metadata": {
      "needs_background": "light"
     },
     "output_type": "display_data"
    }
   ],
   "source": [
    "#统计每个类别群体的数量\n",
    "qt = pd.Series(kmeans.labels_).value_counts()\n",
    "ax = sns.countplot(x=kmeans.labels_,order=qt.index)\n",
    "#在图像上绘制数值\n",
    "for x,y in enumerate(qt):\n",
    "    text = ax.text(x,y,y)\n",
    "    text.set_ha('center')"
   ]
  },
  {
   "cell_type": "code",
   "execution_count": 46,
   "id": "57c443d9",
   "metadata": {
    "id": "DEA4BDAD36AB4E17BE5D1806DE033425"
   },
   "outputs": [
    {
     "data": {
      "image/png": "[encoded data removed]",
      "text/plain": [
       "<Figure size 1296x1080 with 15 Axes>"
      ]
     },
     "metadata": {
      "needs_background": "light"
     },
     "output_type": "display_data"
    }
   ],
   "source": [
    "#客户群体分析\n",
    "fig,ax = plt.subplots(5,3)\n",
    "fig.set_size_inches(18,15)\n",
    "for i in range(5):\n",
    "    #获取第i个客户群的数据\n",
    "    de = stand_data[kmeans.labels_==i]\n",
    "    sns.boxplot(y='R',data=de,ax=ax[i][0])\n",
    "    sns.boxplot(y='F',data=de,ax=ax[i][1])\n",
    "    sns.boxplot(y='M',data=de,ax=ax[i][2])"
   ]
  },
  {
   "cell_type": "markdown",
   "id": "85424a20",
   "metadata": {
    "id": "6DB032CCF7894D7A805B97303246C1BC"
   },
   "source": [
    "**七、结论与建议**  \n",
    "\n",
    "1类客户消费特点：R低，F低，M低，属于一般挽留客户，这类客户数量最多,不用耗费过多精力，在促销时发送通知，给予一定的优惠券激活   \n",
    "\n",
    "2类客户消费特点：R高，F低，M低，属于一般发展客户，这类客户数量排第2，可能是新用户，说明2021年拉新效果还不错。需要频繁发放优惠券刺激消费以及通过大数据分析个性化营销的方式提升其消费频次和金额。  \n",
    "\n",
    "3类客户消费特点：R低，F高，M低，属于一般保持客户，贡献不大，偶尔赠送优惠券，发送打折信息   \n",
    "\n",
    "4类客户消费特点：R高，F高，M高，属于重要价值客户，这类客户属于SVIP客户，需要重点关注，倾斜更多资源，长期联络，定期回访，一对一客服服务，生日、节日问候，赠送礼品  \n",
    "\n",
    "5类客户消费特点：R低，F高，M高，属于重要保持客户，需要通过APP消息推送，发送打折信息，站外广告营销等方式唤醒召回"
   ]
  }
 ],
 "metadata": {
  "kernelspec": {
   "display_name": "Python 3 (ipykernel)",
   "language": "python",
   "name": "python3"
  },
  "language_info": {
   "codemirror_mode": {
    "name": "ipython",
    "version": 3
   },
   "file_extension": ".py",
   "mimetype": "text/x-python",
   "name": "python",
   "nbconvert_exporter": "python",
   "pygments_lexer": "ipython3",
   "version": "3.9.7"
  }
 },
 "nbformat": 4,
 "nbformat_minor": 5
}
