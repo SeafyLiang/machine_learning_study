{
 "cells": [
  {
   "cell_type": "code",
   "execution_count": 2,
   "metadata": {
    "collapsed": false
   },
   "outputs": [],
   "source": [
    "import warnings\n",
    "warnings.filterwarnings(\"ignore\")\n",
    "import numpy as np\n",
    "import paddle\n",
    "\n",
    "from paddlets.datasets.repository import get_dataset\n",
    "from paddlets.datasets.tsdataset import TSDataset\n",
    "from paddlets.transform import TimeFeatureGenerator\n",
    "from paddlets.transform.sklearn_transforms import StandardScaler\n",
    "from paddlets.models.forecasting import MLPRegressor\n",
    "from paddlets.models.forecasting import RNNBlockRegressor\n",
    "\n",
    "from paddlets.metrics import MAE\n",
    "from paddlets.metrics import MSE"
   ]
  },
  {
   "cell_type": "markdown",
   "metadata": {
    "collapsed": false
   },
   "source": [
    "## 1 读取数据"
   ]
  },
  {
   "cell_type": "code",
   "execution_count": 3,
   "metadata": {
    "collapsed": false
   },
   "outputs": [
    {
     "data": {
      "text/plain": [
       "                     WetBulbCelsius  Visibility  DryBulbFarenheit  \\\n",
       "date                                                                \n",
       "2010-01-01 00:00:00           -10.3        10.0                16   \n",
       "2010-01-01 01:00:00           -10.3        10.0                16   \n",
       "2010-01-01 02:00:00           -10.3        10.0                16   \n",
       "2010-01-01 03:00:00           -10.3        10.0                16   \n",
       "2010-01-01 04:00:00           -10.0        10.0                16   \n",
       "...                             ...         ...               ...   \n",
       "2013-12-31 19:00:00             0.0        10.0                32   \n",
       "2013-12-31 20:00:00             0.0         7.0                30   \n",
       "2013-12-31 21:00:00             0.0         5.0                30   \n",
       "2013-12-31 22:00:00             0.0        10.0                30   \n",
       "2013-12-31 23:00:00            -1.5        10.0                30   \n",
       "\n",
       "                     DryBulbCelsius  WetBulbFarenheit  DewPointFarenheit  \\\n",
       "date                                                                       \n",
       "2010-01-01 00:00:00              -9                13                  7   \n",
       "2010-01-01 01:00:00              -9                13                  7   \n",
       "2010-01-01 02:00:00              -9                13                  7   \n",
       "2010-01-01 03:00:00              -9                13                  7   \n",
       "2010-01-01 04:00:00              -9                14                  9   \n",
       "...                             ...               ...                ...   \n",
       "2013-12-31 19:00:00               0                 0                 23   \n",
       "2013-12-31 20:00:00              -1                 0                 25   \n",
       "2013-12-31 21:00:00              -1                 0                 28   \n",
       "2013-12-31 22:00:00              -1                 0                 28   \n",
       "2013-12-31 23:00:00              -1                29                 28   \n",
       "\n",
       "                     DewPointCelsius  RelativeHumidity  WindSpeed  \\\n",
       "date                                                                \n",
       "2010-01-01 00:00:00              -14                67          7   \n",
       "2010-01-01 01:00:00              -14                67          5   \n",
       "2010-01-01 02:00:00              -14                67          5   \n",
       "2010-01-01 03:00:00              -14                67          7   \n",
       "2010-01-01 04:00:00              -13                74          6   \n",
       "...                              ...               ...        ...   \n",
       "2013-12-31 19:00:00               -5                 0          0   \n",
       "2013-12-31 20:00:00               -4                 0          5   \n",
       "2013-12-31 21:00:00               -2                 0          0   \n",
       "2013-12-31 22:00:00               -2                 0          5   \n",
       "2013-12-31 23:00:00               -2                92          5   \n",
       "\n",
       "                     WindDirection  StationPressure  Altimeter  \n",
       "date                                                            \n",
       "2010-01-01 00:00:00            130        21.650000      30.35  \n",
       "2010-01-01 01:00:00            150        21.640000      30.34  \n",
       "2010-01-01 02:00:00            190        21.650000      30.35  \n",
       "2010-01-01 03:00:00            180        21.650000      30.35  \n",
       "2010-01-01 04:00:00            120        21.640000      30.34  \n",
       "...                            ...              ...        ...  \n",
       "2013-12-31 19:00:00              0        21.478686      30.21  \n",
       "2013-12-31 20:00:00            110        21.478686      30.21  \n",
       "2013-12-31 21:00:00              0        21.478686      30.20  \n",
       "2013-12-31 22:00:00            140        21.478686      30.18  \n",
       "2013-12-31 23:00:00            110        21.520000      30.18  \n",
       "\n",
       "[35064 rows x 12 columns]"
      ]
     },
     "execution_count": 3,
     "metadata": {},
     "output_type": "execute_result"
    }
   ],
   "source": [
    "ts = get_dataset(\"WTH\") # 公开数据集，天气数据\n",
    "ts"
   ]
  },
  {
   "cell_type": "code",
   "execution_count": 4,
   "metadata": {
    "collapsed": false
   },
   "outputs": [
    {
     "data": {
      "text/plain": [
       "                     WetBulbCelsius\n",
       "date                               \n",
       "2010-01-01 00:00:00           -10.3\n",
       "2010-01-01 01:00:00           -10.3\n",
       "2010-01-01 02:00:00           -10.3\n",
       "2010-01-01 03:00:00           -10.3\n",
       "2010-01-01 04:00:00           -10.0\n",
       "...                             ...\n",
       "2013-12-31 19:00:00             0.0\n",
       "2013-12-31 20:00:00             0.0\n",
       "2013-12-31 21:00:00             0.0\n",
       "2013-12-31 22:00:00             0.0\n",
       "2013-12-31 23:00:00            -1.5\n",
       "\n",
       "[35064 rows x 1 columns]"
      ]
     },
     "execution_count": 4,
     "metadata": {},
     "output_type": "execute_result"
    }
   ],
   "source": [
    "ts.get_target()"
   ]
  },
  {
   "cell_type": "code",
   "execution_count": 5,
   "metadata": {
    "collapsed": false
   },
   "outputs": [
    {
     "data": {
      "text/plain": [
       "                     Visibility  DryBulbFarenheit  DryBulbCelsius  \\\n",
       "date                                                                \n",
       "2010-01-01 00:00:00        10.0                16              -9   \n",
       "2010-01-01 01:00:00        10.0                16              -9   \n",
       "2010-01-01 02:00:00        10.0                16              -9   \n",
       "2010-01-01 03:00:00        10.0                16              -9   \n",
       "2010-01-01 04:00:00        10.0                16              -9   \n",
       "...                         ...               ...             ...   \n",
       "2013-12-31 19:00:00        10.0                32               0   \n",
       "2013-12-31 20:00:00         7.0                30              -1   \n",
       "2013-12-31 21:00:00         5.0                30              -1   \n",
       "2013-12-31 22:00:00        10.0                30              -1   \n",
       "2013-12-31 23:00:00        10.0                30              -1   \n",
       "\n",
       "                     WetBulbFarenheit  DewPointFarenheit  DewPointCelsius  \\\n",
       "date                                                                        \n",
       "2010-01-01 00:00:00                13                  7              -14   \n",
       "2010-01-01 01:00:00                13                  7              -14   \n",
       "2010-01-01 02:00:00                13                  7              -14   \n",
       "2010-01-01 03:00:00                13                  7              -14   \n",
       "2010-01-01 04:00:00                14                  9              -13   \n",
       "...                               ...                ...              ...   \n",
       "2013-12-31 19:00:00                 0                 23               -5   \n",
       "2013-12-31 20:00:00                 0                 25               -4   \n",
       "2013-12-31 21:00:00                 0                 28               -2   \n",
       "2013-12-31 22:00:00                 0                 28               -2   \n",
       "2013-12-31 23:00:00                29                 28               -2   \n",
       "\n",
       "                     RelativeHumidity  WindSpeed  WindDirection  \\\n",
       "date                                                              \n",
       "2010-01-01 00:00:00                67          7            130   \n",
       "2010-01-01 01:00:00                67          5            150   \n",
       "2010-01-01 02:00:00                67          5            190   \n",
       "2010-01-01 03:00:00                67          7            180   \n",
       "2010-01-01 04:00:00                74          6            120   \n",
       "...                               ...        ...            ...   \n",
       "2013-12-31 19:00:00                 0          0              0   \n",
       "2013-12-31 20:00:00                 0          5            110   \n",
       "2013-12-31 21:00:00                 0          0              0   \n",
       "2013-12-31 22:00:00                 0          5            140   \n",
       "2013-12-31 23:00:00                92          5            110   \n",
       "\n",
       "                     StationPressure  Altimeter  \n",
       "date                                             \n",
       "2010-01-01 00:00:00        21.650000      30.35  \n",
       "2010-01-01 01:00:00        21.640000      30.34  \n",
       "2010-01-01 02:00:00        21.650000      30.35  \n",
       "2010-01-01 03:00:00        21.650000      30.35  \n",
       "2010-01-01 04:00:00        21.640000      30.34  \n",
       "...                              ...        ...  \n",
       "2013-12-31 19:00:00        21.478686      30.21  \n",
       "2013-12-31 20:00:00        21.478686      30.21  \n",
       "2013-12-31 21:00:00        21.478686      30.20  \n",
       "2013-12-31 22:00:00        21.478686      30.18  \n",
       "2013-12-31 23:00:00        21.520000      30.18  \n",
       "\n",
       "[35064 rows x 11 columns]"
      ]
     },
     "execution_count": 5,
     "metadata": {},
     "output_type": "execute_result"
    }
   ],
   "source": [
    "ts.get_observed_cov()"
   ]
  },
  {
   "cell_type": "code",
   "execution_count": 6,
   "metadata": {
    "collapsed": false
   },
   "outputs": [],
   "source": [
    "ts.get_known_cov()"
   ]
  },
  {
   "cell_type": "markdown",
   "metadata": {
    "collapsed": false
   },
   "source": [
    "## 2 数据处理"
   ]
  },
  {
   "cell_type": "code",
   "execution_count": 7,
   "metadata": {
    "collapsed": false
   },
   "outputs": [
    {
     "data": {
      "text/plain": [
       "                     WetBulbCelsius  Visibility  DryBulbFarenheit  \\\n",
       "date                                                                \n",
       "2010-01-01 00:00:00           -10.3        10.0                16   \n",
       "2010-01-01 01:00:00           -10.3        10.0                16   \n",
       "2010-01-01 02:00:00           -10.3        10.0                16   \n",
       "2010-01-01 03:00:00           -10.3        10.0                16   \n",
       "2010-01-01 04:00:00           -10.0        10.0                16   \n",
       "...                             ...         ...               ...   \n",
       "2013-12-31 19:00:00             0.0        10.0                32   \n",
       "2013-12-31 20:00:00             0.0         7.0                30   \n",
       "2013-12-31 21:00:00             0.0         5.0                30   \n",
       "2013-12-31 22:00:00             0.0        10.0                30   \n",
       "2013-12-31 23:00:00            -1.5        10.0                30   \n",
       "\n",
       "                     DryBulbCelsius  WetBulbFarenheit  DewPointFarenheit  \\\n",
       "date                                                                       \n",
       "2010-01-01 00:00:00              -9                13                  7   \n",
       "2010-01-01 01:00:00              -9                13                  7   \n",
       "2010-01-01 02:00:00              -9                13                  7   \n",
       "2010-01-01 03:00:00              -9                13                  7   \n",
       "2010-01-01 04:00:00              -9                14                  9   \n",
       "...                             ...               ...                ...   \n",
       "2013-12-31 19:00:00               0                 0                 23   \n",
       "2013-12-31 20:00:00              -1                 0                 25   \n",
       "2013-12-31 21:00:00              -1                 0                 28   \n",
       "2013-12-31 22:00:00              -1                 0                 28   \n",
       "2013-12-31 23:00:00              -1                29                 28   \n",
       "\n",
       "                     DewPointCelsius  RelativeHumidity  WindSpeed  \\\n",
       "date                                                                \n",
       "2010-01-01 00:00:00              -14                67          7   \n",
       "2010-01-01 01:00:00              -14                67          5   \n",
       "2010-01-01 02:00:00              -14                67          5   \n",
       "2010-01-01 03:00:00              -14                67          7   \n",
       "2010-01-01 04:00:00              -13                74          6   \n",
       "...                              ...               ...        ...   \n",
       "2013-12-31 19:00:00               -5                 0          0   \n",
       "2013-12-31 20:00:00               -4                 0          5   \n",
       "2013-12-31 21:00:00               -2                 0          0   \n",
       "2013-12-31 22:00:00               -2                 0          5   \n",
       "2013-12-31 23:00:00               -2                92          5   \n",
       "\n",
       "                     WindDirection  StationPressure  Altimeter  month  \\\n",
       "date                                                                    \n",
       "2010-01-01 00:00:00            130        21.650000      30.35      1   \n",
       "2010-01-01 01:00:00            150        21.640000      30.34      1   \n",
       "2010-01-01 02:00:00            190        21.650000      30.35      1   \n",
       "2010-01-01 03:00:00            180        21.650000      30.35      1   \n",
       "2010-01-01 04:00:00            120        21.640000      30.34      1   \n",
       "...                            ...              ...        ...    ...   \n",
       "2013-12-31 19:00:00              0        21.478686      30.21     12   \n",
       "2013-12-31 20:00:00            110        21.478686      30.21     12   \n",
       "2013-12-31 21:00:00              0        21.478686      30.20     12   \n",
       "2013-12-31 22:00:00            140        21.478686      30.18     12   \n",
       "2013-12-31 23:00:00            110        21.520000      30.18     12   \n",
       "\n",
       "                     weekday  hour  \n",
       "date                                \n",
       "2010-01-01 00:00:00        4     0  \n",
       "2010-01-01 01:00:00        4     1  \n",
       "2010-01-01 02:00:00        4     2  \n",
       "2010-01-01 03:00:00        4     3  \n",
       "2010-01-01 04:00:00        4     4  \n",
       "...                      ...   ...  \n",
       "2013-12-31 19:00:00        1    19  \n",
       "2013-12-31 20:00:00        1    20  \n",
       "2013-12-31 21:00:00        1    21  \n",
       "2013-12-31 22:00:00        1    22  \n",
       "2013-12-31 23:00:00        1    23  \n",
       "\n",
       "[35064 rows x 15 columns]"
      ]
     },
     "execution_count": 7,
     "metadata": {},
     "output_type": "execute_result"
    }
   ],
   "source": [
    "# 时间类特征引入\n",
    "time_f = TimeFeatureGenerator(feature_cols = [\"month\", \"weekday\", \"hour\"])\n",
    "ts = time_f.fit_transform(ts)\n",
    "ts"
   ]
  },
  {
   "cell_type": "code",
   "execution_count": 8,
   "metadata": {
    "collapsed": false
   },
   "outputs": [
    {
     "data": {
      "text/plain": [
       "                     month  weekday  hour\n",
       "date                                     \n",
       "2010-01-01 00:00:00      1        4     0\n",
       "2010-01-01 01:00:00      1        4     1\n",
       "2010-01-01 02:00:00      1        4     2\n",
       "2010-01-01 03:00:00      1        4     3\n",
       "2010-01-01 04:00:00      1        4     4\n",
       "...                    ...      ...   ...\n",
       "2013-12-31 19:00:00     12        1    19\n",
       "2013-12-31 20:00:00     12        1    20\n",
       "2013-12-31 21:00:00     12        1    21\n",
       "2013-12-31 22:00:00     12        1    22\n",
       "2013-12-31 23:00:00     12        1    23\n",
       "\n",
       "[35064 rows x 3 columns]"
      ]
     },
     "execution_count": 8,
     "metadata": {},
     "output_type": "execute_result"
    }
   ],
   "source": [
    "ts.get_known_cov()"
   ]
  },
  {
   "cell_type": "code",
   "execution_count": 9,
   "metadata": {
    "collapsed": false
   },
   "outputs": [],
   "source": [
    "# 拆分数据集\n",
    "ts_train, ts_val_test = ts.split(\"2012-03-31 23:00:00\")\n",
    "ts_val, ts_test = ts_val_test.split(\"2013-02-28 23:00:00\")"
   ]
  },
  {
   "cell_type": "code",
   "execution_count": 10,
   "metadata": {
    "collapsed": false
   },
   "outputs": [],
   "source": [
    "# 标准化\n",
    "scaler = StandardScaler()\n",
    "scaler.fit(ts_train)\n",
    "ts_train_scaled = scaler.transform(ts_train)\n",
    "ts_val_scaled = scaler.transform(ts_val)\n",
    "ts_test_scaled = scaler.transform(ts_test)"
   ]
  },
  {
   "cell_type": "markdown",
   "metadata": {
    "collapsed": false
   },
   "source": [
    "## 3 模型训练"
   ]
  },
  {
   "cell_type": "code",
   "execution_count": 12,
   "metadata": {
    "collapsed": false
   },
   "outputs": [],
   "source": [
    "# 模型定义\n",
    "rnn = RNNBlockRegressor(\n",
    "    in_chunk_len = 24*5,     #历史输入序列长度\n",
    "    out_chunk_len = 24,      #未来预测序列长度\n",
    "    sampling_stride = 24,    #采样间隔\n",
    "    max_epochs=100,          # 最大迭代轮次\n",
    "    optimizer_params = dict(learning_rate=1e-3),  #优化参数，学习率\n",
    "    batch_size = 32,         #批量大小\n",
    "    patience=20              #patience\n",
    ")"
   ]
  },
  {
   "cell_type": "code",
   "execution_count": 13,
   "metadata": {
    "collapsed": false
   },
   "outputs": [
    {
     "name": "stderr",
     "output_type": "stream",
     "text": [
      "[2022-11-10 15:21:55,743] [paddlets.models.common.callbacks.callbacks] [INFO] epoch 000| loss: 0.363298| val_0_mae: 0.259822| 0:00:00s\n",
      "[2022-11-10 15:21:56,221] [paddlets.models.common.callbacks.callbacks] [INFO] epoch 001| loss: 0.096705| val_0_mae: 0.228090| 0:00:01s\n",
      "[2022-11-10 15:21:56,684] [paddlets.models.common.callbacks.callbacks] [INFO] epoch 002| loss: 0.083936| val_0_mae: 0.210965| 0:00:01s\n",
      "[2022-11-10 15:21:57,185] [paddlets.models.common.callbacks.callbacks] [INFO] epoch 003| loss: 0.080415| val_0_mae: 0.211120| 0:00:02s\n",
      "[2022-11-10 15:21:57,732] [paddlets.models.common.callbacks.callbacks] [INFO] epoch 004| loss: 0.078427| val_0_mae: 0.209158| 0:00:02s\n",
      "[2022-11-10 15:21:58,230] [paddlets.models.common.callbacks.callbacks] [INFO] epoch 005| loss: 0.077287| val_0_mae: 0.211983| 0:00:03s\n",
      "[2022-11-10 15:21:58,728] [paddlets.models.common.callbacks.callbacks] [INFO] epoch 006| loss: 0.076421| val_0_mae: 0.206052| 0:00:03s\n",
      "[2022-11-10 15:21:59,177] [paddlets.models.common.callbacks.callbacks] [INFO] epoch 007| loss: 0.077889| val_0_mae: 0.209986| 0:00:04s\n",
      "[2022-11-10 15:21:59,633] [paddlets.models.common.callbacks.callbacks] [INFO] epoch 008| loss: 0.074305| val_0_mae: 0.219463| 0:00:04s\n",
      "[2022-11-10 15:22:00,130] [paddlets.models.common.callbacks.callbacks] [INFO] epoch 009| loss: 0.074163| val_0_mae: 0.204596| 0:00:05s\n",
      "[2022-11-10 15:22:00,582] [paddlets.models.common.callbacks.callbacks] [INFO] epoch 010| loss: 0.069792| val_0_mae: 0.199128| 0:00:05s\n",
      "[2022-11-10 15:22:01,031] [paddlets.models.common.callbacks.callbacks] [INFO] epoch 011| loss: 0.070029| val_0_mae: 0.210586| 0:00:06s\n",
      "[2022-11-10 15:22:01,496] [paddlets.models.common.callbacks.callbacks] [INFO] epoch 012| loss: 0.067806| val_0_mae: 0.194180| 0:00:06s\n",
      "[2022-11-10 15:22:01,957] [paddlets.models.common.callbacks.callbacks] [INFO] epoch 013| loss: 0.066611| val_0_mae: 0.198961| 0:00:07s\n",
      "[2022-11-10 15:22:02,425] [paddlets.models.common.callbacks.callbacks] [INFO] epoch 014| loss: 0.067364| val_0_mae: 0.193013| 0:00:07s\n",
      "[2022-11-10 15:22:02,874] [paddlets.models.common.callbacks.callbacks] [INFO] epoch 015| loss: 0.065624| val_0_mae: 0.198550| 0:00:07s\n",
      "[2022-11-10 15:22:03,318] [paddlets.models.common.callbacks.callbacks] [INFO] epoch 016| loss: 0.064332| val_0_mae: 0.197561| 0:00:08s\n",
      "[2022-11-10 15:22:03,751] [paddlets.models.common.callbacks.callbacks] [INFO] epoch 017| loss: 0.065512| val_0_mae: 0.195652| 0:00:08s\n",
      "[2022-11-10 15:22:04,219] [paddlets.models.common.callbacks.callbacks] [INFO] epoch 018| loss: 0.063582| val_0_mae: 0.204421| 0:00:09s\n",
      "[2022-11-10 15:22:04,658] [paddlets.models.common.callbacks.callbacks] [INFO] epoch 019| loss: 0.063463| val_0_mae: 0.204109| 0:00:09s\n",
      "[2022-11-10 15:22:05,096] [paddlets.models.common.callbacks.callbacks] [INFO] epoch 020| loss: 0.063578| val_0_mae: 0.194291| 0:00:10s\n",
      "[2022-11-10 15:22:05,549] [paddlets.models.common.callbacks.callbacks] [INFO] epoch 021| loss: 0.059924| val_0_mae: 0.197960| 0:00:10s\n",
      "[2022-11-10 15:22:06,001] [paddlets.models.common.callbacks.callbacks] [INFO] epoch 022| loss: 0.069167| val_0_mae: 0.199805| 0:00:11s\n",
      "[2022-11-10 15:22:06,505] [paddlets.models.common.callbacks.callbacks] [INFO] epoch 023| loss: 0.062997| val_0_mae: 0.192812| 0:00:11s\n",
      "[2022-11-10 15:22:06,959] [paddlets.models.common.callbacks.callbacks] [INFO] epoch 024| loss: 0.058776| val_0_mae: 0.192787| 0:00:12s\n",
      "[2022-11-10 15:22:07,425] [paddlets.models.common.callbacks.callbacks] [INFO] epoch 025| loss: 0.059099| val_0_mae: 0.197827| 0:00:12s\n",
      "[2022-11-10 15:22:07,869] [paddlets.models.common.callbacks.callbacks] [INFO] epoch 026| loss: 0.065208| val_0_mae: 0.202004| 0:00:12s\n",
      "[2022-11-10 15:22:08,323] [paddlets.models.common.callbacks.callbacks] [INFO] epoch 027| loss: 0.062674| val_0_mae: 0.188986| 0:00:13s\n",
      "[2022-11-10 15:22:08,790] [paddlets.models.common.callbacks.callbacks] [INFO] epoch 028| loss: 0.060008| val_0_mae: 0.192603| 0:00:13s\n",
      "[2022-11-10 15:22:09,276] [paddlets.models.common.callbacks.callbacks] [INFO] epoch 029| loss: 0.057420| val_0_mae: 0.196750| 0:00:14s\n",
      "[2022-11-10 15:22:09,740] [paddlets.models.common.callbacks.callbacks] [INFO] epoch 030| loss: 0.057890| val_0_mae: 0.191253| 0:00:14s\n",
      "[2022-11-10 15:22:10,197] [paddlets.models.common.callbacks.callbacks] [INFO] epoch 031| loss: 0.056907| val_0_mae: 0.195315| 0:00:15s\n",
      "[2022-11-10 15:22:10,658] [paddlets.models.common.callbacks.callbacks] [INFO] epoch 032| loss: 0.057449| val_0_mae: 0.197722| 0:00:15s\n",
      "[2022-11-10 15:22:11,135] [paddlets.models.common.callbacks.callbacks] [INFO] epoch 033| loss: 0.061700| val_0_mae: 0.197021| 0:00:16s\n",
      "[2022-11-10 15:22:11,623] [paddlets.models.common.callbacks.callbacks] [INFO] epoch 034| loss: 0.060586| val_0_mae: 0.195072| 0:00:16s\n",
      "[2022-11-10 15:22:12,084] [paddlets.models.common.callbacks.callbacks] [INFO] epoch 035| loss: 0.058579| val_0_mae: 0.196430| 0:00:17s\n",
      "[2022-11-10 15:22:12,545] [paddlets.models.common.callbacks.callbacks] [INFO] epoch 036| loss: 0.056379| val_0_mae: 0.196339| 0:00:17s\n",
      "[2022-11-10 15:22:12,999] [paddlets.models.common.callbacks.callbacks] [INFO] epoch 037| loss: 0.055455| val_0_mae: 0.196439| 0:00:18s\n",
      "[2022-11-10 15:22:13,457] [paddlets.models.common.callbacks.callbacks] [INFO] epoch 038| loss: 0.056535| val_0_mae: 0.195127| 0:00:18s\n",
      "[2022-11-10 15:22:13,907] [paddlets.models.common.callbacks.callbacks] [INFO] epoch 039| loss: 0.055452| val_0_mae: 0.192354| 0:00:19s\n",
      "[2022-11-10 15:22:14,406] [paddlets.models.common.callbacks.callbacks] [INFO] epoch 040| loss: 0.056780| val_0_mae: 0.191826| 0:00:19s\n",
      "[2022-11-10 15:22:14,847] [paddlets.models.common.callbacks.callbacks] [INFO] epoch 041| loss: 0.055299| val_0_mae: 0.194029| 0:00:19s\n",
      "[2022-11-10 15:22:15,334] [paddlets.models.common.callbacks.callbacks] [INFO] epoch 042| loss: 0.055229| val_0_mae: 0.192854| 0:00:20s\n",
      "[2022-11-10 15:22:15,798] [paddlets.models.common.callbacks.callbacks] [INFO] epoch 043| loss: 0.057959| val_0_mae: 0.191350| 0:00:20s\n",
      "[2022-11-10 15:22:16,259] [paddlets.models.common.callbacks.callbacks] [INFO] epoch 044| loss: 0.055332| val_0_mae: 0.192617| 0:00:21s\n",
      "[2022-11-10 15:22:16,707] [paddlets.models.common.callbacks.callbacks] [INFO] epoch 045| loss: 0.052201| val_0_mae: 0.193367| 0:00:21s\n",
      "[2022-11-10 15:22:17,161] [paddlets.models.common.callbacks.callbacks] [INFO] epoch 046| loss: 0.052775| val_0_mae: 0.194236| 0:00:22s\n",
      "[2022-11-10 15:22:17,611] [paddlets.models.common.callbacks.callbacks] [INFO] epoch 047| loss: 0.053719| val_0_mae: 0.195038| 0:00:22s\n",
      "[2022-11-10 15:22:17,613] [paddlets.models.common.callbacks.callbacks] [INFO] \n",
      "Early stopping occurred at epoch 47 with best_epoch = 27 and best_val_0_mae = 0.188986\n",
      "[2022-11-10 15:22:17,614] [paddlets.models.common.callbacks.callbacks] [INFO] Best weights from best epoch are automatically used!\n"
     ]
    }
   ],
   "source": [
    "np.random.seed(2023)\n",
    "paddle.seed(2023)\n",
    "# 模型训练\n",
    "rnn.fit(ts_train_scaled, ts_val_scaled)"
   ]
  },
  {
   "cell_type": "markdown",
   "metadata": {
    "collapsed": false
   },
   "source": [
    "## 4 预测与评估"
   ]
  },
  {
   "cell_type": "code",
   "execution_count": 14,
   "metadata": {
    "collapsed": false
   },
   "outputs": [
    {
     "data": {
      "text/plain": [
       "                     WetBulbCelsius\n",
       "2013-03-01 00:00:00       -1.116902\n",
       "2013-03-01 01:00:00       -1.140365\n",
       "2013-03-01 02:00:00       -1.157798\n",
       "2013-03-01 03:00:00       -1.116379\n",
       "2013-03-01 04:00:00       -1.144197\n",
       "2013-03-01 05:00:00       -1.182413\n",
       "2013-03-01 06:00:00       -1.207188\n",
       "2013-03-01 07:00:00       -1.188643\n",
       "2013-03-01 08:00:00       -0.992388\n",
       "2013-03-01 09:00:00       -0.917662\n",
       "2013-03-01 10:00:00       -0.642903\n",
       "2013-03-01 11:00:00       -0.584468\n",
       "2013-03-01 12:00:00       -0.496556\n",
       "2013-03-01 13:00:00       -0.474909\n",
       "2013-03-01 14:00:00       -0.516824\n",
       "2013-03-01 15:00:00       -0.547566\n",
       "2013-03-01 16:00:00       -0.627948\n",
       "2013-03-01 17:00:00       -0.599043\n",
       "2013-03-01 18:00:00       -0.724346\n",
       "2013-03-01 19:00:00       -0.784895\n",
       "2013-03-01 20:00:00       -0.839210\n",
       "2013-03-01 21:00:00       -0.886078\n",
       "2013-03-01 22:00:00       -0.951548\n",
       "2013-03-01 23:00:00       -0.946776"
      ]
     },
     "execution_count": 14,
     "metadata": {},
     "output_type": "execute_result"
    }
   ],
   "source": [
    "# 单次预测：模型上线，例行预测\n",
    "res = rnn.predict(ts_val_scaled)\n",
    "res"
   ]
  },
  {
   "cell_type": "code",
   "execution_count": 15,
   "metadata": {
    "collapsed": false
   },
   "outputs": [
    {
     "name": "stderr",
     "output_type": "stream",
     "text": [
      "[2022-11-10 15:22:59,088] [paddlets.utils.utils] [WARNING] error occurred while import autots, err: No module named 'ray'\n",
      "Backtest Progress: 100%|██████████| 61/61 [00:02<00:00, 26.98it/s]\n"
     ]
    }
   ],
   "source": [
    "# 回测：测试集评估\n",
    "from paddlets.utils import backtest\n",
    "\n",
    "metric, pred = backtest(\n",
    "    data=ts_test_scaled,         #测试数据集\n",
    "    model=rnn,                   #训练好的模型\n",
    "    start=\"2013-11-01 00:00:00\", #预测的开始时间\n",
    "    metric=MAE(),                #评估指标\n",
    "    predict_window=24,           #预测窗口大小\n",
    "    stride=24,                   #间隔窗口大小\n",
    "    return_predicts=True         #是否返回预测值\n",
    ")"
   ]
  },
  {
   "cell_type": "code",
   "execution_count": 16,
   "metadata": {
    "collapsed": false
   },
   "outputs": [],
   "source": [
    "_, ground_truth = ts_test_scaled.split(\"2013-11-01 00:00:00\")"
   ]
  },
  {
   "cell_type": "code",
   "execution_count": 17,
   "metadata": {
    "collapsed": false
   },
   "outputs": [
    {
     "data": {
      "text/plain": [
       "<AxesSubplot:xlabel='date'>"
      ]
     },
     "execution_count": 17,
     "metadata": {},
     "output_type": "execute_result"
    },
    {
     "data": {
      "image/png": "[encoded data removed]",
      "text/plain": [
       "<Figure size 1000x300 with 1 Axes>"
      ]
     },
     "metadata": {},
     "output_type": "display_data"
    }
   ],
   "source": [
    "pred.plot(add_data=ground_truth)"
   ]
  },
  {
   "cell_type": "code",
   "execution_count": 18,
   "metadata": {
    "collapsed": false
   },
   "outputs": [
    {
     "data": {
      "text/plain": [
       "{'WetBulbCelsius': 0.20782859500100792}"
      ]
     },
     "execution_count": 18,
     "metadata": {},
     "output_type": "execute_result"
    }
   ],
   "source": [
    "metric"
   ]
  },
  {
   "cell_type": "code",
   "execution_count": null,
   "metadata": {
    "collapsed": false
   },
   "outputs": [],
   "source": []
  }
 ],
 "metadata": {
  "kernelspec": {
   "display_name": "Python 3",
   "language": "python",
   "name": "py35-paddle1.2.0"
  },
  "language_info": {
   "codemirror_mode": {
    "name": "ipython",
    "version": 3
   },
   "file_extension": ".py",
   "mimetype": "text/x-python",
   "name": "python",
   "nbconvert_exporter": "python",
   "pygments_lexer": "ipython3",
   "version": "3.7.4"
  }
 },
 "nbformat": 4,
 "nbformat_minor": 1
}
