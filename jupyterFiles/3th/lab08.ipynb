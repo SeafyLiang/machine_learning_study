{
 "cells": [
  {
   "cell_type": "markdown",
   "metadata": {
    "pycharm": {
     "name": "#%% md\n"
    }
   },
   "source": [
    "# Lab 08 机器学习模型评估与性能分析\n",
    "\n",
    "在这个实验室，我们将逐步通过一个简单的评估过程做评估，包括两个机器学习模型，Logistic回归和k-近邻。\n",
    "\n",
    "首先，让我们导入必要的库。"
   ]
  },
  {
   "cell_type": "code",
   "execution_count": 1,
   "metadata": {},
   "outputs": [],
   "source": [
    "import sys\n",
    "sys.path\n",
    "sys.path.append('/usr/local/lib/python3.8/site-packages')"
   ]
  },
  {
   "cell_type": "code",
   "execution_count": 2,
   "metadata": {
    "pycharm": {
     "name": "#%%\n"
    }
   },
   "outputs": [],
   "source": [
    "import pandas as pd\n",
    "import matplotlib.pyplot as plt\n",
    "\n",
    "from sklearn.linear_model import LogisticRegression\n",
    "from sklearn.metrics import confusion_matrix, classification_report, plot_roc_curve, roc_auc_score\n",
    "from sklearn.model_selection import train_test_split, cross_val_score\n",
    "from sklearn.neighbors import KNeighborsClassifier\n",
    "from sklearn import datasets\n",
    "from sklearn.tree import DecisionTreeClassifier\n",
    "from sklearn import metrics"
   ]
  },
  {
   "cell_type": "markdown",
   "metadata": {
    "pycharm": {
     "name": "#%% md\n"
    }
   },
   "source": [
    "现在我们需要一个数据集。本周我们将使用sci kit learn的乳腺癌数据集。"
   ]
  },
  {
   "cell_type": "code",
   "execution_count": 3,
   "metadata": {
    "pycharm": {
     "name": "#%%\n"
    }
   },
   "outputs": [
    {
     "data": {
      "text/plain": [
       "cancer_type\n",
       "1              357\n",
       "0              212\n",
       "dtype: int64"
      ]
     },
     "execution_count": 3,
     "metadata": {},
     "output_type": "execute_result"
    }
   ],
   "source": [
    "data = datasets.load_breast_cancer()\n",
    "X = pd.DataFrame(data.data, columns=data.feature_names)\n",
    "y = pd.DataFrame(data.target, columns=['cancer_type'])\n",
    "\n",
    "y.value_counts()"
   ]
  },
  {
   "cell_type": "markdown",
   "metadata": {
    "pycharm": {
     "name": "#%% md\n"
    }
   },
   "source": [
    "我们可以看出，我们的数据集并不平衡。"
   ]
  },
  {
   "cell_type": "markdown",
   "metadata": {
    "pycharm": {
     "name": "#%% md\n"
    }
   },
   "source": [
    "### 划分数据\n",
    "\n",
    "评估模型的首要任务是将数据分成训练集、验证集和测试集。"
   ]
  },
  {
   "cell_type": "code",
   "execution_count": 4,
   "metadata": {
    "pycharm": {
     "name": "#%%\n"
    }
   },
   "outputs": [],
   "source": [
    "X_train_val, X_test, y_train_val, y_test = train_test_split(X, y)\n",
    "X_train, X_val, y_train, y_val = train_test_split(X_train_val, y_train_val)"
   ]
  },
  {
   "cell_type": "markdown",
   "metadata": {
    "pycharm": {
     "name": "#%% md\n"
    }
   },
   "source": [
    "#### 选型\n",
    "\n",
    "然后我们需要两个模型来评估。以K-最近邻（KNN）模型和Logistic回归模型为例。"
   ]
  },
  {
   "cell_type": "code",
   "execution_count": 5,
   "metadata": {
    "pycharm": {
     "name": "#%%\n"
    }
   },
   "outputs": [],
   "source": [
    "log_reg = LogisticRegression(max_iter=5000)"
   ]
  },
  {
   "cell_type": "code",
   "execution_count": 6,
   "metadata": {
    "pycharm": {
     "name": "#%%\n"
    }
   },
   "outputs": [],
   "source": [
    "knn = KNeighborsClassifier(n_neighbors=5)"
   ]
  },
  {
   "cell_type": "markdown",
   "metadata": {
    "pycharm": {
     "name": "#%% md\n"
    }
   },
   "source": [
    "### 定时性能\n",
    "\n",
    "到目前为止，我们忽略的性能指标之一是计算性能。在时间紧迫的生产环境中，如自动驾驶车辆、无人机、生物医学设备等，我们需要在每个系统的时间限制内得到结果。因此，在为这类问题创建机器学习解决方案时，模型的计算性能对整个模型的性能起着巨大的作用。\n",
    "\n",
    "We can use built-in [magic commands](https://ipython.readthedocs.io/en/stable/interactive/magics.html) in Ipython environment to measure the computing performance. First let us measure the training time for both models.\n",
    "\n",
    "我们可以使用内置的【magic commands】 在Ipython环境中测量计算性能。首先让我们来衡量两个模型的训练时间。"
   ]
  },
  {
   "cell_type": "code",
   "execution_count": 7,
   "metadata": {
    "pycharm": {
     "name": "#%%\n"
    }
   },
   "outputs": [
    {
     "name": "stdout",
     "output_type": "stream",
     "text": [
      "CPU times: user 2.28 s, sys: 603 ms, total: 2.88 s\n",
      "Wall time: 493 ms\n"
     ]
    },
    {
     "data": {
      "text/plain": [
       "LogisticRegression(max_iter=5000)"
      ]
     },
     "execution_count": 7,
     "metadata": {},
     "output_type": "execute_result"
    }
   ],
   "source": [
    "%%time\n",
    "log_reg.fit(X_train, y_train.values.ravel())"
   ]
  },
  {
   "cell_type": "code",
   "execution_count": 8,
   "metadata": {
    "pycharm": {
     "name": "#%%\n"
    }
   },
   "outputs": [
    {
     "name": "stdout",
     "output_type": "stream",
     "text": [
      "CPU times: user 10.3 ms, sys: 2.69 ms, total: 13 ms\n",
      "Wall time: 2.2 ms\n"
     ]
    },
    {
     "data": {
      "text/plain": [
       "KNeighborsClassifier()"
      ]
     },
     "execution_count": 8,
     "metadata": {},
     "output_type": "execute_result"
    }
   ],
   "source": [
    "%%time\n",
    "knn.fit(X_train, y_train.values.ravel())"
   ]
  },
  {
   "cell_type": "markdown",
   "metadata": {
    "pycharm": {
     "name": "#%% md\n"
    }
   },
   "source": [
    "Now let's measure the prediction time for each model.\n",
    "\n",
    "现在让我们测量每个模型的预测时间。"
   ]
  },
  {
   "cell_type": "code",
   "execution_count": 9,
   "metadata": {
    "pycharm": {
     "name": "#%%\n"
    }
   },
   "outputs": [
    {
     "name": "stdout",
     "output_type": "stream",
     "text": [
      "CPU times: user 8.11 ms, sys: 1.38 ms, total: 9.49 ms\n",
      "Wall time: 1.59 ms\n"
     ]
    }
   ],
   "source": [
    "%%time\n",
    "pred_log_reg = log_reg.predict(X_val)"
   ]
  },
  {
   "cell_type": "code",
   "execution_count": 10,
   "metadata": {
    "pycharm": {
     "name": "#%%\n"
    }
   },
   "outputs": [
    {
     "name": "stdout",
     "output_type": "stream",
     "text": [
      "CPU times: user 28.8 ms, sys: 21.6 ms, total: 50.4 ms\n",
      "Wall time: 8.57 ms\n"
     ]
    }
   ],
   "source": [
    "%%time\n",
    "pred_knn = knn.predict(X_val)"
   ]
  },
  {
   "cell_type": "markdown",
   "metadata": {
    "pycharm": {
     "name": "#%% md\n"
    }
   },
   "source": [
    "从以上分析可以看出，kNN模型训练速度快，但预测速度慢。这是很直观的，当你认为kNN除了存储数据外，在训练阶段什么也不做。另一方面，Logistic回归模型在训练阶段速度较慢，但预测速度比kNN快得多。"
   ]
  },
  {
   "cell_type": "markdown",
   "metadata": {
    "pycharm": {
     "name": "#%% md\n"
    }
   },
   "source": [
    "### 预测性能\n",
    "\n",
    "让我们用模型的预测性能来评估它们。首先，让我们为所有模型生成混淆矩阵和分类报告。"
   ]
  },
  {
   "cell_type": "code",
   "execution_count": 11,
   "metadata": {
    "pycharm": {
     "name": "#%%\n"
    }
   },
   "outputs": [
    {
     "data": {
      "text/plain": [
       "array([[37,  2],\n",
       "       [ 1, 67]])"
      ]
     },
     "execution_count": 11,
     "metadata": {},
     "output_type": "execute_result"
    }
   ],
   "source": [
    "confusion_matrix(y_true=y_val, y_pred=pred_log_reg)"
   ]
  },
  {
   "cell_type": "code",
   "execution_count": 12,
   "metadata": {
    "pycharm": {
     "name": "#%%\n"
    }
   },
   "outputs": [
    {
     "name": "stdout",
     "output_type": "stream",
     "text": [
      "              precision    recall  f1-score   support\n",
      "\n",
      "           0       0.97      0.95      0.96        39\n",
      "           1       0.97      0.99      0.98        68\n",
      "\n",
      "    accuracy                           0.97       107\n",
      "   macro avg       0.97      0.97      0.97       107\n",
      "weighted avg       0.97      0.97      0.97       107\n",
      "\n"
     ]
    }
   ],
   "source": [
    "print(classification_report(y_true=y_val, y_pred=pred_log_reg))"
   ]
  },
  {
   "cell_type": "code",
   "execution_count": 13,
   "metadata": {
    "pycharm": {
     "name": "#%%\n"
    }
   },
   "outputs": [
    {
     "data": {
      "text/plain": [
       "array([[37,  2],\n",
       "       [ 1, 67]])"
      ]
     },
     "execution_count": 13,
     "metadata": {},
     "output_type": "execute_result"
    }
   ],
   "source": [
    "confusion_matrix(y_true=y_val, y_pred=pred_knn)"
   ]
  },
  {
   "cell_type": "code",
   "execution_count": 14,
   "metadata": {
    "pycharm": {
     "name": "#%%\n"
    }
   },
   "outputs": [
    {
     "name": "stdout",
     "output_type": "stream",
     "text": [
      "              precision    recall  f1-score   support\n",
      "\n",
      "           0       0.97      0.95      0.96        39\n",
      "           1       0.97      0.99      0.98        68\n",
      "\n",
      "    accuracy                           0.97       107\n",
      "   macro avg       0.97      0.97      0.97       107\n",
      "weighted avg       0.97      0.97      0.97       107\n",
      "\n"
     ]
    }
   ],
   "source": [
    "print(classification_report(y_true=y_val, y_pred=pred_knn))"
   ]
  },
  {
   "cell_type": "markdown",
   "metadata": {
    "pycharm": {
     "name": "#%% md\n"
    }
   },
   "source": [
    "在这一点上，我们现在可以看到logistic回归模型比K-最近邻模型表现得更好。"
   ]
  },
  {
   "cell_type": "markdown",
   "metadata": {
    "pycharm": {
     "name": "#%% md\n"
    }
   },
   "source": [
    "### ROC curve\n",
    "### ROC曲线\n",
    "\n",
    "当数据集不平衡时，比如我们的乳腺癌数据集，像准确度这样的指标并不能给你全面的表现。因此，我们需要更复杂的绩效衡量标准。\n",
    "\n",
    "One of the most popular methods is the ROC curve. Let's plot both of our models' ROC curves. Sci-kit learn provides the method called *plot_roc_curve*. You can find more details on this method\n",
    "[here](https://scikit-learn.org/stable/modules/generated/sklearn.metrics.plot_roc_curve.html). We can give our model, test datasets, and a name for the plot, and it will return a Display object that holds the plot data. You can use this object in future plots as well.\n",
    "\n",
    "其中最流行的方法是ROC曲线。让我们绘制两个模型的ROC曲线。Sci-kit-learn提供了一种称为*plot_roc_curve*的方法。您可以找到有关此方法的更多详细信息【here】。我们可以给出模型、测试数据集和绘图的名称，它将返回一个保存绘图数据的显示对象。您也可以在以后的绘图中使用此对象。"
   ]
  },
  {
   "cell_type": "code",
   "execution_count": 15,
   "metadata": {
    "pycharm": {
     "name": "#%%\n"
    }
   },
   "outputs": [
    {
     "data": {
      "image/png": "[encoded data removed]",
      "text/plain": [
       "<Figure size 432x288 with 1 Axes>"
      ]
     },
     "metadata": {
      "needs_background": "light"
     },
     "output_type": "display_data"
    }
   ],
   "source": [
    "ax = plt.gca()\n",
    "plot_log_reg = plot_roc_curve(estimator=log_reg, X=X_val, y=y_val, ax=ax, name='Logistic_Regression')\n",
    "plot_knn = plot_roc_curve(estimator=knn, X=X_val, y=y_val, ax=ax, name='KNN')"
   ]
  },
  {
   "cell_type": "markdown",
   "metadata": {
    "pycharm": {
     "name": "#%% md\n"
    }
   },
   "source": [
    "从这些ROC曲线可以明显看出，Logistic回归模型的性能略优于k近邻模型。为了得到ROC曲线下更精确的面积，我们可以使用*ROC_auc_score*方法。但是我们必须输入我们预测的概率值。在Sci-kit-learn中的ML算法的标准实现中，您可以找到*predict_proba（）*函数调用，该函数将给出预测的概率。"
   ]
  },
  {
   "cell_type": "code",
   "execution_count": 16,
   "metadata": {
    "pycharm": {
     "name": "#%%\n"
    }
   },
   "outputs": [
    {
     "name": "stdout",
     "output_type": "stream",
     "text": [
      "Area under the curve for logistic regression model: 0.9947209653092006\n"
     ]
    }
   ],
   "source": [
    "pred_scores = log_reg.predict_proba(X_val)\n",
    "print('Area under the curve for logistic regression model: {}'.format(roc_auc_score(y_true=y_val,\n",
    "                                                                                    y_score=pred_scores[:, 1])))"
   ]
  },
  {
   "cell_type": "code",
   "execution_count": 17,
   "metadata": {
    "pycharm": {
     "name": "#%%\n"
    }
   },
   "outputs": [
    {
     "name": "stdout",
     "output_type": "stream",
     "text": [
      "Area under the curve for KNearestNeighbours model: 0.9685143288084465\n"
     ]
    }
   ],
   "source": [
    "pred_scores = knn.predict_proba(X_val)\n",
    "print('Area under the curve for KNearestNeighbours model: {}'.format(roc_auc_score(y_true=y_val,\n",
    "                                                                                   y_score=pred_scores[:, 1])))"
   ]
  },
  {
   "cell_type": "markdown",
   "metadata": {
    "pycharm": {
     "name": "#%% md\n"
    }
   },
   "source": [
    "### Cross-Validation\n",
    "### 交叉验证\n",
    "\n",
    "\n",
    "现在我们知道我们的Logistic回归模型对我们当前的培训和验证数据集更有效。\n",
    " \n",
    "但这并不意味着这种情况会继续下去，如果我们用不同的样本训练同一个模型。为了了解我们的模型如何在不同的训练样本下工作，我们可以使用k-fold交叉验证。\n",
    "\n",
    "尽管我们在这里使用交叉验证是为了达到上述目的，但在实际的机器学习中，我们使用交叉验证还有一个主要原因。也就是说，最大限度地利用数据。使用交叉验证，我们可以在培训和验证阶段使用所有数据。所以如果你的数据集很小，交叉验证是克服这个问题的最好方法。"
   ]
  },
  {
   "cell_type": "markdown",
   "metadata": {
    "pycharm": {
     "name": "#%% md\n"
    }
   },
   "source": [
    "我们在sklearn中使用*cross_val_score（）*方法从折叠运行中获得性能分数。让我们做一个利用logistic回归模型的所有训练和验证数据进行10倍交叉验证。这里我们使用宏观平均f1分数作为评分方法。"
   ]
  },
  {
   "cell_type": "code",
   "execution_count": 18,
   "metadata": {
    "pycharm": {
     "name": "#%%\n"
    }
   },
   "outputs": [],
   "source": [
    "scores = cross_val_score(estimator=log_reg, X=X_train_val, y=y_train_val.values.ravel(), cv=10, scoring='f1_macro')"
   ]
  },
  {
   "cell_type": "code",
   "execution_count": 19,
   "metadata": {
    "pycharm": {
     "name": "#%%\n"
    }
   },
   "outputs": [
    {
     "name": "stdout",
     "output_type": "stream",
     "text": [
      "F1_score: 0.95 std: 0.05\n"
     ]
    }
   ],
   "source": [
    "print('F1_score: %0.2f std: %0.2f'%(scores.mean(), scores.std()))"
   ]
  },
  {
   "cell_type": "markdown",
   "metadata": {
    "pycharm": {
     "name": "#%% md\n"
    }
   },
   "source": [
    "Let's do the same for kNN model.\n",
    "\n",
    "让我们对kNN模型做同样的处理。"
   ]
  },
  {
   "cell_type": "code",
   "execution_count": 20,
   "metadata": {
    "pycharm": {
     "name": "#%%\n"
    }
   },
   "outputs": [],
   "source": [
    "scores = cross_val_score(estimator=knn, X=X_train_val, y=y_train_val.values.ravel(), cv=10, scoring='f1_macro')"
   ]
  },
  {
   "cell_type": "code",
   "execution_count": 21,
   "metadata": {
    "pycharm": {
     "name": "#%%\n"
    }
   },
   "outputs": [
    {
     "name": "stdout",
     "output_type": "stream",
     "text": [
      "F1_score: 0.92 std: 0.05\n"
     ]
    }
   ],
   "source": [
    "print('F1_score: %0.2f std: %0.2f'%(scores.mean(), scores.std()))"
   ]
  },
  {
   "cell_type": "markdown",
   "metadata": {
    "pycharm": {
     "name": "#%% md\n"
    }
   },
   "source": [
    "从这些结果，我们可以得出结论，我们的Logistic回归模型比kNN更好，无论样本。因此，我们可以得出结论，在这种情况下，Logistic回归是一个更好的可选择模型。"
   ]
  },
  {
   "cell_type": "markdown",
   "metadata": {
    "pycharm": {
     "name": "#%% md\n"
    }
   },
   "source": [
    "最后一步是根据测试数据集测试我们的模型。"
   ]
  },
  {
   "cell_type": "code",
   "execution_count": 22,
   "metadata": {
    "pycharm": {
     "name": "#%%\n"
    }
   },
   "outputs": [
    {
     "name": "stdout",
     "output_type": "stream",
     "text": [
      "              precision    recall  f1-score   support\n",
      "\n",
      "           0       0.98      0.83      0.90        59\n",
      "           1       0.89      0.99      0.94        84\n",
      "\n",
      "    accuracy                           0.92       143\n",
      "   macro avg       0.94      0.91      0.92       143\n",
      "weighted avg       0.93      0.92      0.92       143\n",
      "\n"
     ]
    }
   ],
   "source": [
    "pred = log_reg.predict(X_test)\n",
    "print(classification_report(y_true=y_test, y_pred=pred))"
   ]
  },
  {
   "cell_type": "markdown",
   "metadata": {},
   "source": [
    "## Task\n",
    "Use the dataset you cleaned in lab02 and lab03.\n",
    "\n",
    "* Make 3 different models using different machine learning algorithms.\n",
    "* Identify which performance measures you use by analyzing the problem.\n",
    "* Do hyperparameter tuning using *cross_val_score()* for every model and find the best parameters for each.\n",
    "* Do a complete performance analysis using the techniques you learned in class, and find the best model.\n",
    "* Run the model on the test dataset, and get the required performance numbers.\n",
    "\n",
    "## 任务\n",
    "使用在lab02和lab03中清理的数据集。\n",
    "* 使用不同的机器学习算法制作3个不同的模型。\n",
    "* 通过分析问题来确定您使用的性能度量。\n",
    "* 使用*cross_val_score（）*对每个模型进行超参数调整，并为每个模型找到最佳参数。\n",
    "* 用你在课堂上学到的技巧做一个完整的性能分析，找到最好的模型。\n",
    "* 在测试数据集上运行模型，并获得所需的性能数字。"
   ]
  },
  {
   "cell_type": "markdown",
   "metadata": {
    "collapsed": true,
    "pycharm": {
     "name": "#%%\n"
    }
   },
   "source": [
    "## 任务 - 三个算法模型评估\n",
    "\n",
    "### 1、读入数据\n",
    "### 2、划分数据\n",
    "### 3、选型\n",
    "- 1）定时性能\n",
    "- 2）预测性能\n",
    "- 3）ROC曲线\n",
    "- 4）交叉验证"
   ]
  },
  {
   "cell_type": "markdown",
   "metadata": {
    "pycharm": {
     "name": "#%% md\n"
    }
   },
   "source": []
  },
  {
   "cell_type": "markdown",
   "metadata": {
    "collapsed": true
   },
   "source": [
    "- 算法1：决策树算法\n",
    "- 算法2：KNN\n",
    "- 算法3：逻辑回归"
   ]
  },
  {
   "cell_type": "markdown",
   "metadata": {},
   "source": [
    "### 1、读入数据"
   ]
  },
  {
   "cell_type": "code",
   "execution_count": 23,
   "metadata": {},
   "outputs": [
    {
     "data": {
      "text/html": [
       "<div>\n",
       "<style scoped>\n",
       "    .dataframe tbody tr th:only-of-type {\n",
       "        vertical-align: middle;\n",
       "    }\n",
       "\n",
       "    .dataframe tbody tr th {\n",
       "        vertical-align: top;\n",
       "    }\n",
       "\n",
       "    .dataframe thead th {\n",
       "        text-align: right;\n",
       "    }\n",
       "</style>\n",
       "<table border=\"1\" class=\"dataframe\">\n",
       "  <thead>\n",
       "    <tr style=\"text-align: right;\">\n",
       "      <th></th>\n",
       "      <th>Unnamed: 0</th>\n",
       "      <th>timestamp</th>\n",
       "      <th>cylinder number</th>\n",
       "      <th>customer</th>\n",
       "      <th>job number</th>\n",
       "      <th>grain screened</th>\n",
       "      <th>ink color</th>\n",
       "      <th>proof on ctd ink</th>\n",
       "      <th>blade mfg</th>\n",
       "      <th>cylinder division</th>\n",
       "      <th>...</th>\n",
       "      <th>solvent pct</th>\n",
       "      <th>ESA Voltage</th>\n",
       "      <th>ESA Amperage</th>\n",
       "      <th>wax</th>\n",
       "      <th>hardener</th>\n",
       "      <th>roller durometer</th>\n",
       "      <th>current density</th>\n",
       "      <th>anode space ratio</th>\n",
       "      <th>chrome content</th>\n",
       "      <th>band type</th>\n",
       "    </tr>\n",
       "  </thead>\n",
       "  <tbody>\n",
       "    <tr>\n",
       "      <th>0</th>\n",
       "      <td>0</td>\n",
       "      <td>19910108</td>\n",
       "      <td>x126</td>\n",
       "      <td>tvguide</td>\n",
       "      <td>25503</td>\n",
       "      <td>0</td>\n",
       "      <td>key</td>\n",
       "      <td>yes</td>\n",
       "      <td>1</td>\n",
       "      <td>gallatin</td>\n",
       "      <td>...</td>\n",
       "      <td>36.4</td>\n",
       "      <td>0.0</td>\n",
       "      <td>0.0</td>\n",
       "      <td>2.5</td>\n",
       "      <td>1.0</td>\n",
       "      <td>34.0</td>\n",
       "      <td>40.0</td>\n",
       "      <td>105.00</td>\n",
       "      <td>100.0</td>\n",
       "      <td>1</td>\n",
       "    </tr>\n",
       "    <tr>\n",
       "      <th>1</th>\n",
       "      <td>1</td>\n",
       "      <td>19910109</td>\n",
       "      <td>x266</td>\n",
       "      <td>tvguide</td>\n",
       "      <td>25503</td>\n",
       "      <td>0</td>\n",
       "      <td>key</td>\n",
       "      <td>yes</td>\n",
       "      <td>1</td>\n",
       "      <td>gallatin</td>\n",
       "      <td>...</td>\n",
       "      <td>38.5</td>\n",
       "      <td>0.0</td>\n",
       "      <td>0.0</td>\n",
       "      <td>2.5</td>\n",
       "      <td>0.7</td>\n",
       "      <td>34.0</td>\n",
       "      <td>40.0</td>\n",
       "      <td>105.00</td>\n",
       "      <td>100.0</td>\n",
       "      <td>0</td>\n",
       "    </tr>\n",
       "    <tr>\n",
       "      <th>2</th>\n",
       "      <td>2</td>\n",
       "      <td>19910104</td>\n",
       "      <td>b7</td>\n",
       "      <td>modmat</td>\n",
       "      <td>47201</td>\n",
       "      <td>0</td>\n",
       "      <td>key</td>\n",
       "      <td>yes</td>\n",
       "      <td>1</td>\n",
       "      <td>gallatin</td>\n",
       "      <td>...</td>\n",
       "      <td>39.8</td>\n",
       "      <td>0.0</td>\n",
       "      <td>0.0</td>\n",
       "      <td>2.8</td>\n",
       "      <td>0.9</td>\n",
       "      <td>40.0</td>\n",
       "      <td>40.0</td>\n",
       "      <td>103.87</td>\n",
       "      <td>100.0</td>\n",
       "      <td>0</td>\n",
       "    </tr>\n",
       "    <tr>\n",
       "      <th>3</th>\n",
       "      <td>3</td>\n",
       "      <td>19910104</td>\n",
       "      <td>t133</td>\n",
       "      <td>massey</td>\n",
       "      <td>39039</td>\n",
       "      <td>0</td>\n",
       "      <td>key</td>\n",
       "      <td>yes</td>\n",
       "      <td>1</td>\n",
       "      <td>gallatin</td>\n",
       "      <td>...</td>\n",
       "      <td>38.8</td>\n",
       "      <td>0.0</td>\n",
       "      <td>0.0</td>\n",
       "      <td>2.5</td>\n",
       "      <td>1.3</td>\n",
       "      <td>40.0</td>\n",
       "      <td>40.0</td>\n",
       "      <td>108.06</td>\n",
       "      <td>100.0</td>\n",
       "      <td>0</td>\n",
       "    </tr>\n",
       "    <tr>\n",
       "      <th>4</th>\n",
       "      <td>4</td>\n",
       "      <td>19910111</td>\n",
       "      <td>j34</td>\n",
       "      <td>kmart</td>\n",
       "      <td>37351</td>\n",
       "      <td>1</td>\n",
       "      <td>key</td>\n",
       "      <td>yes</td>\n",
       "      <td>1</td>\n",
       "      <td>gallatin</td>\n",
       "      <td>...</td>\n",
       "      <td>42.5</td>\n",
       "      <td>5.0</td>\n",
       "      <td>0.0</td>\n",
       "      <td>2.3</td>\n",
       "      <td>0.6</td>\n",
       "      <td>35.0</td>\n",
       "      <td>40.0</td>\n",
       "      <td>106.67</td>\n",
       "      <td>100.0</td>\n",
       "      <td>0</td>\n",
       "    </tr>\n",
       "    <tr>\n",
       "      <th>...</th>\n",
       "      <td>...</td>\n",
       "      <td>...</td>\n",
       "      <td>...</td>\n",
       "      <td>...</td>\n",
       "      <td>...</td>\n",
       "      <td>...</td>\n",
       "      <td>...</td>\n",
       "      <td>...</td>\n",
       "      <td>...</td>\n",
       "      <td>...</td>\n",
       "      <td>...</td>\n",
       "      <td>...</td>\n",
       "      <td>...</td>\n",
       "      <td>...</td>\n",
       "      <td>...</td>\n",
       "      <td>...</td>\n",
       "      <td>...</td>\n",
       "      <td>...</td>\n",
       "      <td>...</td>\n",
       "      <td>...</td>\n",
       "      <td>...</td>\n",
       "    </tr>\n",
       "    <tr>\n",
       "      <th>535</th>\n",
       "      <td>535</td>\n",
       "      <td>19941005</td>\n",
       "      <td>aa66</td>\n",
       "      <td>kmart</td>\n",
       "      <td>85813</td>\n",
       "      <td>1</td>\n",
       "      <td>key</td>\n",
       "      <td>yes</td>\n",
       "      <td>1</td>\n",
       "      <td>gallatin</td>\n",
       "      <td>...</td>\n",
       "      <td>41.2</td>\n",
       "      <td>0.0</td>\n",
       "      <td>0.0</td>\n",
       "      <td>1.0</td>\n",
       "      <td>1.0</td>\n",
       "      <td>30.0</td>\n",
       "      <td>40.0</td>\n",
       "      <td>112.50</td>\n",
       "      <td>100.0</td>\n",
       "      <td>1</td>\n",
       "    </tr>\n",
       "    <tr>\n",
       "      <th>536</th>\n",
       "      <td>536</td>\n",
       "      <td>19941009</td>\n",
       "      <td>j44</td>\n",
       "      <td>best</td>\n",
       "      <td>38064</td>\n",
       "      <td>1</td>\n",
       "      <td>key</td>\n",
       "      <td>yes</td>\n",
       "      <td>1</td>\n",
       "      <td>gallatin</td>\n",
       "      <td>...</td>\n",
       "      <td>41.2</td>\n",
       "      <td>0.0</td>\n",
       "      <td>0.0</td>\n",
       "      <td>0.0</td>\n",
       "      <td>0.0</td>\n",
       "      <td>30.0</td>\n",
       "      <td>40.0</td>\n",
       "      <td>110.00</td>\n",
       "      <td>100.0</td>\n",
       "      <td>1</td>\n",
       "    </tr>\n",
       "    <tr>\n",
       "      <th>537</th>\n",
       "      <td>537</td>\n",
       "      <td>19941009</td>\n",
       "      <td>aa58</td>\n",
       "      <td>kmart</td>\n",
       "      <td>85814</td>\n",
       "      <td>1</td>\n",
       "      <td>key</td>\n",
       "      <td>yes</td>\n",
       "      <td>1</td>\n",
       "      <td>gallatin</td>\n",
       "      <td>...</td>\n",
       "      <td>41.2</td>\n",
       "      <td>0.0</td>\n",
       "      <td>0.0</td>\n",
       "      <td>2.7</td>\n",
       "      <td>2.8</td>\n",
       "      <td>30.0</td>\n",
       "      <td>40.0</td>\n",
       "      <td>108.00</td>\n",
       "      <td>100.0</td>\n",
       "      <td>1</td>\n",
       "    </tr>\n",
       "    <tr>\n",
       "      <th>538</th>\n",
       "      <td>538</td>\n",
       "      <td>19941010</td>\n",
       "      <td>aa70</td>\n",
       "      <td>kmart</td>\n",
       "      <td>85814</td>\n",
       "      <td>1</td>\n",
       "      <td>key</td>\n",
       "      <td>yes</td>\n",
       "      <td>1</td>\n",
       "      <td>gallatin</td>\n",
       "      <td>...</td>\n",
       "      <td>41.2</td>\n",
       "      <td>0.0</td>\n",
       "      <td>0.0</td>\n",
       "      <td>1.5</td>\n",
       "      <td>2.3</td>\n",
       "      <td>30.0</td>\n",
       "      <td>40.0</td>\n",
       "      <td>108.00</td>\n",
       "      <td>100.0</td>\n",
       "      <td>1</td>\n",
       "    </tr>\n",
       "    <tr>\n",
       "      <th>539</th>\n",
       "      <td>539</td>\n",
       "      <td>19941010</td>\n",
       "      <td>j70</td>\n",
       "      <td>best</td>\n",
       "      <td>38064</td>\n",
       "      <td>1</td>\n",
       "      <td>key</td>\n",
       "      <td>yes</td>\n",
       "      <td>1</td>\n",
       "      <td>gallatin</td>\n",
       "      <td>...</td>\n",
       "      <td>41.2</td>\n",
       "      <td>0.0</td>\n",
       "      <td>0.0</td>\n",
       "      <td>2.5</td>\n",
       "      <td>1.0</td>\n",
       "      <td>30.0</td>\n",
       "      <td>40.0</td>\n",
       "      <td>108.10</td>\n",
       "      <td>100.0</td>\n",
       "      <td>1</td>\n",
       "    </tr>\n",
       "  </tbody>\n",
       "</table>\n",
       "<p>540 rows × 41 columns</p>\n",
       "</div>"
      ],
      "text/plain": [
       "     Unnamed: 0  timestamp cylinder number customer  job number  \\\n",
       "0             0   19910108            x126  tvguide       25503   \n",
       "1             1   19910109            x266  tvguide       25503   \n",
       "2             2   19910104              b7   modmat       47201   \n",
       "3             3   19910104            t133   massey       39039   \n",
       "4             4   19910111             j34    kmart       37351   \n",
       "..          ...        ...             ...      ...         ...   \n",
       "535         535   19941005            aa66    kmart       85813   \n",
       "536         536   19941009             j44     best       38064   \n",
       "537         537   19941009            aa58    kmart       85814   \n",
       "538         538   19941010            aa70    kmart       85814   \n",
       "539         539   19941010             j70     best       38064   \n",
       "\n",
       "     grain screened ink color proof on ctd ink  blade mfg cylinder division  \\\n",
       "0                 0       key              yes          1          gallatin   \n",
       "1                 0       key              yes          1          gallatin   \n",
       "2                 0       key              yes          1          gallatin   \n",
       "3                 0       key              yes          1          gallatin   \n",
       "4                 1       key              yes          1          gallatin   \n",
       "..              ...       ...              ...        ...               ...   \n",
       "535               1       key              yes          1          gallatin   \n",
       "536               1       key              yes          1          gallatin   \n",
       "537               1       key              yes          1          gallatin   \n",
       "538               1       key              yes          1          gallatin   \n",
       "539               1       key              yes          1          gallatin   \n",
       "\n",
       "     ...  solvent pct  ESA Voltage  ESA Amperage  wax hardener  \\\n",
       "0    ...         36.4          0.0           0.0  2.5      1.0   \n",
       "1    ...         38.5          0.0           0.0  2.5      0.7   \n",
       "2    ...         39.8          0.0           0.0  2.8      0.9   \n",
       "3    ...         38.8          0.0           0.0  2.5      1.3   \n",
       "4    ...         42.5          5.0           0.0  2.3      0.6   \n",
       "..   ...          ...          ...           ...  ...      ...   \n",
       "535  ...         41.2          0.0           0.0  1.0      1.0   \n",
       "536  ...         41.2          0.0           0.0  0.0      0.0   \n",
       "537  ...         41.2          0.0           0.0  2.7      2.8   \n",
       "538  ...         41.2          0.0           0.0  1.5      2.3   \n",
       "539  ...         41.2          0.0           0.0  2.5      1.0   \n",
       "\n",
       "     roller durometer  current density  anode space ratio chrome content  \\\n",
       "0                34.0             40.0             105.00          100.0   \n",
       "1                34.0             40.0             105.00          100.0   \n",
       "2                40.0             40.0             103.87          100.0   \n",
       "3                40.0             40.0             108.06          100.0   \n",
       "4                35.0             40.0             106.67          100.0   \n",
       "..                ...              ...                ...            ...   \n",
       "535              30.0             40.0             112.50          100.0   \n",
       "536              30.0             40.0             110.00          100.0   \n",
       "537              30.0             40.0             108.00          100.0   \n",
       "538              30.0             40.0             108.00          100.0   \n",
       "539              30.0             40.0             108.10          100.0   \n",
       "\n",
       "    band type  \n",
       "0           1  \n",
       "1           0  \n",
       "2           0  \n",
       "3           0  \n",
       "4           0  \n",
       "..        ...  \n",
       "535         1  \n",
       "536         1  \n",
       "537         1  \n",
       "538         1  \n",
       "539         1  \n",
       "\n",
       "[540 rows x 41 columns]"
      ]
     },
     "execution_count": 23,
     "metadata": {},
     "output_type": "execute_result"
    }
   ],
   "source": [
    "bands_df = pd.read_csv('lab02_bands.csv')\n",
    "encode = {\n",
    "    'grain screened':{'yes':0,'no':1},\n",
    "    'blade mfg':{'uddeholm':0,'benton':1},\n",
    "    'paper type':{'coated':0,'uncoated':1,'super':2},\n",
    "    'ink type':{'coated':0,'uncoated':1,'cover':2}, \n",
    "    'direct steam':{'yes':0,'no':1},\n",
    "    'solvent type':{'naptha':0,'line':1,'xylol':2},\n",
    "    'press type':{'motter70':0,'motter94':1,'albert70':2,'woodhoe70':3},\n",
    "}\n",
    "bands_df.replace(encode, inplace=True)\n",
    "bands_df"
   ]
  },
  {
   "cell_type": "markdown",
   "metadata": {},
   "source": [
    "### 2、划分数据"
   ]
  },
  {
   "cell_type": "code",
   "execution_count": 24,
   "metadata": {},
   "outputs": [],
   "source": [
    "y = bands_df['band type']\n",
    "X = bands_df.drop(['band type', 'Unnamed: 0'], axis=1)\n",
    "\n",
    "# X.info()"
   ]
  },
  {
   "cell_type": "code",
   "execution_count": 25,
   "metadata": {},
   "outputs": [],
   "source": [
    "X_train_val, X_test, y_train_val, y_test = train_test_split(X, y, test_size = 0.3)\n",
    "X_train, X_val, y_train, y_val = train_test_split(X_train_val, y_train_val)\n",
    "# X_train.info()"
   ]
  },
  {
   "cell_type": "code",
   "execution_count": 26,
   "metadata": {},
   "outputs": [],
   "source": [
    "objectFeatureNames = ['grain screened','blade mfg','direct steam','paper type', 'ink type','press type','solvent type']\n",
    "objectX_train = pd.DataFrame(X_train, columns = objectFeatureNames)\n",
    "objectX_val = pd.DataFrame(X_val, columns = objectFeatureNames)\n",
    "# objectX.info()"
   ]
  },
  {
   "cell_type": "code",
   "execution_count": 27,
   "metadata": {},
   "outputs": [],
   "source": [
    "floatFeatureNames = [\"press speed\",\"roller durometer\",\"ink pct\",\"current density\",\"humifity\",\"varnish pct\",\"solvent pct\"]\n",
    "floatX_train = pd.DataFrame(X_train, columns = floatFeatureNames)\n",
    "floatX_val = pd.DataFrame(X_val, columns = floatFeatureNames)\n",
    "# floatX.info()"
   ]
  },
  {
   "cell_type": "markdown",
   "metadata": {},
   "source": [
    "### 3、选型"
   ]
  },
  {
   "cell_type": "code",
   "execution_count": 28,
   "metadata": {},
   "outputs": [],
   "source": [
    "tree = DecisionTreeClassifier(criterion='entropy')"
   ]
  },
  {
   "cell_type": "code",
   "execution_count": 30,
   "metadata": {},
   "outputs": [],
   "source": [
    "knn = KNeighborsClassifier(n_neighbors=5)"
   ]
  },
  {
   "cell_type": "code",
   "execution_count": 31,
   "metadata": {},
   "outputs": [],
   "source": [
    "log_reg = LogisticRegression(max_iter=5000)"
   ]
  },
  {
   "cell_type": "markdown",
   "metadata": {},
   "source": [
    "#### 1）定时性能"
   ]
  },
  {
   "cell_type": "markdown",
   "metadata": {},
   "source": [
    "##### ① 训练时间"
   ]
  },
  {
   "cell_type": "code",
   "execution_count": 32,
   "metadata": {},
   "outputs": [
    {
     "name": "stdout",
     "output_type": "stream",
     "text": [
      "CPU times: user 3.11 ms, sys: 813 µs, total: 3.92 ms\n",
      "Wall time: 3.38 ms\n"
     ]
    },
    {
     "data": {
      "text/plain": [
       "DecisionTreeClassifier(criterion='entropy')"
      ]
     },
     "execution_count": 32,
     "metadata": {},
     "output_type": "execute_result"
    }
   ],
   "source": [
    "%%time\n",
    "tree.fit(objectX_train, y_train)"
   ]
  },
  {
   "cell_type": "code",
   "execution_count": 33,
   "metadata": {},
   "outputs": [
    {
     "name": "stdout",
     "output_type": "stream",
     "text": [
      "CPU times: user 2.24 ms, sys: 500 µs, total: 2.74 ms\n",
      "Wall time: 2.26 ms\n"
     ]
    },
    {
     "data": {
      "text/plain": [
       "KNeighborsClassifier()"
      ]
     },
     "execution_count": 33,
     "metadata": {},
     "output_type": "execute_result"
    }
   ],
   "source": [
    "%%time\n",
    "knn.fit(floatX_train, y_train)"
   ]
  },
  {
   "cell_type": "code",
   "execution_count": 34,
   "metadata": {},
   "outputs": [
    {
     "name": "stdout",
     "output_type": "stream",
     "text": [
      "CPU times: user 21.6 ms, sys: 2.58 ms, total: 24.2 ms\n",
      "Wall time: 22.5 ms\n"
     ]
    },
    {
     "data": {
      "text/plain": [
       "LogisticRegression(max_iter=5000)"
      ]
     },
     "execution_count": 34,
     "metadata": {},
     "output_type": "execute_result"
    }
   ],
   "source": [
    "%%time\n",
    "log_reg.fit(floatX_train, y_train)"
   ]
  },
  {
   "cell_type": "markdown",
   "metadata": {},
   "source": [
    "##### ② 预测时间"
   ]
  },
  {
   "cell_type": "code",
   "execution_count": 35,
   "metadata": {},
   "outputs": [
    {
     "name": "stdout",
     "output_type": "stream",
     "text": [
      "CPU times: user 2.15 ms, sys: 86 µs, total: 2.24 ms\n",
      "Wall time: 2.2 ms\n"
     ]
    }
   ],
   "source": [
    "%%time\n",
    "pred_tree = tree.predict(objectX_val)\n",
    "# print(\"Accuracy:\", metrics.accuracy_score(y_val, y_pred))"
   ]
  },
  {
   "cell_type": "code",
   "execution_count": 36,
   "metadata": {},
   "outputs": [
    {
     "name": "stdout",
     "output_type": "stream",
     "text": [
      "CPU times: user 7.65 ms, sys: 2.92 ms, total: 10.6 ms\n",
      "Wall time: 7.9 ms\n"
     ]
    }
   ],
   "source": [
    "%%time\n",
    "pred_knn = knn.predict(floatX_val)"
   ]
  },
  {
   "cell_type": "code",
   "execution_count": 37,
   "metadata": {},
   "outputs": [
    {
     "name": "stdout",
     "output_type": "stream",
     "text": [
      "CPU times: user 1.69 ms, sys: 21 µs, total: 1.71 ms\n",
      "Wall time: 1.7 ms\n"
     ]
    }
   ],
   "source": [
    "%%time\n",
    "pred_log_reg = log_reg.predict(floatX_val)"
   ]
  },
  {
   "cell_type": "markdown",
   "metadata": {},
   "source": [
    "总结：\n",
    "\n",
    "训练时间：knn < 决策树 < 逻辑回归\n",
    "\n",
    "预测时间：逻辑回归 < 决策树 < knn"
   ]
  },
  {
   "cell_type": "markdown",
   "metadata": {},
   "source": [
    "#### 2）预测性能\n",
    "\n",
    "先生成混淆矩阵和分类报告。"
   ]
  },
  {
   "cell_type": "code",
   "execution_count": 38,
   "metadata": {},
   "outputs": [
    {
     "name": "stdout",
     "output_type": "stream",
     "text": [
      "              precision    recall  f1-score   support\n",
      "\n",
      "           0       0.64      0.66      0.65        59\n",
      "           1       0.41      0.39      0.40        36\n",
      "\n",
      "    accuracy                           0.56        95\n",
      "   macro avg       0.53      0.52      0.53        95\n",
      "weighted avg       0.55      0.56      0.56        95\n",
      "\n"
     ]
    }
   ],
   "source": [
    "confusion_matrix(y_true=y_val, y_pred=pred_tree)\n",
    "print(classification_report(y_true=y_val, y_pred=pred_tree))"
   ]
  },
  {
   "cell_type": "code",
   "execution_count": 39,
   "metadata": {},
   "outputs": [
    {
     "name": "stdout",
     "output_type": "stream",
     "text": [
      "              precision    recall  f1-score   support\n",
      "\n",
      "           0       0.67      0.63      0.65        59\n",
      "           1       0.45      0.50      0.47        36\n",
      "\n",
      "    accuracy                           0.58        95\n",
      "   macro avg       0.56      0.56      0.56        95\n",
      "weighted avg       0.59      0.58      0.58        95\n",
      "\n"
     ]
    }
   ],
   "source": [
    "confusion_matrix(y_true=y_val, y_pred=pred_knn)\n",
    "print(classification_report(y_true=y_val, y_pred=pred_knn))"
   ]
  },
  {
   "cell_type": "code",
   "execution_count": 40,
   "metadata": {},
   "outputs": [
    {
     "name": "stdout",
     "output_type": "stream",
     "text": [
      "              precision    recall  f1-score   support\n",
      "\n",
      "           0       0.72      0.83      0.77        59\n",
      "           1       0.63      0.47      0.54        36\n",
      "\n",
      "    accuracy                           0.69        95\n",
      "   macro avg       0.68      0.65      0.66        95\n",
      "weighted avg       0.69      0.69      0.68        95\n",
      "\n"
     ]
    }
   ],
   "source": [
    "confusion_matrix(y_true=y_val, y_pred=pred_log_reg)\n",
    "print(classification_report(y_true=y_val, y_pred=pred_log_reg))"
   ]
  },
  {
   "cell_type": "markdown",
   "metadata": {},
   "source": [
    "总结:\n",
    "\n",
    "预测性能：\n",
    "\n",
    "决策树 > knn > 逻辑回归"
   ]
  },
  {
   "cell_type": "markdown",
   "metadata": {},
   "source": [
    "#### 3）ROC 曲线"
   ]
  },
  {
   "cell_type": "code",
   "execution_count": 41,
   "metadata": {},
   "outputs": [
    {
     "data": {
      "image/png": "[encoded data removed]",
      "text/plain": [
       "<Figure size 432x288 with 1 Axes>"
      ]
     },
     "metadata": {
      "needs_background": "light"
     },
     "output_type": "display_data"
    }
   ],
   "source": [
    "ax = plt.gca()\n",
    "plot_tree = plot_roc_curve(estimator=tree, X=objectX_val, y=y_val, ax=ax, name='Tree')\n",
    "plot_knn = plot_roc_curve(estimator=knn, X=floatX_val, y=y_val, ax=ax, name='KNN')\n",
    "plot_log_reg = plot_roc_curve(estimator=log_reg, X=floatX_val, y=y_val, ax=ax, name='Logistic_Regression')\n"
   ]
  },
  {
   "cell_type": "code",
   "execution_count": 42,
   "metadata": {},
   "outputs": [
    {
     "name": "stdout",
     "output_type": "stream",
     "text": [
      "Area under the curve for 【tree】 regression model: 0.6377118644067796\n"
     ]
    }
   ],
   "source": [
    "pred_scores = tree.predict_proba(objectX_val)\n",
    "print('Area under the curve for 【tree】 regression model: {}'.format(roc_auc_score(y_true=y_val,\n",
    "                                                                                    y_score=pred_scores[:, 1])))"
   ]
  },
  {
   "cell_type": "code",
   "execution_count": 43,
   "metadata": {},
   "outputs": [
    {
     "name": "stdout",
     "output_type": "stream",
     "text": [
      "Area under the curve for 【knn】 regression model: 0.6358286252354048\n"
     ]
    }
   ],
   "source": [
    "pred_scores = knn.predict_proba(floatX_val)\n",
    "print('Area under the curve for 【knn】 regression model: {}'.format(roc_auc_score(y_true=y_val,\n",
    "                                                                                    y_score=pred_scores[:, 1])))"
   ]
  },
  {
   "cell_type": "code",
   "execution_count": 44,
   "metadata": {},
   "outputs": [
    {
     "name": "stdout",
     "output_type": "stream",
     "text": [
      "Area under the curve for 【logistic】 regression model: 0.7372881355932203\n"
     ]
    }
   ],
   "source": [
    "pred_scores = log_reg.predict_proba(floatX_val)\n",
    "print('Area under the curve for 【logistic】 regression model: {}'.format(roc_auc_score(y_true=y_val,\n",
    "                                                                                    y_score=pred_scores[:, 1])))"
   ]
  },
  {
   "cell_type": "markdown",
   "metadata": {},
   "source": [
    "#### 4）交叉验证"
   ]
  },
  {
   "cell_type": "code",
   "execution_count": 45,
   "metadata": {},
   "outputs": [
    {
     "name": "stdout",
     "output_type": "stream",
     "text": [
      "F1_score: 0.65 std: 0.08\n"
     ]
    }
   ],
   "source": [
    "objectX_train_val = pd.DataFrame(X_train_val, columns = objectFeatureNames)\n",
    "scores = cross_val_score(estimator=tree, X=objectX_train_val, y=y_train_val, cv=10, scoring='f1_macro')\n",
    "print('F1_score: %0.2f std: %0.2f'%(scores.mean(), scores.std()))\n"
   ]
  },
  {
   "cell_type": "code",
   "execution_count": 46,
   "metadata": {},
   "outputs": [
    {
     "name": "stdout",
     "output_type": "stream",
     "text": [
      "F1_score: 0.63 std: 0.09\n"
     ]
    }
   ],
   "source": [
    "floatX_train_val = pd.DataFrame(X_train_val, columns = floatFeatureNames)\n",
    "scores = cross_val_score(estimator=knn, X=floatX_train_val, y=y_train_val, cv=10, scoring='f1_macro')\n",
    "print('F1_score: %0.2f std: %0.2f'%(scores.mean(), scores.std()))\n"
   ]
  },
  {
   "cell_type": "code",
   "execution_count": 47,
   "metadata": {},
   "outputs": [
    {
     "name": "stdout",
     "output_type": "stream",
     "text": [
      "F1_score: 0.60 std: 0.09\n"
     ]
    }
   ],
   "source": [
    "scores = cross_val_score(estimator=log_reg, X=floatX_train_val, y=y_train_val, cv=10, scoring='f1_macro')\n",
    "print('F1_score: %0.2f std: %0.2f'%(scores.mean(), scores.std()))\n"
   ]
  },
  {
   "cell_type": "markdown",
   "metadata": {},
   "source": [
    "结论：\n",
    "决策树模型 > knn模型 > 逻辑回归模型"
   ]
  },
  {
   "cell_type": "code",
   "execution_count": 48,
   "metadata": {},
   "outputs": [
    {
     "name": "stdout",
     "output_type": "stream",
     "text": [
      "              precision    recall  f1-score   support\n",
      "\n",
      "           0       0.70      0.73      0.72        85\n",
      "           1       0.69      0.66      0.68        77\n",
      "\n",
      "    accuracy                           0.70       162\n",
      "   macro avg       0.70      0.70      0.70       162\n",
      "weighted avg       0.70      0.70      0.70       162\n",
      "\n"
     ]
    }
   ],
   "source": [
    "objectX_val = pd.DataFrame(X_test, columns = objectFeatureNames)\n",
    "pred = tree.predict(objectX_val)\n",
    "print(classification_report(y_true=y_test, y_pred=pred))"
   ]
  },
  {
   "cell_type": "code",
   "execution_count": null,
   "metadata": {},
   "outputs": [],
   "source": []
  }
 ],
 "metadata": {
  "kernelspec": {
   "display_name": "Python 3",
   "language": "python",
   "name": "python3"
  },
  "language_info": {
   "codemirror_mode": {
    "name": "ipython",
    "version": 3
   },
   "file_extension": ".py",
   "mimetype": "text/x-python",
   "name": "python",
   "nbconvert_exporter": "python",
   "pygments_lexer": "ipython3",
   "version": "3.8.6"
  }
 },
 "nbformat": 4,
 "nbformat_minor": 1
}
