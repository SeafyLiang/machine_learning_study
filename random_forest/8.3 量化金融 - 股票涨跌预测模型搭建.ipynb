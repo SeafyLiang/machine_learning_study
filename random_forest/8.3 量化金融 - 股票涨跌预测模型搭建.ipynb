{
 "cells": [
  {
   "cell_type": "markdown",
   "metadata": {},
   "source": [
    "# 8.3 量化金融 - 股票涨跌预测模型搭建"
   ]
  },
  {
   "cell_type": "markdown",
   "metadata": {},
   "source": [
    "# 8.3.1 多因子模型搭建"
   ]
  },
  {
   "cell_type": "markdown",
   "metadata": {},
   "source": [
    "**1.引入之后需要用到的库**"
   ]
  },
  {
   "cell_type": "code",
   "execution_count": 1,
   "metadata": {},
   "outputs": [],
   "source": [
    "import tushare as ts  # 股票基本数据相关库\n",
    "import numpy as np  # 科学计算相关库\n",
    "import pandas as pd  # 科学计算相关库  \n",
    "import talib  # 股票衍生变量数据相关库\n",
    "import matplotlib.pyplot as plt  # 引入绘图相关库\n",
    "from sklearn.ensemble import RandomForestClassifier  # 引入分类决策树模型\n",
    "from sklearn.metrics import accuracy_score  # 引入准确度评分函数\n",
    "import warnings\n",
    "warnings.filterwarnings(\"ignore\") # 忽略警告信息，警告非报错，不影响代码执行"
   ]
  },
  {
   "cell_type": "markdown",
   "metadata": {},
   "source": [
    "**2.股票数据处理与衍生变量生成**"
   ]
  },
  {
   "cell_type": "markdown",
   "metadata": {},
   "source": [
    "我们这里将8.2节股票基本数据和股票衍生变量数据的相关代码汇总，方便之后的股票涨跌预测模型的搭建："
   ]
  },
  {
   "cell_type": "code",
   "execution_count": 2,
   "metadata": {},
   "outputs": [],
   "source": [
    "# 1.股票基本数据获取\n",
    "df = ts.get_k_data('000002',start='2015-01-01',end='2019-12-31')\n",
    "df = df.set_index('date')  # 设置日期为索引\n",
    "\n",
    "# 2.简单衍生变量构造\n",
    "df['close-open'] = (df['close'] - df['open'])/df['open']\n",
    "df['high-low'] = (df['high'] - df['low'])/df['low']\n",
    "\n",
    "df['pre_close'] = df['close'].shift(1)  # 该列所有往下移一行形成昨日收盘价\n",
    "df['price_change'] = df['close']-df['pre_close']\n",
    "df['p_change'] = (df['close']-df['pre_close'])/df['pre_close']*100\n",
    "\n",
    "# 3.移动平均线相关数据构造\n",
    "df['MA5'] = df['close'].rolling(5).mean()\n",
    "df['MA10'] = df['close'].rolling(10).mean()\n",
    "df.dropna(inplace=True)  # 删除空值\n",
    "\n",
    "# 4.通过Ta_lib库构造衍生变量\n",
    "df['RSI'] = talib.RSI(df['close'], timeperiod=12)  # 相对强弱指标\n",
    "df['MOM'] = talib.MOM(df['close'], timeperiod=5)  # 动量指标\n",
    "df['EMA12'] = talib.EMA(df['close'], timeperiod=12)  # 12日指数移动平均线\n",
    "df['EMA26'] = talib.EMA(df['close'], timeperiod=26)  # 26日指数移动平均线\n",
    "df['MACD'], df['MACDsignal'], df['MACDhist'] = talib.MACD(df['close'], fastperiod=12, slowperiod=26, signalperiod=9)  # MACD值\n",
    "df.dropna(inplace=True)  # 删除空值"
   ]
  },
  {
   "cell_type": "code",
   "execution_count": 3,
   "metadata": {},
   "outputs": [
    {
     "data": {
      "text/html": [
       "<div>\n",
       "<style scoped>\n",
       "    .dataframe tbody tr th:only-of-type {\n",
       "        vertical-align: middle;\n",
       "    }\n",
       "\n",
       "    .dataframe tbody tr th {\n",
       "        vertical-align: top;\n",
       "    }\n",
       "\n",
       "    .dataframe thead th {\n",
       "        text-align: right;\n",
       "    }\n",
       "</style>\n",
       "<table border=\"1\" class=\"dataframe\">\n",
       "  <thead>\n",
       "    <tr style=\"text-align: right;\">\n",
       "      <th></th>\n",
       "      <th>open</th>\n",
       "      <th>close</th>\n",
       "      <th>high</th>\n",
       "      <th>low</th>\n",
       "      <th>volume</th>\n",
       "      <th>code</th>\n",
       "      <th>close-open</th>\n",
       "      <th>high-low</th>\n",
       "      <th>pre_close</th>\n",
       "      <th>price_change</th>\n",
       "      <th>p_change</th>\n",
       "      <th>MA5</th>\n",
       "      <th>MA10</th>\n",
       "      <th>RSI</th>\n",
       "      <th>MOM</th>\n",
       "      <th>EMA12</th>\n",
       "      <th>EMA26</th>\n",
       "      <th>MACD</th>\n",
       "      <th>MACDsignal</th>\n",
       "      <th>MACDhist</th>\n",
       "    </tr>\n",
       "    <tr>\n",
       "      <th>date</th>\n",
       "      <th></th>\n",
       "      <th></th>\n",
       "      <th></th>\n",
       "      <th></th>\n",
       "      <th></th>\n",
       "      <th></th>\n",
       "      <th></th>\n",
       "      <th></th>\n",
       "      <th></th>\n",
       "      <th></th>\n",
       "      <th></th>\n",
       "      <th></th>\n",
       "      <th></th>\n",
       "      <th></th>\n",
       "      <th></th>\n",
       "      <th></th>\n",
       "      <th></th>\n",
       "      <th></th>\n",
       "      <th></th>\n",
       "      <th></th>\n",
       "    </tr>\n",
       "  </thead>\n",
       "  <tbody>\n",
       "    <tr>\n",
       "      <th>2019-12-25</th>\n",
       "      <td>30.40</td>\n",
       "      <td>30.29</td>\n",
       "      <td>30.63</td>\n",
       "      <td>30.18</td>\n",
       "      <td>685037.0</td>\n",
       "      <td>000002</td>\n",
       "      <td>-0.003618</td>\n",
       "      <td>0.014911</td>\n",
       "      <td>30.38</td>\n",
       "      <td>-0.09</td>\n",
       "      <td>-0.296248</td>\n",
       "      <td>30.878</td>\n",
       "      <td>30.075</td>\n",
       "      <td>63.075563</td>\n",
       "      <td>-0.02</td>\n",
       "      <td>29.908556</td>\n",
       "      <td>28.973211</td>\n",
       "      <td>0.935345</td>\n",
       "      <td>0.772958</td>\n",
       "      <td>0.162387</td>\n",
       "    </tr>\n",
       "    <tr>\n",
       "      <th>2019-12-26</th>\n",
       "      <td>30.50</td>\n",
       "      <td>31.12</td>\n",
       "      <td>31.30</td>\n",
       "      <td>30.50</td>\n",
       "      <td>888790.0</td>\n",
       "      <td>000002</td>\n",
       "      <td>0.020328</td>\n",
       "      <td>0.026230</td>\n",
       "      <td>30.29</td>\n",
       "      <td>0.83</td>\n",
       "      <td>2.740178</td>\n",
       "      <td>30.896</td>\n",
       "      <td>30.387</td>\n",
       "      <td>68.890164</td>\n",
       "      <td>0.09</td>\n",
       "      <td>30.094932</td>\n",
       "      <td>29.132233</td>\n",
       "      <td>0.962699</td>\n",
       "      <td>0.810906</td>\n",
       "      <td>0.151793</td>\n",
       "    </tr>\n",
       "    <tr>\n",
       "      <th>2019-12-27</th>\n",
       "      <td>31.23</td>\n",
       "      <td>31.00</td>\n",
       "      <td>31.32</td>\n",
       "      <td>30.81</td>\n",
       "      <td>703096.0</td>\n",
       "      <td>000002</td>\n",
       "      <td>-0.007365</td>\n",
       "      <td>0.016553</td>\n",
       "      <td>31.12</td>\n",
       "      <td>-0.12</td>\n",
       "      <td>-0.385604</td>\n",
       "      <td>30.760</td>\n",
       "      <td>30.672</td>\n",
       "      <td>67.220611</td>\n",
       "      <td>-0.68</td>\n",
       "      <td>30.234173</td>\n",
       "      <td>29.270586</td>\n",
       "      <td>0.963587</td>\n",
       "      <td>0.841442</td>\n",
       "      <td>0.122145</td>\n",
       "    </tr>\n",
       "    <tr>\n",
       "      <th>2019-12-30</th>\n",
       "      <td>31.35</td>\n",
       "      <td>31.57</td>\n",
       "      <td>31.79</td>\n",
       "      <td>31.02</td>\n",
       "      <td>915751.0</td>\n",
       "      <td>000002</td>\n",
       "      <td>0.007018</td>\n",
       "      <td>0.024823</td>\n",
       "      <td>31.00</td>\n",
       "      <td>0.57</td>\n",
       "      <td>1.838710</td>\n",
       "      <td>30.872</td>\n",
       "      <td>30.884</td>\n",
       "      <td>70.877814</td>\n",
       "      <td>0.56</td>\n",
       "      <td>30.439685</td>\n",
       "      <td>29.440913</td>\n",
       "      <td>0.998772</td>\n",
       "      <td>0.872908</td>\n",
       "      <td>0.125864</td>\n",
       "    </tr>\n",
       "    <tr>\n",
       "      <th>2019-12-31</th>\n",
       "      <td>31.35</td>\n",
       "      <td>32.18</td>\n",
       "      <td>32.45</td>\n",
       "      <td>31.32</td>\n",
       "      <td>663497.0</td>\n",
       "      <td>000002</td>\n",
       "      <td>0.026475</td>\n",
       "      <td>0.036079</td>\n",
       "      <td>31.57</td>\n",
       "      <td>0.61</td>\n",
       "      <td>1.932214</td>\n",
       "      <td>31.232</td>\n",
       "      <td>31.057</td>\n",
       "      <td>74.233951</td>\n",
       "      <td>1.80</td>\n",
       "      <td>30.707426</td>\n",
       "      <td>29.643808</td>\n",
       "      <td>1.063618</td>\n",
       "      <td>0.911050</td>\n",
       "      <td>0.152567</td>\n",
       "    </tr>\n",
       "  </tbody>\n",
       "</table>\n",
       "</div>"
      ],
      "text/plain": [
       "             open  close   high    low    volume    code  close-open  \\\n",
       "date                                                                   \n",
       "2019-12-25  30.40  30.29  30.63  30.18  685037.0  000002   -0.003618   \n",
       "2019-12-26  30.50  31.12  31.30  30.50  888790.0  000002    0.020328   \n",
       "2019-12-27  31.23  31.00  31.32  30.81  703096.0  000002   -0.007365   \n",
       "2019-12-30  31.35  31.57  31.79  31.02  915751.0  000002    0.007018   \n",
       "2019-12-31  31.35  32.18  32.45  31.32  663497.0  000002    0.026475   \n",
       "\n",
       "            high-low  pre_close  price_change  p_change     MA5    MA10  \\\n",
       "date                                                                      \n",
       "2019-12-25  0.014911      30.38         -0.09 -0.296248  30.878  30.075   \n",
       "2019-12-26  0.026230      30.29          0.83  2.740178  30.896  30.387   \n",
       "2019-12-27  0.016553      31.12         -0.12 -0.385604  30.760  30.672   \n",
       "2019-12-30  0.024823      31.00          0.57  1.838710  30.872  30.884   \n",
       "2019-12-31  0.036079      31.57          0.61  1.932214  31.232  31.057   \n",
       "\n",
       "                  RSI   MOM      EMA12      EMA26      MACD  MACDsignal  \\\n",
       "date                                                                      \n",
       "2019-12-25  63.075563 -0.02  29.908556  28.973211  0.935345    0.772958   \n",
       "2019-12-26  68.890164  0.09  30.094932  29.132233  0.962699    0.810906   \n",
       "2019-12-27  67.220611 -0.68  30.234173  29.270586  0.963587    0.841442   \n",
       "2019-12-30  70.877814  0.56  30.439685  29.440913  0.998772    0.872908   \n",
       "2019-12-31  74.233951  1.80  30.707426  29.643808  1.063618    0.911050   \n",
       "\n",
       "            MACDhist  \n",
       "date                  \n",
       "2019-12-25  0.162387  \n",
       "2019-12-26  0.151793  \n",
       "2019-12-27  0.122145  \n",
       "2019-12-30  0.125864  \n",
       "2019-12-31  0.152567  "
      ]
     },
     "execution_count": 3,
     "metadata": {},
     "output_type": "execute_result"
    }
   ],
   "source": [
    "# 查看此时的df后五行\n",
    "df.tail()"
   ]
  },
  {
   "cell_type": "markdown",
   "metadata": {},
   "source": [
    "**3.特征变量和目标变量提取**"
   ]
  },
  {
   "cell_type": "code",
   "execution_count": 4,
   "metadata": {},
   "outputs": [],
   "source": [
    "X = df[['close', 'volume', 'close-open', 'MA5', 'MA10', 'high-low', 'RSI', 'MOM', 'EMA12', 'MACD', 'MACDsignal', 'MACDhist']]\n",
    "y = np.where(df['price_change'].shift(-1)> 0, 1, -1)"
   ]
  },
  {
   "cell_type": "markdown",
   "metadata": {},
   "source": [
    "首先强调最核心的一点：应该是今天的股价信息预测下一天的股价涨跌情况，所以y应该是下一天的股价变化情况。"
   ]
  },
  {
   "cell_type": "markdown",
   "metadata": {},
   "source": [
    "其中Numpy库中的where()函数的使用方法如下所示：\n",
    "np.where(判断条件,满足条件的赋值,不满足条件的赋值)\n",
    "\n",
    "其中df['price_change'].shift(-1)则是利用shift()函数将price_change（股价变化）这一列往上移动一行，这样就获得了每一行对应的下一天股价涨跌情况。\n",
    "\n",
    "因此这里的判断条件就是下一天股价是否大于0，如果下一天股价涨了的我们则y赋值为数字1，下一天股价跌了的，则y赋值为数字-1。这个下一天的股价涨跌情况就是我们根据当天股票基本数据以及衍生变量预测的内容。"
   ]
  },
  {
   "cell_type": "markdown",
   "metadata": {},
   "source": [
    "**3.训练集和测试集数据划分**"
   ]
  },
  {
   "cell_type": "markdown",
   "metadata": {},
   "source": [
    "接下来，我们要将原始数据集进行分割，我们要注意到一点，训练集与测试集的划分要按照时间序列划分，而不是像之前利用train_test_split()函数进行划分。原因在于股票价格的变化趋势具有时间性，如果我们随机划分，则会破坏时间性特征，因为我们是根据当天数据来预测下一天的股价涨跌情况，而不是任意一天的股票数据来预测下一天的股价涨跌情况。\n",
    "因此，我们将前90%的数据作为训练集，后10%的数据作为测试集，代码如下："
   ]
  },
  {
   "cell_type": "code",
   "execution_count": 5,
   "metadata": {},
   "outputs": [],
   "source": [
    "X_length = X.shape[0]  # shape属性获取X的行数和列数，shape[0]即表示行数 \n",
    "split = int(X_length * 0.9)\n",
    "\n",
    "X_train, X_test = X[:split], X[split:]\n",
    "y_train, y_test = y[:split], y[split:]"
   ]
  },
  {
   "cell_type": "markdown",
   "metadata": {},
   "source": [
    "**4.模型搭建**"
   ]
  },
  {
   "cell_type": "code",
   "execution_count": 6,
   "metadata": {},
   "outputs": [
    {
     "data": {
      "text/plain": [
       "RandomForestClassifier(bootstrap=True, ccp_alpha=0.0, class_weight=None,\n",
       "                       criterion='gini', max_depth=3, max_features='auto',\n",
       "                       max_leaf_nodes=None, max_samples=None,\n",
       "                       min_impurity_decrease=0.0, min_impurity_split=None,\n",
       "                       min_samples_leaf=10, min_samples_split=2,\n",
       "                       min_weight_fraction_leaf=0.0, n_estimators=10,\n",
       "                       n_jobs=None, oob_score=False, random_state=1, verbose=0,\n",
       "                       warm_start=False)"
      ]
     },
     "execution_count": 6,
     "metadata": {},
     "output_type": "execute_result"
    }
   ],
   "source": [
    "model = RandomForestClassifier(max_depth=3, n_estimators=10, min_samples_leaf=10, random_state=1)\n",
    "model.fit(X_train, y_train)"
   ]
  },
  {
   "cell_type": "markdown",
   "metadata": {},
   "source": [
    "# 8.3.2 模型使用与评估"
   ]
  },
  {
   "cell_type": "markdown",
   "metadata": {},
   "source": [
    "**1.预测下一天的涨跌情况**"
   ]
  },
  {
   "cell_type": "code",
   "execution_count": 7,
   "metadata": {},
   "outputs": [
    {
     "name": "stdout",
     "output_type": "stream",
     "text": [
      "[-1 -1 -1 -1  1  1  1  1  1  1  1  1  1  1  1  1  1 -1 -1  1  1  1  1  1\n",
      "  1  1  1 -1  1 -1 -1  1 -1  1  1  1  1  1  1  1  1  1  1  1  1  1  1  1\n",
      " -1  1  1  1  1 -1  1  1  1  1  1  1  1  1  1  1  1  1  1  1  1  1  1  1\n",
      "  1  1  1  1  1  1 -1 -1 -1 -1 -1 -1  1  1  1  1  1  1  1  1  1 -1 -1 -1\n",
      " -1 -1 -1 -1 -1 -1 -1 -1 -1]\n"
     ]
    }
   ],
   "source": [
    "y_pred = model.predict(X_test)\n",
    "print(y_pred)"
   ]
  },
  {
   "cell_type": "code",
   "execution_count": 8,
   "metadata": {},
   "outputs": [
    {
     "data": {
      "text/html": [
       "<div>\n",
       "<style scoped>\n",
       "    .dataframe tbody tr th:only-of-type {\n",
       "        vertical-align: middle;\n",
       "    }\n",
       "\n",
       "    .dataframe tbody tr th {\n",
       "        vertical-align: top;\n",
       "    }\n",
       "\n",
       "    .dataframe thead th {\n",
       "        text-align: right;\n",
       "    }\n",
       "</style>\n",
       "<table border=\"1\" class=\"dataframe\">\n",
       "  <thead>\n",
       "    <tr style=\"text-align: right;\">\n",
       "      <th></th>\n",
       "      <th>预测值</th>\n",
       "      <th>实际值</th>\n",
       "    </tr>\n",
       "  </thead>\n",
       "  <tbody>\n",
       "    <tr>\n",
       "      <th>0</th>\n",
       "      <td>-1</td>\n",
       "      <td>-1</td>\n",
       "    </tr>\n",
       "    <tr>\n",
       "      <th>1</th>\n",
       "      <td>-1</td>\n",
       "      <td>-1</td>\n",
       "    </tr>\n",
       "    <tr>\n",
       "      <th>2</th>\n",
       "      <td>-1</td>\n",
       "      <td>-1</td>\n",
       "    </tr>\n",
       "    <tr>\n",
       "      <th>3</th>\n",
       "      <td>-1</td>\n",
       "      <td>-1</td>\n",
       "    </tr>\n",
       "    <tr>\n",
       "      <th>4</th>\n",
       "      <td>1</td>\n",
       "      <td>1</td>\n",
       "    </tr>\n",
       "  </tbody>\n",
       "</table>\n",
       "</div>"
      ],
      "text/plain": [
       "   预测值  实际值\n",
       "0   -1   -1\n",
       "1   -1   -1\n",
       "2   -1   -1\n",
       "3   -1   -1\n",
       "4    1    1"
      ]
     },
     "execution_count": 8,
     "metadata": {},
     "output_type": "execute_result"
    }
   ],
   "source": [
    "a = pd.DataFrame()  # 创建一个空DataFrame \n",
    "a['预测值'] = list(y_pred)\n",
    "a['实际值'] = list(y_test)\n",
    "a.head()"
   ]
  },
  {
   "cell_type": "code",
   "execution_count": 9,
   "metadata": {},
   "outputs": [
    {
     "data": {
      "text/plain": [
       "array([[0.51621099, 0.48378901],\n",
       "       [0.51550336, 0.48449664],\n",
       "       [0.5285002 , 0.4714998 ],\n",
       "       [0.5096509 , 0.4903491 ],\n",
       "       [0.47469396, 0.52530604]])"
      ]
     },
     "execution_count": 9,
     "metadata": {},
     "output_type": "execute_result"
    }
   ],
   "source": [
    "# 查看预测概率\n",
    "y_pred_proba = model.predict_proba(X_test)\n",
    "y_pred_proba[0:5]"
   ]
  },
  {
   "cell_type": "markdown",
   "metadata": {},
   "source": [
    "**2.模型准确度评估**"
   ]
  },
  {
   "cell_type": "code",
   "execution_count": 10,
   "metadata": {},
   "outputs": [
    {
     "name": "stdout",
     "output_type": "stream",
     "text": [
      "0.580952380952381\n"
     ]
    }
   ],
   "source": [
    "from sklearn.metrics import accuracy_score\n",
    "score = accuracy_score(y_pred, y_test)\n",
    "print(score)"
   ]
  },
  {
   "cell_type": "code",
   "execution_count": 11,
   "metadata": {},
   "outputs": [
    {
     "data": {
      "text/plain": [
       "0.580952380952381"
      ]
     },
     "execution_count": 11,
     "metadata": {},
     "output_type": "execute_result"
    }
   ],
   "source": [
    "# 此外，我们还可以通过模型自带的score()函数记性打分，代码如下：\n",
    "model.score(X_test, y_test)"
   ]
  },
  {
   "cell_type": "markdown",
   "metadata": {},
   "source": [
    "**3.分析数据特征的重要性**"
   ]
  },
  {
   "cell_type": "code",
   "execution_count": 12,
   "metadata": {},
   "outputs": [
    {
     "data": {
      "text/plain": [
       "array([0.14523239, 0.09849436, 0.06155863, 0.0275968 , 0.05959848,\n",
       "       0.10019223, 0.02030875, 0.19567289, 0.0664462 , 0.06374818,\n",
       "       0.09227566, 0.06887541])"
      ]
     },
     "execution_count": 12,
     "metadata": {},
     "output_type": "execute_result"
    }
   ],
   "source": [
    "model.feature_importances_"
   ]
  },
  {
   "cell_type": "code",
   "execution_count": 13,
   "metadata": {},
   "outputs": [
    {
     "data": {
      "text/html": [
       "<div>\n",
       "<style scoped>\n",
       "    .dataframe tbody tr th:only-of-type {\n",
       "        vertical-align: middle;\n",
       "    }\n",
       "\n",
       "    .dataframe tbody tr th {\n",
       "        vertical-align: top;\n",
       "    }\n",
       "\n",
       "    .dataframe thead th {\n",
       "        text-align: right;\n",
       "    }\n",
       "</style>\n",
       "<table border=\"1\" class=\"dataframe\">\n",
       "  <thead>\n",
       "    <tr style=\"text-align: right;\">\n",
       "      <th></th>\n",
       "      <th>特征</th>\n",
       "      <th>特征重要性</th>\n",
       "    </tr>\n",
       "  </thead>\n",
       "  <tbody>\n",
       "    <tr>\n",
       "      <th>7</th>\n",
       "      <td>MOM</td>\n",
       "      <td>0.195673</td>\n",
       "    </tr>\n",
       "    <tr>\n",
       "      <th>0</th>\n",
       "      <td>close</td>\n",
       "      <td>0.145232</td>\n",
       "    </tr>\n",
       "    <tr>\n",
       "      <th>5</th>\n",
       "      <td>high-low</td>\n",
       "      <td>0.100192</td>\n",
       "    </tr>\n",
       "    <tr>\n",
       "      <th>1</th>\n",
       "      <td>volume</td>\n",
       "      <td>0.098494</td>\n",
       "    </tr>\n",
       "    <tr>\n",
       "      <th>10</th>\n",
       "      <td>MACDsignal</td>\n",
       "      <td>0.092276</td>\n",
       "    </tr>\n",
       "    <tr>\n",
       "      <th>11</th>\n",
       "      <td>MACDhist</td>\n",
       "      <td>0.068875</td>\n",
       "    </tr>\n",
       "    <tr>\n",
       "      <th>8</th>\n",
       "      <td>EMA12</td>\n",
       "      <td>0.066446</td>\n",
       "    </tr>\n",
       "    <tr>\n",
       "      <th>9</th>\n",
       "      <td>MACD</td>\n",
       "      <td>0.063748</td>\n",
       "    </tr>\n",
       "    <tr>\n",
       "      <th>2</th>\n",
       "      <td>close-open</td>\n",
       "      <td>0.061559</td>\n",
       "    </tr>\n",
       "    <tr>\n",
       "      <th>4</th>\n",
       "      <td>MA10</td>\n",
       "      <td>0.059598</td>\n",
       "    </tr>\n",
       "    <tr>\n",
       "      <th>3</th>\n",
       "      <td>MA5</td>\n",
       "      <td>0.027597</td>\n",
       "    </tr>\n",
       "    <tr>\n",
       "      <th>6</th>\n",
       "      <td>RSI</td>\n",
       "      <td>0.020309</td>\n",
       "    </tr>\n",
       "  </tbody>\n",
       "</table>\n",
       "</div>"
      ],
      "text/plain": [
       "            特征     特征重要性\n",
       "7          MOM  0.195673\n",
       "0        close  0.145232\n",
       "5     high-low  0.100192\n",
       "1       volume  0.098494\n",
       "10  MACDsignal  0.092276\n",
       "11    MACDhist  0.068875\n",
       "8        EMA12  0.066446\n",
       "9         MACD  0.063748\n",
       "2   close-open  0.061559\n",
       "4         MA10  0.059598\n",
       "3          MA5  0.027597\n",
       "6          RSI  0.020309"
      ]
     },
     "execution_count": 13,
     "metadata": {},
     "output_type": "execute_result"
    }
   ],
   "source": [
    "# 通过如下代码可以更好的展示特征及其特征重要性：\n",
    "features = X.columns  \n",
    "importances = model.feature_importances_\n",
    "a = pd.DataFrame()\n",
    "a['特征'] = features\n",
    "a['特征重要性'] = importances\n",
    "a = a.sort_values('特征重要性', ascending=False)\n",
    "a"
   ]
  },
  {
   "cell_type": "markdown",
   "metadata": {},
   "source": [
    "# 8.3.3 参数调优"
   ]
  },
  {
   "cell_type": "code",
   "execution_count": 14,
   "metadata": {},
   "outputs": [],
   "source": [
    "from sklearn.model_selection import GridSearchCV  # 网格搜索合适的超参数\n",
    "# 指定分类器中参数的范围\n",
    "parameters = {'n_estimators':[5, 10, 20], 'max_depth':[2, 3, 4, 5], 'min_samples_leaf':[5, 10, 20, 30]}\n",
    "new_model = RandomForestClassifier(random_state=1)  # 构建分类器\n",
    "grid_search = GridSearchCV(new_model, parameters, cv=6, scoring='accuracy')  # cv=6表示交叉验证6次，scoring='roc_auc'表示以ROC曲线的AUC评分作为模型评价准则, 默认为'accuracy', 即按准确度评分"
   ]
  },
  {
   "cell_type": "code",
   "execution_count": 15,
   "metadata": {},
   "outputs": [
    {
     "data": {
      "text/plain": [
       "{'max_depth': 3, 'min_samples_leaf': 10, 'n_estimators': 10}"
      ]
     },
     "execution_count": 15,
     "metadata": {},
     "output_type": "execute_result"
    }
   ],
   "source": [
    "grid_search.fit(X_train, y_train)  # 传入数据\n",
    "grid_search.best_params_  # 输出参数的最优值"
   ]
  },
  {
   "cell_type": "markdown",
   "metadata": {},
   "source": [
    "# 8.3.4 收益回测曲线绘制"
   ]
  },
  {
   "cell_type": "code",
   "execution_count": 16,
   "metadata": {},
   "outputs": [
    {
     "data": {
      "text/html": [
       "<div>\n",
       "<style scoped>\n",
       "    .dataframe tbody tr th:only-of-type {\n",
       "        vertical-align: middle;\n",
       "    }\n",
       "\n",
       "    .dataframe tbody tr th {\n",
       "        vertical-align: top;\n",
       "    }\n",
       "\n",
       "    .dataframe thead th {\n",
       "        text-align: right;\n",
       "    }\n",
       "</style>\n",
       "<table border=\"1\" class=\"dataframe\">\n",
       "  <thead>\n",
       "    <tr style=\"text-align: right;\">\n",
       "      <th></th>\n",
       "      <th>strategy</th>\n",
       "      <th>origin</th>\n",
       "    </tr>\n",
       "    <tr>\n",
       "      <th>date</th>\n",
       "      <th></th>\n",
       "      <th></th>\n",
       "    </tr>\n",
       "  </thead>\n",
       "  <tbody>\n",
       "    <tr>\n",
       "      <th>2019-12-25</th>\n",
       "      <td>1.396445</td>\n",
       "      <td>1.015761</td>\n",
       "    </tr>\n",
       "    <tr>\n",
       "      <th>2019-12-26</th>\n",
       "      <td>1.358180</td>\n",
       "      <td>1.043595</td>\n",
       "    </tr>\n",
       "    <tr>\n",
       "      <th>2019-12-27</th>\n",
       "      <td>1.363417</td>\n",
       "      <td>1.039571</td>\n",
       "    </tr>\n",
       "    <tr>\n",
       "      <th>2019-12-30</th>\n",
       "      <td>1.338347</td>\n",
       "      <td>1.058685</td>\n",
       "    </tr>\n",
       "    <tr>\n",
       "      <th>2019-12-31</th>\n",
       "      <td>1.312488</td>\n",
       "      <td>1.079142</td>\n",
       "    </tr>\n",
       "  </tbody>\n",
       "</table>\n",
       "</div>"
      ],
      "text/plain": [
       "            strategy    origin\n",
       "date                          \n",
       "2019-12-25  1.396445  1.015761\n",
       "2019-12-26  1.358180  1.043595\n",
       "2019-12-27  1.363417  1.039571\n",
       "2019-12-30  1.338347  1.058685\n",
       "2019-12-31  1.312488  1.079142"
      ]
     },
     "execution_count": 16,
     "metadata": {},
     "output_type": "execute_result"
    }
   ],
   "source": [
    "X_test['prediction'] = model.predict(X_test)\n",
    "X_test['p_change'] = (X_test['close'] - X_test['close'].shift(1)) / X_test['close'].shift(1)\n",
    "\n",
    "X_test['origin'] = (X_test['p_change'] + 1).cumprod()\n",
    "X_test['strategy'] = (X_test['prediction'].shift(1) * X_test['p_change'] + 1).cumprod()\n",
    "\n",
    "X_test[['strategy', 'origin']].tail()"
   ]
  },
  {
   "cell_type": "code",
   "execution_count": 17,
   "metadata": {},
   "outputs": [
    {
     "data": {
      "image/png": "[encoded data removed]",
      "text/plain": [
       "<Figure size 432x288 with 1 Axes>"
      ]
     },
     "metadata": {
      "needs_background": "light"
     },
     "output_type": "display_data"
    }
   ],
   "source": [
    "# 通过如下代码将收益情况删除空值后可视化，并设置X轴刻度自动倾斜：\n",
    "X_test[['strategy', 'origin']].dropna().plot()\n",
    "plt.gcf().autofmt_xdate()\n",
    "plt.show()"
   ]
  }
 ],
 "metadata": {
  "kernelspec": {
   "display_name": "Python 3",
   "language": "python",
   "name": "python3"
  },
  "language_info": {
   "codemirror_mode": {
    "name": "ipython",
    "version": 3
   },
   "file_extension": ".py",
   "mimetype": "text/x-python",
   "name": "python",
   "nbconvert_exporter": "python",
   "pygments_lexer": "ipython3",
   "version": "3.7.0"
  }
 },
 "nbformat": 4,
 "nbformat_minor": 2
}
