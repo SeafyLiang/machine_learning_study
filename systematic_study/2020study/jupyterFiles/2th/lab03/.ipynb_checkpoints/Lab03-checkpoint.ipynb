{
 "cells": [
  {
   "cell_type": "markdown",
   "metadata": {},
   "source": [
    "# Lab 03 - Decision Tree - III\n",
    "\n"
   ]
  },
  {
   "cell_type": "markdown",
   "metadata": {},
   "source": [
    "#### 1.导入数据\n",
    "\n",
    "#### 2.处理连续特征值（年龄，船票，家庭人数）\n",
    "\n",
    "#### 3.模型，预测可评估\n",
    "\n",
    "#### 4.超参数调整（优化模型），训练模型，取出各项指标最精确的模型\n",
    "\n"
   ]
  },
  {
   "cell_type": "markdown",
   "metadata": {},
   "source": [
    "#### lab02的缺点：\n",
    "#### 没有考虑连续值，只考率分类特征\n",
    "#### 只用了众数进行填充缺失值"
   ]
  },
  {
   "cell_type": "markdown",
   "metadata": {},
   "source": [
    "#### 1.导入数据"
   ]
  },
  {
   "cell_type": "code",
   "execution_count": 1,
   "metadata": {
    "pycharm": {
     "is_executing": true,
     "name": "#%%\n"
    }
   },
   "outputs": [],
   "source": [
    "# data analysis and preparing\n",
    "import pandas as pd\n",
    "import numpy as np\n",
    "import random as rnd\n",
    "\n",
    "# visualization\n",
    "import matplotlib.pyplot as plt\n",
    "import seaborn as sns\n",
    "%matplotlib inline\n",
    "\n",
    "# machine learning\n",
    "from sklearn.model_selection import train_test_split\n",
    "from sklearn.tree import DecisionTreeClassifier \n",
    "from sklearn import metrics, tree"
   ]
  },
  {
   "cell_type": "markdown",
   "metadata": {},
   "source": [
    "#### 采集数据\n",
    " "
   ]
  },
  {
   "cell_type": "code",
   "execution_count": 2,
   "metadata": {
    "pycharm": {
     "is_executing": true,
     "name": "#%%\n"
    }
   },
   "outputs": [],
   "source": [
    "train_df = pd.read_csv('train.csv')\n",
    "test_df = pd.read_csv('test_merged.csv')\n",
    "\n",
    "combine = [train_df, test_df]"
   ]
  },
  {
   "cell_type": "markdown",
   "metadata": {},
   "source": [
    "#### 准备和清洗数据"
   ]
  },
  {
   "cell_type": "code",
   "execution_count": 3,
   "metadata": {
    "pycharm": {
     "is_executing": true,
     "name": "#%%\n"
    }
   },
   "outputs": [],
   "source": [
    "for df in combine:\n",
    "    df.drop('Cabin', axis=1, inplace=True)\n",
    "    \n",
    "for df in combine:\n",
    "    df.drop(columns=['Ticket', 'PassengerId'], inplace=True)\n",
    "    df['Embarked'].fillna(df['Embarked'].mode(dropna=True)[0], inplace=True)"
   ]
  },
  {
   "cell_type": "markdown",
   "metadata": {},
   "source": [
    "把特征值的字符串类型变成整型"
   ]
  },
  {
   "cell_type": "code",
   "execution_count": 4,
   "metadata": {
    "pycharm": {
     "is_executing": true,
     "name": "#%%\n"
    }
   },
   "outputs": [],
   "source": [
    "num_encode = {\n",
    "    'Sex': {'male': 0, \"female\": 1},\n",
    "    'Embarked': {'S': 0, 'Q': 1, 'C': 2 }\n",
    "}\n",
    "\n",
    "for df in combine:\n",
    "    df.replace(num_encode, inplace=True)\n"
   ]
  },
  {
   "cell_type": "markdown",
   "metadata": {},
   "source": [
    "## 2.处理连续特征值"
   ]
  },
  {
   "cell_type": "markdown",
   "metadata": {},
   "source": [
    "使用age作为特征列"
   ]
  },
  {
   "cell_type": "markdown",
   "metadata": {},
   "source": [
    "#### 填充缺失值 \n",
    "\n",
    "\n",
    "猜测缺失值的更准确方法是使用其他相关功能。在我们的案例中，我们注意到年龄，性别和Pclass之间的相关性。使用Pclass和Gender功能组合集的Age的中值来猜测Age值。因此，Pclass = 1和Gender = 0，Pclass = 1和Gender = 1的年龄中位数，依此类推...\n"
   ]
  },
  {
   "cell_type": "markdown",
   "metadata": {},
   "source": [
    "#### 缺失值的填充"
   ]
  },
  {
   "cell_type": "code",
   "execution_count": 5,
   "metadata": {
    "pycharm": {
     "is_executing": true,
     "name": "#%%\n"
    }
   },
   "outputs": [
    {
     "data": {
      "text/plain": [
       "<seaborn.axisgrid.FacetGrid at 0x214911d5910>"
      ]
     },
     "execution_count": 5,
     "metadata": {},
     "output_type": "execute_result"
    },
    {
     "data": {
      "image/png": "[encoded data removed]",
      "text/plain": [
       "<Figure size 514.88x475.2 with 6 Axes>"
      ]
     },
     "metadata": {
      "needs_background": "light"
     },
     "output_type": "display_data"
    }
   ],
   "source": [
    "grid = sns.FacetGrid(train_df, row='Pclass', col='Sex', height=2.2, aspect=1.6)\n",
    "grid.map(plt.hist, 'Age', alpha=.5, bins=20)\n",
    "grid.add_legend()"
   ]
  },
  {
   "cell_type": "markdown",
   "metadata": {},
   "source": [
    "准备一个空数组，以包含基于Pclass x Gender组合的年龄猜测值。使用船舱等级和性别作为数据集，放到数组"
   ]
  },
  {
   "cell_type": "code",
   "execution_count": 6,
   "metadata": {
    "pycharm": {
     "is_executing": true,
     "name": "#%%\n"
    }
   },
   "outputs": [
    {
     "data": {
      "text/plain": [
       "array([[0., 0., 0.],\n",
       "       [0., 0., 0.]])"
      ]
     },
     "execution_count": 6,
     "metadata": {},
     "output_type": "execute_result"
    }
   ],
   "source": [
    "guess_ages = np.zeros((2,3))\n",
    "guess_ages"
   ]
  },
  {
   "cell_type": "markdown",
   "metadata": {},
   "source": [
    "遍历Sex（0或1）和Pclass（1、2、3）以计算这六个组合的Age猜测值。"
   ]
  },
  {
   "cell_type": "code",
   "execution_count": 7,
   "metadata": {
    "pycharm": {
     "is_executing": true,
     "name": "#%%\n"
    }
   },
   "outputs": [],
   "source": [
    "pd.set_option('mode.chained_assignment',None)\n",
    "\n",
    "for dataset in combine:\n",
    "    for i in range(0, 2):\n",
    "        for j in range(0, 3):\n",
    "            guess_df = dataset[(dataset['Sex'] == i) & \\\n",
    "                                  (dataset['Pclass'] == j+1)]['Age'].dropna()\n",
    "            age_guess = guess_df.median()\n",
    "            \n",
    "            guess_ages[i,j] = int(age_guess)\n",
    "            \n",
    "    for i in range(0, 2):\n",
    "        for j in range(0, 3):\n",
    "            mask = dataset[(dataset.Age.isnull()) & (dataset.Sex == i) & (dataset.Pclass == j+1)]     \n",
    "            if mask.empty:\n",
    "                continue\n",
    "            \n",
    "            dataset.loc[mask.index , 'Age'] = int(guess_ages[i, j])    \n",
    "                \n",
    "    # dataset.loc[:, 'Age'] = dataset['Age'].astype(int)"
   ]
  },
  {
   "cell_type": "code",
   "execution_count": 8,
   "metadata": {
    "pycharm": {
     "is_executing": true,
     "name": "#%%\n"
    }
   },
   "outputs": [
    {
     "name": "stdout",
     "output_type": "stream",
     "text": [
      "<class 'pandas.core.frame.DataFrame'>\n",
      "RangeIndex: 891 entries, 0 to 890\n",
      "Data columns (total 9 columns):\n",
      " #   Column    Non-Null Count  Dtype  \n",
      "---  ------    --------------  -----  \n",
      " 0   Survived  891 non-null    int64  \n",
      " 1   Pclass    891 non-null    int64  \n",
      " 2   Name      891 non-null    object \n",
      " 3   Sex       891 non-null    int64  \n",
      " 4   Age       891 non-null    float64\n",
      " 5   SibSp     891 non-null    int64  \n",
      " 6   Parch     891 non-null    int64  \n",
      " 7   Fare      891 non-null    float64\n",
      " 8   Embarked  891 non-null    int64  \n",
      "dtypes: float64(2), int64(6), object(1)\n",
      "memory usage: 62.8+ KB\n"
     ]
    }
   ],
   "source": [
    "train_df.head()\n",
    "train_df.info()"
   ]
  },
  {
   "cell_type": "markdown",
   "metadata": {},
   "source": [
    "将连续特征转换为分类特征，以在模型中使用它。创建年龄段并确定与生存的相关性。"
   ]
  },
  {
   "cell_type": "code",
   "execution_count": 9,
   "metadata": {
    "pycharm": {
     "is_executing": true,
     "name": "#%%\n"
    }
   },
   "outputs": [
    {
     "data": {
      "text/html": [
       "<div>\n",
       "<style scoped>\n",
       "    .dataframe tbody tr th:only-of-type {\n",
       "        vertical-align: middle;\n",
       "    }\n",
       "\n",
       "    .dataframe tbody tr th {\n",
       "        vertical-align: top;\n",
       "    }\n",
       "\n",
       "    .dataframe thead th {\n",
       "        text-align: right;\n",
       "    }\n",
       "</style>\n",
       "<table border=\"1\" class=\"dataframe\">\n",
       "  <thead>\n",
       "    <tr style=\"text-align: right;\">\n",
       "      <th></th>\n",
       "      <th>AgeBand</th>\n",
       "      <th>Survived</th>\n",
       "    </tr>\n",
       "  </thead>\n",
       "  <tbody>\n",
       "    <tr>\n",
       "      <th>0</th>\n",
       "      <td>Toddler/baby</td>\n",
       "      <td>0.625000</td>\n",
       "    </tr>\n",
       "    <tr>\n",
       "      <th>1</th>\n",
       "      <td>Child</td>\n",
       "      <td>0.516854</td>\n",
       "    </tr>\n",
       "    <tr>\n",
       "      <th>2</th>\n",
       "      <td>Adult</td>\n",
       "      <td>0.363636</td>\n",
       "    </tr>\n",
       "    <tr>\n",
       "      <th>3</th>\n",
       "      <td>Elderly</td>\n",
       "      <td>0.125000</td>\n",
       "    </tr>\n",
       "  </tbody>\n",
       "</table>\n",
       "</div>"
      ],
      "text/plain": [
       "        AgeBand  Survived\n",
       "0  Toddler/baby  0.625000\n",
       "1         Child  0.516854\n",
       "2         Adult  0.363636\n",
       "3       Elderly  0.125000"
      ]
     },
     "execution_count": 9,
     "metadata": {},
     "output_type": "execute_result"
    }
   ],
   "source": [
    "train_df['AgeBand'] = pd.cut(train_df['Age'],bins=[0,2,17,65,99], labels=['Toddler/baby','Child','Adult','Elderly'])\n",
    "train_df[['AgeBand', 'Survived']].groupby(['AgeBand'], as_index=False).mean().sort_values(by='AgeBand', ascending=True)"
   ]
  },
  {
   "cell_type": "markdown",
   "metadata": {},
   "source": [
    "\n",
    "#### 在这里年龄可以直接分成4类并且有对应的年龄段，所以使用cut方法"
   ]
  },
  {
   "cell_type": "markdown",
   "metadata": {},
   "source": [
    "将四类年龄分别变成数值0，1，2，3。"
   ]
  },
  {
   "cell_type": "code",
   "execution_count": 10,
   "metadata": {
    "pycharm": {
     "is_executing": true,
     "name": "#%%\n"
    }
   },
   "outputs": [
    {
     "data": {
      "text/html": [
       "<div>\n",
       "<style scoped>\n",
       "    .dataframe tbody tr th:only-of-type {\n",
       "        vertical-align: middle;\n",
       "    }\n",
       "\n",
       "    .dataframe tbody tr th {\n",
       "        vertical-align: top;\n",
       "    }\n",
       "\n",
       "    .dataframe thead th {\n",
       "        text-align: right;\n",
       "    }\n",
       "</style>\n",
       "<table border=\"1\" class=\"dataframe\">\n",
       "  <thead>\n",
       "    <tr style=\"text-align: right;\">\n",
       "      <th></th>\n",
       "      <th>Survived</th>\n",
       "      <th>Pclass</th>\n",
       "      <th>Name</th>\n",
       "      <th>Sex</th>\n",
       "      <th>Age</th>\n",
       "      <th>AgeBand</th>\n",
       "      <th>SibSp</th>\n",
       "      <th>Parch</th>\n",
       "      <th>Fare</th>\n",
       "      <th>Embarked</th>\n",
       "    </tr>\n",
       "  </thead>\n",
       "  <tbody>\n",
       "    <tr>\n",
       "      <th>0</th>\n",
       "      <td>0</td>\n",
       "      <td>3</td>\n",
       "      <td>Braund, Mr. Owen Harris</td>\n",
       "      <td>0</td>\n",
       "      <td>22.0</td>\n",
       "      <td>2</td>\n",
       "      <td>1</td>\n",
       "      <td>0</td>\n",
       "      <td>7.2500</td>\n",
       "      <td>0</td>\n",
       "    </tr>\n",
       "    <tr>\n",
       "      <th>1</th>\n",
       "      <td>1</td>\n",
       "      <td>1</td>\n",
       "      <td>Cumings, Mrs. John Bradley (Florence Briggs Th...</td>\n",
       "      <td>1</td>\n",
       "      <td>38.0</td>\n",
       "      <td>2</td>\n",
       "      <td>1</td>\n",
       "      <td>0</td>\n",
       "      <td>71.2833</td>\n",
       "      <td>2</td>\n",
       "    </tr>\n",
       "    <tr>\n",
       "      <th>2</th>\n",
       "      <td>1</td>\n",
       "      <td>3</td>\n",
       "      <td>Heikkinen, Miss. Laina</td>\n",
       "      <td>1</td>\n",
       "      <td>26.0</td>\n",
       "      <td>2</td>\n",
       "      <td>0</td>\n",
       "      <td>0</td>\n",
       "      <td>7.9250</td>\n",
       "      <td>0</td>\n",
       "    </tr>\n",
       "    <tr>\n",
       "      <th>3</th>\n",
       "      <td>1</td>\n",
       "      <td>1</td>\n",
       "      <td>Futrelle, Mrs. Jacques Heath (Lily May Peel)</td>\n",
       "      <td>1</td>\n",
       "      <td>35.0</td>\n",
       "      <td>2</td>\n",
       "      <td>1</td>\n",
       "      <td>0</td>\n",
       "      <td>53.1000</td>\n",
       "      <td>0</td>\n",
       "    </tr>\n",
       "    <tr>\n",
       "      <th>4</th>\n",
       "      <td>0</td>\n",
       "      <td>3</td>\n",
       "      <td>Allen, Mr. William Henry</td>\n",
       "      <td>0</td>\n",
       "      <td>35.0</td>\n",
       "      <td>2</td>\n",
       "      <td>0</td>\n",
       "      <td>0</td>\n",
       "      <td>8.0500</td>\n",
       "      <td>0</td>\n",
       "    </tr>\n",
       "  </tbody>\n",
       "</table>\n",
       "</div>"
      ],
      "text/plain": [
       "   Survived  Pclass                                               Name  Sex  \\\n",
       "0         0       3                            Braund, Mr. Owen Harris    0   \n",
       "1         1       1  Cumings, Mrs. John Bradley (Florence Briggs Th...    1   \n",
       "2         1       3                             Heikkinen, Miss. Laina    1   \n",
       "3         1       1       Futrelle, Mrs. Jacques Heath (Lily May Peel)    1   \n",
       "4         0       3                           Allen, Mr. William Henry    0   \n",
       "\n",
       "    Age AgeBand  SibSp  Parch     Fare  Embarked  \n",
       "0  22.0       2      1      0   7.2500         0  \n",
       "1  38.0       2      1      0  71.2833         2  \n",
       "2  26.0       2      0      0   7.9250         0  \n",
       "3  35.0       2      1      0  53.1000         0  \n",
       "4  35.0       2      0      0   8.0500         0  "
      ]
     },
     "execution_count": 10,
     "metadata": {},
     "output_type": "execute_result"
    }
   ],
   "source": [
    "train_df.drop('AgeBand', inplace=True, axis=1)\n",
    "for df in combine:\n",
    "    category = pd.cut(df.Age,bins=[0,2,17,65,99], labels=[0, 1, 2, 3])\n",
    "    df.insert(5,'AgeBand', category)\n",
    "\n",
    "train_df.head()"
   ]
  },
  {
   "cell_type": "markdown",
   "metadata": {
    "pycharm": {
     "name": "#%% md\n"
    }
   },
   "source": [
    "#### 使用票价作为特征列"
   ]
  },
  {
   "cell_type": "code",
   "execution_count": 11,
   "metadata": {
    "pycharm": {
     "is_executing": true,
     "name": "#%%\n"
    }
   },
   "outputs": [
    {
     "data": {
      "text/plain": [
       "<matplotlib.axes._subplots.AxesSubplot at 0x21491bab760>"
      ]
     },
     "execution_count": 11,
     "metadata": {},
     "output_type": "execute_result"
    },
    {
     "data": {
      "image/png": "[encoded data removed]",
      "text/plain": [
       "<Figure size 432x288 with 1 Axes>"
      ]
     },
     "metadata": {
      "needs_background": "light"
     },
     "output_type": "display_data"
    }
   ],
   "source": [
    "sns.barplot(x='Survived', y='Fare', data=train_df)"
   ]
  },
  {
   "cell_type": "markdown",
   "metadata": {
    "pycharm": {
     "name": "#%% md\n"
    }
   },
   "source": [
    "通过上图可以得知，与那些没有幸存的人相比，幸存的人们平均支付了更多的车费。\n",
    "\n",
    "通过为所有缺失值分配最频繁的票价来完善此功能。"
   ]
  },
  {
   "cell_type": "code",
   "execution_count": 12,
   "metadata": {},
   "outputs": [
    {
     "name": "stdout",
     "output_type": "stream",
     "text": [
      "<class 'pandas.core.frame.DataFrame'>\n",
      "RangeIndex: 891 entries, 0 to 890\n",
      "Data columns (total 10 columns):\n",
      " #   Column    Non-Null Count  Dtype   \n",
      "---  ------    --------------  -----   \n",
      " 0   Survived  891 non-null    int64   \n",
      " 1   Pclass    891 non-null    int64   \n",
      " 2   Name      891 non-null    object  \n",
      " 3   Sex       891 non-null    int64   \n",
      " 4   Age       891 non-null    float64 \n",
      " 5   AgeBand   891 non-null    category\n",
      " 6   SibSp     891 non-null    int64   \n",
      " 7   Parch     891 non-null    int64   \n",
      " 8   Fare      891 non-null    float64 \n",
      " 9   Embarked  891 non-null    int64   \n",
      "dtypes: category(1), float64(2), int64(6), object(1)\n",
      "memory usage: 63.8+ KB\n"
     ]
    }
   ],
   "source": [
    "train_df.info()"
   ]
  },
  {
   "cell_type": "code",
   "execution_count": 13,
   "metadata": {
    "pycharm": {
     "is_executing": true,
     "name": "#%%\n"
    }
   },
   "outputs": [],
   "source": [
    "for dataset in combine:\n",
    "    dataset['Fare'].fillna(dataset['Fare'].mode(dropna=True)[0], inplace=True)"
   ]
  },
  {
   "cell_type": "code",
   "execution_count": 14,
   "metadata": {},
   "outputs": [
    {
     "name": "stdout",
     "output_type": "stream",
     "text": [
      "7.25\n",
      "71.2833\n",
      "7.925\n",
      "53.1\n",
      "8.05\n",
      "8.4583\n",
      "51.8625\n",
      "21.075\n",
      "11.1333\n",
      "30.0708\n",
      "16.7\n",
      "26.55\n",
      "8.05\n",
      "31.275\n",
      "7.8542\n",
      "16.0\n",
      "29.125\n",
      "13.0\n",
      "18.0\n",
      "7.225\n",
      "26.0\n",
      "13.0\n",
      "8.0292\n",
      "35.5\n",
      "21.075\n",
      "31.3875\n",
      "7.225\n",
      "263.0\n",
      "7.8792\n",
      "7.8958\n",
      "27.7208\n",
      "146.5208\n",
      "7.75\n",
      "10.5\n",
      "82.1708\n",
      "52.0\n",
      "7.2292\n",
      "8.05\n",
      "18.0\n",
      "11.2417\n",
      "9.475\n",
      "21.0\n",
      "7.8958\n",
      "41.5792\n",
      "7.8792\n",
      "8.05\n",
      "15.5\n",
      "7.75\n",
      "21.6792\n",
      "17.8\n",
      "39.6875\n",
      "7.8\n",
      "76.7292\n",
      "26.0\n",
      "61.9792\n",
      "35.5\n",
      "10.5\n",
      "7.2292\n",
      "27.75\n",
      "46.9\n",
      "7.2292\n",
      "80.0\n",
      "83.475\n",
      "27.9\n",
      "27.7208\n",
      "15.2458\n",
      "10.5\n",
      "8.1583\n",
      "7.925\n",
      "8.6625\n",
      "10.5\n",
      "46.9\n",
      "73.5\n",
      "14.4542\n",
      "56.4958\n",
      "7.65\n",
      "7.8958\n",
      "8.05\n",
      "29.0\n",
      "12.475\n",
      "9.0\n",
      "9.5\n",
      "7.7875\n",
      "47.1\n",
      "10.5\n",
      "15.85\n",
      "34.375\n",
      "8.05\n",
      "263.0\n",
      "8.05\n",
      "8.05\n",
      "7.8542\n",
      "61.175\n",
      "20.575\n",
      "7.25\n",
      "8.05\n",
      "34.6542\n",
      "63.3583\n",
      "23.0\n",
      "26.0\n",
      "7.8958\n",
      "7.8958\n",
      "77.2875\n",
      "8.6542\n",
      "7.925\n",
      "7.8958\n",
      "7.65\n",
      "7.775\n",
      "7.8958\n",
      "24.15\n",
      "52.0\n",
      "14.4542\n",
      "8.05\n",
      "9.825\n",
      "14.4583\n",
      "7.925\n",
      "7.75\n",
      "21.0\n",
      "247.5208\n",
      "31.275\n",
      "73.5\n",
      "8.05\n",
      "30.0708\n",
      "13.0\n",
      "77.2875\n",
      "11.2417\n",
      "7.75\n",
      "7.1417\n",
      "22.3583\n",
      "6.975\n",
      "7.8958\n",
      "7.05\n",
      "14.5\n",
      "26.0\n",
      "13.0\n",
      "15.0458\n",
      "26.2833\n",
      "53.1\n",
      "9.2167\n",
      "79.2\n",
      "15.2458\n",
      "7.75\n",
      "15.85\n",
      "6.75\n",
      "11.5\n",
      "36.75\n",
      "7.7958\n",
      "34.375\n",
      "26.0\n",
      "13.0\n",
      "12.525\n",
      "66.6\n",
      "8.05\n",
      "14.5\n",
      "7.3125\n",
      "61.3792\n",
      "7.7333\n",
      "8.05\n",
      "8.6625\n",
      "69.55\n",
      "16.1\n",
      "15.75\n",
      "7.775\n",
      "8.6625\n",
      "39.6875\n",
      "20.525\n",
      "55.0\n",
      "27.9\n",
      "25.925\n",
      "56.4958\n",
      "33.5\n",
      "29.125\n",
      "11.1333\n",
      "7.925\n",
      "30.6958\n",
      "7.8542\n",
      "25.4667\n",
      "28.7125\n",
      "13.0\n",
      "0.0\n",
      "69.55\n",
      "15.05\n",
      "31.3875\n",
      "39.0\n",
      "22.025\n",
      "50.0\n",
      "15.5\n",
      "26.55\n",
      "15.5\n",
      "7.8958\n",
      "13.0\n",
      "13.0\n",
      "7.8542\n",
      "26.0\n",
      "27.7208\n",
      "146.5208\n",
      "7.75\n",
      "8.4042\n",
      "7.75\n",
      "13.0\n",
      "9.5\n",
      "69.55\n",
      "6.4958\n",
      "7.225\n",
      "8.05\n",
      "10.4625\n",
      "15.85\n",
      "18.7875\n",
      "7.75\n",
      "31.0\n",
      "7.05\n",
      "21.0\n",
      "7.25\n",
      "13.0\n",
      "7.75\n",
      "113.275\n",
      "7.925\n",
      "27.0\n",
      "76.2917\n",
      "10.5\n",
      "8.05\n",
      "13.0\n",
      "8.05\n",
      "7.8958\n",
      "90.0\n",
      "9.35\n",
      "10.5\n",
      "7.25\n",
      "13.0\n",
      "25.4667\n",
      "83.475\n",
      "7.775\n",
      "13.5\n",
      "31.3875\n",
      "10.5\n",
      "7.55\n",
      "26.0\n",
      "26.25\n",
      "10.5\n",
      "12.275\n",
      "14.4542\n",
      "15.5\n",
      "10.5\n",
      "7.125\n",
      "7.225\n",
      "90.0\n",
      "7.775\n",
      "14.5\n",
      "52.5542\n",
      "26.0\n",
      "7.25\n",
      "10.4625\n",
      "26.55\n",
      "16.1\n",
      "20.2125\n",
      "15.2458\n",
      "79.2\n",
      "86.5\n",
      "512.3292\n",
      "26.0\n",
      "7.75\n",
      "31.3875\n",
      "79.65\n",
      "0.0\n",
      "7.75\n",
      "10.5\n",
      "39.6875\n",
      "7.775\n",
      "153.4625\n",
      "135.6333\n",
      "31.0\n",
      "0.0\n",
      "19.5\n",
      "29.7\n",
      "7.75\n",
      "77.9583\n",
      "7.75\n",
      "0.0\n",
      "29.125\n",
      "20.25\n",
      "7.75\n",
      "7.8542\n",
      "9.5\n",
      "8.05\n",
      "26.0\n",
      "8.6625\n",
      "9.5\n",
      "7.8958\n",
      "13.0\n",
      "7.75\n",
      "78.85\n",
      "91.0792\n",
      "12.875\n",
      "8.85\n",
      "7.8958\n",
      "27.7208\n",
      "7.2292\n",
      "151.55\n",
      "30.5\n",
      "247.5208\n",
      "7.75\n",
      "23.25\n",
      "0.0\n",
      "12.35\n",
      "8.05\n",
      "151.55\n",
      "110.8833\n",
      "108.9\n",
      "24.0\n",
      "56.9292\n",
      "83.1583\n",
      "262.375\n",
      "26.0\n",
      "7.8958\n",
      "26.25\n",
      "7.8542\n",
      "26.0\n",
      "14.0\n",
      "164.8667\n",
      "134.5\n",
      "7.25\n",
      "7.8958\n",
      "12.35\n",
      "29.0\n",
      "69.55\n",
      "135.6333\n",
      "6.2375\n",
      "13.0\n",
      "20.525\n",
      "57.9792\n",
      "23.25\n",
      "28.5\n",
      "153.4625\n",
      "18.0\n",
      "133.65\n",
      "7.8958\n",
      "66.6\n",
      "134.5\n",
      "8.05\n",
      "35.5\n",
      "26.0\n",
      "263.0\n",
      "13.0\n",
      "13.0\n",
      "13.0\n",
      "13.0\n",
      "13.0\n",
      "16.1\n",
      "15.9\n",
      "8.6625\n",
      "9.225\n",
      "35.0\n",
      "7.2292\n",
      "17.8\n",
      "7.225\n",
      "9.5\n",
      "55.0\n",
      "13.0\n",
      "7.8792\n",
      "7.8792\n",
      "27.9\n",
      "27.7208\n",
      "14.4542\n",
      "7.05\n",
      "15.5\n",
      "7.25\n",
      "75.25\n",
      "7.2292\n",
      "7.75\n",
      "69.3\n",
      "55.4417\n",
      "6.4958\n",
      "8.05\n",
      "135.6333\n",
      "21.075\n",
      "82.1708\n",
      "7.25\n",
      "211.5\n",
      "4.0125\n",
      "7.775\n",
      "227.525\n",
      "15.7417\n",
      "7.925\n",
      "52.0\n",
      "7.8958\n",
      "73.5\n",
      "46.9\n",
      "13.0\n",
      "7.7292\n",
      "12.0\n",
      "120.0\n",
      "7.7958\n",
      "7.925\n",
      "113.275\n",
      "16.7\n",
      "7.7958\n",
      "7.8542\n",
      "26.0\n",
      "10.5\n",
      "12.65\n",
      "7.925\n",
      "8.05\n",
      "9.825\n",
      "15.85\n",
      "8.6625\n",
      "21.0\n",
      "7.75\n",
      "18.75\n",
      "7.775\n",
      "25.4667\n",
      "7.8958\n",
      "6.8583\n",
      "90.0\n",
      "0.0\n",
      "7.925\n",
      "8.05\n",
      "32.5\n",
      "13.0\n",
      "13.0\n",
      "24.15\n",
      "7.8958\n",
      "7.7333\n",
      "7.875\n",
      "14.4\n",
      "20.2125\n",
      "7.25\n",
      "26.0\n",
      "26.0\n",
      "7.75\n",
      "8.05\n",
      "26.55\n",
      "16.1\n",
      "26.0\n",
      "7.125\n",
      "55.9\n",
      "120.0\n",
      "34.375\n",
      "18.75\n",
      "263.0\n",
      "10.5\n",
      "26.25\n",
      "9.5\n",
      "7.775\n",
      "13.0\n",
      "8.1125\n",
      "81.8583\n",
      "19.5\n",
      "26.55\n",
      "19.2583\n",
      "30.5\n",
      "27.75\n",
      "19.9667\n",
      "27.75\n",
      "89.1042\n",
      "8.05\n",
      "7.8958\n",
      "26.55\n",
      "51.8625\n",
      "10.5\n",
      "7.75\n",
      "26.55\n",
      "8.05\n",
      "38.5\n",
      "13.0\n",
      "8.05\n",
      "7.05\n",
      "0.0\n",
      "26.55\n",
      "7.725\n",
      "19.2583\n",
      "7.25\n",
      "8.6625\n",
      "27.75\n",
      "13.7917\n",
      "9.8375\n",
      "52.0\n",
      "21.0\n",
      "7.0458\n",
      "7.5208\n",
      "12.2875\n",
      "46.9\n",
      "0.0\n",
      "8.05\n",
      "9.5875\n",
      "91.0792\n",
      "25.4667\n",
      "90.0\n",
      "29.7\n",
      "8.05\n",
      "15.9\n",
      "19.9667\n",
      "7.25\n",
      "30.5\n",
      "49.5042\n",
      "8.05\n",
      "14.4583\n",
      "78.2667\n",
      "15.1\n",
      "151.55\n",
      "7.7958\n",
      "8.6625\n",
      "7.75\n",
      "7.6292\n",
      "9.5875\n",
      "86.5\n",
      "108.9\n",
      "26.0\n",
      "26.55\n",
      "22.525\n",
      "56.4958\n",
      "7.75\n",
      "8.05\n",
      "26.2875\n",
      "59.4\n",
      "7.4958\n",
      "34.0208\n",
      "10.5\n",
      "24.15\n",
      "26.0\n",
      "7.8958\n",
      "93.5\n",
      "7.8958\n",
      "7.225\n",
      "57.9792\n",
      "7.2292\n",
      "7.75\n",
      "10.5\n",
      "221.7792\n",
      "7.925\n",
      "11.5\n",
      "26.0\n",
      "7.2292\n",
      "7.2292\n",
      "22.3583\n",
      "8.6625\n",
      "26.25\n",
      "26.55\n",
      "106.425\n",
      "14.5\n",
      "49.5\n",
      "71.0\n",
      "31.275\n",
      "31.275\n",
      "26.0\n",
      "106.425\n",
      "26.0\n",
      "26.0\n",
      "13.8625\n",
      "20.525\n",
      "36.75\n",
      "110.8833\n",
      "26.0\n",
      "7.8292\n",
      "7.225\n",
      "7.775\n",
      "26.55\n",
      "39.6\n",
      "227.525\n",
      "79.65\n",
      "17.4\n",
      "7.75\n",
      "7.8958\n",
      "13.5\n",
      "8.05\n",
      "8.05\n",
      "24.15\n",
      "7.8958\n",
      "21.075\n",
      "7.2292\n",
      "7.8542\n",
      "10.5\n",
      "51.4792\n",
      "26.3875\n",
      "7.75\n",
      "8.05\n",
      "14.5\n",
      "13.0\n",
      "55.9\n",
      "14.4583\n",
      "7.925\n",
      "30.0\n",
      "110.8833\n",
      "26.0\n",
      "40.125\n",
      "8.7125\n",
      "79.65\n",
      "15.0\n",
      "79.2\n",
      "8.05\n",
      "8.05\n",
      "7.125\n",
      "78.2667\n",
      "7.25\n",
      "7.75\n",
      "26.0\n",
      "24.15\n",
      "33.0\n",
      "0.0\n",
      "7.225\n",
      "56.9292\n",
      "27.0\n",
      "7.8958\n",
      "42.4\n",
      "8.05\n",
      "26.55\n",
      "15.55\n",
      "7.8958\n",
      "30.5\n",
      "41.5792\n",
      "153.4625\n",
      "31.275\n",
      "7.05\n",
      "15.5\n",
      "7.75\n",
      "8.05\n",
      "65.0\n",
      "14.4\n",
      "16.1\n",
      "39.0\n",
      "10.5\n",
      "14.4542\n",
      "52.5542\n",
      "15.7417\n",
      "7.8542\n",
      "16.1\n",
      "32.3208\n",
      "12.35\n",
      "77.9583\n",
      "7.8958\n",
      "7.7333\n",
      "30.0\n",
      "7.0542\n",
      "30.5\n",
      "0.0\n",
      "27.9\n",
      "13.0\n",
      "7.925\n",
      "26.25\n",
      "39.6875\n",
      "16.1\n",
      "7.8542\n",
      "69.3\n",
      "27.9\n",
      "56.4958\n",
      "19.2583\n",
      "76.7292\n",
      "7.8958\n",
      "35.5\n",
      "7.55\n",
      "7.55\n",
      "7.8958\n",
      "23.0\n",
      "8.4333\n",
      "7.8292\n",
      "6.75\n",
      "73.5\n",
      "7.8958\n",
      "15.5\n",
      "13.0\n",
      "113.275\n",
      "133.65\n",
      "7.225\n",
      "25.5875\n",
      "7.4958\n",
      "7.925\n",
      "73.5\n",
      "13.0\n",
      "7.775\n",
      "8.05\n",
      "52.0\n",
      "39.0\n",
      "52.0\n",
      "10.5\n",
      "13.0\n",
      "0.0\n",
      "7.775\n",
      "8.05\n",
      "9.8417\n",
      "46.9\n",
      "512.3292\n",
      "8.1375\n",
      "76.7292\n",
      "9.225\n",
      "46.9\n",
      "39.0\n",
      "41.5792\n",
      "39.6875\n",
      "10.1708\n",
      "7.7958\n",
      "211.3375\n",
      "57.0\n",
      "13.4167\n",
      "56.4958\n",
      "7.225\n",
      "26.55\n",
      "13.5\n",
      "8.05\n",
      "7.7333\n",
      "110.8833\n",
      "7.65\n",
      "227.525\n",
      "26.2875\n",
      "14.4542\n",
      "7.7417\n",
      "7.8542\n",
      "26.0\n",
      "13.5\n",
      "26.2875\n",
      "151.55\n",
      "15.2458\n",
      "49.5042\n",
      "26.55\n",
      "52.0\n",
      "9.4833\n",
      "13.0\n",
      "7.65\n",
      "227.525\n",
      "10.5\n",
      "15.5\n",
      "7.775\n",
      "33.0\n",
      "7.0542\n",
      "13.0\n",
      "13.0\n",
      "53.1\n",
      "8.6625\n",
      "21.0\n",
      "7.7375\n",
      "26.0\n",
      "7.925\n",
      "211.3375\n",
      "18.7875\n",
      "0.0\n",
      "13.0\n",
      "13.0\n",
      "16.1\n",
      "34.375\n",
      "512.3292\n",
      "7.8958\n",
      "7.8958\n",
      "30.0\n",
      "78.85\n",
      "262.375\n",
      "16.1\n",
      "7.925\n",
      "71.0\n",
      "20.25\n",
      "13.0\n",
      "53.1\n",
      "7.75\n",
      "23.0\n",
      "12.475\n",
      "9.5\n",
      "7.8958\n",
      "65.0\n",
      "14.5\n",
      "7.7958\n",
      "11.5\n",
      "8.05\n",
      "86.5\n",
      "14.5\n",
      "7.125\n",
      "7.2292\n",
      "120.0\n",
      "7.775\n",
      "77.9583\n",
      "39.6\n",
      "7.75\n",
      "24.15\n",
      "8.3625\n",
      "9.5\n",
      "7.8542\n",
      "10.5\n",
      "7.225\n",
      "23.0\n",
      "7.75\n",
      "7.75\n",
      "12.475\n",
      "7.7375\n",
      "211.3375\n",
      "7.2292\n",
      "57.0\n",
      "30.0\n",
      "23.45\n",
      "7.05\n",
      "7.25\n",
      "7.4958\n",
      "29.125\n",
      "20.575\n",
      "79.2\n",
      "7.75\n",
      "26.0\n",
      "69.55\n",
      "30.6958\n",
      "7.8958\n",
      "13.0\n",
      "25.9292\n",
      "8.6833\n",
      "7.2292\n",
      "24.15\n",
      "13.0\n",
      "26.25\n",
      "120.0\n",
      "8.5167\n",
      "6.975\n",
      "7.775\n",
      "0.0\n",
      "7.775\n",
      "13.0\n",
      "53.1\n",
      "7.8875\n",
      "24.15\n",
      "10.5\n",
      "31.275\n",
      "8.05\n",
      "0.0\n",
      "7.925\n",
      "37.0042\n",
      "6.45\n",
      "27.9\n",
      "93.5\n",
      "8.6625\n",
      "0.0\n",
      "12.475\n",
      "39.6875\n",
      "6.95\n",
      "56.4958\n",
      "37.0042\n",
      "7.75\n",
      "80.0\n",
      "14.4542\n",
      "18.75\n",
      "7.2292\n",
      "7.8542\n",
      "8.3\n",
      "83.1583\n",
      "8.6625\n",
      "8.05\n",
      "56.4958\n",
      "29.7\n",
      "7.925\n",
      "10.5\n",
      "31.0\n",
      "6.4375\n",
      "8.6625\n",
      "7.55\n",
      "69.55\n",
      "7.8958\n",
      "33.0\n",
      "89.1042\n",
      "31.275\n",
      "7.775\n",
      "15.2458\n",
      "39.4\n",
      "26.0\n",
      "9.35\n",
      "164.8667\n",
      "26.55\n",
      "19.2583\n",
      "7.2292\n",
      "14.1083\n",
      "11.5\n",
      "25.9292\n",
      "69.55\n",
      "13.0\n",
      "13.0\n",
      "13.8583\n",
      "50.4958\n",
      "9.5\n",
      "11.1333\n",
      "7.8958\n",
      "52.5542\n",
      "5.0\n",
      "9.0\n",
      "24.0\n",
      "7.225\n",
      "9.8458\n",
      "7.8958\n",
      "7.8958\n",
      "83.1583\n",
      "26.0\n",
      "7.8958\n",
      "10.5167\n",
      "10.5\n",
      "7.05\n",
      "29.125\n",
      "13.0\n",
      "30.0\n",
      "23.45\n",
      "30.0\n",
      "7.75\n"
     ]
    }
   ],
   "source": [
    "for d in train_df['Fare']:\n",
    "    print(d)"
   ]
  },
  {
   "cell_type": "markdown",
   "metadata": {
    "pycharm": {
     "name": "#%% md\n"
    }
   },
   "source": [
    "使用四分位值创建票价区。"
   ]
  },
  {
   "cell_type": "markdown",
   "metadata": {},
   "source": [
    "#### qcut 保证每个组里的元素个数是相等的\n",
    "#### 通过上述数据显示，规律性不强，所以直接使用qcut方法"
   ]
  },
  {
   "cell_type": "code",
   "execution_count": 15,
   "metadata": {
    "pycharm": {
     "is_executing": true,
     "name": "#%%\n"
    }
   },
   "outputs": [
    {
     "data": {
      "text/html": [
       "<div>\n",
       "<style scoped>\n",
       "    .dataframe tbody tr th:only-of-type {\n",
       "        vertical-align: middle;\n",
       "    }\n",
       "\n",
       "    .dataframe tbody tr th {\n",
       "        vertical-align: top;\n",
       "    }\n",
       "\n",
       "    .dataframe thead th {\n",
       "        text-align: right;\n",
       "    }\n",
       "</style>\n",
       "<table border=\"1\" class=\"dataframe\">\n",
       "  <thead>\n",
       "    <tr style=\"text-align: right;\">\n",
       "      <th></th>\n",
       "      <th>FareBand</th>\n",
       "      <th>Survived</th>\n",
       "    </tr>\n",
       "  </thead>\n",
       "  <tbody>\n",
       "    <tr>\n",
       "      <th>0</th>\n",
       "      <td>(-0.001, 7.91]</td>\n",
       "      <td>0.197309</td>\n",
       "    </tr>\n",
       "    <tr>\n",
       "      <th>1</th>\n",
       "      <td>(7.91, 14.454]</td>\n",
       "      <td>0.303571</td>\n",
       "    </tr>\n",
       "    <tr>\n",
       "      <th>2</th>\n",
       "      <td>(14.454, 31.0]</td>\n",
       "      <td>0.454955</td>\n",
       "    </tr>\n",
       "    <tr>\n",
       "      <th>3</th>\n",
       "      <td>(31.0, 512.329]</td>\n",
       "      <td>0.581081</td>\n",
       "    </tr>\n",
       "  </tbody>\n",
       "</table>\n",
       "</div>"
      ],
      "text/plain": [
       "          FareBand  Survived\n",
       "0   (-0.001, 7.91]  0.197309\n",
       "1   (7.91, 14.454]  0.303571\n",
       "2   (14.454, 31.0]  0.454955\n",
       "3  (31.0, 512.329]  0.581081"
      ]
     },
     "execution_count": 15,
     "metadata": {},
     "output_type": "execute_result"
    }
   ],
   "source": [
    "train_df['FareBand'] = pd.qcut(train_df['Fare'],[0, 0.25, 0.5, 0.75, 1])\n",
    "train_df[['FareBand', 'Survived']].groupby(['FareBand'], as_index=False).mean().sort_values(by='FareBand', ascending=True)"
   ]
  },
  {
   "cell_type": "markdown",
   "metadata": {
    "pycharm": {
     "name": "#%% md\n"
    }
   },
   "source": [
    "FareBand可以直观的显示出存活率。这样就变成了一个序数特征。"
   ]
  },
  {
   "cell_type": "code",
   "execution_count": 16,
   "metadata": {
    "pycharm": {
     "is_executing": true,
     "name": "#%%\n"
    }
   },
   "outputs": [
    {
     "data": {
      "text/html": [
       "<div>\n",
       "<style scoped>\n",
       "    .dataframe tbody tr th:only-of-type {\n",
       "        vertical-align: middle;\n",
       "    }\n",
       "\n",
       "    .dataframe tbody tr th {\n",
       "        vertical-align: top;\n",
       "    }\n",
       "\n",
       "    .dataframe thead th {\n",
       "        text-align: right;\n",
       "    }\n",
       "</style>\n",
       "<table border=\"1\" class=\"dataframe\">\n",
       "  <thead>\n",
       "    <tr style=\"text-align: right;\">\n",
       "      <th></th>\n",
       "      <th>Survived</th>\n",
       "      <th>Pclass</th>\n",
       "      <th>Name</th>\n",
       "      <th>Sex</th>\n",
       "      <th>Age</th>\n",
       "      <th>FareBand</th>\n",
       "      <th>AgeBand</th>\n",
       "      <th>SibSp</th>\n",
       "      <th>Parch</th>\n",
       "      <th>Fare</th>\n",
       "      <th>Embarked</th>\n",
       "    </tr>\n",
       "  </thead>\n",
       "  <tbody>\n",
       "    <tr>\n",
       "      <th>0</th>\n",
       "      <td>0</td>\n",
       "      <td>3</td>\n",
       "      <td>Braund, Mr. Owen Harris</td>\n",
       "      <td>0</td>\n",
       "      <td>22.0</td>\n",
       "      <td>0</td>\n",
       "      <td>2</td>\n",
       "      <td>1</td>\n",
       "      <td>0</td>\n",
       "      <td>7.2500</td>\n",
       "      <td>0</td>\n",
       "    </tr>\n",
       "    <tr>\n",
       "      <th>1</th>\n",
       "      <td>1</td>\n",
       "      <td>1</td>\n",
       "      <td>Cumings, Mrs. John Bradley (Florence Briggs Th...</td>\n",
       "      <td>1</td>\n",
       "      <td>38.0</td>\n",
       "      <td>3</td>\n",
       "      <td>2</td>\n",
       "      <td>1</td>\n",
       "      <td>0</td>\n",
       "      <td>71.2833</td>\n",
       "      <td>2</td>\n",
       "    </tr>\n",
       "    <tr>\n",
       "      <th>2</th>\n",
       "      <td>1</td>\n",
       "      <td>3</td>\n",
       "      <td>Heikkinen, Miss. Laina</td>\n",
       "      <td>1</td>\n",
       "      <td>26.0</td>\n",
       "      <td>1</td>\n",
       "      <td>2</td>\n",
       "      <td>0</td>\n",
       "      <td>0</td>\n",
       "      <td>7.9250</td>\n",
       "      <td>0</td>\n",
       "    </tr>\n",
       "    <tr>\n",
       "      <th>3</th>\n",
       "      <td>1</td>\n",
       "      <td>1</td>\n",
       "      <td>Futrelle, Mrs. Jacques Heath (Lily May Peel)</td>\n",
       "      <td>1</td>\n",
       "      <td>35.0</td>\n",
       "      <td>3</td>\n",
       "      <td>2</td>\n",
       "      <td>1</td>\n",
       "      <td>0</td>\n",
       "      <td>53.1000</td>\n",
       "      <td>0</td>\n",
       "    </tr>\n",
       "    <tr>\n",
       "      <th>4</th>\n",
       "      <td>0</td>\n",
       "      <td>3</td>\n",
       "      <td>Allen, Mr. William Henry</td>\n",
       "      <td>0</td>\n",
       "      <td>35.0</td>\n",
       "      <td>1</td>\n",
       "      <td>2</td>\n",
       "      <td>0</td>\n",
       "      <td>0</td>\n",
       "      <td>8.0500</td>\n",
       "      <td>0</td>\n",
       "    </tr>\n",
       "  </tbody>\n",
       "</table>\n",
       "</div>"
      ],
      "text/plain": [
       "   Survived  Pclass                                               Name  Sex  \\\n",
       "0         0       3                            Braund, Mr. Owen Harris    0   \n",
       "1         1       1  Cumings, Mrs. John Bradley (Florence Briggs Th...    1   \n",
       "2         1       3                             Heikkinen, Miss. Laina    1   \n",
       "3         1       1       Futrelle, Mrs. Jacques Heath (Lily May Peel)    1   \n",
       "4         0       3                           Allen, Mr. William Henry    0   \n",
       "\n",
       "    Age FareBand AgeBand  SibSp  Parch     Fare  Embarked  \n",
       "0  22.0        0       2      1      0   7.2500         0  \n",
       "1  38.0        3       2      1      0  71.2833         2  \n",
       "2  26.0        1       2      0      0   7.9250         0  \n",
       "3  35.0        3       2      1      0  53.1000         0  \n",
       "4  35.0        1       2      0      0   8.0500         0  "
      ]
     },
     "execution_count": 16,
     "metadata": {},
     "output_type": "execute_result"
    }
   ],
   "source": [
    "train_df.drop(['FareBand'], axis=1, inplace=True)\n",
    "for df in combine:\n",
    "    category = pd.qcut(df.Fare, q=4, labels=[0, 1, 2, 3])\n",
    "    df.insert(5,'FareBand', category)\n",
    "\n",
    "train_df.head()"
   ]
  },
  {
   "cell_type": "markdown",
   "metadata": {
    "pycharm": {
     "name": "#%% md\n"
    }
   },
   "source": [
    "### 创建从现有特征中提取的新特征\n",
    "\n",
    "#### 使用正则表达式截取人名的最开始部分，作为身份特征列，观察与生存率之间的关系\n",
    "\n",
    "使用正则表达式提取人名最开始部分。RegEx模式(\\w+\\.)与名称功能中第一个以点字符结尾的单词匹配。expand=False标志返回一个DataFrame。"
   ]
  },
  {
   "cell_type": "code",
   "execution_count": 17,
   "metadata": {
    "pycharm": {
     "is_executing": true,
     "name": "#%%\n"
    }
   },
   "outputs": [
    {
     "data": {
      "text/html": [
       "<div>\n",
       "<style scoped>\n",
       "    .dataframe tbody tr th:only-of-type {\n",
       "        vertical-align: middle;\n",
       "    }\n",
       "\n",
       "    .dataframe tbody tr th {\n",
       "        vertical-align: top;\n",
       "    }\n",
       "\n",
       "    .dataframe thead th {\n",
       "        text-align: right;\n",
       "    }\n",
       "</style>\n",
       "<table border=\"1\" class=\"dataframe\">\n",
       "  <thead>\n",
       "    <tr style=\"text-align: right;\">\n",
       "      <th>AgeBand</th>\n",
       "      <th>0</th>\n",
       "      <th>1</th>\n",
       "      <th>2</th>\n",
       "      <th>3</th>\n",
       "    </tr>\n",
       "    <tr>\n",
       "      <th>Title</th>\n",
       "      <th></th>\n",
       "      <th></th>\n",
       "      <th></th>\n",
       "      <th></th>\n",
       "    </tr>\n",
       "  </thead>\n",
       "  <tbody>\n",
       "    <tr>\n",
       "      <th>Capt</th>\n",
       "      <td>0</td>\n",
       "      <td>0</td>\n",
       "      <td>0</td>\n",
       "      <td>1</td>\n",
       "    </tr>\n",
       "    <tr>\n",
       "      <th>Col</th>\n",
       "      <td>0</td>\n",
       "      <td>0</td>\n",
       "      <td>2</td>\n",
       "      <td>0</td>\n",
       "    </tr>\n",
       "    <tr>\n",
       "      <th>Countess</th>\n",
       "      <td>0</td>\n",
       "      <td>0</td>\n",
       "      <td>1</td>\n",
       "      <td>0</td>\n",
       "    </tr>\n",
       "    <tr>\n",
       "      <th>Don</th>\n",
       "      <td>0</td>\n",
       "      <td>0</td>\n",
       "      <td>1</td>\n",
       "      <td>0</td>\n",
       "    </tr>\n",
       "    <tr>\n",
       "      <th>Dr</th>\n",
       "      <td>0</td>\n",
       "      <td>0</td>\n",
       "      <td>7</td>\n",
       "      <td>0</td>\n",
       "    </tr>\n",
       "    <tr>\n",
       "      <th>Jonkheer</th>\n",
       "      <td>0</td>\n",
       "      <td>0</td>\n",
       "      <td>1</td>\n",
       "      <td>0</td>\n",
       "    </tr>\n",
       "    <tr>\n",
       "      <th>Lady</th>\n",
       "      <td>0</td>\n",
       "      <td>0</td>\n",
       "      <td>1</td>\n",
       "      <td>0</td>\n",
       "    </tr>\n",
       "    <tr>\n",
       "      <th>Major</th>\n",
       "      <td>0</td>\n",
       "      <td>0</td>\n",
       "      <td>2</td>\n",
       "      <td>0</td>\n",
       "    </tr>\n",
       "    <tr>\n",
       "      <th>Master</th>\n",
       "      <td>14</td>\n",
       "      <td>22</td>\n",
       "      <td>4</td>\n",
       "      <td>0</td>\n",
       "    </tr>\n",
       "    <tr>\n",
       "      <th>Miss</th>\n",
       "      <td>10</td>\n",
       "      <td>41</td>\n",
       "      <td>131</td>\n",
       "      <td>0</td>\n",
       "    </tr>\n",
       "    <tr>\n",
       "      <th>Mlle</th>\n",
       "      <td>0</td>\n",
       "      <td>0</td>\n",
       "      <td>2</td>\n",
       "      <td>0</td>\n",
       "    </tr>\n",
       "    <tr>\n",
       "      <th>Mme</th>\n",
       "      <td>0</td>\n",
       "      <td>0</td>\n",
       "      <td>1</td>\n",
       "      <td>0</td>\n",
       "    </tr>\n",
       "    <tr>\n",
       "      <th>Mr</th>\n",
       "      <td>0</td>\n",
       "      <td>22</td>\n",
       "      <td>488</td>\n",
       "      <td>7</td>\n",
       "    </tr>\n",
       "    <tr>\n",
       "      <th>Mrs</th>\n",
       "      <td>0</td>\n",
       "      <td>4</td>\n",
       "      <td>121</td>\n",
       "      <td>0</td>\n",
       "    </tr>\n",
       "    <tr>\n",
       "      <th>Ms</th>\n",
       "      <td>0</td>\n",
       "      <td>0</td>\n",
       "      <td>1</td>\n",
       "      <td>0</td>\n",
       "    </tr>\n",
       "    <tr>\n",
       "      <th>Rev</th>\n",
       "      <td>0</td>\n",
       "      <td>0</td>\n",
       "      <td>6</td>\n",
       "      <td>0</td>\n",
       "    </tr>\n",
       "    <tr>\n",
       "      <th>Sir</th>\n",
       "      <td>0</td>\n",
       "      <td>0</td>\n",
       "      <td>1</td>\n",
       "      <td>0</td>\n",
       "    </tr>\n",
       "  </tbody>\n",
       "</table>\n",
       "</div>"
      ],
      "text/plain": [
       "AgeBand    0   1    2  3\n",
       "Title                   \n",
       "Capt       0   0    0  1\n",
       "Col        0   0    2  0\n",
       "Countess   0   0    1  0\n",
       "Don        0   0    1  0\n",
       "Dr         0   0    7  0\n",
       "Jonkheer   0   0    1  0\n",
       "Lady       0   0    1  0\n",
       "Major      0   0    2  0\n",
       "Master    14  22    4  0\n",
       "Miss      10  41  131  0\n",
       "Mlle       0   0    2  0\n",
       "Mme        0   0    1  0\n",
       "Mr         0  22  488  7\n",
       "Mrs        0   4  121  0\n",
       "Ms         0   0    1  0\n",
       "Rev        0   0    6  0\n",
       "Sir        0   0    1  0"
      ]
     },
     "execution_count": 17,
     "metadata": {},
     "output_type": "execute_result"
    }
   ],
   "source": [
    "train_df['Title'] = train_df.Name.str.extract(' ([A-Za-z]+)\\.', expand=False)\n",
    "pd.crosstab(train_df['Title'], train_df['AgeBand'])"
   ]
  },
  {
   "cell_type": "code",
   "execution_count": 18,
   "metadata": {
    "pycharm": {
     "is_executing": true,
     "name": "#%%\n"
    }
   },
   "outputs": [
    {
     "data": {
      "text/html": [
       "<div>\n",
       "<style scoped>\n",
       "    .dataframe tbody tr th:only-of-type {\n",
       "        vertical-align: middle;\n",
       "    }\n",
       "\n",
       "    .dataframe tbody tr th {\n",
       "        vertical-align: top;\n",
       "    }\n",
       "\n",
       "    .dataframe thead th {\n",
       "        text-align: right;\n",
       "    }\n",
       "</style>\n",
       "<table border=\"1\" class=\"dataframe\">\n",
       "  <thead>\n",
       "    <tr style=\"text-align: right;\">\n",
       "      <th>Survived</th>\n",
       "      <th>0</th>\n",
       "      <th>1</th>\n",
       "    </tr>\n",
       "    <tr>\n",
       "      <th>Title</th>\n",
       "      <th></th>\n",
       "      <th></th>\n",
       "    </tr>\n",
       "  </thead>\n",
       "  <tbody>\n",
       "    <tr>\n",
       "      <th>Capt</th>\n",
       "      <td>1</td>\n",
       "      <td>0</td>\n",
       "    </tr>\n",
       "    <tr>\n",
       "      <th>Col</th>\n",
       "      <td>1</td>\n",
       "      <td>1</td>\n",
       "    </tr>\n",
       "    <tr>\n",
       "      <th>Countess</th>\n",
       "      <td>0</td>\n",
       "      <td>1</td>\n",
       "    </tr>\n",
       "    <tr>\n",
       "      <th>Don</th>\n",
       "      <td>1</td>\n",
       "      <td>0</td>\n",
       "    </tr>\n",
       "    <tr>\n",
       "      <th>Dr</th>\n",
       "      <td>4</td>\n",
       "      <td>3</td>\n",
       "    </tr>\n",
       "    <tr>\n",
       "      <th>Jonkheer</th>\n",
       "      <td>1</td>\n",
       "      <td>0</td>\n",
       "    </tr>\n",
       "    <tr>\n",
       "      <th>Lady</th>\n",
       "      <td>0</td>\n",
       "      <td>1</td>\n",
       "    </tr>\n",
       "    <tr>\n",
       "      <th>Major</th>\n",
       "      <td>1</td>\n",
       "      <td>1</td>\n",
       "    </tr>\n",
       "    <tr>\n",
       "      <th>Master</th>\n",
       "      <td>17</td>\n",
       "      <td>23</td>\n",
       "    </tr>\n",
       "    <tr>\n",
       "      <th>Miss</th>\n",
       "      <td>55</td>\n",
       "      <td>127</td>\n",
       "    </tr>\n",
       "    <tr>\n",
       "      <th>Mlle</th>\n",
       "      <td>0</td>\n",
       "      <td>2</td>\n",
       "    </tr>\n",
       "    <tr>\n",
       "      <th>Mme</th>\n",
       "      <td>0</td>\n",
       "      <td>1</td>\n",
       "    </tr>\n",
       "    <tr>\n",
       "      <th>Mr</th>\n",
       "      <td>436</td>\n",
       "      <td>81</td>\n",
       "    </tr>\n",
       "    <tr>\n",
       "      <th>Mrs</th>\n",
       "      <td>26</td>\n",
       "      <td>99</td>\n",
       "    </tr>\n",
       "    <tr>\n",
       "      <th>Ms</th>\n",
       "      <td>0</td>\n",
       "      <td>1</td>\n",
       "    </tr>\n",
       "    <tr>\n",
       "      <th>Rev</th>\n",
       "      <td>6</td>\n",
       "      <td>0</td>\n",
       "    </tr>\n",
       "    <tr>\n",
       "      <th>Sir</th>\n",
       "      <td>0</td>\n",
       "      <td>1</td>\n",
       "    </tr>\n",
       "  </tbody>\n",
       "</table>\n",
       "</div>"
      ],
      "text/plain": [
       "Survived    0    1\n",
       "Title             \n",
       "Capt        1    0\n",
       "Col         1    1\n",
       "Countess    0    1\n",
       "Don         1    0\n",
       "Dr          4    3\n",
       "Jonkheer    1    0\n",
       "Lady        0    1\n",
       "Major       1    1\n",
       "Master     17   23\n",
       "Miss       55  127\n",
       "Mlle        0    2\n",
       "Mme         0    1\n",
       "Mr        436   81\n",
       "Mrs        26   99\n",
       "Ms          0    1\n",
       "Rev         6    0\n",
       "Sir         0    1"
      ]
     },
     "execution_count": 18,
     "metadata": {},
     "output_type": "execute_result"
    }
   ],
   "source": [
    "pd.crosstab(train_df['Title'], train_df['Survived'])"
   ]
  },
  {
   "cell_type": "markdown",
   "metadata": {
    "pycharm": {
     "name": "#%% md\n"
    }
   },
   "source": [
    "通过上面的dataframe，可以得到：\n",
    "\n",
    "#### 1.截取出来的字段大多数会准确区分年龄段。例如：Master 字段 年龄是小于17岁的\n",
    "#### 2.这些字段对应的存活率略有不同\n",
    "#### 3.某些字段（Mme，Lady，Sir）幸存率很高，而（Don，Rev，Jonkheer）这些字段幸存率很低。"
   ]
  },
  {
   "cell_type": "code",
   "execution_count": 19,
   "metadata": {
    "pycharm": {
     "is_executing": true,
     "name": "#%%\n"
    }
   },
   "outputs": [],
   "source": [
    "train_df.drop(['Title'], axis=1, inplace=True)\n",
    "for df in combine:\n",
    "    df['Title'] = df.Name.str.extract(' ([A-Za-z]+)\\.', expand=False)\n",
    "    "
   ]
  },
  {
   "cell_type": "markdown",
   "metadata": {
    "pycharm": {
     "name": "#%% md\n"
    }
   },
   "source": [
    "对这些字段进行操作，将名字分成几类"
   ]
  },
  {
   "cell_type": "code",
   "execution_count": 20,
   "metadata": {
    "pycharm": {
     "is_executing": true,
     "name": "#%%\n"
    }
   },
   "outputs": [
    {
     "data": {
      "text/html": [
       "<div>\n",
       "<style scoped>\n",
       "    .dataframe tbody tr th:only-of-type {\n",
       "        vertical-align: middle;\n",
       "    }\n",
       "\n",
       "    .dataframe tbody tr th {\n",
       "        vertical-align: top;\n",
       "    }\n",
       "\n",
       "    .dataframe thead th {\n",
       "        text-align: right;\n",
       "    }\n",
       "</style>\n",
       "<table border=\"1\" class=\"dataframe\">\n",
       "  <thead>\n",
       "    <tr style=\"text-align: right;\">\n",
       "      <th></th>\n",
       "      <th>Survived</th>\n",
       "      <th>Pclass</th>\n",
       "      <th>Name</th>\n",
       "      <th>Sex</th>\n",
       "      <th>Age</th>\n",
       "      <th>FareBand</th>\n",
       "      <th>AgeBand</th>\n",
       "      <th>SibSp</th>\n",
       "      <th>Parch</th>\n",
       "      <th>Fare</th>\n",
       "      <th>Embarked</th>\n",
       "      <th>Title</th>\n",
       "    </tr>\n",
       "  </thead>\n",
       "  <tbody>\n",
       "    <tr>\n",
       "      <th>0</th>\n",
       "      <td>0</td>\n",
       "      <td>3</td>\n",
       "      <td>Braund, Mr. Owen Harris</td>\n",
       "      <td>0</td>\n",
       "      <td>22.0</td>\n",
       "      <td>0</td>\n",
       "      <td>2</td>\n",
       "      <td>1</td>\n",
       "      <td>0</td>\n",
       "      <td>7.2500</td>\n",
       "      <td>0</td>\n",
       "      <td>Mr</td>\n",
       "    </tr>\n",
       "    <tr>\n",
       "      <th>1</th>\n",
       "      <td>1</td>\n",
       "      <td>1</td>\n",
       "      <td>Cumings, Mrs. John Bradley (Florence Briggs Th...</td>\n",
       "      <td>1</td>\n",
       "      <td>38.0</td>\n",
       "      <td>3</td>\n",
       "      <td>2</td>\n",
       "      <td>1</td>\n",
       "      <td>0</td>\n",
       "      <td>71.2833</td>\n",
       "      <td>2</td>\n",
       "      <td>Mrs</td>\n",
       "    </tr>\n",
       "    <tr>\n",
       "      <th>2</th>\n",
       "      <td>1</td>\n",
       "      <td>3</td>\n",
       "      <td>Heikkinen, Miss. Laina</td>\n",
       "      <td>1</td>\n",
       "      <td>26.0</td>\n",
       "      <td>1</td>\n",
       "      <td>2</td>\n",
       "      <td>0</td>\n",
       "      <td>0</td>\n",
       "      <td>7.9250</td>\n",
       "      <td>0</td>\n",
       "      <td>Miss</td>\n",
       "    </tr>\n",
       "    <tr>\n",
       "      <th>3</th>\n",
       "      <td>1</td>\n",
       "      <td>1</td>\n",
       "      <td>Futrelle, Mrs. Jacques Heath (Lily May Peel)</td>\n",
       "      <td>1</td>\n",
       "      <td>35.0</td>\n",
       "      <td>3</td>\n",
       "      <td>2</td>\n",
       "      <td>1</td>\n",
       "      <td>0</td>\n",
       "      <td>53.1000</td>\n",
       "      <td>0</td>\n",
       "      <td>Mrs</td>\n",
       "    </tr>\n",
       "    <tr>\n",
       "      <th>4</th>\n",
       "      <td>0</td>\n",
       "      <td>3</td>\n",
       "      <td>Allen, Mr. William Henry</td>\n",
       "      <td>0</td>\n",
       "      <td>35.0</td>\n",
       "      <td>1</td>\n",
       "      <td>2</td>\n",
       "      <td>0</td>\n",
       "      <td>0</td>\n",
       "      <td>8.0500</td>\n",
       "      <td>0</td>\n",
       "      <td>Mr</td>\n",
       "    </tr>\n",
       "  </tbody>\n",
       "</table>\n",
       "</div>"
      ],
      "text/plain": [
       "   Survived  Pclass                                               Name  Sex  \\\n",
       "0         0       3                            Braund, Mr. Owen Harris    0   \n",
       "1         1       1  Cumings, Mrs. John Bradley (Florence Briggs Th...    1   \n",
       "2         1       3                             Heikkinen, Miss. Laina    1   \n",
       "3         1       1       Futrelle, Mrs. Jacques Heath (Lily May Peel)    1   \n",
       "4         0       3                           Allen, Mr. William Henry    0   \n",
       "\n",
       "    Age FareBand AgeBand  SibSp  Parch     Fare  Embarked Title  \n",
       "0  22.0        0       2      1      0   7.2500         0    Mr  \n",
       "1  38.0        3       2      1      0  71.2833         2   Mrs  \n",
       "2  26.0        1       2      0      0   7.9250         0  Miss  \n",
       "3  35.0        3       2      1      0  53.1000         0   Mrs  \n",
       "4  35.0        1       2      0      0   8.0500         0    Mr  "
      ]
     },
     "execution_count": 20,
     "metadata": {},
     "output_type": "execute_result"
    }
   ],
   "source": [
    "for dataset in combine:\n",
    "    dataset['Title'] = dataset['Title'].replace(['Lady', 'Countess','Capt', 'Col',\\\n",
    " \t'Don', 'Dr', 'Major', 'Rev', 'Sir', 'Jonkheer', 'Dona'], 'Rare')\n",
    "\n",
    "    dataset['Title'] = dataset['Title'].replace('Mlle', 'Miss')\n",
    "    dataset['Title'] = dataset['Title'].replace('Ms', 'Miss')\n",
    "    dataset['Title'] = dataset['Title'].replace('Mme', 'Mrs')\n",
    "\n",
    "train_df.head()"
   ]
  },
  {
   "cell_type": "markdown",
   "metadata": {
    "pycharm": {
     "name": "#%% md\n"
    }
   },
   "source": [
    "将这些分类标题转换为序数"
   ]
  },
  {
   "cell_type": "code",
   "execution_count": 21,
   "metadata": {
    "pycharm": {
     "is_executing": true,
     "name": "#%%\n"
    }
   },
   "outputs": [
    {
     "data": {
      "text/html": [
       "<div>\n",
       "<style scoped>\n",
       "    .dataframe tbody tr th:only-of-type {\n",
       "        vertical-align: middle;\n",
       "    }\n",
       "\n",
       "    .dataframe tbody tr th {\n",
       "        vertical-align: top;\n",
       "    }\n",
       "\n",
       "    .dataframe thead th {\n",
       "        text-align: right;\n",
       "    }\n",
       "</style>\n",
       "<table border=\"1\" class=\"dataframe\">\n",
       "  <thead>\n",
       "    <tr style=\"text-align: right;\">\n",
       "      <th></th>\n",
       "      <th>Survived</th>\n",
       "      <th>Pclass</th>\n",
       "      <th>Name</th>\n",
       "      <th>Sex</th>\n",
       "      <th>Age</th>\n",
       "      <th>FareBand</th>\n",
       "      <th>AgeBand</th>\n",
       "      <th>SibSp</th>\n",
       "      <th>Parch</th>\n",
       "      <th>Fare</th>\n",
       "      <th>Embarked</th>\n",
       "      <th>Title</th>\n",
       "    </tr>\n",
       "  </thead>\n",
       "  <tbody>\n",
       "    <tr>\n",
       "      <th>0</th>\n",
       "      <td>0</td>\n",
       "      <td>3</td>\n",
       "      <td>Braund, Mr. Owen Harris</td>\n",
       "      <td>0</td>\n",
       "      <td>22.0</td>\n",
       "      <td>0</td>\n",
       "      <td>2</td>\n",
       "      <td>1</td>\n",
       "      <td>0</td>\n",
       "      <td>7.2500</td>\n",
       "      <td>0</td>\n",
       "      <td>1</td>\n",
       "    </tr>\n",
       "    <tr>\n",
       "      <th>1</th>\n",
       "      <td>1</td>\n",
       "      <td>1</td>\n",
       "      <td>Cumings, Mrs. John Bradley (Florence Briggs Th...</td>\n",
       "      <td>1</td>\n",
       "      <td>38.0</td>\n",
       "      <td>3</td>\n",
       "      <td>2</td>\n",
       "      <td>1</td>\n",
       "      <td>0</td>\n",
       "      <td>71.2833</td>\n",
       "      <td>2</td>\n",
       "      <td>3</td>\n",
       "    </tr>\n",
       "    <tr>\n",
       "      <th>2</th>\n",
       "      <td>1</td>\n",
       "      <td>3</td>\n",
       "      <td>Heikkinen, Miss. Laina</td>\n",
       "      <td>1</td>\n",
       "      <td>26.0</td>\n",
       "      <td>1</td>\n",
       "      <td>2</td>\n",
       "      <td>0</td>\n",
       "      <td>0</td>\n",
       "      <td>7.9250</td>\n",
       "      <td>0</td>\n",
       "      <td>2</td>\n",
       "    </tr>\n",
       "    <tr>\n",
       "      <th>3</th>\n",
       "      <td>1</td>\n",
       "      <td>1</td>\n",
       "      <td>Futrelle, Mrs. Jacques Heath (Lily May Peel)</td>\n",
       "      <td>1</td>\n",
       "      <td>35.0</td>\n",
       "      <td>3</td>\n",
       "      <td>2</td>\n",
       "      <td>1</td>\n",
       "      <td>0</td>\n",
       "      <td>53.1000</td>\n",
       "      <td>0</td>\n",
       "      <td>3</td>\n",
       "    </tr>\n",
       "    <tr>\n",
       "      <th>4</th>\n",
       "      <td>0</td>\n",
       "      <td>3</td>\n",
       "      <td>Allen, Mr. William Henry</td>\n",
       "      <td>0</td>\n",
       "      <td>35.0</td>\n",
       "      <td>1</td>\n",
       "      <td>2</td>\n",
       "      <td>0</td>\n",
       "      <td>0</td>\n",
       "      <td>8.0500</td>\n",
       "      <td>0</td>\n",
       "      <td>1</td>\n",
       "    </tr>\n",
       "  </tbody>\n",
       "</table>\n",
       "</div>"
      ],
      "text/plain": [
       "   Survived  Pclass                                               Name  Sex  \\\n",
       "0         0       3                            Braund, Mr. Owen Harris    0   \n",
       "1         1       1  Cumings, Mrs. John Bradley (Florence Briggs Th...    1   \n",
       "2         1       3                             Heikkinen, Miss. Laina    1   \n",
       "3         1       1       Futrelle, Mrs. Jacques Heath (Lily May Peel)    1   \n",
       "4         0       3                           Allen, Mr. William Henry    0   \n",
       "\n",
       "    Age FareBand AgeBand  SibSp  Parch     Fare  Embarked  Title  \n",
       "0  22.0        0       2      1      0   7.2500         0      1  \n",
       "1  38.0        3       2      1      0  71.2833         2      3  \n",
       "2  26.0        1       2      0      0   7.9250         0      2  \n",
       "3  35.0        3       2      1      0  53.1000         0      3  \n",
       "4  35.0        1       2      0      0   8.0500         0      1  "
      ]
     },
     "execution_count": 21,
     "metadata": {},
     "output_type": "execute_result"
    }
   ],
   "source": [
    "title_mapping = {\"Mr\": 1, \"Miss\": 2, \"Mrs\": 3, \"Master\": 4, \"Rare\": 5}\n",
    "for dataset in combine:\n",
    "    dataset['Title'] = dataset['Title'].map(title_mapping)\n",
    "    dataset['Title'] = dataset['Title'].fillna(0)\n",
    "\n",
    "\n",
    "train_df.head()\n"
   ]
  },
  {
   "cell_type": "markdown",
   "metadata": {},
   "source": [
    "从数据集中删除“名称”列。"
   ]
  },
  {
   "cell_type": "code",
   "execution_count": 22,
   "metadata": {
    "pycharm": {
     "is_executing": true,
     "name": "#%%\n"
    }
   },
   "outputs": [],
   "source": [
    "for dataset in combine:\n",
    "    dataset.drop('Name', inplace=True, axis=1)\n",
    "    "
   ]
  },
  {
   "cell_type": "markdown",
   "metadata": {
    "pycharm": {
     "name": "#%% md\n"
    }
   },
   "source": [
    "#### 来自SibSp和Parch的家庭人数\n",
    "在lab02中，'SibSp'和'Parch'并不是很好的列。因此，结合这些列，创建一个名为“ FamilySize”的新列。"
   ]
  },
  {
   "cell_type": "code",
   "execution_count": 23,
   "metadata": {
    "pycharm": {
     "is_executing": true,
     "name": "#%%\n"
    }
   },
   "outputs": [
    {
     "data": {
      "text/html": [
       "<div>\n",
       "<style scoped>\n",
       "    .dataframe tbody tr th:only-of-type {\n",
       "        vertical-align: middle;\n",
       "    }\n",
       "\n",
       "    .dataframe tbody tr th {\n",
       "        vertical-align: top;\n",
       "    }\n",
       "\n",
       "    .dataframe thead th {\n",
       "        text-align: right;\n",
       "    }\n",
       "</style>\n",
       "<table border=\"1\" class=\"dataframe\">\n",
       "  <thead>\n",
       "    <tr style=\"text-align: right;\">\n",
       "      <th></th>\n",
       "      <th>FamilySize</th>\n",
       "      <th>Survived</th>\n",
       "    </tr>\n",
       "  </thead>\n",
       "  <tbody>\n",
       "    <tr>\n",
       "      <th>3</th>\n",
       "      <td>4</td>\n",
       "      <td>0.724138</td>\n",
       "    </tr>\n",
       "    <tr>\n",
       "      <th>2</th>\n",
       "      <td>3</td>\n",
       "      <td>0.578431</td>\n",
       "    </tr>\n",
       "    <tr>\n",
       "      <th>1</th>\n",
       "      <td>2</td>\n",
       "      <td>0.552795</td>\n",
       "    </tr>\n",
       "    <tr>\n",
       "      <th>6</th>\n",
       "      <td>7</td>\n",
       "      <td>0.333333</td>\n",
       "    </tr>\n",
       "    <tr>\n",
       "      <th>0</th>\n",
       "      <td>1</td>\n",
       "      <td>0.303538</td>\n",
       "    </tr>\n",
       "    <tr>\n",
       "      <th>4</th>\n",
       "      <td>5</td>\n",
       "      <td>0.200000</td>\n",
       "    </tr>\n",
       "    <tr>\n",
       "      <th>5</th>\n",
       "      <td>6</td>\n",
       "      <td>0.136364</td>\n",
       "    </tr>\n",
       "    <tr>\n",
       "      <th>7</th>\n",
       "      <td>8</td>\n",
       "      <td>0.000000</td>\n",
       "    </tr>\n",
       "    <tr>\n",
       "      <th>8</th>\n",
       "      <td>11</td>\n",
       "      <td>0.000000</td>\n",
       "    </tr>\n",
       "  </tbody>\n",
       "</table>\n",
       "</div>"
      ],
      "text/plain": [
       "   FamilySize  Survived\n",
       "3           4  0.724138\n",
       "2           3  0.578431\n",
       "1           2  0.552795\n",
       "6           7  0.333333\n",
       "0           1  0.303538\n",
       "4           5  0.200000\n",
       "5           6  0.136364\n",
       "7           8  0.000000\n",
       "8          11  0.000000"
      ]
     },
     "execution_count": 23,
     "metadata": {},
     "output_type": "execute_result"
    }
   ],
   "source": [
    "train_df['FamilySize'] = train_df['SibSp'] + train_df['Parch'] + 1    \n",
    "train_df[['FamilySize', 'Survived']].groupby(['FamilySize'], as_index=False).mean().sort_values(by='Survived', ascending=False)"
   ]
  },
  {
   "cell_type": "markdown",
   "metadata": {},
   "source": [
    "从上图观察可以发现家庭成员为（4，3，2）的存活率最高，为（7，1，5，6）的存活率较低，为（8，11）的存活率最低"
   ]
  },
  {
   "cell_type": "markdown",
   "metadata": {
    "pycharm": {
     "name": "#%% md\n"
    }
   },
   "source": [
    "如上图所示，FamilySize但是它有几个类别。但是不好进行操作，现在创建一个称为IsAlone的新列，以最大程度地减少复杂性。"
   ]
  },
  {
   "cell_type": "code",
   "execution_count": 24,
   "metadata": {
    "pycharm": {
     "is_executing": true,
     "name": "#%%\n"
    }
   },
   "outputs": [],
   "source": [
    "train_df.drop(['FamilySize'], axis=1, inplace=True)\n",
    "for dataset in combine:\n",
    "    dataset['FamilySize'] = dataset['SibSp'] + dataset['Parch'] + 1\n",
    "    dataset['IsAlone'] = 0\n",
    "    dataset.loc[dataset['FamilySize'] == 1, 'IsAlone'] = 1"
   ]
  },
  {
   "cell_type": "markdown",
   "metadata": {
    "pycharm": {
     "name": "#%% md"
    }
   },
   "source": [
    "删除“FamilySize”这一列。"
   ]
  },
  {
   "cell_type": "code",
   "execution_count": 25,
   "metadata": {
    "pycharm": {
     "is_executing": true,
     "name": "#%%\n"
    }
   },
   "outputs": [
    {
     "data": {
      "text/html": [
       "<div>\n",
       "<style scoped>\n",
       "    .dataframe tbody tr th:only-of-type {\n",
       "        vertical-align: middle;\n",
       "    }\n",
       "\n",
       "    .dataframe tbody tr th {\n",
       "        vertical-align: top;\n",
       "    }\n",
       "\n",
       "    .dataframe thead th {\n",
       "        text-align: right;\n",
       "    }\n",
       "</style>\n",
       "<table border=\"1\" class=\"dataframe\">\n",
       "  <thead>\n",
       "    <tr style=\"text-align: right;\">\n",
       "      <th></th>\n",
       "      <th>Survived</th>\n",
       "      <th>Pclass</th>\n",
       "      <th>Sex</th>\n",
       "      <th>Age</th>\n",
       "      <th>FareBand</th>\n",
       "      <th>AgeBand</th>\n",
       "      <th>SibSp</th>\n",
       "      <th>Parch</th>\n",
       "      <th>Fare</th>\n",
       "      <th>Embarked</th>\n",
       "      <th>Title</th>\n",
       "      <th>IsAlone</th>\n",
       "    </tr>\n",
       "  </thead>\n",
       "  <tbody>\n",
       "    <tr>\n",
       "      <th>0</th>\n",
       "      <td>0</td>\n",
       "      <td>3</td>\n",
       "      <td>0</td>\n",
       "      <td>22.0</td>\n",
       "      <td>0</td>\n",
       "      <td>2</td>\n",
       "      <td>1</td>\n",
       "      <td>0</td>\n",
       "      <td>7.2500</td>\n",
       "      <td>0</td>\n",
       "      <td>1</td>\n",
       "      <td>0</td>\n",
       "    </tr>\n",
       "    <tr>\n",
       "      <th>1</th>\n",
       "      <td>1</td>\n",
       "      <td>1</td>\n",
       "      <td>1</td>\n",
       "      <td>38.0</td>\n",
       "      <td>3</td>\n",
       "      <td>2</td>\n",
       "      <td>1</td>\n",
       "      <td>0</td>\n",
       "      <td>71.2833</td>\n",
       "      <td>2</td>\n",
       "      <td>3</td>\n",
       "      <td>0</td>\n",
       "    </tr>\n",
       "    <tr>\n",
       "      <th>2</th>\n",
       "      <td>1</td>\n",
       "      <td>3</td>\n",
       "      <td>1</td>\n",
       "      <td>26.0</td>\n",
       "      <td>1</td>\n",
       "      <td>2</td>\n",
       "      <td>0</td>\n",
       "      <td>0</td>\n",
       "      <td>7.9250</td>\n",
       "      <td>0</td>\n",
       "      <td>2</td>\n",
       "      <td>1</td>\n",
       "    </tr>\n",
       "    <tr>\n",
       "      <th>3</th>\n",
       "      <td>1</td>\n",
       "      <td>1</td>\n",
       "      <td>1</td>\n",
       "      <td>35.0</td>\n",
       "      <td>3</td>\n",
       "      <td>2</td>\n",
       "      <td>1</td>\n",
       "      <td>0</td>\n",
       "      <td>53.1000</td>\n",
       "      <td>0</td>\n",
       "      <td>3</td>\n",
       "      <td>0</td>\n",
       "    </tr>\n",
       "    <tr>\n",
       "      <th>4</th>\n",
       "      <td>0</td>\n",
       "      <td>3</td>\n",
       "      <td>0</td>\n",
       "      <td>35.0</td>\n",
       "      <td>1</td>\n",
       "      <td>2</td>\n",
       "      <td>0</td>\n",
       "      <td>0</td>\n",
       "      <td>8.0500</td>\n",
       "      <td>0</td>\n",
       "      <td>1</td>\n",
       "      <td>1</td>\n",
       "    </tr>\n",
       "  </tbody>\n",
       "</table>\n",
       "</div>"
      ],
      "text/plain": [
       "   Survived  Pclass  Sex   Age FareBand AgeBand  SibSp  Parch     Fare  \\\n",
       "0         0       3    0  22.0        0       2      1      0   7.2500   \n",
       "1         1       1    1  38.0        3       2      1      0  71.2833   \n",
       "2         1       3    1  26.0        1       2      0      0   7.9250   \n",
       "3         1       1    1  35.0        3       2      1      0  53.1000   \n",
       "4         0       3    0  35.0        1       2      0      0   8.0500   \n",
       "\n",
       "   Embarked  Title  IsAlone  \n",
       "0         0      1        0  \n",
       "1         2      3        0  \n",
       "2         0      2        1  \n",
       "3         0      3        0  \n",
       "4         0      1        1  "
      ]
     },
     "execution_count": 25,
     "metadata": {},
     "output_type": "execute_result"
    }
   ],
   "source": [
    "for dataset in combine:\n",
    "    dataset.drop(['FamilySize'], axis=1, inplace=True)\n",
    "    \n",
    "train_df.head()"
   ]
  },
  {
   "cell_type": "markdown",
   "metadata": {
    "pycharm": {
     "name": "#%% md\n"
    }
   },
   "source": [
    "## 3.模型，预测和评估"
   ]
  },
  {
   "cell_type": "markdown",
   "metadata": {
    "pycharm": {
     "name": "#%% md\n"
    }
   },
   "source": [
    "让我们根据数据进行训练，验证和测试。"
   ]
  },
  {
   "cell_type": "markdown",
   "metadata": {},
   "source": [
    "预测值不能存在，需要将存活率得到列删除"
   ]
  },
  {
   "cell_type": "code",
   "execution_count": 26,
   "metadata": {
    "pycharm": {
     "is_executing": true,
     "name": "#%%\n"
    }
   },
   "outputs": [],
   "source": [
    "X = train_df.drop('Survived', axis=1)\n",
    "y = train_df['Survived']\n",
    "\n",
    "X_test = test_df.drop('Survived', axis=1)\n",
    "y_test = test_df['Survived']"
   ]
  },
  {
   "cell_type": "code",
   "execution_count": 27,
   "metadata": {
    "pycharm": {
     "is_executing": true,
     "name": "#%%\n"
    }
   },
   "outputs": [],
   "source": [
    "X_train, X_valid, y_train, y_valid = train_test_split(X, y, test_size=0.3)\n",
    "\n",
    "combine = [X_train, X_valid, X_test] #训练集，验证集，测试集"
   ]
  },
  {
   "cell_type": "markdown",
   "metadata": {
    "pycharm": {
     "name": "#%% md\n"
    }
   },
   "source": [
    "重新创建上周构建的决策树模型。"
   ]
  },
  {
   "cell_type": "code",
   "execution_count": 28,
   "metadata": {
    "pycharm": {
     "is_executing": true,
     "name": "#%%\n"
    }
   },
   "outputs": [
    {
     "name": "stdout",
     "output_type": "stream",
     "text": [
      "Accuracy: 0.7985074626865671\n"
     ]
    }
   ],
   "source": [
    "X_train_cat = X_train[['Sex', 'Pclass', 'Embarked', 'SibSp', 'Parch']]\n",
    "X_valid_cat = X_valid[['Sex', 'Pclass', 'Embarked', 'SibSp', 'Parch']]\n",
    "\n",
    "cat_tree = DecisionTreeClassifier(criterion='entropy', random_state=42)\n",
    "\n",
    "#criterion:string类型，可选（默认为\"gini\"）\n",
    "#衡量分类的质量。支持的标准有\"gini\"代表的是Gini impurity(不纯度)与\"entropy\"代表的是information gain（信息增益）。\n",
    "\n",
    "cat_tree.fit(X_train_cat, y_train)\n",
    "y_pred = cat_tree.predict(X_valid_cat)\n",
    "\n",
    "print(\"Accuracy:\", metrics.accuracy_score(y_valid, y_pred))"
   ]
  },
  {
   "cell_type": "markdown",
   "metadata": {},
   "source": [
    "精度：0.7985074626865671"
   ]
  },
  {
   "cell_type": "markdown",
   "metadata": {},
   "source": [
    "random_state=42  \n",
    "https://www.jianshu.com/p/4deb2cb2502f"
   ]
  },
  {
   "cell_type": "markdown",
   "metadata": {},
   "source": [
    "#### DecisionTreeClassifier（）方法详解\n",
    "https://blog.csdn.net/li980828298/article/details/51172744"
   ]
  },
  {
   "cell_type": "markdown",
   "metadata": {
    "pycharm": {
     "name": "#%% md\n"
    }
   },
   "source": [
    "#### Evaluation\n",
    "\n",
    "预测生成混淆矩阵。"
   ]
  },
  {
   "cell_type": "code",
   "execution_count": 29,
   "metadata": {
    "pycharm": {
     "is_executing": true,
     "name": "#%%\n"
    }
   },
   "outputs": [
    {
     "name": "stdout",
     "output_type": "stream",
     "text": [
      "[[148  13]\n",
      " [ 41  66]]\n"
     ]
    }
   ],
   "source": [
    "print(metrics.confusion_matrix(y_valid, y_pred))"
   ]
  },
  {
   "cell_type": "markdown",
   "metadata": {
    "pycharm": {
     "name": "#%% md\n"
    }
   },
   "source": [
    "The index mapping of the above matrix is as follows,\n",
    "\n",
    "- [0, 0] - True Positive\n",
    "- [0, 1] - False Negative\n",
    "- [1, 0] - False Positive\n",
    "- [1, 1] - True Negative\n",
    "\n",
    "Let's generate the classification report of our predicted data. Classification report contains information such as \n",
    "accuracy and precision, recall and f1-score for each output class.\n",
    "You can get more information on classification report here: \n",
    "https://scikit-learn.org/stable/modules/generated/sklearn.metrics.classification_report.html#sklearn.metrics.classification_report"
   ]
  },
  {
   "cell_type": "markdown",
   "metadata": {},
   "source": [
    "#### 通过混淆矩阵：https://blog.csdn.net/u011734144/article/details/80277225\n",
    "#### 生成预测数据的分类报告。分类报告包含每个输出类别的信息，例如准确度和精确度，召回率和f1得分。"
   ]
  },
  {
   "cell_type": "code",
   "execution_count": 30,
   "metadata": {
    "pycharm": {
     "is_executing": true,
     "name": "#%%\n"
    }
   },
   "outputs": [
    {
     "name": "stdout",
     "output_type": "stream",
     "text": [
      "              precision    recall  f1-score   support\n",
      "\n",
      "           0       0.78      0.92      0.85       161\n",
      "           1       0.84      0.62      0.71       107\n",
      "\n",
      "    accuracy                           0.80       268\n",
      "   macro avg       0.81      0.77      0.78       268\n",
      "weighted avg       0.80      0.80      0.79       268\n",
      "\n"
     ]
    }
   ],
   "source": [
    "print(metrics.classification_report(y_valid, y_pred))"
   ]
  },
  {
   "cell_type": "markdown",
   "metadata": {},
   "source": [
    "       精度召回f1得分支持\n",
    "\n",
    "           0 0.78 0.92 0.85 161 \n",
    "           1 0.84 0.62 0.71 107\n",
    "\n",
    "    精度0.80 268\n",
    "   宏平均0.81 0.77 0.78 268\n",
    "\n",
    "加权平均0.80 0.80 0.79 268\n",
    "\n",
    "https://blog.csdn.net/qq_40765537/article/details/105344798?utm_medium=distribute.pc_relevant.none-task-blog-BlogCommendFromMachineLearnPai2-1.edu_weight&depth_1-utm_source=distribute.pc_relevant.none-task-blog-BlogCommendFromMachineLearnPai2-1.edu_weight"
   ]
  },
  {
   "cell_type": "markdown",
   "metadata": {
    "pycharm": {
     "name": "#%% md\n"
    }
   },
   "source": [
    "#### 继续建模"
   ]
  },
  {
   "cell_type": "markdown",
   "metadata": {
    "pycharm": {
     "name": "#%% md\n"
    }
   },
   "source": [
    "添加策划的新列，并尝试训练新模型。"
   ]
  },
  {
   "cell_type": "code",
   "execution_count": 31,
   "metadata": {
    "pycharm": {
     "is_executing": true,
     "name": "#%%\n"
    }
   },
   "outputs": [],
   "source": [
    "X_train.drop(['SibSp', 'Parch', 'Fare'], axis=1, inplace=True)\n",
    "X_test.drop(['SibSp', 'Parch', 'Fare'], axis=1, inplace=True)\n",
    "X_valid.drop(['SibSp', 'Parch', 'Fare'], axis=1, inplace=True)"
   ]
  },
  {
   "cell_type": "code",
   "execution_count": 32,
   "metadata": {
    "pycharm": {
     "is_executing": true,
     "name": "#%%\n"
    }
   },
   "outputs": [
    {
     "name": "stdout",
     "output_type": "stream",
     "text": [
      "              precision    recall  f1-score   support\n",
      "\n",
      "           0       0.81      0.86      0.83       161\n",
      "           1       0.77      0.69      0.73       107\n",
      "\n",
      "    accuracy                           0.79       268\n",
      "   macro avg       0.79      0.78      0.78       268\n",
      "weighted avg       0.79      0.79      0.79       268\n",
      "\n"
     ]
    }
   ],
   "source": [
    "entropy_tree = DecisionTreeClassifier(criterion='entropy', random_state=42)\n",
    "entropy_tree.fit(X_train, y_train)\n",
    "y_pred = entropy_tree.predict(X_valid)\n",
    "\n",
    "print(metrics.classification_report(y_valid, y_pred))"
   ]
  },
  {
   "cell_type": "markdown",
   "metadata": {
    "pycharm": {
     "name": "#%% md\n"
    }
   },
   "source": [
    "绘制该决策树。可以在sci_kit中使用plot_tree（）函数学习可视化建模的树。"
   ]
  },
  {
   "cell_type": "code",
   "execution_count": 33,
   "metadata": {
    "pycharm": {
     "is_executing": true,
     "name": "#%%\n"
    }
   },
   "outputs": [
    {
     "data": {
      "text/plain": [
       "[Text(194.93238106343284, 211.7178947368421, 'X[1] <= 0.5\\nentropy = 0.956\\nsamples = 623\\nvalue = [388, 235]'),\n",
       " Text(106.75263526119403, 200.2736842105263, 'X[3] <= 1.5\\nentropy = 0.696\\nsamples = 406\\nvalue = [330, 76]'),\n",
       " Text(47.94011194029851, 188.82947368421054, 'X[2] <= 14.0\\nentropy = 0.493\\nsamples = 232\\nvalue = [207, 25]'),\n",
       " Text(45.441604477611946, 177.38526315789474, 'entropy = 0.0\\nsamples = 3\\nvalue = [0, 3]'),\n",
       " Text(50.438619402985076, 177.38526315789474, 'X[3] <= 0.5\\nentropy = 0.456\\nsamples = 229\\nvalue = [207, 22]'),\n",
       " Text(25.609701492537315, 165.94105263157894, 'X[2] <= 29.5\\nentropy = 0.321\\nsamples = 120\\nvalue = [113, 7]'),\n",
       " Text(23.111194029850747, 154.49684210526317, 'X[2] <= 20.5\\nentropy = 0.401\\nsamples = 88\\nvalue = [81, 7]'),\n",
       " Text(20.61268656716418, 143.05263157894737, 'entropy = 0.0\\nsamples = 12\\nvalue = [12, 0]'),\n",
       " Text(25.609701492537315, 143.05263157894737, 'X[2] <= 26.5\\nentropy = 0.443\\nsamples = 76\\nvalue = [69, 7]'),\n",
       " Text(13.74179104477612, 131.60842105263157, 'X[7] <= 0.5\\nentropy = 0.383\\nsamples = 67\\nvalue = [62, 5]'),\n",
       " Text(4.997014925373135, 120.16421052631578, 'X[2] <= 23.5\\nentropy = 0.918\\nsamples = 3\\nvalue = [2, 1]'),\n",
       " Text(2.4985074626865673, 108.72, 'entropy = 0.0\\nsamples = 1\\nvalue = [1, 0]'),\n",
       " Text(7.495522388059702, 108.72, 'X[5] <= 0.5\\nentropy = 1.0\\nsamples = 2\\nvalue = [1, 1]'),\n",
       " Text(4.997014925373135, 97.27578947368421, 'entropy = 0.0\\nsamples = 1\\nvalue = [0, 1]'),\n",
       " Text(9.99402985074627, 97.27578947368421, 'entropy = 0.0\\nsamples = 1\\nvalue = [1, 0]'),\n",
       " Text(22.486567164179107, 120.16421052631578, 'X[2] <= 22.5\\nentropy = 0.337\\nsamples = 64\\nvalue = [60, 4]'),\n",
       " Text(17.48955223880597, 108.72, 'X[5] <= 1.0\\nentropy = 0.65\\nsamples = 12\\nvalue = [10, 2]'),\n",
       " Text(14.991044776119404, 97.27578947368421, 'X[2] <= 21.5\\nentropy = 0.469\\nsamples = 10\\nvalue = [9, 1]'),\n",
       " Text(12.492537313432837, 85.83157894736843, 'entropy = 0.811\\nsamples = 4\\nvalue = [3, 1]'),\n",
       " Text(17.48955223880597, 85.83157894736843, 'entropy = 0.0\\nsamples = 6\\nvalue = [6, 0]'),\n",
       " Text(19.98805970149254, 97.27578947368421, 'entropy = 1.0\\nsamples = 2\\nvalue = [1, 1]'),\n",
       " Text(27.48358208955224, 108.72, 'X[2] <= 24.5\\nentropy = 0.235\\nsamples = 52\\nvalue = [50, 2]'),\n",
       " Text(24.985074626865675, 97.27578947368421, 'entropy = 0.0\\nsamples = 5\\nvalue = [5, 0]'),\n",
       " Text(29.982089552238808, 97.27578947368421, 'X[5] <= 1.5\\nentropy = 0.254\\nsamples = 47\\nvalue = [45, 2]'),\n",
       " Text(27.48358208955224, 85.83157894736843, 'X[5] <= 0.5\\nentropy = 0.196\\nsamples = 33\\nvalue = [32, 1]'),\n",
       " Text(24.985074626865675, 74.38736842105263, 'X[2] <= 25.5\\nentropy = 0.297\\nsamples = 19\\nvalue = [18, 1]'),\n",
       " Text(22.486567164179107, 62.943157894736856, 'entropy = 0.337\\nsamples = 16\\nvalue = [15, 1]'),\n",
       " Text(27.48358208955224, 62.943157894736856, 'entropy = 0.0\\nsamples = 3\\nvalue = [3, 0]'),\n",
       " Text(29.982089552238808, 74.38736842105263, 'entropy = 0.0\\nsamples = 14\\nvalue = [14, 0]'),\n",
       " Text(32.48059701492537, 85.83157894736843, 'entropy = 0.371\\nsamples = 14\\nvalue = [13, 1]'),\n",
       " Text(37.47761194029851, 131.60842105263157, 'X[5] <= 1.0\\nentropy = 0.764\\nsamples = 9\\nvalue = [7, 2]'),\n",
       " Text(34.97910447761194, 120.16421052631578, 'X[2] <= 27.5\\nentropy = 0.544\\nsamples = 8\\nvalue = [7, 1]'),\n",
       " Text(32.48059701492537, 108.72, 'entropy = 1.0\\nsamples = 2\\nvalue = [1, 1]'),\n",
       " Text(37.47761194029851, 108.72, 'entropy = 0.0\\nsamples = 6\\nvalue = [6, 0]'),\n",
       " Text(39.97611940298508, 120.16421052631578, 'entropy = 0.0\\nsamples = 1\\nvalue = [0, 1]'),\n",
       " Text(28.108208955223883, 154.49684210526317, 'entropy = 0.0\\nsamples = 32\\nvalue = [32, 0]'),\n",
       " Text(75.26753731343284, 165.94105263157894, 'X[2] <= 29.5\\nentropy = 0.578\\nsamples = 109\\nvalue = [94, 15]'),\n",
       " Text(51.844029850746274, 154.49684210526317, 'X[0] <= 2.5\\nentropy = 0.345\\nsamples = 62\\nvalue = [58, 4]'),\n",
       " Text(49.345522388059706, 143.05263157894737, 'entropy = 0.0\\nsamples = 17\\nvalue = [17, 0]'),\n",
       " Text(54.34253731343284, 143.05263157894737, 'X[7] <= 0.5\\nentropy = 0.433\\nsamples = 45\\nvalue = [41, 4]'),\n",
       " Text(47.47164179104478, 131.60842105263157, 'X[2] <= 23.0\\nentropy = 0.811\\nsamples = 4\\nvalue = [3, 1]'),\n",
       " Text(44.97313432835821, 120.16421052631578, 'entropy = 0.0\\nsamples = 1\\nvalue = [0, 1]'),\n",
       " Text(49.97014925373135, 120.16421052631578, 'entropy = 0.0\\nsamples = 3\\nvalue = [3, 0]'),\n",
       " Text(61.213432835820896, 131.60842105263157, 'X[2] <= 26.5\\nentropy = 0.378\\nsamples = 41\\nvalue = [38, 3]'),\n",
       " Text(54.96716417910448, 120.16421052631578, 'X[2] <= 18.5\\nentropy = 0.31\\nsamples = 36\\nvalue = [34, 2]'),\n",
       " Text(49.97014925373135, 108.72, 'X[4] <= 1.5\\nentropy = 0.592\\nsamples = 7\\nvalue = [6, 1]'),\n",
       " Text(47.47164179104478, 97.27578947368421, 'entropy = 0.0\\nsamples = 5\\nvalue = [5, 0]'),\n",
       " Text(52.46865671641791, 97.27578947368421, 'entropy = 1.0\\nsamples = 2\\nvalue = [1, 1]'),\n",
       " Text(59.964179104477616, 108.72, 'X[2] <= 24.75\\nentropy = 0.216\\nsamples = 29\\nvalue = [28, 1]'),\n",
       " Text(57.46567164179105, 97.27578947368421, 'entropy = 0.0\\nsamples = 16\\nvalue = [16, 0]'),\n",
       " Text(62.462686567164184, 97.27578947368421, 'X[5] <= 0.5\\nentropy = 0.391\\nsamples = 13\\nvalue = [12, 1]'),\n",
       " Text(59.964179104477616, 85.83157894736843, 'X[2] <= 25.5\\nentropy = 0.439\\nsamples = 11\\nvalue = [10, 1]'),\n",
       " Text(57.46567164179105, 74.38736842105263, 'entropy = 0.469\\nsamples = 10\\nvalue = [9, 1]'),\n",
       " Text(62.462686567164184, 74.38736842105263, 'entropy = 0.0\\nsamples = 1\\nvalue = [1, 0]'),\n",
       " Text(64.96119402985074, 85.83157894736843, 'entropy = 0.0\\nsamples = 2\\nvalue = [2, 0]'),\n",
       " Text(67.45970149253732, 120.16421052631578, 'X[2] <= 27.5\\nentropy = 0.722\\nsamples = 5\\nvalue = [4, 1]'),\n",
       " Text(64.96119402985074, 108.72, 'entropy = 0.0\\nsamples = 1\\nvalue = [0, 1]'),\n",
       " Text(69.95820895522388, 108.72, 'entropy = 0.0\\nsamples = 4\\nvalue = [4, 0]'),\n",
       " Text(98.69104477611941, 154.49684210526317, 'X[2] <= 32.5\\nentropy = 0.785\\nsamples = 47\\nvalue = [36, 11]'),\n",
       " Text(84.94925373134329, 143.05263157894737, 'X[5] <= 1.0\\nentropy = 1.0\\nsamples = 12\\nvalue = [6, 6]'),\n",
       " Text(82.45074626865672, 131.60842105263157, 'X[2] <= 30.75\\nentropy = 0.994\\nsamples = 11\\nvalue = [6, 5]'),\n",
       " Text(77.4537313432836, 120.16421052631578, 'X[0] <= 2.5\\nentropy = 0.722\\nsamples = 5\\nvalue = [4, 1]'),\n",
       " Text(74.95522388059702, 108.72, 'entropy = 0.918\\nsamples = 3\\nvalue = [2, 1]'),\n",
       " Text(79.95223880597015, 108.72, 'entropy = 0.0\\nsamples = 2\\nvalue = [2, 0]'),\n",
       " Text(87.44776119402985, 120.16421052631578, 'X[0] <= 2.5\\nentropy = 0.918\\nsamples = 6\\nvalue = [2, 4]'),\n",
       " Text(84.94925373134329, 108.72, 'entropy = 1.0\\nsamples = 2\\nvalue = [1, 1]'),\n",
       " Text(89.94626865671643, 108.72, 'X[2] <= 31.5\\nentropy = 0.811\\nsamples = 4\\nvalue = [1, 3]'),\n",
       " Text(87.44776119402985, 97.27578947368421, 'entropy = 0.0\\nsamples = 1\\nvalue = [0, 1]'),\n",
       " Text(92.44477611940299, 97.27578947368421, 'entropy = 0.918\\nsamples = 3\\nvalue = [1, 2]'),\n",
       " Text(87.44776119402985, 131.60842105263157, 'entropy = 0.0\\nsamples = 1\\nvalue = [0, 1]'),\n",
       " Text(112.43283582089553, 143.05263157894737, 'X[2] <= 60.5\\nentropy = 0.592\\nsamples = 35\\nvalue = [30, 5]'),\n",
       " Text(107.4358208955224, 131.60842105263157, 'X[2] <= 46.0\\nentropy = 0.533\\nsamples = 33\\nvalue = [29, 4]'),\n",
       " Text(104.93731343283582, 120.16421052631578, 'X[2] <= 43.5\\nentropy = 0.667\\nsamples = 23\\nvalue = [19, 4]'),\n",
       " Text(99.9402985074627, 108.72, 'X[2] <= 40.5\\nentropy = 0.469\\nsamples = 20\\nvalue = [18, 2]'),\n",
       " Text(97.44179104477612, 97.27578947368421, 'X[2] <= 38.5\\nentropy = 0.544\\nsamples = 16\\nvalue = [14, 2]'),\n",
       " Text(92.44477611940299, 85.83157894736843, 'X[0] <= 2.5\\nentropy = 0.391\\nsamples = 13\\nvalue = [12, 1]'),\n",
       " Text(89.94626865671643, 74.38736842105263, 'X[2] <= 35.0\\nentropy = 0.65\\nsamples = 6\\nvalue = [5, 1]'),\n",
       " Text(87.44776119402985, 62.943157894736856, 'X[2] <= 33.5\\nentropy = 0.918\\nsamples = 3\\nvalue = [2, 1]'),\n",
       " Text(84.94925373134329, 51.49894736842106, 'entropy = 0.0\\nsamples = 1\\nvalue = [1, 0]'),\n",
       " Text(89.94626865671643, 51.49894736842106, 'entropy = 1.0\\nsamples = 2\\nvalue = [1, 1]'),\n",
       " Text(92.44477611940299, 62.943157894736856, 'entropy = 0.0\\nsamples = 3\\nvalue = [3, 0]'),\n",
       " Text(94.94328358208956, 74.38736842105263, 'entropy = 0.0\\nsamples = 7\\nvalue = [7, 0]'),\n",
       " Text(102.43880597014926, 85.83157894736843, 'X[0] <= 2.5\\nentropy = 0.918\\nsamples = 3\\nvalue = [2, 1]'),\n",
       " Text(99.9402985074627, 74.38736842105263, 'entropy = 0.0\\nsamples = 1\\nvalue = [1, 0]'),\n",
       " Text(104.93731343283582, 74.38736842105263, 'entropy = 1.0\\nsamples = 2\\nvalue = [1, 1]'),\n",
       " Text(102.43880597014926, 97.27578947368421, 'entropy = 0.0\\nsamples = 4\\nvalue = [4, 0]'),\n",
       " Text(109.93432835820896, 108.72, 'X[2] <= 44.5\\nentropy = 0.918\\nsamples = 3\\nvalue = [1, 2]'),\n",
       " Text(107.4358208955224, 97.27578947368421, 'entropy = 1.0\\nsamples = 2\\nvalue = [1, 1]'),\n",
       " Text(112.43283582089553, 97.27578947368421, 'entropy = 0.0\\nsamples = 1\\nvalue = [0, 1]'),\n",
       " Text(109.93432835820896, 120.16421052631578, 'entropy = 0.0\\nsamples = 10\\nvalue = [10, 0]'),\n",
       " Text(117.42985074626867, 131.60842105263157, 'X[2] <= 64.0\\nentropy = 1.0\\nsamples = 2\\nvalue = [1, 1]'),\n",
       " Text(114.9313432835821, 120.16421052631578, 'entropy = 0.0\\nsamples = 1\\nvalue = [0, 1]'),\n",
       " Text(119.92835820895523, 120.16421052631578, 'entropy = 0.0\\nsamples = 1\\nvalue = [1, 0]'),\n",
       " Text(165.56515858208957, 188.82947368421054, 'X[2] <= 3.5\\nentropy = 0.873\\nsamples = 174\\nvalue = [123, 51]'),\n",
       " Text(141.00951492537314, 177.38526315789474, 'X[0] <= 2.5\\nentropy = 0.961\\nsamples = 13\\nvalue = [5, 8]'),\n",
       " Text(138.51100746268656, 165.94105263157894, 'entropy = 0.0\\nsamples = 6\\nvalue = [0, 6]'),\n",
       " Text(143.50802238805971, 165.94105263157894, 'X[2] <= 2.5\\nentropy = 0.863\\nsamples = 7\\nvalue = [5, 2]'),\n",
       " Text(141.00951492537314, 154.49684210526317, 'entropy = 0.0\\nsamples = 5\\nvalue = [5, 0]'),\n",
       " Text(146.0065298507463, 154.49684210526317, 'entropy = 0.0\\nsamples = 2\\nvalue = [0, 2]'),\n",
       " Text(190.120802238806, 177.38526315789474, 'X[0] <= 1.5\\nentropy = 0.837\\nsamples = 161\\nvalue = [118, 43]'),\n",
       " Text(153.502052238806, 165.94105263157894, 'X[2] <= 60.5\\nentropy = 0.949\\nsamples = 87\\nvalue = [55, 32]'),\n",
       " Text(151.0035447761194, 154.49684210526317, 'X[4] <= 1.5\\nentropy = 0.974\\nsamples = 79\\nvalue = [47, 32]'),\n",
       " Text(148.50503731343284, 143.05263157894737, 'entropy = 0.0\\nsamples = 2\\nvalue = [0, 2]'),\n",
       " Text(153.502052238806, 143.05263157894737, 'X[2] <= 22.5\\nentropy = 0.965\\nsamples = 77\\nvalue = [47, 30]'),\n",
       " Text(151.0035447761194, 131.60842105263157, 'entropy = 0.0\\nsamples = 4\\nvalue = [4, 0]'),\n",
       " Text(156.00055970149253, 131.60842105263157, 'X[2] <= 26.0\\nentropy = 0.977\\nsamples = 73\\nvalue = [43, 30]'),\n",
       " Text(153.502052238806, 120.16421052631578, 'entropy = 0.0\\nsamples = 2\\nvalue = [0, 2]'),\n",
       " Text(158.4990671641791, 120.16421052631578, 'X[2] <= 47.5\\nentropy = 0.968\\nsamples = 71\\nvalue = [43, 28]'),\n",
       " Text(137.1055970149254, 108.72, 'X[2] <= 45.25\\nentropy = 0.936\\nsamples = 54\\nvalue = [35, 19]'),\n",
       " Text(134.60708955223882, 97.27578947368421, 'X[3] <= 2.5\\nentropy = 0.968\\nsamples = 48\\nvalue = [29, 19]'),\n",
       " Text(114.9313432835821, 85.83157894736843, 'X[5] <= 1.0\\nentropy = 0.993\\nsamples = 20\\nvalue = [9, 11]'),\n",
       " Text(109.93432835820896, 74.38736842105263, 'X[6] <= 3.0\\nentropy = 0.863\\nsamples = 14\\nvalue = [4, 10]'),\n",
       " Text(107.4358208955224, 62.943157894736856, 'X[2] <= 28.5\\nentropy = 0.779\\nsamples = 13\\nvalue = [3, 10]'),\n",
       " Text(104.93731343283582, 51.49894736842106, 'entropy = 0.0\\nsamples = 2\\nvalue = [0, 2]'),\n",
       " Text(109.93432835820896, 51.49894736842106, 'X[2] <= 31.5\\nentropy = 0.845\\nsamples = 11\\nvalue = [3, 8]'),\n",
       " Text(107.4358208955224, 40.05473684210526, 'entropy = 0.0\\nsamples = 1\\nvalue = [1, 0]'),\n",
       " Text(112.43283582089553, 40.05473684210526, 'X[2] <= 38.0\\nentropy = 0.722\\nsamples = 10\\nvalue = [2, 8]'),\n",
       " Text(109.93432835820896, 28.610526315789485, 'entropy = 0.0\\nsamples = 4\\nvalue = [0, 4]'),\n",
       " Text(114.9313432835821, 28.610526315789485, 'X[2] <= 41.0\\nentropy = 0.918\\nsamples = 6\\nvalue = [2, 4]'),\n",
       " Text(112.43283582089553, 17.166315789473686, 'entropy = 1.0\\nsamples = 4\\nvalue = [2, 2]'),\n",
       " Text(117.42985074626867, 17.166315789473686, 'entropy = 0.0\\nsamples = 2\\nvalue = [0, 2]'),\n",
       " Text(112.43283582089553, 62.943157894736856, 'entropy = 0.0\\nsamples = 1\\nvalue = [1, 0]'),\n",
       " Text(119.92835820895523, 74.38736842105263, 'X[2] <= 38.5\\nentropy = 0.65\\nsamples = 6\\nvalue = [5, 1]'),\n",
       " Text(117.42985074626867, 62.943157894736856, 'entropy = 0.0\\nsamples = 2\\nvalue = [2, 0]'),\n",
       " Text(122.42686567164179, 62.943157894736856, 'X[6] <= 3.0\\nentropy = 0.811\\nsamples = 4\\nvalue = [3, 1]'),\n",
       " Text(119.92835820895523, 51.49894736842106, 'entropy = 0.918\\nsamples = 3\\nvalue = [2, 1]'),\n",
       " Text(124.92537313432837, 51.49894736842106, 'entropy = 0.0\\nsamples = 1\\nvalue = [1, 0]'),\n",
       " Text(154.28283582089554, 85.83157894736843, 'X[2] <= 39.0\\nentropy = 0.863\\nsamples = 28\\nvalue = [20, 8]'),\n",
       " Text(143.66417910447763, 74.38736842105263, 'X[2] <= 33.0\\nentropy = 0.954\\nsamples = 16\\nvalue = [10, 6]'),\n",
       " Text(134.91940298507464, 62.943157894736856, 'X[2] <= 27.5\\nentropy = 0.811\\nsamples = 8\\nvalue = [6, 2]'),\n",
       " Text(129.9223880597015, 51.49894736842106, 'X[7] <= 0.5\\nentropy = 1.0\\nsamples = 2\\nvalue = [1, 1]'),\n",
       " Text(127.42388059701493, 40.05473684210526, 'entropy = 0.0\\nsamples = 1\\nvalue = [1, 0]'),\n",
       " Text(132.42089552238807, 40.05473684210526, 'entropy = 0.0\\nsamples = 1\\nvalue = [0, 1]'),\n",
       " Text(139.91641791044776, 51.49894736842106, 'X[2] <= 30.0\\nentropy = 0.65\\nsamples = 6\\nvalue = [5, 1]'),\n",
       " Text(137.41791044776122, 40.05473684210526, 'entropy = 0.0\\nsamples = 3\\nvalue = [3, 0]'),\n",
       " Text(142.41492537313434, 40.05473684210526, 'X[7] <= 0.5\\nentropy = 0.918\\nsamples = 3\\nvalue = [2, 1]'),\n",
       " Text(139.91641791044776, 28.610526315789485, 'entropy = 1.0\\nsamples = 2\\nvalue = [1, 1]'),\n",
       " Text(144.9134328358209, 28.610526315789485, 'entropy = 0.0\\nsamples = 1\\nvalue = [1, 0]'),\n",
       " Text(152.4089552238806, 62.943157894736856, 'X[2] <= 35.5\\nentropy = 1.0\\nsamples = 8\\nvalue = [4, 4]'),\n",
       " Text(149.91044776119404, 51.49894736842106, 'entropy = 0.0\\nsamples = 1\\nvalue = [0, 1]'),\n",
       " Text(154.9074626865672, 51.49894736842106, 'X[7] <= 0.5\\nentropy = 0.985\\nsamples = 7\\nvalue = [4, 3]'),\n",
       " Text(152.4089552238806, 40.05473684210526, 'X[5] <= 1.0\\nentropy = 1.0\\nsamples = 6\\nvalue = [3, 3]'),\n",
       " Text(149.91044776119404, 28.610526315789485, 'X[2] <= 36.5\\nentropy = 0.971\\nsamples = 5\\nvalue = [3, 2]'),\n",
       " Text(147.41194029850746, 17.166315789473686, 'entropy = 0.0\\nsamples = 1\\nvalue = [1, 0]'),\n",
       " Text(152.4089552238806, 17.166315789473686, 'X[2] <= 37.5\\nentropy = 1.0\\nsamples = 4\\nvalue = [2, 2]'),\n",
       " Text(149.91044776119404, 5.722105263157886, 'entropy = 1.0\\nsamples = 2\\nvalue = [1, 1]'),\n",
       " Text(154.9074626865672, 5.722105263157886, 'entropy = 1.0\\nsamples = 2\\nvalue = [1, 1]'),\n",
       " Text(154.9074626865672, 28.610526315789485, 'entropy = 0.0\\nsamples = 1\\nvalue = [0, 1]'),\n",
       " Text(157.40597014925373, 40.05473684210526, 'entropy = 0.0\\nsamples = 1\\nvalue = [1, 0]'),\n",
       " Text(164.90149253731343, 74.38736842105263, 'X[2] <= 43.5\\nentropy = 0.65\\nsamples = 12\\nvalue = [10, 2]'),\n",
       " Text(162.40298507462688, 62.943157894736856, 'X[7] <= 0.5\\nentropy = 0.722\\nsamples = 10\\nvalue = [8, 2]'),\n",
       " Text(159.9044776119403, 51.49894736842106, 'entropy = 1.0\\nsamples = 2\\nvalue = [1, 1]'),\n",
       " Text(164.90149253731343, 51.49894736842106, 'X[5] <= 1.0\\nentropy = 0.544\\nsamples = 8\\nvalue = [7, 1]'),\n",
       " Text(162.40298507462688, 40.05473684210526, 'entropy = 0.65\\nsamples = 6\\nvalue = [5, 1]'),\n",
       " Text(167.4, 40.05473684210526, 'entropy = 0.0\\nsamples = 2\\nvalue = [2, 0]'),\n",
       " Text(167.4, 62.943157894736856, 'entropy = 0.0\\nsamples = 2\\nvalue = [2, 0]'),\n",
       " Text(139.60410447761194, 97.27578947368421, 'entropy = 0.0\\nsamples = 6\\nvalue = [6, 0]'),\n",
       " Text(179.89253731343285, 108.72, 'X[2] <= 49.5\\nentropy = 0.998\\nsamples = 17\\nvalue = [8, 9]'),\n",
       " Text(177.39402985074628, 97.27578947368421, 'entropy = 0.0\\nsamples = 4\\nvalue = [0, 4]'),\n",
       " Text(182.3910447761194, 97.27578947368421, 'X[6] <= 3.0\\nentropy = 0.961\\nsamples = 13\\nvalue = [8, 5]'),\n",
       " Text(177.39402985074628, 85.83157894736843, 'X[2] <= 59.0\\nentropy = 0.764\\nsamples = 9\\nvalue = [7, 2]'),\n",
       " Text(174.8955223880597, 74.38736842105263, 'X[2] <= 51.5\\nentropy = 0.544\\nsamples = 8\\nvalue = [7, 1]'),\n",
       " Text(172.39701492537316, 62.943157894736856, 'X[7] <= 0.5\\nentropy = 0.918\\nsamples = 3\\nvalue = [2, 1]'),\n",
       " Text(169.89850746268658, 51.49894736842106, 'entropy = 0.0\\nsamples = 2\\nvalue = [2, 0]'),\n",
       " Text(174.8955223880597, 51.49894736842106, 'entropy = 0.0\\nsamples = 1\\nvalue = [0, 1]'),\n",
       " Text(177.39402985074628, 62.943157894736856, 'entropy = 0.0\\nsamples = 5\\nvalue = [5, 0]'),\n",
       " Text(179.89253731343285, 74.38736842105263, 'entropy = 0.0\\nsamples = 1\\nvalue = [0, 1]'),\n",
       " Text(187.38805970149255, 85.83157894736843, 'X[2] <= 58.0\\nentropy = 0.811\\nsamples = 4\\nvalue = [1, 3]'),\n",
       " Text(184.88955223880598, 74.38736842105263, 'entropy = 0.0\\nsamples = 3\\nvalue = [0, 3]'),\n",
       " Text(189.88656716417913, 74.38736842105263, 'entropy = 0.0\\nsamples = 1\\nvalue = [1, 0]'),\n",
       " Text(156.00055970149253, 154.49684210526317, 'entropy = 0.0\\nsamples = 8\\nvalue = [8, 0]'),\n",
       " Text(226.73955223880597, 165.94105263157894, 'X[2] <= 32.25\\nentropy = 0.606\\nsamples = 74\\nvalue = [63, 11]'),\n",
       " Text(224.24104477611942, 154.49684210526317, 'X[2] <= 31.5\\nentropy = 0.694\\nsamples = 59\\nvalue = [48, 11]'),\n",
       " Text(216.12089552238808, 143.05263157894737, 'X[0] <= 2.5\\nentropy = 0.636\\nsamples = 56\\nvalue = [47, 9]'),\n",
       " Text(213.6223880597015, 131.60842105263157, 'entropy = 0.0\\nsamples = 13\\nvalue = [13, 0]'),\n",
       " Text(218.61940298507463, 131.60842105263157, 'X[5] <= 1.5\\nentropy = 0.74\\nsamples = 43\\nvalue = [34, 9]'),\n",
       " Text(209.87462686567164, 120.16421052631578, 'X[7] <= 0.5\\nentropy = 0.629\\nsamples = 38\\nvalue = [32, 6]'),\n",
       " Text(204.87761194029852, 108.72, 'X[3] <= 2.5\\nentropy = 0.491\\nsamples = 28\\nvalue = [25, 3]'),\n",
       " Text(202.37910447761195, 97.27578947368421, 'X[2] <= 9.5\\nentropy = 0.65\\nsamples = 18\\nvalue = [15, 3]'),\n",
       " Text(197.38208955223882, 85.83157894736843, 'X[2] <= 8.5\\nentropy = 0.971\\nsamples = 5\\nvalue = [3, 2]'),\n",
       " Text(194.88358208955225, 74.38736842105263, 'entropy = 0.0\\nsamples = 3\\nvalue = [3, 0]'),\n",
       " Text(199.8805970149254, 74.38736842105263, 'entropy = 0.0\\nsamples = 2\\nvalue = [0, 2]'),\n",
       " Text(207.3761194029851, 85.83157894736843, 'X[5] <= 0.5\\nentropy = 0.391\\nsamples = 13\\nvalue = [12, 1]'),\n",
       " Text(204.87761194029852, 74.38736842105263, 'entropy = 0.0\\nsamples = 11\\nvalue = [11, 0]'),\n",
       " Text(209.87462686567164, 74.38736842105263, 'entropy = 1.0\\nsamples = 2\\nvalue = [1, 1]'),\n",
       " Text(207.3761194029851, 97.27578947368421, 'entropy = 0.0\\nsamples = 10\\nvalue = [10, 0]'),\n",
       " Text(214.8716417910448, 108.72, 'X[3] <= 2.5\\nentropy = 0.881\\nsamples = 10\\nvalue = [7, 3]'),\n",
       " Text(212.37313432835822, 97.27578947368421, 'entropy = 0.0\\nsamples = 6\\nvalue = [6, 0]'),\n",
       " Text(217.37014925373137, 97.27578947368421, 'X[2] <= 27.0\\nentropy = 0.811\\nsamples = 4\\nvalue = [1, 3]'),\n",
       " Text(214.8716417910448, 85.83157894736843, 'entropy = 0.0\\nsamples = 3\\nvalue = [0, 3]'),\n",
       " Text(219.86865671641792, 85.83157894736843, 'entropy = 0.0\\nsamples = 1\\nvalue = [1, 0]'),\n",
       " Text(227.3641791044776, 120.16421052631578, 'X[4] <= 1.5\\nentropy = 0.971\\nsamples = 5\\nvalue = [2, 3]'),\n",
       " Text(224.86567164179107, 108.72, 'entropy = 0.0\\nsamples = 1\\nvalue = [1, 0]'),\n",
       " Text(229.8626865671642, 108.72, 'X[7] <= 0.5\\nentropy = 0.811\\nsamples = 4\\nvalue = [1, 3]'),\n",
       " Text(227.3641791044776, 97.27578947368421, 'X[2] <= 22.5\\nentropy = 0.918\\nsamples = 3\\nvalue = [1, 2]'),\n",
       " Text(224.86567164179107, 85.83157894736843, 'entropy = 0.0\\nsamples = 1\\nvalue = [0, 1]'),\n",
       " Text(229.8626865671642, 85.83157894736843, 'X[6] <= 2.5\\nentropy = 1.0\\nsamples = 2\\nvalue = [1, 1]'),\n",
       " Text(227.3641791044776, 74.38736842105263, 'entropy = 0.0\\nsamples = 1\\nvalue = [1, 0]'),\n",
       " Text(232.36119402985076, 74.38736842105263, 'entropy = 0.0\\nsamples = 1\\nvalue = [0, 1]'),\n",
       " Text(232.36119402985076, 97.27578947368421, 'entropy = 0.0\\nsamples = 1\\nvalue = [0, 1]'),\n",
       " Text(232.36119402985076, 143.05263157894737, 'X[3] <= 2.5\\nentropy = 0.918\\nsamples = 3\\nvalue = [1, 2]'),\n",
       " Text(229.8626865671642, 131.60842105263157, 'entropy = 0.0\\nsamples = 1\\nvalue = [0, 1]'),\n",
       " Text(234.85970149253734, 131.60842105263157, 'X[0] <= 2.5\\nentropy = 1.0\\nsamples = 2\\nvalue = [1, 1]'),\n",
       " Text(232.36119402985076, 120.16421052631578, 'entropy = 0.0\\nsamples = 1\\nvalue = [1, 0]'),\n",
       " Text(237.3582089552239, 120.16421052631578, 'entropy = 0.0\\nsamples = 1\\nvalue = [0, 1]'),\n",
       " Text(229.23805970149255, 154.49684210526317, 'entropy = 0.0\\nsamples = 15\\nvalue = [15, 0]'),\n",
       " Text(283.11212686567166, 200.2736842105263, 'X[0] <= 2.5\\nentropy = 0.838\\nsamples = 217\\nvalue = [58, 159]'),\n",
       " Text(262.34328358208955, 188.82947368421054, 'X[3] <= 2.5\\nentropy = 0.355\\nsamples = 119\\nvalue = [8, 111]'),\n",
       " Text(252.3492537313433, 177.38526315789474, 'X[2] <= 23.5\\nentropy = 0.51\\nsamples = 53\\nvalue = [6, 47]'),\n",
       " Text(249.85074626865674, 165.94105263157894, 'entropy = 0.0\\nsamples = 13\\nvalue = [0, 13]'),\n",
       " Text(254.84776119402986, 165.94105263157894, 'X[2] <= 27.5\\nentropy = 0.61\\nsamples = 40\\nvalue = [6, 34]'),\n",
       " Text(247.35223880597016, 154.49684210526317, 'X[2] <= 25.5\\nentropy = 0.918\\nsamples = 9\\nvalue = [3, 6]'),\n",
       " Text(242.35522388059704, 143.05263157894737, 'X[7] <= 0.5\\nentropy = 0.722\\nsamples = 5\\nvalue = [1, 4]'),\n",
       " Text(239.85671641791046, 131.60842105263157, 'entropy = 0.0\\nsamples = 3\\nvalue = [0, 3]'),\n",
       " Text(244.85373134328358, 131.60842105263157, 'entropy = 1.0\\nsamples = 2\\nvalue = [1, 1]'),\n",
       " Text(252.3492537313433, 143.05263157894737, 'X[6] <= 2.5\\nentropy = 1.0\\nsamples = 4\\nvalue = [2, 2]'),\n",
       " Text(249.85074626865674, 131.60842105263157, 'entropy = 0.0\\nsamples = 2\\nvalue = [0, 2]'),\n",
       " Text(254.84776119402986, 131.60842105263157, 'entropy = 0.0\\nsamples = 2\\nvalue = [2, 0]'),\n",
       " Text(262.34328358208955, 154.49684210526317, 'X[2] <= 37.0\\nentropy = 0.459\\nsamples = 31\\nvalue = [3, 28]'),\n",
       " Text(259.844776119403, 143.05263157894737, 'entropy = 0.0\\nsamples = 17\\nvalue = [0, 17]'),\n",
       " Text(264.84179104477613, 143.05263157894737, 'X[6] <= 2.5\\nentropy = 0.75\\nsamples = 14\\nvalue = [3, 11]'),\n",
       " Text(259.844776119403, 131.60842105263157, 'X[5] <= 1.0\\nentropy = 0.918\\nsamples = 3\\nvalue = [2, 1]'),\n",
       " Text(257.34626865671646, 120.16421052631578, 'X[2] <= 44.0\\nentropy = 1.0\\nsamples = 2\\nvalue = [1, 1]'),\n",
       " Text(254.84776119402986, 108.72, 'entropy = 0.0\\nsamples = 1\\nvalue = [1, 0]'),\n",
       " Text(259.844776119403, 108.72, 'entropy = 0.0\\nsamples = 1\\nvalue = [0, 1]'),\n",
       " Text(262.34328358208955, 120.16421052631578, 'entropy = 0.0\\nsamples = 1\\nvalue = [1, 0]'),\n",
       " Text(269.8388059701493, 131.60842105263157, 'X[7] <= 0.5\\nentropy = 0.439\\nsamples = 11\\nvalue = [1, 10]'),\n",
       " Text(267.3402985074627, 120.16421052631578, 'X[2] <= 43.0\\nentropy = 0.722\\nsamples = 5\\nvalue = [1, 4]'),\n",
       " Text(264.84179104477613, 108.72, 'entropy = 0.0\\nsamples = 2\\nvalue = [0, 2]'),\n",
       " Text(269.8388059701493, 108.72, 'X[2] <= 44.5\\nentropy = 0.918\\nsamples = 3\\nvalue = [1, 2]'),\n",
       " Text(267.3402985074627, 97.27578947368421, 'entropy = 0.0\\nsamples = 1\\nvalue = [1, 0]'),\n",
       " Text(272.33731343283586, 97.27578947368421, 'entropy = 0.0\\nsamples = 2\\nvalue = [0, 2]'),\n",
       " Text(272.33731343283586, 120.16421052631578, 'entropy = 0.0\\nsamples = 6\\nvalue = [0, 6]'),\n",
       " Text(272.33731343283586, 177.38526315789474, 'X[2] <= 2.5\\nentropy = 0.196\\nsamples = 66\\nvalue = [2, 64]'),\n",
       " Text(269.8388059701493, 165.94105263157894, 'entropy = 0.0\\nsamples = 1\\nvalue = [1, 0]'),\n",
       " Text(274.83582089552243, 165.94105263157894, 'X[2] <= 25.5\\nentropy = 0.115\\nsamples = 65\\nvalue = [1, 64]'),\n",
       " Text(272.33731343283586, 154.49684210526317, 'X[2] <= 24.5\\nentropy = 0.276\\nsamples = 21\\nvalue = [1, 20]'),\n",
       " Text(269.8388059701493, 143.05263157894737, 'entropy = 0.0\\nsamples = 20\\nvalue = [0, 20]'),\n",
       " Text(274.83582089552243, 143.05263157894737, 'entropy = 0.0\\nsamples = 1\\nvalue = [1, 0]'),\n",
       " Text(277.33432835820895, 154.49684210526317, 'entropy = 0.0\\nsamples = 44\\nvalue = [0, 44]'),\n",
       " Text(303.88097014925376, 188.82947368421054, 'X[3] <= 2.5\\nentropy = 1.0\\nsamples = 98\\nvalue = [50, 48]'),\n",
       " Text(301.3824626865672, 177.38526315789474, 'X[3] <= 0.5\\nentropy = 0.996\\nsamples = 89\\nvalue = [41, 48]'),\n",
       " Text(291.0761194029851, 165.94105263157894, 'X[2] <= 28.25\\nentropy = 0.908\\nsamples = 34\\nvalue = [11, 23]'),\n",
       " Text(288.57761194029854, 154.49684210526317, 'X[2] <= 18.5\\nentropy = 0.824\\nsamples = 31\\nvalue = [8, 23]'),\n",
       " Text(282.3313432835821, 143.05263157894737, 'X[5] <= 1.5\\nentropy = 1.0\\nsamples = 6\\nvalue = [3, 3]'),\n",
       " Text(279.8328358208955, 131.60842105263157, 'X[2] <= 15.0\\nentropy = 0.971\\nsamples = 5\\nvalue = [3, 2]'),\n",
       " Text(277.33432835820895, 120.16421052631578, 'entropy = 0.0\\nsamples = 1\\nvalue = [1, 0]'),\n",
       " Text(282.3313432835821, 120.16421052631578, 'X[4] <= 1.5\\nentropy = 1.0\\nsamples = 4\\nvalue = [2, 2]'),\n",
       " Text(279.8328358208955, 108.72, 'entropy = 0.0\\nsamples = 1\\nvalue = [0, 1]'),\n",
       " Text(284.8298507462687, 108.72, 'X[5] <= 0.5\\nentropy = 0.918\\nsamples = 3\\nvalue = [2, 1]'),\n",
       " Text(282.3313432835821, 97.27578947368421, 'entropy = 1.0\\nsamples = 2\\nvalue = [1, 1]'),\n",
       " Text(287.32835820895525, 97.27578947368421, 'entropy = 0.0\\nsamples = 1\\nvalue = [1, 0]'),\n",
       " Text(284.8298507462687, 131.60842105263157, 'entropy = 0.0\\nsamples = 1\\nvalue = [0, 1]'),\n",
       " Text(294.8238805970149, 143.05263157894737, 'X[2] <= 24.0\\nentropy = 0.722\\nsamples = 25\\nvalue = [5, 20]'),\n",
       " Text(289.8268656716418, 131.60842105263157, 'X[5] <= 0.5\\nentropy = 0.667\\nsamples = 23\\nvalue = [4, 19]'),\n",
       " Text(287.32835820895525, 120.16421052631578, 'entropy = 0.0\\nsamples = 5\\nvalue = [0, 5]'),\n",
       " Text(292.3253731343284, 120.16421052631578, 'X[7] <= 0.5\\nentropy = 0.764\\nsamples = 18\\nvalue = [4, 14]'),\n",
       " Text(289.8268656716418, 108.72, 'entropy = 0.0\\nsamples = 1\\nvalue = [1, 0]'),\n",
       " Text(294.8238805970149, 108.72, 'X[5] <= 1.5\\nentropy = 0.672\\nsamples = 17\\nvalue = [3, 14]'),\n",
       " Text(292.3253731343284, 97.27578947368421, 'X[2] <= 21.5\\nentropy = 0.722\\nsamples = 15\\nvalue = [3, 12]'),\n",
       " Text(289.8268656716418, 85.83157894736843, 'entropy = 0.75\\nsamples = 14\\nvalue = [3, 11]'),\n",
       " Text(294.8238805970149, 85.83157894736843, 'entropy = 0.0\\nsamples = 1\\nvalue = [0, 1]'),\n",
       " Text(297.3223880597015, 97.27578947368421, 'entropy = 0.0\\nsamples = 2\\nvalue = [0, 2]'),\n",
       " Text(299.82089552238807, 131.60842105263157, 'X[2] <= 25.5\\nentropy = 1.0\\nsamples = 2\\nvalue = [1, 1]'),\n",
       " Text(297.3223880597015, 120.16421052631578, 'entropy = 0.0\\nsamples = 1\\nvalue = [1, 0]'),\n",
       " Text(302.31940298507465, 120.16421052631578, 'entropy = 0.0\\nsamples = 1\\nvalue = [0, 1]'),\n",
       " Text(293.57462686567163, 154.49684210526317, 'entropy = 0.0\\nsamples = 3\\nvalue = [3, 0]'),\n",
       " Text(311.68880597014925, 165.94105263157894, 'X[2] <= 6.5\\nentropy = 0.994\\nsamples = 55\\nvalue = [30, 25]'),\n",
       " Text(304.8179104477612, 154.49684210526317, 'X[3] <= 1.5\\nentropy = 0.863\\nsamples = 7\\nvalue = [2, 5]'),\n",
       " Text(302.31940298507465, 143.05263157894737, 'entropy = 0.0\\nsamples = 3\\nvalue = [0, 3]'),\n",
       " Text(307.3164179104478, 143.05263157894737, 'X[2] <= 3.5\\nentropy = 1.0\\nsamples = 4\\nvalue = [2, 2]'),\n",
       " Text(304.8179104477612, 131.60842105263157, 'entropy = 0.0\\nsamples = 2\\nvalue = [2, 0]'),\n",
       " Text(309.8149253731344, 131.60842105263157, 'entropy = 0.0\\nsamples = 2\\nvalue = [0, 2]'),\n",
       " Text(318.55970149253733, 154.49684210526317, 'X[2] <= 14.75\\nentropy = 0.98\\nsamples = 48\\nvalue = [28, 20]'),\n",
       " Text(316.06119402985075, 143.05263157894737, 'entropy = 0.0\\nsamples = 4\\nvalue = [4, 0]'),\n",
       " Text(321.0582089552239, 143.05263157894737, 'X[3] <= 1.5\\nentropy = 0.994\\nsamples = 44\\nvalue = [24, 20]'),\n",
       " Text(314.81194029850747, 131.60842105263157, 'X[2] <= 26.0\\nentropy = 0.918\\nsamples = 21\\nvalue = [14, 7]'),\n",
       " Text(309.8149253731344, 120.16421052631578, 'X[2] <= 19.0\\nentropy = 0.619\\nsamples = 13\\nvalue = [11, 2]'),\n",
       " Text(307.3164179104478, 108.72, 'X[5] <= 1.5\\nentropy = 0.918\\nsamples = 3\\nvalue = [1, 2]'),\n",
       " Text(304.8179104477612, 97.27578947368421, 'entropy = 0.0\\nsamples = 2\\nvalue = [0, 2]'),\n",
       " Text(309.8149253731344, 97.27578947368421, 'entropy = 0.0\\nsamples = 1\\nvalue = [1, 0]'),\n",
       " Text(312.3134328358209, 108.72, 'entropy = 0.0\\nsamples = 10\\nvalue = [10, 0]'),\n",
       " Text(319.8089552238806, 120.16421052631578, 'X[7] <= 0.5\\nentropy = 0.954\\nsamples = 8\\nvalue = [3, 5]'),\n",
       " Text(317.31044776119404, 108.72, 'X[2] <= 28.0\\nentropy = 0.971\\nsamples = 5\\nvalue = [3, 2]'),\n",
       " Text(314.81194029850747, 97.27578947368421, 'entropy = 0.0\\nsamples = 2\\nvalue = [0, 2]'),\n",
       " Text(319.8089552238806, 97.27578947368421, 'entropy = 0.0\\nsamples = 3\\nvalue = [3, 0]'),\n",
       " Text(322.3074626865672, 108.72, 'entropy = 0.0\\nsamples = 3\\nvalue = [0, 3]'),\n",
       " Text(327.30447761194034, 131.60842105263157, 'X[2] <= 19.5\\nentropy = 0.988\\nsamples = 23\\nvalue = [10, 13]'),\n",
       " Text(324.80597014925377, 120.16421052631578, 'entropy = 0.0\\nsamples = 2\\nvalue = [2, 0]'),\n",
       " Text(329.80298507462686, 120.16421052631578, 'X[2] <= 39.0\\nentropy = 0.959\\nsamples = 21\\nvalue = [8, 13]'),\n",
       " Text(327.30447761194034, 108.72, 'X[2] <= 30.5\\nentropy = 0.9\\nsamples = 19\\nvalue = [6, 13]'),\n",
       " Text(324.80597014925377, 97.27578947368421, 'X[2] <= 29.5\\nentropy = 0.937\\nsamples = 17\\nvalue = [6, 11]'),\n",
       " Text(322.3074626865672, 85.83157894736843, 'X[5] <= 0.5\\nentropy = 0.896\\nsamples = 16\\nvalue = [5, 11]'),\n",
       " Text(317.31044776119404, 74.38736842105263, 'X[6] <= 2.5\\nentropy = 0.985\\nsamples = 7\\nvalue = [3, 4]'),\n",
       " Text(314.81194029850747, 62.943157894736856, 'entropy = 0.0\\nsamples = 2\\nvalue = [2, 0]'),\n",
       " Text(319.8089552238806, 62.943157894736856, 'X[2] <= 26.5\\nentropy = 0.722\\nsamples = 5\\nvalue = [1, 4]'),\n",
       " Text(317.31044776119404, 51.49894736842106, 'entropy = 0.0\\nsamples = 4\\nvalue = [0, 4]'),\n",
       " Text(322.3074626865672, 51.49894736842106, 'entropy = 0.0\\nsamples = 1\\nvalue = [1, 0]'),\n",
       " Text(327.30447761194034, 74.38736842105263, 'X[6] <= 2.5\\nentropy = 0.764\\nsamples = 9\\nvalue = [2, 7]'),\n",
       " Text(324.80597014925377, 62.943157894736856, 'entropy = 0.0\\nsamples = 4\\nvalue = [0, 4]'),\n",
       " Text(329.80298507462686, 62.943157894736856, 'X[2] <= 22.5\\nentropy = 0.971\\nsamples = 5\\nvalue = [2, 3]'),\n",
       " Text(327.30447761194034, 51.49894736842106, 'entropy = 0.918\\nsamples = 3\\nvalue = [2, 1]'),\n",
       " Text(332.30149253731344, 51.49894736842106, 'entropy = 0.0\\nsamples = 2\\nvalue = [0, 2]'),\n",
       " Text(327.30447761194034, 85.83157894736843, 'entropy = 0.0\\nsamples = 1\\nvalue = [1, 0]'),\n",
       " Text(329.80298507462686, 97.27578947368421, 'entropy = 0.0\\nsamples = 2\\nvalue = [0, 2]'),\n",
       " Text(332.30149253731344, 108.72, 'entropy = 0.0\\nsamples = 2\\nvalue = [2, 0]'),\n",
       " Text(306.37947761194033, 177.38526315789474, 'entropy = 0.0\\nsamples = 9\\nvalue = [9, 0]')]"
      ]
     },
     "execution_count": 33,
     "metadata": {},
     "output_type": "execute_result"
    },
    {
     "data": {
      "image/png": "[encoded data removed]",
      "text/plain": [
       "<Figure size 432x288 with 1 Axes>"
      ]
     },
     "metadata": {
      "needs_background": "light"
     },
     "output_type": "display_data"
    }
   ],
   "source": [
    "tree.plot_tree(entropy_tree)"
   ]
  },
  {
   "cell_type": "markdown",
   "metadata": {
    "pycharm": {
     "name": "#%% md\n"
    }
   },
   "source": [
    "如您所见，我们的决策树很大，这可能导致过度拟合。为了减少过度拟合，我们可以使用修剪方法。\n",
    "\n",
    "在决策树中，预修剪的一种方法是提前停止。我们可以限制树的最大深度并限制过度拟合。让我们将树限制为8个级别。"
   ]
  },
  {
   "cell_type": "code",
   "execution_count": 48,
   "metadata": {
    "pycharm": {
     "is_executing": true,
     "name": "#%%\n"
    }
   },
   "outputs": [
    {
     "name": "stdout",
     "output_type": "stream",
     "text": [
      "              precision    recall  f1-score   support\n",
      "\n",
      "           0       0.79      0.86      0.82       161\n",
      "           1       0.76      0.64      0.70       107\n",
      "\n",
      "    accuracy                           0.78       268\n",
      "   macro avg       0.77      0.75      0.76       268\n",
      "weighted avg       0.77      0.78      0.77       268\n",
      "\n"
     ]
    }
   ],
   "source": [
    "entropy_tree_lim_eight = DecisionTreeClassifier(criterion='entropy', max_depth=8, random_state=42)\n",
    "#衡量分类的质量\n",
    "\n",
    "#深度取到8就结束了\n",
    "\n",
    "entropy_tree_lim_eight.fit(X_train, y_train)\n",
    "y_pred = entropy_tree_lim_eight.predict(X_valid)\n",
    "\n",
    "print(metrics.classification_report(y_valid, y_pred))"
   ]
  },
  {
   "cell_type": "markdown",
   "metadata": {
    "pycharm": {
     "name": "#%% md\n"
    }
   },
   "source": [
    "预修剪后，我们可以看到性能有所提高。"
   ]
  },
  {
   "cell_type": "markdown",
   "metadata": {
    "pycharm": {
     "name": "#%% md\n"
    }
   },
   "source": [
    "## 4.超参数调整，训练模型，得出各项指标最精确的模型\n",
    "为了提高模型性能，需要做两件事，特征工程和超参数调整。目前已经进行了功能工程，以提高数据质量。现在进行超参数调整。超参数是机器学习算法中的小属性，可用于优化模型。除了反复试验外，没有其他算法可以做到这一点。\n",
    "\n",
    "模型定义界面的几乎所有输入参数都是超参数。\n",
    "\n",
    "现在创建和训练几个带有不同参数值集的模型。选择以下参数，\n",
    "\n",
    "criterion（ 衡量分类的质量）\n",
    "\n",
    "max_depth（表示树的最大深度）\n"
   ]
  },
  {
   "cell_type": "code",
   "execution_count": 35,
   "metadata": {
    "pycharm": {
     "is_executing": true,
     "name": "#%%\n"
    }
   },
   "outputs": [
    {
     "name": "stdout",
     "output_type": "stream",
     "text": [
      "              precision    recall  f1-score   support\n",
      "\n",
      "           0       0.79      0.98      0.87       161\n",
      "           1       0.94      0.62      0.75       107\n",
      "\n",
      "    accuracy                           0.83       268\n",
      "   macro avg       0.87      0.80      0.81       268\n",
      "weighted avg       0.85      0.83      0.82       268\n",
      "\n"
     ]
    }
   ],
   "source": [
    "# ['entropy', '5']\n",
    "entropy_tree_ent_five = DecisionTreeClassifier(criterion='entropy', max_depth=5, random_state=42)\n",
    "#衡量分类的质量\n",
    "entropy_tree_ent_five.fit(X_train, y_train)\n",
    "y_pred = entropy_tree_ent_five.predict(X_valid)\n",
    "\n",
    "print(metrics.classification_report(y_valid, y_pred))"
   ]
  },
  {
   "cell_type": "code",
   "execution_count": 36,
   "metadata": {
    "pycharm": {
     "is_executing": true,
     "name": "#%%\n"
    }
   },
   "outputs": [
    {
     "name": "stdout",
     "output_type": "stream",
     "text": [
      "              precision    recall  f1-score   support\n",
      "\n",
      "           0       0.77      0.92      0.84       161\n",
      "           1       0.83      0.59      0.69       107\n",
      "\n",
      "    accuracy                           0.79       268\n",
      "   macro avg       0.80      0.75      0.76       268\n",
      "weighted avg       0.79      0.79      0.78       268\n",
      "\n"
     ]
    }
   ],
   "source": [
    "# ['entropy', '7']\n",
    "entropy_tree_ent_seven = DecisionTreeClassifier(criterion='entropy', max_depth=7, random_state=42)\n",
    "entropy_tree_ent_seven.fit(X_train, y_train)\n",
    "y_pred = entropy_tree_ent_seven.predict(X_valid)\n",
    "\n",
    "print(metrics.classification_report(y_valid, y_pred))"
   ]
  },
  {
   "cell_type": "code",
   "execution_count": 37,
   "metadata": {
    "pycharm": {
     "is_executing": true,
     "name": "#%%\n"
    }
   },
   "outputs": [
    {
     "name": "stdout",
     "output_type": "stream",
     "text": [
      "              precision    recall  f1-score   support\n",
      "\n",
      "           0       0.79      0.84      0.82       161\n",
      "           1       0.73      0.67      0.70       107\n",
      "\n",
      "    accuracy                           0.77       268\n",
      "   macro avg       0.76      0.76      0.76       268\n",
      "weighted avg       0.77      0.77      0.77       268\n",
      "\n"
     ]
    }
   ],
   "source": [
    "# ['entropy', '12']\n",
    "entropy_tree_ent_twelve = DecisionTreeClassifier(criterion='entropy', max_depth=12, random_state=42)\n",
    "entropy_tree_ent_twelve.fit(X_train, y_train)\n",
    "y_pred = entropy_tree_ent_twelve.predict(X_valid)\n",
    "\n",
    "print(metrics.classification_report(y_valid, y_pred))"
   ]
  },
  {
   "cell_type": "code",
   "execution_count": 38,
   "metadata": {
    "pycharm": {
     "is_executing": true,
     "name": "#%%\n"
    }
   },
   "outputs": [
    {
     "name": "stdout",
     "output_type": "stream",
     "text": [
      "              precision    recall  f1-score   support\n",
      "\n",
      "           0       0.79      0.98      0.87       161\n",
      "           1       0.94      0.62      0.75       107\n",
      "\n",
      "    accuracy                           0.83       268\n",
      "   macro avg       0.87      0.80      0.81       268\n",
      "weighted avg       0.85      0.83      0.82       268\n",
      "\n"
     ]
    }
   ],
   "source": [
    "# ['gini', '5']\n",
    "entropy_tree_gini_five = DecisionTreeClassifier(criterion='gini', max_depth=5, random_state=42)\n",
    "entropy_tree_gini_five.fit(X_train, y_train)\n",
    "y_pred = entropy_tree_gini_five.predict(X_valid)\n",
    "\n",
    "print(metrics.classification_report(y_valid, y_pred))"
   ]
  },
  {
   "cell_type": "code",
   "execution_count": 39,
   "metadata": {
    "pycharm": {
     "is_executing": true,
     "name": "#%%\n"
    }
   },
   "outputs": [
    {
     "name": "stdout",
     "output_type": "stream",
     "text": [
      "              precision    recall  f1-score   support\n",
      "\n",
      "           0       0.80      0.88      0.84       161\n",
      "           1       0.79      0.66      0.72       107\n",
      "\n",
      "    accuracy                           0.79       268\n",
      "   macro avg       0.79      0.77      0.78       268\n",
      "weighted avg       0.79      0.79      0.79       268\n",
      "\n"
     ]
    }
   ],
   "source": [
    "# ['gini', '7']\n",
    "entropy_tree_gini_seven = DecisionTreeClassifier(criterion='gini', max_depth=7, random_state=42)\n",
    "entropy_tree_gini_seven.fit(X_train, y_train)\n",
    "y_pred = entropy_tree_gini_seven.predict(X_valid)\n",
    "\n",
    "print(metrics.classification_report(y_valid, y_pred))"
   ]
  },
  {
   "cell_type": "code",
   "execution_count": 40,
   "metadata": {
    "pycharm": {
     "is_executing": true,
     "name": "#%%\n"
    }
   },
   "outputs": [
    {
     "name": "stdout",
     "output_type": "stream",
     "text": [
      "              precision    recall  f1-score   support\n",
      "\n",
      "           0       0.78      0.86      0.82       161\n",
      "           1       0.76      0.64      0.69       107\n",
      "\n",
      "    accuracy                           0.77       268\n",
      "   macro avg       0.77      0.75      0.76       268\n",
      "weighted avg       0.77      0.77      0.77       268\n",
      "\n"
     ]
    }
   ],
   "source": [
    "# ['gini', '8']\n",
    "entropy_tree_gini_eight = DecisionTreeClassifier(criterion='gini', max_depth=8, random_state=42)\n",
    "entropy_tree_gini_eight.fit(X_train, y_train)\n",
    "y_pred = entropy_tree_gini_eight.predict(X_valid)\n",
    "\n",
    "print(metrics.classification_report(y_valid, y_pred))"
   ]
  },
  {
   "cell_type": "code",
   "execution_count": 41,
   "metadata": {
    "pycharm": {
     "is_executing": true,
     "name": "#%%\n"
    }
   },
   "outputs": [
    {
     "name": "stdout",
     "output_type": "stream",
     "text": [
      "              precision    recall  f1-score   support\n",
      "\n",
      "           0       0.80      0.84      0.82       161\n",
      "           1       0.74      0.69      0.71       107\n",
      "\n",
      "    accuracy                           0.78       268\n",
      "   macro avg       0.77      0.77      0.77       268\n",
      "weighted avg       0.78      0.78      0.78       268\n",
      "\n"
     ]
    }
   ],
   "source": [
    "# ['gini', '12']\n",
    "entropy_tree_gini_twelve = DecisionTreeClassifier(criterion='gini', max_depth=12, random_state=42)\n",
    "entropy_tree_gini_twelve.fit(X_train, y_train)\n",
    "y_pred = entropy_tree_gini_twelve.predict(X_valid)\n",
    "\n",
    "print(metrics.classification_report(y_valid, y_pred))"
   ]
  },
  {
   "cell_type": "markdown",
   "metadata": {
    "pycharm": {
     "name": "#%% md\n"
    }
   },
   "source": [
    "从这些结果中，我们可以选择['entropy'，'7']作为验证阶段性能最佳的模型。信息增益和深度为7\n",
    "\n",
    "现在，让我们使用测试数据集来发现我们的模型有多好。"
   ]
  },
  {
   "cell_type": "code",
   "execution_count": 42,
   "metadata": {
    "pycharm": {
     "is_executing": true,
     "name": "#%% \n"
    }
   },
   "outputs": [
    {
     "name": "stdout",
     "output_type": "stream",
     "text": [
      "              precision    recall  f1-score   support\n",
      "\n",
      "           0       0.86      0.96      0.91       266\n",
      "           1       0.91      0.72      0.81       152\n",
      "\n",
      "    accuracy                           0.87       418\n",
      "   macro avg       0.88      0.84      0.86       418\n",
      "weighted avg       0.88      0.87      0.87       418\n",
      "\n"
     ]
    }
   ],
   "source": [
    "y_pred =  entropy_tree_ent_seven.predict(X_test)\n",
    "\n",
    "print(metrics.classification_report(y_test, y_pred))"
   ]
  },
  {
   "cell_type": "code",
   "execution_count": null,
   "metadata": {},
   "outputs": [],
   "source": []
  },
  {
   "cell_type": "markdown",
   "metadata": {
    "pycharm": {
     "name": "#%% md\n"
    }
   },
   "source": [
    "## Task\n",
    "\n",
    "Use your cleaned dataset from last week,\n",
    "- Complete all the features. \n",
    "- Try to figure out which variables are useful and which are not.\n",
    "- Create few models with different feature sets and evaluate them.\n",
    "- Tune the parameters of the models and figure out which values give you the best performance.\n",
    "- Finally, after deciding the best model, use the test set to measure the performance of your model."
   ]
  },
  {
   "cell_type": "code",
   "execution_count": null,
   "metadata": {},
   "outputs": [],
   "source": []
  }
 ],
 "metadata": {
  "kernelspec": {
   "display_name": "Python 3",
   "language": "python",
   "name": "python3"
  },
  "language_info": {
   "codemirror_mode": {
    "name": "ipython",
    "version": 3
   },
   "file_extension": ".py",
   "mimetype": "text/x-python",
   "name": "python",
   "nbconvert_exporter": "python",
   "pygments_lexer": "ipython3",
   "version": "3.8.3"
  },
  "pycharm": {
   "stem_cell": {
    "cell_type": "raw",
    "metadata": {
     "collapsed": false
    },
    "source": []
   }
  }
 },
 "nbformat": 4,
 "nbformat_minor": 1
}
