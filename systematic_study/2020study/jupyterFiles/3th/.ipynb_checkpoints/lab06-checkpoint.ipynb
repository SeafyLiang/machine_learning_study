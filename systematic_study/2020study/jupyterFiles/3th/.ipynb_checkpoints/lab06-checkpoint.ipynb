{
 "cells": [
  {
   "cell_type": "markdown",
   "metadata": {
    "collapsed": true,
    "pycharm": {
     "name": "#%% md\n"
    }
   },
   "source": [
    "# Lab 06 - Probability based learning\n",
    "\n",
    "# Lab 06 - 基于概率的学习\n",
    "\n",
    "计算概率，找到更好的决策\n",
    "\n",
    "\n",
    "In this lab we are going to practise Naive Bayes and Bayesian networks. First let's import necessary libraries and a\n",
    "dataset.\n",
    "\n",
    "在这个实验中，我们将练习朴素贝叶斯网络和贝叶斯网络。首先，让我们导入必要的库和\n",
    "数据集。"
   ]
  },
  {
   "cell_type": "markdown",
   "metadata": {
    "pycharm": {
     "name": "#%% md\n"
    }
   },
   "source": [
    "### Import libraries"
   ]
  },
  {
   "cell_type": "code",
   "execution_count": 1,
   "metadata": {},
   "outputs": [],
   "source": [
    "import sys\n",
    "sys.path\n",
    "sys.path.append('/usr/local/lib/python3.8/site-packages')"
   ]
  },
  {
   "cell_type": "code",
   "execution_count": 2,
   "metadata": {
    "pycharm": {
     "name": "#%%\n"
    }
   },
   "outputs": [],
   "source": [
    "import numpy as np\n",
    "import pandas as pd\n",
    "\n",
    "\n",
    "import matplotlib.pyplot as plt\n",
    "import seaborn\n",
    "import pygraphviz\n",
    "from pomegranate import DiscreteDistribution, ConditionalProbabilityTable, State, BayesianNetwork\n",
    "\n",
    "from sklearn import datasets\n",
    "from sklearn.metrics import classification_report\n",
    "from sklearn.model_selection import train_test_split\n",
    "from sklearn.naive_bayes import GaussianNB\n",
    "from sklearn import metrics"
   ]
  },
  {
   "cell_type": "code",
   "execution_count": 3,
   "metadata": {
    "pycharm": {
     "name": "#%%\n"
    }
   },
   "outputs": [],
   "source": [
    "dataset, target = datasets.load_iris(return_X_y=True)\n",
    "dataset\n",
    "\n",
    "X_train, X_test, y_train, y_test = train_test_split(dataset, target)"
   ]
  },
  {
   "cell_type": "markdown",
   "metadata": {
    "pycharm": {
     "name": "#%% md\n"
    }
   },
   "source": [
    "## 高斯朴素贝叶斯算法\n",
    "\n",
    "sci-kit-learn包有一些naivebayes算法的实现。你可以在下面找到它们朴素的贝耶斯. 对于这个数据集，我们将使用高斯朴素贝叶斯算法。此算法用于数字特征的分类任务。它使用以下似然函数：\n",
    "\n",
    "$$\n",
    "P(x_i \\mid y) = \\frac{1}{\\sqrt{2\\pi\\sigma^2_y}} \\exp\\left(-\\frac{(x_i - \\mu_y)^2}{2\\sigma^2_y}\\right)\n",
    "$$\n",
    "\n",
    "You can find the documentation for Gaussian Naive Bayes algorithm\n",
    "[here](https://scikit-learn.org/stable/modules/generated/sklearn.naive_bayes.GaussianNB.html#sklearn.naive_bayes.GaussianNB)."
   ]
  },
  {
   "cell_type": "code",
   "execution_count": 4,
   "metadata": {
    "pycharm": {
     "name": "#%%\n"
    }
   },
   "outputs": [],
   "source": [
    "gnb = GaussianNB()"
   ]
  },
  {
   "cell_type": "markdown",
   "metadata": {
    "pycharm": {
     "name": "#%% md\n"
    }
   },
   "source": [
    "\n",
    "现在我们要训练分类器。由于我们使用的是GaussianNB分类器，所以所有的特征都应该是数值特征。因此，如果你有分类数据，你必须使用一个编码器，并以数字格式编码。由于虹膜数据集只有4个数值特征，因此我们可以直接使用我们的数据集来训练分类器。"
   ]
  },
  {
   "cell_type": "code",
   "execution_count": 5,
   "metadata": {
    "pycharm": {
     "name": "#%%\n"
    }
   },
   "outputs": [
    {
     "data": {
      "text/plain": [
       "GaussianNB()"
      ]
     },
     "execution_count": 5,
     "metadata": {},
     "output_type": "execute_result"
    }
   ],
   "source": [
    "gnb.fit(X_train, y_train)"
   ]
  },
  {
   "cell_type": "markdown",
   "metadata": {
    "pycharm": {
     "name": "#%% md\n"
    }
   },
   "source": [
    "让我们用测试集来评估我们训练的朴素贝叶斯模型。"
   ]
  },
  {
   "cell_type": "code",
   "execution_count": 6,
   "metadata": {
    "pycharm": {
     "name": "#%%\n"
    }
   },
   "outputs": [
    {
     "name": "stdout",
     "output_type": "stream",
     "text": [
      "              precision    recall  f1-score   support\n",
      "\n",
      "           0       1.00      1.00      1.00        11\n",
      "           1       0.90      0.75      0.82        12\n",
      "           2       0.82      0.93      0.87        15\n",
      "\n",
      "    accuracy                           0.89        38\n",
      "   macro avg       0.91      0.89      0.90        38\n",
      "weighted avg       0.90      0.89      0.89        38\n",
      "\n"
     ]
    }
   ],
   "source": [
    "pred = gnb.predict(X_test)\n",
    "\n",
    "print(classification_report(y_pred=pred, y_true=y_test))"
   ]
  },
  {
   "cell_type": "markdown",
   "metadata": {
    "pycharm": {
     "name": "#%% md\n"
    }
   },
   "source": [
    "### 任务1\n",
    "* 使用您在实验室02和03中清理的数据集训练一个朴素的Bayes模型。使用适当的编码技术处理分类数据。\n",
    "* 将数据分成以下每个百分比，并检查模型性能的变化。\n",
    "    * 30%测试，70%训练\n",
    "    * 40%测试，60%训练"
   ]
  },
  {
   "cell_type": "markdown",
   "metadata": {
    "pycharm": {
     "name": "#%% md\n"
    }
   },
   "source": [
    "## Bayesian Networks\n",
    "## 贝叶斯网络\n",
    "\n",
    "*This is optional and a little advanced exercise for students who like to invest more time on coding and\n",
    "experimenting. This would require some extra reading on the part of the student.*\n",
    "\n",
    "*这是一个可选的小高级练习，对于喜欢花更多时间在编码和做实验。这就需要学生多读一些书*\n",
    "\n",
    "Bayesian networks are a powerful inference tool, in which\n",
    "* a set of variables are represented as nodes\n",
    "* an edge represents a dependence between the two variables\n",
    "\n",
    "贝叶斯网络是一个强大的推理工具，其中\n",
    "* 一组变量用节点表示\n",
    "* 边表示两个变量之间的依赖关系\n",
    "\n",
    "We will use pomegranate library to create Bayesian Network. Unfortunately, it is not installed along with Anaconda. So you have to install it to your python environment. You can use the installation instructions given here:\n",
    "\n",
    "我们将使用pomegranate库创建贝叶斯网络。不幸的是，它没有和Anaconda一起安装。因此，必须将其安装到python环境中。您可以使用此处提供的安装说明：\n",
    "\n",
    "https://pomegranate.readthedocs.io/en/latest/install.html\n",
    "\n",
    "While Bayesian networks can have extremely complex emission probabilities - usually Gaussian or conditional Gaussian distributions - pomegranate currently supports only discrete Bayesian networks.\n",
    "\n",
    "尽管贝叶斯网络可以有非常复杂的排放概率-通常是高斯或条件高斯分布-pomegranate目前只支持离散贝叶斯网络。\n"
   ]
  },
  {
   "cell_type": "markdown",
   "metadata": {
    "pycharm": {
     "name": "#%% md\n"
    }
   },
   "source": [
    "### The Monty hall problem\n",
    "### 蒙蒂霍尔问题\n",
    "\n",
    "The Monty Hall problem arose from the TV gameshow _Let's Make a Deal_, where a guest had to choose which one of three doors had a prize behind it. The twist was that after the guest chose, the host, originally Monty Hall, would then open one of the doors the guest **did not pick** and ask if the guest wanted to _switch_ the door they had picked. What should the guest do?\n",
    "\n",
    "Monty Hall的问题源于电视游戏节目《让我们做个交易》，在这个游戏中，客人必须选择三个门中哪一个有奖品。问题是，在客人选择之后，主人，原来是蒙蒂大厅，会打开一扇客人**没有选的门**问客人是否想换一下他们选的门。客人应该怎么做？"
   ]
  },
  {
   "cell_type": "markdown",
   "metadata": {
    "pycharm": {
     "name": "#%% md\n"
    }
   },
   "source": [
    "#### Modeling the problem\n",
    "### 建模问题\n",
    "Let's try to solve it using bayesian networks. We need bayesian network with 3 nodes, one for guest, one for prize\n",
    "and one for Monty(host).\n",
    "\n",
    "让我们试着用贝叶斯网络来解决它。我们需要3个节点的贝叶斯网络，一个用于来宾，一个用于奖励，一个给蒙蒂（主持人）。\n",
    "\n",
    "For a discrete (aka categorical) bayesian network we use DiscreteDistribution objects for the root nodes and\n",
    "ConditionalProbabilityTable objects for the inner and leaf nodes.\n",
    "\n",
    "对于离散（又名分类）贝叶斯网络，我们使用离散分布对象作为根节点和内部节点和叶节点的ConditionalProbabilityTable对象。\n",
    "\n",
    "The door the guest initially chooses, and the door behind which the prize is, are completely random processes across the three doors. We can model these using Discrete distributions. A discrete distribution, made up of characters and their probabilities, assuming that these probabilities will sum to 1.0.\n",
    "\n",
    "客人最初选择的门，以及奖品所在的门，完全是横跨三扇门的随机过程。我们可以用离散分布来建模。由字符及其概率组成的离散分布，假设这些概率之和为1.0。"
   ]
  },
  {
   "cell_type": "code",
   "execution_count": 7,
   "metadata": {
    "pycharm": {
     "name": "#%%\n"
    }
   },
   "outputs": [],
   "source": [
    "# The guests initial door selection is completely random\n",
    "# 客人最初选择的门完全是随机的\n",
    "guest = DiscreteDistribution({'A': 1./3, 'B': 1./3, 'C': 1./3})\n",
    "\n",
    "# The door the prize is behind is also completely random\n",
    "# 奖品背后的门也是完全随机的\n",
    "prize = DiscreteDistribution({'A': 1./3, 'B': 1./3, 'C': 1./3})"
   ]
  },
  {
   "cell_type": "markdown",
   "metadata": {
    "pycharm": {
     "name": "#%% md\n"
    }
   },
   "source": [
    "The door which Monty opens is dependent on both the door the guest chooses (it cannot be the door the guest chooses),and the door the prize is behind (it cannot be the door with the prize behind it). We can model this using\n",
    "Conditional probability tables. The columns in a ConditionalProbabilityTable correspond to the order in which the\n",
    "parents (the second argument) are specified, and the last column is the value the ConditionalProbabilityTable itself takes.\n",
    "\n",
    "蒙蒂打开的门取决于客人选择的门（不可能是客人选择的门）和奖品在后面的门（不可能是后面有奖品的门）。我们可以用条件概率表。ConditionalProbabilityTable中的列对应于指定了父级（第二个参数），最后一列是ConditionalProbabilityTable本身所接受的值。"
   ]
  },
  {
   "cell_type": "code",
   "execution_count": 8,
   "metadata": {
    "pycharm": {
     "name": "#%%\n"
    }
   },
   "outputs": [],
   "source": [
    "# Monty is dependent on both the guest and the prize.\n",
    "# 蒙蒂既依赖客人，也依赖奖品。\n",
    "monty = ConditionalProbabilityTable(\n",
    "        [[ 'A', 'A', 'A', 0.0 ],\n",
    "         [ 'A', 'A', 'B', 0.5 ],\n",
    "         [ 'A', 'A', 'C', 0.5 ],\n",
    "         [ 'A', 'B', 'A', 0.0 ],\n",
    "         [ 'A', 'B', 'B', 0.0 ],\n",
    "         [ 'A', 'B', 'C', 1.0 ],\n",
    "         [ 'A', 'C', 'A', 0.0 ],\n",
    "         [ 'A', 'C', 'B', 1.0 ],\n",
    "         [ 'A', 'C', 'C', 0.0 ],\n",
    "         [ 'B', 'A', 'A', 0.0 ],\n",
    "         [ 'B', 'A', 'B', 0.0 ],\n",
    "         [ 'B', 'A', 'C', 1.0 ],\n",
    "         [ 'B', 'B', 'A', 0.5 ],\n",
    "         [ 'B', 'B', 'B', 0.0 ],\n",
    "         [ 'B', 'B', 'C', 0.5 ],\n",
    "         [ 'B', 'C', 'A', 1.0 ],\n",
    "         [ 'B', 'C', 'B', 0.0 ],\n",
    "         [ 'B', 'C', 'C', 0.0 ],\n",
    "         [ 'C', 'A', 'A', 0.0 ],\n",
    "         [ 'C', 'A', 'B', 1.0 ],\n",
    "         [ 'C', 'A', 'C', 0.0 ],\n",
    "         [ 'C', 'B', 'A', 1.0 ],\n",
    "         [ 'C', 'B', 'B', 0.0 ],\n",
    "         [ 'C', 'B', 'C', 0.0 ],\n",
    "         [ 'C', 'C', 'A', 0.5 ],\n",
    "         [ 'C', 'C', 'B', 0.5 ],\n",
    "         [ 'C', 'C', 'C', 0.0 ]], [guest, prize])"
   ]
  },
  {
   "cell_type": "markdown",
   "metadata": {
    "pycharm": {
     "name": "#%% md\n"
    }
   },
   "source": [
    "Here ‘A’, ‘B’, ‘C’, represent the doors picked by the guest, prize door and the door picked by Monty respectively.\n",
    "\n",
    "这里的“A”、“B”、“C”分别代表客人选的门、奖品门和蒙蒂选的门。"
   ]
  },
  {
   "cell_type": "markdown",
   "metadata": {
    "pycharm": {
     "name": "#%% md\n"
    }
   },
   "source": [
    "Now we have to create three nodes for the network using the above created distributions.\n",
    "\n",
    "现在我们必须使用上面创建的分布为网络创建三个节点。"
   ]
  },
  {
   "cell_type": "code",
   "execution_count": 9,
   "metadata": {
    "pycharm": {
     "name": "#%%\n"
    }
   },
   "outputs": [],
   "source": [
    "s1 = State(guest, name=\"guest\")\n",
    "s2 = State(prize, name=\"prize\")\n",
    "s3 = State(monty, name=\"monty\")"
   ]
  },
  {
   "cell_type": "markdown",
   "metadata": {
    "pycharm": {
     "name": "#%% md\n"
    }
   },
   "source": [
    "Then we have to initialize a Bayesian network object. We can give it a meaningful name.\n",
    "\n",
    "然后我们必须初始化一个贝叶斯网络对象。我们可以给它一个有意义的名字。"
   ]
  },
  {
   "cell_type": "code",
   "execution_count": 10,
   "metadata": {
    "pycharm": {
     "name": "#%%\n"
    }
   },
   "outputs": [],
   "source": [
    "model = BayesianNetwork(\"Monty Hall Problem\")"
   ]
  },
  {
   "cell_type": "markdown",
   "metadata": {
    "pycharm": {
     "name": "#%% md\n"
    }
   },
   "source": [
    "Let's add our three nodes to the graph.\n",
    "\n",
    "让我们将三个节点添加到图中。"
   ]
  },
  {
   "cell_type": "code",
   "execution_count": 11,
   "metadata": {
    "pycharm": {
     "name": "#%%\n"
    }
   },
   "outputs": [],
   "source": [
    "model.add_states(s1, s2, s3)"
   ]
  },
  {
   "cell_type": "markdown",
   "metadata": {
    "pycharm": {
     "name": "#%% md\n"
    }
   },
   "source": [
    "Now we have to add the edges to the model. Edges are added from parent to child. So second node should be the child\n",
    "of the first node.\n",
    "\n",
    "现在我们要向模型添加边。边从父对象添加到子对象。所以第二个节点应该是第一个节点的子节点。"
   ]
  },
  {
   "cell_type": "code",
   "execution_count": 12,
   "metadata": {
    "pycharm": {
     "name": "#%%\n"
    }
   },
   "outputs": [],
   "source": [
    "model.add_edge(s1, s3)\n",
    "model.add_edge(s2, s3)"
   ]
  },
  {
   "cell_type": "markdown",
   "metadata": {
    "pycharm": {
     "name": "#%% md\n"
    }
   },
   "source": [
    "To finalize the network creation we have to call the bake() method.\n",
    "\n",
    "要完成网络创建，我们必须调用bake（）方法。"
   ]
  },
  {
   "cell_type": "code",
   "execution_count": 13,
   "metadata": {
    "pycharm": {
     "name": "#%%\n"
    }
   },
   "outputs": [],
   "source": [
    "model.bake()"
   ]
  },
  {
   "cell_type": "markdown",
   "metadata": {
    "pycharm": {
     "name": "#%% md\n"
    }
   },
   "source": [
    "#### Predicting probabilities\n",
    "#### 预测概率\n",
    "We can calculate the probability of each scenario using the network we created. Let's calculate the probability of the following scenario - Guest initially said door A, Monty then opened door C, but the actual car was behind door B.\n",
    "\n",
    "我们可以使用我们创建的网络计算每个场景的概率。让我们来计算以下场景的概率-客人最初说A门，蒙蒂随后打开C门，但实际的汽车在B门后面。"
   ]
  },
  {
   "cell_type": "code",
   "execution_count": 14,
   "metadata": {
    "pycharm": {
     "name": "#%%\n"
    }
   },
   "outputs": [
    {
     "data": {
      "text/plain": [
       "0.11111111111111109"
      ]
     },
     "execution_count": 14,
     "metadata": {},
     "output_type": "execute_result"
    }
   ],
   "source": [
    "model.probability([['A', 'B', 'C']]) "
   ]
  },
  {
   "cell_type": "markdown",
   "metadata": {
    "pycharm": {
     "name": "#%% md\n"
    }
   },
   "source": [
    "Let's see the probability when guest chooses 'A', Monty chooses 'C' and the prize is in the same door that guest selected.\n",
    "\n",
    "让我们看看客人选择“A”，蒙蒂选择“C”，奖品就在客人选择的同一扇门上的概率。"
   ]
  },
  {
   "cell_type": "code",
   "execution_count": 15,
   "metadata": {
    "pycharm": {
     "name": "#%%\n"
    }
   },
   "outputs": [
    {
     "data": {
      "text/plain": [
       "0.05555555555555554"
      ]
     },
     "execution_count": 15,
     "metadata": {},
     "output_type": "execute_result"
    }
   ],
   "source": [
    "model.probability([['A', 'A', 'C']])"
   ]
  },
  {
   "cell_type": "markdown",
   "metadata": {
    "pycharm": {
     "name": "#%% md\n"
    }
   },
   "source": [
    "#### Predicting Solution\n",
    "#### 预测解\n",
    "\n",
    "Let's say guest chooses door A.\n",
    "\n",
    "假设客人选择A门。"
   ]
  },
  {
   "cell_type": "code",
   "execution_count": 16,
   "metadata": {
    "pycharm": {
     "name": "#%%\n"
    }
   },
   "outputs": [
    {
     "data": {
      "text/plain": [
       "[array(['A',\n",
       "        {\n",
       "     \"class\" : \"Distribution\",\n",
       "     \"dtype\" : \"str\",\n",
       "     \"name\" : \"DiscreteDistribution\",\n",
       "     \"parameters\" : [\n",
       "         {\n",
       "             \"A\" : 0.3333333333333333,\n",
       "             \"B\" : 0.3333333333333333,\n",
       "             \"C\" : 0.3333333333333333\n",
       "         }\n",
       "     ],\n",
       "     \"frozen\" : false\n",
       " },\n",
       "        {\n",
       "     \"class\" : \"Distribution\",\n",
       "     \"dtype\" : \"str\",\n",
       "     \"name\" : \"DiscreteDistribution\",\n",
       "     \"parameters\" : [\n",
       "         {\n",
       "             \"A\" : 0.0,\n",
       "             \"C\" : 0.49999999999999983,\n",
       "             \"B\" : 0.49999999999999983\n",
       "         }\n",
       "     ],\n",
       "     \"frozen\" : false\n",
       " }], dtype=object)]"
      ]
     },
     "execution_count": 16,
     "metadata": {},
     "output_type": "execute_result"
    }
   ],
   "source": [
    "model.predict_proba([['A', None, None]])"
   ]
  },
  {
   "cell_type": "markdown",
   "metadata": {
    "pycharm": {
     "name": "#%% md\n"
    }
   },
   "source": [
    "You can see that still the probability distribution over the price is same for all doors (0.33).\n",
    "But Monty cannot choose gate A because guest opened it.\n",
    "\n",
    "你可以看到，对于所有门，价格的概率分布仍然相同（0.33）。\n",
    "客人不能选择门，因为门是开着的。\n",
    "\n",
    "Let's say Monty chose door 'C', then what will be the new probability distribution for price.\n",
    "\n",
    "假设蒙蒂选择了门“C”，那么价格的新概率分布是什么。"
   ]
  },
  {
   "cell_type": "code",
   "execution_count": 17,
   "metadata": {
    "pycharm": {
     "name": "#%%\n"
    }
   },
   "outputs": [
    {
     "data": {
      "text/plain": [
       "[array(['A',\n",
       "        {\n",
       "     \"class\" : \"Distribution\",\n",
       "     \"dtype\" : \"str\",\n",
       "     \"name\" : \"DiscreteDistribution\",\n",
       "     \"parameters\" : [\n",
       "         {\n",
       "             \"A\" : 0.3333333333333334,\n",
       "             \"B\" : 0.6666666666666664,\n",
       "             \"C\" : 0.0\n",
       "         }\n",
       "     ],\n",
       "     \"frozen\" : false\n",
       " },\n",
       "        'C'], dtype=object)]"
      ]
     },
     "execution_count": 17,
     "metadata": {},
     "output_type": "execute_result"
    }
   ],
   "source": [
    "model.predict_proba([{'guest': 'A', 'monty': 'C'}])"
   ]
  },
  {
   "cell_type": "markdown",
   "metadata": {
    "pycharm": {
     "name": "#%% md\n"
    }
   },
   "source": [
    "So There is a 2/3rd change that the price is behind door B. So if the contestant chooses to change his/her pick,\n",
    "he/she has twice the chance to win, compared to not changing the initial pick.\n",
    "\n",
    "所以有2/3的变化是价格在B门之后。所以如果选手选择改变他/她的选择，\n",
    "与不改变最初的选择相比，他/她有两倍的机会获胜。"
   ]
  },
  {
   "cell_type": "markdown",
   "metadata": {
    "pycharm": {
     "name": "#%% md\n"
    }
   },
   "source": [
    "### Task 2 (Optional)\n",
    "### 任务2（可选）\n",
    "Code the example in the slide 60 in Week 8 lecture and get the answer.\n",
    "\n",
    "将第8周课程第60张幻灯片中的例子编码并得到答案。"
   ]
  },
  {
   "cell_type": "markdown",
   "metadata": {
    "pycharm": {
     "name": "#%%\n"
    }
   },
   "source": [
    "# 任务1 - 朴素贝叶斯"
   ]
  },
  {
   "cell_type": "markdown",
   "metadata": {},
   "source": [
    "## 0、引入依赖"
   ]
  },
  {
   "cell_type": "markdown",
   "metadata": {},
   "source": [
    "## 1、读取lab03处理后的数据\n",
    "- 只取连续型特征\n",
    "- 空值填充 使用 均值填充和关联填充 结合"
   ]
  },
  {
   "cell_type": "code",
   "execution_count": 18,
   "metadata": {},
   "outputs": [
    {
     "name": "stdout",
     "output_type": "stream",
     "text": [
      "<class 'pandas.core.frame.DataFrame'>\n",
      "RangeIndex: 539 entries, 0 to 538\n",
      "Data columns (total 28 columns):\n",
      " #   Column               Non-Null Count  Dtype  \n",
      "---  ------               --------------  -----  \n",
      " 0   Unnamed: 0           539 non-null    int64  \n",
      " 1   grain screened       539 non-null    int64  \n",
      " 2   paper type           539 non-null    int64  \n",
      " 3   ink type             539 non-null    int64  \n",
      " 4   type on cylinder     539 non-null    object \n",
      " 5   press type           539 non-null    int64  \n",
      " 6   press                539 non-null    int64  \n",
      " 7   unit number          539 non-null    float64\n",
      " 8   paper mill location  539 non-null    int64  \n",
      " 9   proof cut            539 non-null    float64\n",
      " 10  viscosity            539 non-null    float64\n",
      " 11  caliper              539 non-null    float64\n",
      " 12  ink temperature      539 non-null    float64\n",
      " 13  humifity             539 non-null    float64\n",
      " 14  roughness            539 non-null    float64\n",
      " 15  blade pressure       539 non-null    float64\n",
      " 16  varnish pct          539 non-null    float64\n",
      " 17  press speed          539 non-null    float64\n",
      " 18  ink pct              539 non-null    float64\n",
      " 19  solvent pct          539 non-null    float64\n",
      " 20  wax                  539 non-null    float64\n",
      " 21  hardener             539 non-null    float64\n",
      " 22  roller durometer     539 non-null    float64\n",
      " 23  current density      539 non-null    float64\n",
      " 24  anode space ratio    539 non-null    float64\n",
      " 25  band type            539 non-null    int64  \n",
      " 26  speedBand            539 non-null    int64  \n",
      " 27  cutBand              539 non-null    int64  \n",
      "dtypes: float64(17), int64(10), object(1)\n",
      "memory usage: 118.0+ KB\n"
     ]
    }
   ],
   "source": [
    "bands_df = pd.read_csv(\"lab03_bands.csv\")\n",
    "bands_df.info()"
   ]
  },
  {
   "cell_type": "markdown",
   "metadata": {},
   "source": [
    "### 2.清洗数据\n",
    "- 删除分类数据列\n",
    "- 使用lab03清洗过程"
   ]
  },
  {
   "cell_type": "code",
   "execution_count": 19,
   "metadata": {},
   "outputs": [
    {
     "name": "stdout",
     "output_type": "stream",
     "text": [
      "<class 'pandas.core.frame.DataFrame'>\n",
      "RangeIndex: 539 entries, 0 to 538\n",
      "Data columns (total 26 columns):\n",
      " #   Column               Non-Null Count  Dtype  \n",
      "---  ------               --------------  -----  \n",
      " 0   grain screened       539 non-null    int64  \n",
      " 1   paper type           539 non-null    int64  \n",
      " 2   ink type             539 non-null    int64  \n",
      " 3   type on cylinder     539 non-null    object \n",
      " 4   press type           539 non-null    int64  \n",
      " 5   press                539 non-null    int64  \n",
      " 6   unit number          539 non-null    float64\n",
      " 7   paper mill location  539 non-null    int64  \n",
      " 8   proof cut            539 non-null    float64\n",
      " 9   viscosity            539 non-null    float64\n",
      " 10  caliper              539 non-null    float64\n",
      " 11  ink temperature      539 non-null    float64\n",
      " 12  humifity             539 non-null    float64\n",
      " 13  roughness            539 non-null    float64\n",
      " 14  blade pressure       539 non-null    float64\n",
      " 15  varnish pct          539 non-null    float64\n",
      " 16  press speed          539 non-null    float64\n",
      " 17  ink pct              539 non-null    float64\n",
      " 18  solvent pct          539 non-null    float64\n",
      " 19  wax                  539 non-null    float64\n",
      " 20  hardener             539 non-null    float64\n",
      " 21  roller durometer     539 non-null    float64\n",
      " 22  current density      539 non-null    float64\n",
      " 23  anode space ratio    539 non-null    float64\n",
      " 24  speedBand            539 non-null    int64  \n",
      " 25  cutBand              539 non-null    int64  \n",
      "dtypes: float64(17), int64(8), object(1)\n",
      "memory usage: 109.6+ KB\n"
     ]
    }
   ],
   "source": [
    "bands_target = bands_df['band type']\n",
    "# 删除target\n",
    "bands_df.drop('band type',axis=1,inplace=True)\n",
    "# 删除object列\n",
    "bands_df.drop(['Unnamed: 0'],axis=1,inplace=True)\n",
    "# 'timestamp','job number'\n",
    "bands_df.info()"
   ]
  },
  {
   "cell_type": "code",
   "execution_count": 20,
   "metadata": {},
   "outputs": [],
   "source": [
    "# 删除object的列\n",
    "feature_list = bands_df.columns.tolist()\n",
    "for feature in feature_list:\n",
    "    if bands_df[feature].dtype == \"object\":\n",
    "        bands_df.drop(feature,axis=1,inplace=True)\n",
    "        pass"
   ]
  },
  {
   "cell_type": "code",
   "execution_count": 21,
   "metadata": {},
   "outputs": [
    {
     "name": "stdout",
     "output_type": "stream",
     "text": [
      "<class 'pandas.core.frame.DataFrame'>\n",
      "RangeIndex: 539 entries, 0 to 538\n",
      "Data columns (total 25 columns):\n",
      " #   Column               Non-Null Count  Dtype  \n",
      "---  ------               --------------  -----  \n",
      " 0   grain screened       539 non-null    int64  \n",
      " 1   paper type           539 non-null    int64  \n",
      " 2   ink type             539 non-null    int64  \n",
      " 3   press type           539 non-null    int64  \n",
      " 4   press                539 non-null    int64  \n",
      " 5   unit number          539 non-null    float64\n",
      " 6   paper mill location  539 non-null    int64  \n",
      " 7   proof cut            539 non-null    float64\n",
      " 8   viscosity            539 non-null    float64\n",
      " 9   caliper              539 non-null    float64\n",
      " 10  ink temperature      539 non-null    float64\n",
      " 11  humifity             539 non-null    float64\n",
      " 12  roughness            539 non-null    float64\n",
      " 13  blade pressure       539 non-null    float64\n",
      " 14  varnish pct          539 non-null    float64\n",
      " 15  press speed          539 non-null    float64\n",
      " 16  ink pct              539 non-null    float64\n",
      " 17  solvent pct          539 non-null    float64\n",
      " 18  wax                  539 non-null    float64\n",
      " 19  hardener             539 non-null    float64\n",
      " 20  roller durometer     539 non-null    float64\n",
      " 21  current density      539 non-null    float64\n",
      " 22  anode space ratio    539 non-null    float64\n",
      " 23  speedBand            539 non-null    int64  \n",
      " 24  cutBand              539 non-null    int64  \n",
      "dtypes: float64(17), int64(8)\n",
      "memory usage: 105.4 KB\n"
     ]
    }
   ],
   "source": [
    "bands_df.info()"
   ]
  },
  {
   "cell_type": "markdown",
   "metadata": {},
   "source": [
    "## 3、训练模型\n",
    "- 编写成方法，将 test_size 作为参数\n",
    "- 输出为预测准确度"
   ]
  },
  {
   "cell_type": "code",
   "execution_count": 22,
   "metadata": {},
   "outputs": [],
   "source": [
    "def test_size_pred(test_size_num):\n",
    "    X_train, X_test, y_train, y_test = train_test_split(bands_df, bands_target, test_size=test_size_num)\n",
    "    bands_gnb = GaussianNB()\n",
    "    bands_gnb.fit(X_train, y_train)\n",
    "    pred = bands_gnb.predict(X_test)\n",
    "    print(\"预测数据:%s；训练数据:%s\\n\"%(test_size_num,1-test_size_num))\n",
    "    print(classification_report(y_pred=pred, y_true=y_test))\n",
    "    print(metrics.accuracy_score(y_test, pred))"
   ]
  },
  {
   "cell_type": "code",
   "execution_count": 23,
   "metadata": {},
   "outputs": [],
   "source": [
    "test_size_num_list = []\n",
    "accuracy_score_list = []\n",
    "test_size_num = 0.05\n",
    "while test_size_num < 1:\n",
    "    X_train, X_test, y_train, y_test = train_test_split(bands_df, bands_target, test_size=test_size_num)\n",
    "    bands_gnb = GaussianNB()\n",
    "    bands_gnb.fit(X_train, y_train)\n",
    "    pred = bands_gnb.predict(X_test)\n",
    "    test_size_num_list.append(test_size_num)\n",
    "    accuracy_score_list.append(metrics.accuracy_score(y_test, pred))\n",
    "    test_size_num = test_size_num + 0.05"
   ]
  },
  {
   "cell_type": "markdown",
   "metadata": {},
   "source": [
    "## 4、可视化\n",
    "- 利用循环生成多个模型\n",
    "- 将不同模型的结果准确度及参数可视化展示"
   ]
  },
  {
   "cell_type": "code",
   "execution_count": 24,
   "metadata": {},
   "outputs": [
    {
     "data": {
      "text/plain": [
       "Text(0, 0.5, 'Accuracy')"
      ]
     },
     "execution_count": 24,
     "metadata": {},
     "output_type": "execute_result"
    },
    {
     "data": {
      "image/png": "[encoded data removed]",
      "text/plain": [
       "<Figure size 1440x432 with 1 Axes>"
      ]
     },
     "metadata": {
      "needs_background": "light"
     },
     "output_type": "display_data"
    }
   ],
   "source": [
    "plt.figure(figsize=(20, 6))\n",
    "plt.plot(test_size_num_list, accuracy_score_list, color='red', marker='o',\n",
    "         markersize=10)\n",
    "plt.title('Accuracy Vs test_size Value')\n",
    "plt.xlabel('test_size Value')\n",
    "plt.ylabel('Accuracy')"
   ]
  },
  {
   "cell_type": "code",
   "execution_count": null,
   "metadata": {},
   "outputs": [],
   "source": []
  },
  {
   "cell_type": "code",
   "execution_count": null,
   "metadata": {},
   "outputs": [],
   "source": []
  },
  {
   "cell_type": "code",
   "execution_count": null,
   "metadata": {},
   "outputs": [],
   "source": []
  }
 ],
 "metadata": {
  "kernelspec": {
   "display_name": "Python 3",
   "language": "python",
   "name": "python3"
  },
  "language_info": {
   "codemirror_mode": {
    "name": "ipython",
    "version": 3
   },
   "file_extension": ".py",
   "mimetype": "text/x-python",
   "name": "python",
   "nbconvert_exporter": "python",
   "pygments_lexer": "ipython3",
   "version": "3.8.6"
  }
 },
 "nbformat": 4,
 "nbformat_minor": 1
}
